{
 "cells": [
  {
   "cell_type": "code",
   "execution_count": 1,
   "metadata": {},
   "outputs": [],
   "source": [
    "import numpy as np\n",
    "import pandas as pd\n",
    "import matplotlib.pyplot as plt\n",
    "from pprint import pprint\n",
    "%matplotlib inline\n",
    "plt.style.use('ggplot')"
   ]
  },
  {
   "cell_type": "markdown",
   "metadata": {},
   "source": [
    "Import dataset"
   ]
  },
  {
   "cell_type": "code",
   "execution_count": 2,
   "metadata": {},
   "outputs": [],
   "source": [
    "dtype = {'admtype': 'int8',\n",
    " 'age': 'float16',\n",
    " 'asource': 'category',\n",
    " 'campus': 'category',\n",
    " 'diag_adm': 'category',\n",
    " 'diag_cat3': 'category',\n",
    " 'diag_cat4': 'category',\n",
    " 'er_mode': 'int8',\n",
    " 'moa': 'int8',\n",
    " 'pay_ub92': 'int8',\n",
    " 'provider': 'int8',\n",
    " 'pt_state': 'category',\n",
    " 'race': 'int8',\n",
    " 'sex': 'int8',\n",
    " 'tot': 'float64',\n",
    " 'yoa': 'int8'}"
   ]
  },
  {
   "cell_type": "code",
   "execution_count": 3,
   "metadata": {
    "scrolled": true
   },
   "outputs": [],
   "source": [
    "df0 = pd.read_csv('df_sample_cleansed2.csv', dtype=dtype, low_memory=False)\n",
    "#df0 = pd.read_csv('df_cleansed2.csv', dtype=dtype, low_memory=False)\n",
    "#df3 = pd.read_csv('df_sample_coded.csv', low_memory=False)\n",
    "#df3 = pd.read_csv('df_binary.csv', low_memory=False)\n",
    "#df3 = pd.read_csv('df3_arrival.csv', low_memory=False)"
   ]
  },
  {
   "cell_type": "code",
   "execution_count": 4,
   "metadata": {},
   "outputs": [],
   "source": [
    "#df3 = df3.drop(['Unnamed: 0'], axis='columns')"
   ]
  },
  {
   "cell_type": "code",
   "execution_count": 5,
   "metadata": {},
   "outputs": [
    {
     "data": {
      "text/html": [
       "<div>\n",
       "<style scoped>\n",
       "    .dataframe tbody tr th:only-of-type {\n",
       "        vertical-align: middle;\n",
       "    }\n",
       "\n",
       "    .dataframe tbody tr th {\n",
       "        vertical-align: top;\n",
       "    }\n",
       "\n",
       "    .dataframe thead th {\n",
       "        text-align: right;\n",
       "    }\n",
       "</style>\n",
       "<table border=\"1\" class=\"dataframe\">\n",
       "  <thead>\n",
       "    <tr style=\"text-align: right;\">\n",
       "      <th></th>\n",
       "      <th>pay_ub92</th>\n",
       "      <th>age</th>\n",
       "      <th>sex</th>\n",
       "      <th>provider</th>\n",
       "      <th>moa</th>\n",
       "      <th>yoa</th>\n",
       "      <th>admtype</th>\n",
       "      <th>asource</th>\n",
       "      <th>tot</th>\n",
       "      <th>pt_state</th>\n",
       "      <th>diag_adm</th>\n",
       "      <th>campus</th>\n",
       "      <th>er_mode</th>\n",
       "      <th>race</th>\n",
       "      <th>diag_cat3</th>\n",
       "      <th>diag_cat4</th>\n",
       "    </tr>\n",
       "  </thead>\n",
       "  <tbody>\n",
       "    <tr>\n",
       "      <th>0</th>\n",
       "      <td>1</td>\n",
       "      <td>63.0</td>\n",
       "      <td>2</td>\n",
       "      <td>5</td>\n",
       "      <td>12</td>\n",
       "      <td>7</td>\n",
       "      <td>1</td>\n",
       "      <td>7</td>\n",
       "      <td>21071.0</td>\n",
       "      <td>RI</td>\n",
       "      <td>49121</td>\n",
       "      <td>3</td>\n",
       "      <td>0</td>\n",
       "      <td>1</td>\n",
       "      <td>491</td>\n",
       "      <td>4912</td>\n",
       "    </tr>\n",
       "    <tr>\n",
       "      <th>1</th>\n",
       "      <td>1</td>\n",
       "      <td>66.0</td>\n",
       "      <td>2</td>\n",
       "      <td>10</td>\n",
       "      <td>5</td>\n",
       "      <td>5</td>\n",
       "      <td>1</td>\n",
       "      <td>7</td>\n",
       "      <td>14791.0</td>\n",
       "      <td>RI</td>\n",
       "      <td>4359</td>\n",
       "      <td>0</td>\n",
       "      <td>0</td>\n",
       "      <td>1</td>\n",
       "      <td>435</td>\n",
       "      <td>4359</td>\n",
       "    </tr>\n",
       "    <tr>\n",
       "      <th>2</th>\n",
       "      <td>4</td>\n",
       "      <td>0.0</td>\n",
       "      <td>2</td>\n",
       "      <td>14</td>\n",
       "      <td>2</td>\n",
       "      <td>10</td>\n",
       "      <td>4</td>\n",
       "      <td>S</td>\n",
       "      <td>2501.0</td>\n",
       "      <td>RI</td>\n",
       "      <td>V3000</td>\n",
       "      <td>0</td>\n",
       "      <td>0</td>\n",
       "      <td>1</td>\n",
       "      <td>V30</td>\n",
       "      <td>V300</td>\n",
       "    </tr>\n",
       "    <tr>\n",
       "      <th>3</th>\n",
       "      <td>2</td>\n",
       "      <td>74.0</td>\n",
       "      <td>1</td>\n",
       "      <td>13</td>\n",
       "      <td>8</td>\n",
       "      <td>9</td>\n",
       "      <td>1</td>\n",
       "      <td>7</td>\n",
       "      <td>9444.0</td>\n",
       "      <td>RI</td>\n",
       "      <td>5990</td>\n",
       "      <td>0</td>\n",
       "      <td>1</td>\n",
       "      <td>1</td>\n",
       "      <td>599</td>\n",
       "      <td>5990</td>\n",
       "    </tr>\n",
       "    <tr>\n",
       "      <th>4</th>\n",
       "      <td>4</td>\n",
       "      <td>37.0</td>\n",
       "      <td>2</td>\n",
       "      <td>3</td>\n",
       "      <td>7</td>\n",
       "      <td>5</td>\n",
       "      <td>3</td>\n",
       "      <td>7</td>\n",
       "      <td>8771.0</td>\n",
       "      <td>RI</td>\n",
       "      <td>66704</td>\n",
       "      <td>0</td>\n",
       "      <td>9</td>\n",
       "      <td>5</td>\n",
       "      <td>667</td>\n",
       "      <td>6670</td>\n",
       "    </tr>\n",
       "  </tbody>\n",
       "</table>\n",
       "</div>"
      ],
      "text/plain": [
       "   pay_ub92   age  sex  provider  moa  yoa  admtype asource      tot pt_state  \\\n",
       "0         1  63.0    2         5   12    7        1       7  21071.0       RI   \n",
       "1         1  66.0    2        10    5    5        1       7  14791.0       RI   \n",
       "2         4   0.0    2        14    2   10        4       S   2501.0       RI   \n",
       "3         2  74.0    1        13    8    9        1       7   9444.0       RI   \n",
       "4         4  37.0    2         3    7    5        3       7   8771.0       RI   \n",
       "\n",
       "  diag_adm campus  er_mode  race diag_cat3 diag_cat4  \n",
       "0    49121      3        0     1       491      4912  \n",
       "1     4359      0        0     1       435      4359  \n",
       "2    V3000      0        0     1       V30      V300  \n",
       "3     5990      0        1     1       599      5990  \n",
       "4    66704      0        9     5       667      6670  "
      ]
     },
     "execution_count": 5,
     "metadata": {},
     "output_type": "execute_result"
    }
   ],
   "source": [
    "df0.head()"
   ]
  },
  {
   "cell_type": "code",
   "execution_count": 6,
   "metadata": {
    "scrolled": true
   },
   "outputs": [
    {
     "name": "stdout",
     "output_type": "stream",
     "text": [
      "<class 'pandas.core.frame.DataFrame'>\n",
      "RangeIndex: 20000 entries, 0 to 19999\n",
      "Data columns (total 16 columns):\n",
      "pay_ub92     20000 non-null int8\n",
      "age          20000 non-null float16\n",
      "sex          20000 non-null int8\n",
      "provider     20000 non-null int8\n",
      "moa          20000 non-null int8\n",
      "yoa          20000 non-null int8\n",
      "admtype      20000 non-null int8\n",
      "asource      20000 non-null category\n",
      "tot          20000 non-null float64\n",
      "pt_state     20000 non-null category\n",
      "diag_adm     20000 non-null category\n",
      "campus       20000 non-null category\n",
      "er_mode      20000 non-null int8\n",
      "race         20000 non-null int8\n",
      "diag_cat3    20000 non-null category\n",
      "diag_cat4    20000 non-null category\n",
      "dtypes: category(6), float16(1), float64(1), int8(8)\n",
      "memory usage: 698.4 KB\n"
     ]
    }
   ],
   "source": [
    "df0.info()"
   ]
  },
  {
   "cell_type": "code",
   "execution_count": 7,
   "metadata": {},
   "outputs": [
    {
     "data": {
      "text/plain": [
       "pay_ub92     0\n",
       "age          0\n",
       "sex          0\n",
       "provider     0\n",
       "moa          0\n",
       "yoa          0\n",
       "admtype      0\n",
       "asource      0\n",
       "tot          0\n",
       "pt_state     0\n",
       "diag_adm     0\n",
       "campus       0\n",
       "er_mode      0\n",
       "race         0\n",
       "diag_cat3    0\n",
       "diag_cat4    0\n",
       "dtype: int64"
      ]
     },
     "execution_count": 7,
     "metadata": {},
     "output_type": "execute_result"
    }
   ],
   "source": [
    "df0.isna().sum()"
   ]
  },
  {
   "cell_type": "code",
   "execution_count": null,
   "metadata": {},
   "outputs": [],
   "source": []
  },
  {
   "cell_type": "code",
   "execution_count": null,
   "metadata": {},
   "outputs": [],
   "source": []
  },
  {
   "cell_type": "markdown",
   "metadata": {},
   "source": [
    "## Transformation"
   ]
  },
  {
   "cell_type": "code",
   "execution_count": 8,
   "metadata": {},
   "outputs": [],
   "source": [
    "def simplify_state(df):\n",
    "    \"\"\"Group states\"\"\"\n",
    "    state_codes = ['RI', 'MA', 'NY', 'FL', '9']\n",
    "    df.pt_state = df.pt_state.cat.set_categories(state_codes)\n",
    "    df.pt_state = df.pt_state.fillna('9')\n",
    "    return df"
   ]
  },
  {
   "cell_type": "code",
   "execution_count": 9,
   "metadata": {},
   "outputs": [],
   "source": [
    "def simplify_age(df):\n",
    "    \"\"\"Reduce ages over 100 to 100\"\"\"\n",
    "    df.age = df.age.where(df.age < 100, other=100)\n",
    "    return df"
   ]
  },
  {
   "cell_type": "code",
   "execution_count": 10,
   "metadata": {},
   "outputs": [],
   "source": [
    "def transform_target(df):\n",
    "    \n",
    "    return df"
   ]
  },
  {
   "cell_type": "code",
   "execution_count": 11,
   "metadata": {},
   "outputs": [],
   "source": [
    "def transform_features(df):\n",
    "    \"\"\"Execute transformations\"\"\"\n",
    "    df = simplify_state(df)\n",
    "    df = simplify_age(df)\n",
    "    #df = transform_target(df)\n",
    "    return df"
   ]
  },
  {
   "cell_type": "code",
   "execution_count": 12,
   "metadata": {},
   "outputs": [],
   "source": [
    "df1 = transform_features(df0)"
   ]
  },
  {
   "cell_type": "markdown",
   "metadata": {},
   "source": [
    "## Feature Selection"
   ]
  },
  {
   "cell_type": "code",
   "execution_count": 13,
   "metadata": {},
   "outputs": [],
   "source": [
    "drop_col = ['diag_cat3', 'diag_cat4']\n",
    "df2 = df1.drop(drop_col, axis=1)"
   ]
  },
  {
   "cell_type": "markdown",
   "metadata": {},
   "source": [
    "## One-Hot-Encoding"
   ]
  },
  {
   "cell_type": "code",
   "execution_count": 14,
   "metadata": {},
   "outputs": [],
   "source": [
    "col = ['pay_ub92', 'provider', 'admtype', 'asource', 'pt_state', 'campus', 'er_mode', 'race', 'diag_adm']\n",
    "df2 = pd.get_dummies(df2, columns=col, prefix=col)"
   ]
  },
  {
   "cell_type": "markdown",
   "metadata": {},
   "source": [
    "## Split data set into Train and Test"
   ]
  },
  {
   "cell_type": "code",
   "execution_count": 15,
   "metadata": {},
   "outputs": [
    {
     "data": {
      "text/html": [
       "<div>\n",
       "<style scoped>\n",
       "    .dataframe tbody tr th:only-of-type {\n",
       "        vertical-align: middle;\n",
       "    }\n",
       "\n",
       "    .dataframe tbody tr th {\n",
       "        vertical-align: top;\n",
       "    }\n",
       "\n",
       "    .dataframe thead th {\n",
       "        text-align: right;\n",
       "    }\n",
       "</style>\n",
       "<table border=\"1\" class=\"dataframe\">\n",
       "  <thead>\n",
       "    <tr style=\"text-align: right;\">\n",
       "      <th></th>\n",
       "      <th>age</th>\n",
       "      <th>sex</th>\n",
       "      <th>moa</th>\n",
       "      <th>yoa</th>\n",
       "      <th>tot</th>\n",
       "      <th>pay_ub92_1</th>\n",
       "      <th>pay_ub92_2</th>\n",
       "      <th>pay_ub92_3</th>\n",
       "      <th>pay_ub92_4</th>\n",
       "      <th>pay_ub92_5</th>\n",
       "      <th>...</th>\n",
       "      <th>diag_adm_V594</th>\n",
       "      <th>diag_adm_V6284</th>\n",
       "      <th>diag_adm_V643</th>\n",
       "      <th>diag_adm_V667</th>\n",
       "      <th>diag_adm_V702</th>\n",
       "      <th>diag_adm_V714</th>\n",
       "      <th>diag_adm_V716</th>\n",
       "      <th>diag_adm_V7189</th>\n",
       "      <th>diag_adm_V8409</th>\n",
       "      <th>diag_adm_XXX</th>\n",
       "    </tr>\n",
       "  </thead>\n",
       "  <tbody>\n",
       "    <tr>\n",
       "      <th>0</th>\n",
       "      <td>63.0</td>\n",
       "      <td>2</td>\n",
       "      <td>12</td>\n",
       "      <td>7</td>\n",
       "      <td>21071.0</td>\n",
       "      <td>1</td>\n",
       "      <td>0</td>\n",
       "      <td>0</td>\n",
       "      <td>0</td>\n",
       "      <td>0</td>\n",
       "      <td>...</td>\n",
       "      <td>0</td>\n",
       "      <td>0</td>\n",
       "      <td>0</td>\n",
       "      <td>0</td>\n",
       "      <td>0</td>\n",
       "      <td>0</td>\n",
       "      <td>0</td>\n",
       "      <td>0</td>\n",
       "      <td>0</td>\n",
       "      <td>0</td>\n",
       "    </tr>\n",
       "    <tr>\n",
       "      <th>1</th>\n",
       "      <td>66.0</td>\n",
       "      <td>2</td>\n",
       "      <td>5</td>\n",
       "      <td>5</td>\n",
       "      <td>14791.0</td>\n",
       "      <td>1</td>\n",
       "      <td>0</td>\n",
       "      <td>0</td>\n",
       "      <td>0</td>\n",
       "      <td>0</td>\n",
       "      <td>...</td>\n",
       "      <td>0</td>\n",
       "      <td>0</td>\n",
       "      <td>0</td>\n",
       "      <td>0</td>\n",
       "      <td>0</td>\n",
       "      <td>0</td>\n",
       "      <td>0</td>\n",
       "      <td>0</td>\n",
       "      <td>0</td>\n",
       "      <td>0</td>\n",
       "    </tr>\n",
       "    <tr>\n",
       "      <th>2</th>\n",
       "      <td>0.0</td>\n",
       "      <td>2</td>\n",
       "      <td>2</td>\n",
       "      <td>10</td>\n",
       "      <td>2501.0</td>\n",
       "      <td>0</td>\n",
       "      <td>0</td>\n",
       "      <td>0</td>\n",
       "      <td>1</td>\n",
       "      <td>0</td>\n",
       "      <td>...</td>\n",
       "      <td>0</td>\n",
       "      <td>0</td>\n",
       "      <td>0</td>\n",
       "      <td>0</td>\n",
       "      <td>0</td>\n",
       "      <td>0</td>\n",
       "      <td>0</td>\n",
       "      <td>0</td>\n",
       "      <td>0</td>\n",
       "      <td>0</td>\n",
       "    </tr>\n",
       "    <tr>\n",
       "      <th>3</th>\n",
       "      <td>74.0</td>\n",
       "      <td>1</td>\n",
       "      <td>8</td>\n",
       "      <td>9</td>\n",
       "      <td>9444.0</td>\n",
       "      <td>0</td>\n",
       "      <td>1</td>\n",
       "      <td>0</td>\n",
       "      <td>0</td>\n",
       "      <td>0</td>\n",
       "      <td>...</td>\n",
       "      <td>0</td>\n",
       "      <td>0</td>\n",
       "      <td>0</td>\n",
       "      <td>0</td>\n",
       "      <td>0</td>\n",
       "      <td>0</td>\n",
       "      <td>0</td>\n",
       "      <td>0</td>\n",
       "      <td>0</td>\n",
       "      <td>0</td>\n",
       "    </tr>\n",
       "    <tr>\n",
       "      <th>4</th>\n",
       "      <td>37.0</td>\n",
       "      <td>2</td>\n",
       "      <td>7</td>\n",
       "      <td>5</td>\n",
       "      <td>8771.0</td>\n",
       "      <td>0</td>\n",
       "      <td>0</td>\n",
       "      <td>0</td>\n",
       "      <td>1</td>\n",
       "      <td>0</td>\n",
       "      <td>...</td>\n",
       "      <td>0</td>\n",
       "      <td>0</td>\n",
       "      <td>0</td>\n",
       "      <td>0</td>\n",
       "      <td>0</td>\n",
       "      <td>0</td>\n",
       "      <td>0</td>\n",
       "      <td>0</td>\n",
       "      <td>0</td>\n",
       "      <td>0</td>\n",
       "    </tr>\n",
       "  </tbody>\n",
       "</table>\n",
       "<p>5 rows × 1835 columns</p>\n",
       "</div>"
      ],
      "text/plain": [
       "    age  sex  moa  yoa      tot  pay_ub92_1  pay_ub92_2  pay_ub92_3  \\\n",
       "0  63.0    2   12    7  21071.0           1           0           0   \n",
       "1  66.0    2    5    5  14791.0           1           0           0   \n",
       "2   0.0    2    2   10   2501.0           0           0           0   \n",
       "3  74.0    1    8    9   9444.0           0           1           0   \n",
       "4  37.0    2    7    5   8771.0           0           0           0   \n",
       "\n",
       "   pay_ub92_4  pay_ub92_5      ...       diag_adm_V594  diag_adm_V6284  \\\n",
       "0           0           0      ...                   0               0   \n",
       "1           0           0      ...                   0               0   \n",
       "2           1           0      ...                   0               0   \n",
       "3           0           0      ...                   0               0   \n",
       "4           1           0      ...                   0               0   \n",
       "\n",
       "   diag_adm_V643  diag_adm_V667  diag_adm_V702  diag_adm_V714  diag_adm_V716  \\\n",
       "0              0              0              0              0              0   \n",
       "1              0              0              0              0              0   \n",
       "2              0              0              0              0              0   \n",
       "3              0              0              0              0              0   \n",
       "4              0              0              0              0              0   \n",
       "\n",
       "   diag_adm_V7189  diag_adm_V8409  diag_adm_XXX  \n",
       "0               0               0             0  \n",
       "1               0               0             0  \n",
       "2               0               0             0  \n",
       "3               0               0             0  \n",
       "4               0               0             0  \n",
       "\n",
       "[5 rows x 1835 columns]"
      ]
     },
     "execution_count": 15,
     "metadata": {},
     "output_type": "execute_result"
    }
   ],
   "source": [
    "df2.head()"
   ]
  },
  {
   "cell_type": "code",
   "execution_count": 16,
   "metadata": {},
   "outputs": [],
   "source": [
    "train_index = pd.read_csv(\"Train_Index.csv\")\n",
    "test_index = pd.read_csv(\"Test_Index.csv\")\n",
    "\n",
    "#train = df2.loc[train_index['0']]\n",
    "#test = df2.loc[test_index['0']]\n"
   ]
  },
  {
   "cell_type": "code",
   "execution_count": 17,
   "metadata": {},
   "outputs": [],
   "source": [
    "from sklearn.model_selection import train_test_split\n",
    "\n",
    "train, test = train_test_split(df2, test_size=0.2, random_state=0)"
   ]
  },
  {
   "cell_type": "code",
   "execution_count": 18,
   "metadata": {},
   "outputs": [
    {
     "data": {
      "text/plain": [
       "(16000, 1835)"
      ]
     },
     "execution_count": 18,
     "metadata": {},
     "output_type": "execute_result"
    }
   ],
   "source": [
    "train.shape"
   ]
  },
  {
   "cell_type": "code",
   "execution_count": 19,
   "metadata": {},
   "outputs": [
    {
     "data": {
      "text/plain": [
       "(4000, 1835)"
      ]
     },
     "execution_count": 19,
     "metadata": {},
     "output_type": "execute_result"
    }
   ],
   "source": [
    "test.shape"
   ]
  },
  {
   "cell_type": "code",
   "execution_count": null,
   "metadata": {},
   "outputs": [],
   "source": []
  },
  {
   "cell_type": "markdown",
   "metadata": {},
   "source": [
    "## Balance"
   ]
  },
  {
   "cell_type": "markdown",
   "metadata": {},
   "source": [
    "Sampling parameters"
   ]
  },
  {
   "cell_type": "code",
   "execution_count": 20,
   "metadata": {},
   "outputs": [],
   "source": [
    "#bins = [0, 10000, 20000, 30000]\n",
    "#size = [300000, 300000, 300000]\n",
    "\n",
    "bins = [0, 10000, 20000, 30000]\n",
    "size = [3000, 3000, 3000]"
   ]
  },
  {
   "cell_type": "markdown",
   "metadata": {
    "scrolled": true
   },
   "source": [
    "Graph"
   ]
  },
  {
   "cell_type": "code",
   "execution_count": 22,
   "metadata": {},
   "outputs": [
    {
     "data": {
      "text/plain": [
       "[<matplotlib.lines.Line2D at 0x25771f559e8>]"
      ]
     },
     "execution_count": 22,
     "metadata": {},
     "output_type": "execute_result"
    },
    {
     "data": {
      "image/png": "[encoded data removed]",
      "text/plain": [
       "<Figure size 432x288 with 1 Axes>"
      ]
     },
     "metadata": {
      "needs_background": "light"
     },
     "output_type": "display_data"
    }
   ],
   "source": [
    "train['tot'].hist(bins=bins)\n",
    "x = np.linspace(0, 30000, 2)\n",
    "plt.gca().plot(x, [size[0]]*len(x))"
   ]
  },
  {
   "cell_type": "code",
   "execution_count": 23,
   "metadata": {},
   "outputs": [],
   "source": [
    "#s1 = np.random.choice(train[(train['tot'] > 0) & (train['tot'] <= 10000)].index, size=size[0], replace=False)\n",
    "#s2 = np.random.choice(train[(train['tot'] > 10000) & (train['tot'] <= 20000)].index, size=size[1], replace=False)\n",
    "#s3 = np.random.choice(train[(train['tot'] > 20000) & (train['tot'] <= 30000)].index, size=size[2], replace=True)\n",
    "#s = np.concatenate((s1, s2, s3))\n",
    "#len(s)"
   ]
  },
  {
   "cell_type": "code",
   "execution_count": 24,
   "metadata": {},
   "outputs": [
    {
     "name": "stdout",
     "output_type": "stream",
     "text": [
      "3000\n",
      "6000\n",
      "9000\n"
     ]
    }
   ],
   "source": [
    "s = np.array([])\n",
    "for i in range(len(bins) - 1):\n",
    "    d = train[(train['tot'] > bins[i]) & (train['tot'] <= bins[i+1])]\n",
    "    sb = np.random.choice(d.index, size=size[i], replace=size[i] > len(d))\n",
    "    s = np.concatenate((s, sb))\n",
    "    print(len(s))"
   ]
  },
  {
   "cell_type": "markdown",
   "metadata": {},
   "source": [
    "Balance sample"
   ]
  },
  {
   "cell_type": "code",
   "execution_count": 25,
   "metadata": {},
   "outputs": [],
   "source": [
    "train_balanced = train.loc[s]"
   ]
  },
  {
   "cell_type": "code",
   "execution_count": 26,
   "metadata": {},
   "outputs": [
    {
     "data": {
      "text/plain": [
       "[<matplotlib.lines.Line2D at 0x25772004320>]"
      ]
     },
     "execution_count": 26,
     "metadata": {},
     "output_type": "execute_result"
    },
    {
     "data": {
      "image/png": "[encoded data removed]",
      "text/plain": [
       "<Figure size 432x288 with 1 Axes>"
      ]
     },
     "metadata": {
      "needs_background": "light"
     },
     "output_type": "display_data"
    }
   ],
   "source": [
    "train_balanced['tot'].hist(bins=bins)\n",
    "x = np.linspace(0, 30000, 2)\n",
    "plt.gca().plot(x, [5000]*len(x))"
   ]
  },
  {
   "cell_type": "code",
   "execution_count": 27,
   "metadata": {},
   "outputs": [],
   "source": [
    "X_train = train_balanced.drop(columns=['tot'])\n",
    "X_test = test.drop(columns=['tot'])\n",
    "y_train = train_balanced.tot.astype(float)\n",
    "y_test = test.tot.astype(float)"
   ]
  },
  {
   "cell_type": "code",
   "execution_count": 28,
   "metadata": {},
   "outputs": [
    {
     "data": {
      "text/plain": [
       "(9000, 1834)"
      ]
     },
     "execution_count": 28,
     "metadata": {},
     "output_type": "execute_result"
    }
   ],
   "source": [
    "X_train.shape"
   ]
  },
  {
   "cell_type": "markdown",
   "metadata": {},
   "source": [
    "## Normalize Transform"
   ]
  },
  {
   "cell_type": "code",
   "execution_count": 29,
   "metadata": {},
   "outputs": [],
   "source": [
    "def normalize_attr(train, test, attrs):\n",
    "    for feature_name in attrs:\n",
    "        max_value = train[feature_name].max()\n",
    "        min_value = train[feature_name].min()\n",
    "        train[feature_name] = (train[feature_name] - min_value) / (max_value - min_value)\n",
    "        test[feature_name] = (test[feature_name] - min_value) / (max_value - min_value)\n",
    "    return train, test"
   ]
  },
  {
   "cell_type": "code",
   "execution_count": 30,
   "metadata": {},
   "outputs": [],
   "source": [
    "#X_train, X_test = normalize_attr(X_train.copy(), X_test.copy(), ['age'])"
   ]
  },
  {
   "cell_type": "code",
   "execution_count": 31,
   "metadata": {},
   "outputs": [],
   "source": [
    "def normalize_target(train, test):\n",
    "    max_value = train.max()\n",
    "    min_value = train.min()\n",
    "    train = (train - min_value) / (max_value - min_value)\n",
    "    test = (test - min_value) / (max_value - min_value)\n",
    "    return train, test"
   ]
  },
  {
   "cell_type": "code",
   "execution_count": 32,
   "metadata": {},
   "outputs": [],
   "source": [
    "#y_train, y_test = normalize_target(y_train.copy(), y_test.copy())"
   ]
  },
  {
   "cell_type": "code",
   "execution_count": 33,
   "metadata": {},
   "outputs": [
    {
     "data": {
      "text/plain": [
       "count     9000.000000\n",
       "mean     14898.507778\n",
       "std       8105.426219\n",
       "min         15.000000\n",
       "25%       8005.250000\n",
       "50%      14324.500000\n",
       "75%      21826.250000\n",
       "max      29993.000000\n",
       "Name: tot, dtype: float64"
      ]
     },
     "execution_count": 33,
     "metadata": {},
     "output_type": "execute_result"
    }
   ],
   "source": [
    "y_train.describe()"
   ]
  },
  {
   "cell_type": "code",
   "execution_count": 34,
   "metadata": {},
   "outputs": [],
   "source": [
    "#train, test = train_test_split(df2, test_size=0.2, random_state=0)"
   ]
  },
  {
   "cell_type": "code",
   "execution_count": 35,
   "metadata": {},
   "outputs": [
    {
     "name": "stdout",
     "output_type": "stream",
     "text": [
      "(9000, 1834)\n",
      "(4000, 1834)\n"
     ]
    }
   ],
   "source": [
    "print(X_train.shape)\n",
    "print(X_test.shape)\n",
    "#print(train.shape)\n",
    "#print(test.shape)"
   ]
  },
  {
   "cell_type": "markdown",
   "metadata": {},
   "source": [
    "## Count Encoding"
   ]
  },
  {
   "cell_type": "code",
   "execution_count": 36,
   "metadata": {},
   "outputs": [],
   "source": [
    "#diag_counts = train[['diag_cat3', 'tot']].groupby(by='diag_cat3').mean().to_dict()['tot']\n",
    "#other = train.tot.mean"
   ]
  },
  {
   "cell_type": "code",
   "execution_count": 37,
   "metadata": {},
   "outputs": [],
   "source": [
    "#def lookup_count(attr):\n",
    "#    try:\n",
    "#        return diag_counts[attr]\n",
    "#    except KeyError:\n",
    "#        return other   "
   ]
  },
  {
   "cell_type": "code",
   "execution_count": 38,
   "metadata": {},
   "outputs": [],
   "source": [
    "#def count_encode(df, attr):\n",
    "#    encoded = df[attr].apply(lookup_count)\n",
    "#    df = df.assign(diag_encoded=encoded.values)\n",
    "#    df.diag_encoded = df.diag_encoded/df.diag_encoded.max()\n",
    "#    df = df.drop(attr, axis=1)\n",
    "#    return df"
   ]
  },
  {
   "cell_type": "code",
   "execution_count": 39,
   "metadata": {},
   "outputs": [],
   "source": [
    "#train = count_encode(train, 'diag_cat3')\n",
    "#test = count_encode(test, 'diag_cat3')"
   ]
  },
  {
   "cell_type": "code",
   "execution_count": 40,
   "metadata": {},
   "outputs": [],
   "source": [
    "#X_train = train.drop('tot', axis=1)\n",
    "#X_test = test.drop('tot', axis=1)\n",
    "#y_train = train.tot\n",
    "#y_test = test.tot"
   ]
  },
  {
   "cell_type": "code",
   "execution_count": 41,
   "metadata": {},
   "outputs": [],
   "source": [
    "#X_train.head()"
   ]
  },
  {
   "cell_type": "code",
   "execution_count": 42,
   "metadata": {},
   "outputs": [],
   "source": [
    "#X_train.describe()"
   ]
  },
  {
   "cell_type": "markdown",
   "metadata": {},
   "source": [
    "## Model Testing"
   ]
  },
  {
   "cell_type": "code",
   "execution_count": 43,
   "metadata": {},
   "outputs": [],
   "source": [
    "from sklearn import model_selection\n",
    "from sklearn.metrics import mean_squared_error\n",
    "from sklearn.metrics import r2_score"
   ]
  },
  {
   "cell_type": "code",
   "execution_count": 44,
   "metadata": {},
   "outputs": [],
   "source": [
    "def print_model_score(train_predicted, test_predicted):\n",
    "    train_rmse = mean_squared_error(y_train, train_predicted)**.5\n",
    "    train_r2 = r2_score(y_train, train_predicted)\n",
    "    test_rmse = mean_squared_error(y_test, test_predicted)**.5\n",
    "    test_r2 = r2_score(y_test, test_predicted)\n",
    "    print(\"Train RMSE:\\t{}\".format(train_rmse))\n",
    "    print(\"Train R2 Score:\\t{}\".format(train_r2))\n",
    "    print(\"Test RMSE:\\t{}\".format(test_rmse))\n",
    "    print(\"Test R2 Score:\\t{}\".format(test_r2))"
   ]
  },
  {
   "cell_type": "markdown",
   "metadata": {},
   "source": [
    "## Decision Tree"
   ]
  },
  {
   "cell_type": "code",
   "execution_count": 45,
   "metadata": {},
   "outputs": [],
   "source": [
    "from sklearn.tree import DecisionTreeRegressor"
   ]
  },
  {
   "cell_type": "code",
   "execution_count": 46,
   "metadata": {},
   "outputs": [],
   "source": [
    "model = DecisionTreeRegressor(min_samples_split=.05)\n",
    "model.fit(X_train, y_train)\n",
    "train_predicted = model.predict(X_train)\n",
    "test_predicted = model.predict(X_test)"
   ]
  },
  {
   "cell_type": "code",
   "execution_count": 47,
   "metadata": {},
   "outputs": [
    {
     "name": "stdout",
     "output_type": "stream",
     "text": [
      "Train RMSE:\t6647.77234168233\n",
      "Train R2 Score:\t0.327257568759849\n",
      "Test RMSE:\t6469.189608408547\n",
      "Test R2 Score:\t0.25232710713185547\n"
     ]
    }
   ],
   "source": [
    "print_model_score(train_predicted, test_predicted)"
   ]
  },
  {
   "cell_type": "code",
   "execution_count": 48,
   "metadata": {
    "scrolled": true
   },
   "outputs": [
    {
     "name": "stdout",
     "output_type": "stream",
     "text": [
      "                Importance\n",
      "admtype_4         0.535560\n",
      "age               0.123914\n",
      "yoa               0.089620\n",
      "asource_7         0.051767\n",
      "provider_1        0.024697\n",
      "diag_adm_71536    0.020640\n",
      "er_mode_0         0.019998\n",
      "provider_9        0.019562\n",
      "provider_6        0.012968\n",
      "admtype_3         0.012490\n",
      "provider_4        0.010853\n",
      "campus_3          0.010486\n",
      "pay_ub92_1        0.010466\n",
      "provider_10       0.008083\n",
      "asource_1         0.005282\n",
      "admtype_2         0.003829\n",
      "diag_adm_V3000    0.003664\n",
      "pay_ub92_9        0.003601\n",
      "asource_2         0.003594\n",
      "pay_ub92_13       0.002307\n",
      "campus_4          0.002159\n",
      "diag_adm_78605    0.002135\n",
      "pay_ub92_11       0.002103\n",
      "provider_14       0.001975\n",
      "diag_adm_78061    0.001941\n",
      "diag_adm_7802     0.001772\n",
      "diag_adm_V240     0.001767\n",
      "diag_adm_2989     0.001704\n",
      "diag_adm_4660     0.001572\n",
      "diag_adm_64413    0.001535\n",
      "...                    ...\n",
      "diag_adm_42731    0.000000\n",
      "diag_adm_43311    0.000000\n",
      "diag_adm_43331    0.000000\n",
      "diag_adm_4420     0.000000\n",
      "diag_adm_44021    0.000000\n",
      "diag_adm_4419     0.000000\n",
      "diag_adm_4414     0.000000\n",
      "diag_adm_4413     0.000000\n",
      "diag_adm_44100    0.000000\n",
      "diag_adm_4409     0.000000\n",
      "diag_adm_4408     0.000000\n",
      "diag_adm_44030    0.000000\n",
      "diag_adm_44029    0.000000\n",
      "diag_adm_44024    0.000000\n",
      "diag_adm_44023    0.000000\n",
      "diag_adm_44022    0.000000\n",
      "diag_adm_44020    0.000000\n",
      "diag_adm_43411    0.000000\n",
      "diag_adm_4401     0.000000\n",
      "diag_adm_43889    0.000000\n",
      "diag_adm_4377     0.000000\n",
      "diag_adm_4374     0.000000\n",
      "diag_adm_4373     0.000000\n",
      "diag_adm_4372     0.000000\n",
      "diag_adm_436      0.000000\n",
      "diag_adm_4359     0.000000\n",
      "diag_adm_4358     0.000000\n",
      "diag_adm_4351     0.000000\n",
      "diag_adm_43491    0.000000\n",
      "diag_adm_XXX      0.000000\n",
      "\n",
      "[1834 rows x 1 columns]\n"
     ]
    }
   ],
   "source": [
    "fi = model.feature_importances_\n",
    "col = X_train.columns\n",
    "feat_imp = pd.DataFrame(fi, columns=['Importance'],index=col).sort_values(by='Importance', ascending=False)\n",
    "print(feat_imp)"
   ]
  },
  {
   "cell_type": "markdown",
   "metadata": {},
   "source": [
    "## Lasso Regression"
   ]
  },
  {
   "cell_type": "code",
   "execution_count": 49,
   "metadata": {},
   "outputs": [],
   "source": [
    "from sklearn.linear_model import Lasso"
   ]
  },
  {
   "cell_type": "code",
   "execution_count": 50,
   "metadata": {},
   "outputs": [
    {
     "name": "stderr",
     "output_type": "stream",
     "text": [
      "c:\\users\\student\\appdata\\local\\programs\\python\\python37\\lib\\site-packages\\numpy\\core\\_methods.py:36: RuntimeWarning: overflow encountered in reduce\n",
      "  return umr_sum(a, axis, dtype, out, keepdims, initial)\n"
     ]
    }
   ],
   "source": [
    "model = Lasso()\n",
    "model.fit(X_train, y_train)\n",
    "train_predicted = model.predict(X_train)\n",
    "test_predicted = model.predict(X_test)"
   ]
  },
  {
   "cell_type": "code",
   "execution_count": 51,
   "metadata": {},
   "outputs": [
    {
     "name": "stdout",
     "output_type": "stream",
     "text": [
      "Train RMSE:\t6051.481523427692\n",
      "Train R2 Score:\t0.4425319689198026\n",
      "Test RMSE:\t6166.910892247938\n",
      "Test R2 Score:\t0.3205660853585711\n"
     ]
    }
   ],
   "source": [
    "print_model_score(train_predicted, test_predicted)"
   ]
  },
  {
   "cell_type": "markdown",
   "metadata": {},
   "source": [
    "## AdaBoost"
   ]
  },
  {
   "cell_type": "code",
   "execution_count": null,
   "metadata": {},
   "outputs": [],
   "source": [
    "from sklearn.ensemble import AdaBoostRegressor"
   ]
  },
  {
   "cell_type": "code",
   "execution_count": null,
   "metadata": {},
   "outputs": [],
   "source": [
    "model = AdaBoostRegressor()\n",
    "model.fit(X_train, y_train)\n",
    "train_predicted = model.predict(X_train)\n",
    "test_predicted = model.predict(X_test)"
   ]
  },
  {
   "cell_type": "code",
   "execution_count": null,
   "metadata": {},
   "outputs": [],
   "source": [
    "print_model_score(train_predicted, test_predicted)"
   ]
  },
  {
   "cell_type": "markdown",
   "metadata": {},
   "source": [
    "## Boosting"
   ]
  },
  {
   "cell_type": "code",
   "execution_count": 52,
   "metadata": {},
   "outputs": [
    {
     "name": "stderr",
     "output_type": "stream",
     "text": [
      "c:\\users\\student\\appdata\\local\\programs\\python\\python37\\lib\\site-packages\\sklearn\\ensemble\\weight_boosting.py:29: DeprecationWarning: numpy.core.umath_tests is an internal NumPy module and should not be imported. It will be removed in a future NumPy release.\n",
      "  from numpy.core.umath_tests import inner1d\n"
     ]
    }
   ],
   "source": [
    "from sklearn.ensemble import GradientBoostingRegressor"
   ]
  },
  {
   "cell_type": "code",
   "execution_count": 53,
   "metadata": {},
   "outputs": [],
   "source": [
    "params = {'n_estimators': 100, 'max_depth': 4, 'min_samples_split': 2,\n",
    "          'learning_rate': 0.1, 'loss': 'ls'}\n",
    "model = GradientBoostingRegressor(**params)\n",
    "model.fit(X_train, y_train)\n",
    "train_predicted = model.predict(X_train)\n",
    "test_predicted = model.predict(X_test)"
   ]
  },
  {
   "cell_type": "code",
   "execution_count": 54,
   "metadata": {},
   "outputs": [
    {
     "name": "stdout",
     "output_type": "stream",
     "text": [
      "Train RMSE:\t6265.9782525595\n",
      "Train R2 Score:\t0.4023123111764477\n",
      "Test RMSE:\t6185.109016132981\n",
      "Test R2 Score:\t0.3165502446756262\n"
     ]
    }
   ],
   "source": [
    "print_model_score(train_predicted, test_predicted)"
   ]
  },
  {
   "cell_type": "markdown",
   "metadata": {},
   "source": [
    "## XGBoost"
   ]
  },
  {
   "cell_type": "code",
   "execution_count": 55,
   "metadata": {},
   "outputs": [],
   "source": [
    "import xgboost as xgb\n",
    "from xgboost.sklearn import XGBRegressor"
   ]
  },
  {
   "cell_type": "code",
   "execution_count": 67,
   "metadata": {},
   "outputs": [
    {
     "data": {
      "text/plain": [
       "XGBRegressor(base_score=0.5, booster='gbtree', colsample_bylevel=1,\n",
       "       colsample_bytree=1, gamma=0, learning_rate=0.3, loss='ls',\n",
       "       max_delta_step=0, max_depth=4, min_child_weight=1,\n",
       "       min_samples_split=2, missing=None, n_estimators=500, n_jobs=1,\n",
       "       nthread=None, objective='reg:linear', random_state=0, reg_alpha=0,\n",
       "       reg_lambda=1, scale_pos_weight=1, seed=None, silent=True,\n",
       "       subsample=1)"
      ]
     },
     "execution_count": 67,
     "metadata": {},
     "output_type": "execute_result"
    }
   ],
   "source": [
    "# fit model to training data\n",
    "params = {'n_estimators': 500, 'max_depth': 4, 'min_samples_split': 2,\n",
    "          'learning_rate': 0.3, 'loss': 'ls'}\n",
    "model = XGBRegressor(**params)\n",
    "#model = XGBRegressor()\n",
    "model.fit(X_train, y_train)"
   ]
  },
  {
   "cell_type": "code",
   "execution_count": 68,
   "metadata": {},
   "outputs": [],
   "source": [
    "train_predicted = model.predict(X_train)\n",
    "test_predicted = model.predict(X_test)"
   ]
  },
  {
   "cell_type": "code",
   "execution_count": 69,
   "metadata": {},
   "outputs": [
    {
     "name": "stdout",
     "output_type": "stream",
     "text": [
      "Train RMSE:\t5328.8961181853765\n",
      "Train R2 Score:\t0.567714117989631\n",
      "Test RMSE:\t6204.90488169729\n",
      "Test R2 Score:\t0.31216838804077807\n"
     ]
    }
   ],
   "source": [
    "print_model_score(train_predicted, test_predicted)"
   ]
  },
  {
   "cell_type": "markdown",
   "metadata": {},
   "source": [
    "## Random Forest"
   ]
  },
  {
   "cell_type": "code",
   "execution_count": 70,
   "metadata": {},
   "outputs": [],
   "source": [
    "from sklearn.ensemble import RandomForestRegressor"
   ]
  },
  {
   "cell_type": "code",
   "execution_count": 71,
   "metadata": {},
   "outputs": [
    {
     "data": {
      "text/plain": [
       "RandomForestRegressor(bootstrap=True, criterion='mae', max_depth=None,\n",
       "           max_features='auto', max_leaf_nodes=None,\n",
       "           min_impurity_decrease=0.0, min_impurity_split=None,\n",
       "           min_samples_leaf=1, min_samples_split=2,\n",
       "           min_weight_fraction_leaf=0.0, n_estimators=10, n_jobs=1,\n",
       "           oob_score=False, random_state=None, verbose=0, warm_start=False)"
      ]
     },
     "execution_count": 71,
     "metadata": {},
     "output_type": "execute_result"
    }
   ],
   "source": [
    "model = RandomForestRegressor(n_estimators=10, criterion='mae')\n",
    "model.fit(X_train, y_train)"
   ]
  },
  {
   "cell_type": "code",
   "execution_count": 72,
   "metadata": {},
   "outputs": [],
   "source": [
    "train_predicted = model.predict(X_train)\n",
    "test_predicted = model.predict(X_test)"
   ]
  },
  {
   "cell_type": "code",
   "execution_count": 73,
   "metadata": {},
   "outputs": [
    {
     "name": "stdout",
     "output_type": "stream",
     "text": [
      "Train RMSE:\t2920.3260161036246\n",
      "Train R2 Score:\t0.8701747347071828\n",
      "Test RMSE:\t6572.9330761330875\n",
      "Test R2 Score:\t0.22815464343104275\n"
     ]
    }
   ],
   "source": [
    "print_model_score(train_predicted, test_predicted)"
   ]
  },
  {
   "cell_type": "markdown",
   "metadata": {},
   "source": [
    "## Neural Network"
   ]
  },
  {
   "cell_type": "code",
   "execution_count": null,
   "metadata": {},
   "outputs": [],
   "source": [
    "from sklearn.neural_network import MLPRegressor"
   ]
  },
  {
   "cell_type": "code",
   "execution_count": null,
   "metadata": {},
   "outputs": [],
   "source": [
    "model = MLPRegressor()\n",
    "model.fit(X_train, y_train)"
   ]
  },
  {
   "cell_type": "code",
   "execution_count": null,
   "metadata": {},
   "outputs": [],
   "source": [
    "train_predicted = model.predict(X_train)\n",
    "test_predicted = model.predict(X_test)"
   ]
  },
  {
   "cell_type": "code",
   "execution_count": null,
   "metadata": {},
   "outputs": [],
   "source": [
    "print_model_score(train_predicted, test_predicted)"
   ]
  },
  {
   "cell_type": "code",
   "execution_count": null,
   "metadata": {},
   "outputs": [],
   "source": []
  }
 ],
 "metadata": {
  "kernelspec": {
   "display_name": "Python 3",
   "language": "python",
   "name": "python3"
  },
  "language_info": {
   "codemirror_mode": {
    "name": "ipython",
    "version": 3
   },
   "file_extension": ".py",
   "mimetype": "text/x-python",
   "name": "python",
   "nbconvert_exporter": "python",
   "pygments_lexer": "ipython3",
   "version": "3.7.0"
  }
 },
 "nbformat": 4,
 "nbformat_minor": 2
}
