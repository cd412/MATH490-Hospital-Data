{
 "cells": [
  {
   "cell_type": "markdown",
   "metadata": {},
   "source": [
    "## Data Exploration"
   ]
  },
  {
   "cell_type": "markdown",
   "metadata": {},
   "source": [
    "Import libraries"
   ]
  },
  {
   "cell_type": "code",
   "execution_count": 2,
   "metadata": {},
   "outputs": [],
   "source": [
    "import numpy as np\n",
    "import pandas as pd\n",
    "import matplotlib.pyplot as plt\n",
    "import copy\n",
    "%matplotlib inline\n",
    "plt.style.use('ggplot')"
   ]
  },
  {
   "cell_type": "markdown",
   "metadata": {},
   "source": [
    "Import dataset"
   ]
  },
  {
   "cell_type": "code",
   "execution_count": 2,
   "metadata": {},
   "outputs": [],
   "source": [
    "#df0 = pd.read_csv('hdd0313cy.csv', low_memory=False, nrows=1000) # all columns, limited rows"
   ]
  },
  {
   "cell_type": "code",
   "execution_count": 4,
   "metadata": {},
   "outputs": [],
   "source": [
    "#df0.shape\n",
    "#(1544747, 135)"
   ]
  },
  {
   "cell_type": "code",
   "execution_count": 7,
   "metadata": {
    "scrolled": false
   },
   "outputs": [],
   "source": [
    "# Specify the selected field and their datatypes \n",
    "\n",
    "type_arrival = {'sex': 'category',\n",
    "                'er_mode': 'category',\n",
    "                'admtype': 'category',\n",
    "                'yoa': 'float16',\n",
    "                'diag_adm': 'category',\n",
    "                'dx1': 'category',\n",
    "                'dx2': 'category',\n",
    "                'dx3': 'category',\n",
    "                'dx4': 'category',\n",
    "                'dx5': 'category',\n",
    "                'dx6': 'category',\n",
    "                'dx7': 'category',\n",
    "                'dx8': 'category',\n",
    "                'dx9': 'category',\n",
    "                'dx10': 'category',\n",
    "                'dx11': 'category',\n",
    "                'dx12': 'category',\n",
    "                'dx13': 'category',\n",
    "                'dx14': 'category',\n",
    "                'dx15': 'category',\n",
    "                'dx16': 'category',\n",
    "                'dx17': 'category',\n",
    "                'dx18': 'category',\n",
    "                'dx19': 'category',\n",
    "                'dx20': 'category',\n",
    "                'dx21': 'category',\n",
    "                'dx22': 'category',\n",
    "                'dx23': 'category',\n",
    "                'dx24': 'category',\n",
    "                'dx25': 'category', \n",
    "                'poa1': 'category', \n",
    "                'poa2': 'category', \n",
    "                'poa3': 'category', \n",
    "                'poa4': 'category', \n",
    "                'poa5': 'category', \n",
    "                'poa6': 'category', \n",
    "                'poa7': 'category', \n",
    "                'poa8': 'category', \n",
    "                'poa9': 'category', \n",
    "                'poa10': 'category', \n",
    "                'poa11': 'category',\n",
    "                'poa12': 'category', \n",
    "                'poa13': 'category', \n",
    "                'poa14': 'category', \n",
    "                'poa15': 'category', \n",
    "                'poa16': 'category', \n",
    "                'poa17': 'category', \n",
    "                'poa18': 'category', \n",
    "                'poa19': 'category', \n",
    "                'poa20': 'category', \n",
    "                'poa21': 'category', \n",
    "                'poa22': 'category',\n",
    "                'poa23': 'category',\n",
    "                'poa24': 'category',\n",
    "                'poa25': 'category',\n",
    "                'pay_ub92': 'category',\n",
    "                'provider': 'category', \n",
    "                'asource': 'category',\n",
    "                'moa': 'float16',\n",
    "                'age': 'float16',\n",
    "                'race': 'category'}\n",
    "\n",
    "type_target = {'tot': 'float64'}\n",
    "\n",
    "type_departure = {'los': 'float64',  \n",
    "                  'trandb': 'float64', \n",
    "                  'randbg': 'float64', \n",
    "                  'randbs': 'float64', \n",
    "                  'orr': 'float64',\n",
    "                  'anes': 'float64',\n",
    "                  'seq': 'float64', \n",
    "                  'lab': 'float64', \n",
    "                  'dtest': 'float64', \n",
    "                  'ther': 'float64', \n",
    "                  'blood': 'float64',\n",
    "                  'phar': 'float64',\n",
    "                  'psycchrg': 'float64',\n",
    "                  'other': 'float64', \n",
    "                  'patcon': 'float64', \n",
    "                  'dispub92': 'category', \n",
    "                  'icu': 'float16', \n",
    "                  'ccu': 'float16',\n",
    "                  'service': 'category',\n",
    "                  'payer': 'category',\n",
    "                 'er_fee': 'object',\n",
    "                 'er_chrg': 'object'}\n",
    "\n",
    "col_arrival = [*type_arrival]\n",
    "col_departure = [*type_departure] #not used\n",
    "col_target = [*type_target]\n",
    "\n",
    "usecols = col_arrival + col_target\n",
    "dtype = {}\n",
    "for d in [type_arrival, type_target]:\n",
    "    for k, v in d.items():\n",
    "        dtype[k] = v"
   ]
  },
  {
   "cell_type": "code",
   "execution_count": 8,
   "metadata": {},
   "outputs": [],
   "source": [
    "# import data using relevant columns\n",
    "df1 = pd.read_csv('hdd0313cy.csv', \n",
    "                  usecols=usecols, \n",
    "                  dtype=dtype\n",
    "                 )"
   ]
  },
  {
   "cell_type": "markdown",
   "metadata": {},
   "source": [
    "Remove newborn data"
   ]
  },
  {
   "cell_type": "code",
   "execution_count": 17,
   "metadata": {},
   "outputs": [
    {
     "data": {
      "text/plain": [
       "(1385592, 62)"
      ]
     },
     "execution_count": 17,
     "metadata": {},
     "output_type": "execute_result"
    }
   ],
   "source": [
    "df2 = df1.copy()\n",
    "df2 = df2[df2.age > 0]\n",
    "df2 = df2[df2.admtype != '4']\n",
    "v = ['1', '2', '3', '4', '5', '6', '7', '8', '9', 'Z', 'A']\n",
    "df2 = df2[df2.admtype.isin(v)]\n",
    "df2.shape"
   ]
  },
  {
   "cell_type": "markdown",
   "metadata": {},
   "source": [
    "Remove columns that are not known upon admission. Remove rows that are missing relevant data."
   ]
  },
  {
   "cell_type": "code",
   "execution_count": 18,
   "metadata": {},
   "outputs": [],
   "source": [
    "def getFullYear(y):\n",
    "    '''Converts yoa from yy format to yyyy format'''\n",
    "    if y == 0:\n",
    "        return 2000\n",
    "    elif y < 10:\n",
    "        return float(\"200\"+str(y))\n",
    "    elif y < 25:\n",
    "        return float(\"20\"+str(y))\n",
    "    elif y < 100:\n",
    "        return float(\"19\"+str(y))\n",
    "    else:\n",
    "        return y"
   ]
  },
  {
   "cell_type": "markdown",
   "metadata": {},
   "source": []
  },
  {
   "cell_type": "code",
   "execution_count": 6,
   "metadata": {},
   "outputs": [],
   "source": [
    "#strip leading zeros and convert to float\n",
    "#df2.er_fee = pd.to_numeric(df2.er_fee.str.lstrip('0')).astype('float64')\n",
    "#df2.er_chrg = pd.to_numeric(df2.er_chrg.str.lstrip('0')).astype('float64')"
   ]
  },
  {
   "cell_type": "code",
   "execution_count": 19,
   "metadata": {},
   "outputs": [
    {
     "data": {
      "text/plain": [
       "pay_ub92     124416\n",
       "age               0\n",
       "sex               0\n",
       "provider          0\n",
       "moa               0\n",
       "yoa               0\n",
       "admtype           0\n",
       "asource        1278\n",
       "dx1             769\n",
       "dx2           40226\n",
       "dx3          134439\n",
       "dx4          249053\n",
       "dx5          375378\n",
       "dx6          503170\n",
       "dx7          624961\n",
       "tot               0\n",
       "dx8          736954\n",
       "dx9          837308\n",
       "dx10         926137\n",
       "dx11        1003799\n",
       "diag_adm     251223\n",
       "er_mode      431480\n",
       "dx12        1100931\n",
       "dx13        1150212\n",
       "dx14        1192068\n",
       "dx15        1227900\n",
       "dx16        1262910\n",
       "dx17        1288225\n",
       "dx18        1307889\n",
       "dx19        1323382\n",
       "             ...   \n",
       "dx22        1354313\n",
       "dx23        1360732\n",
       "dx24        1365868\n",
       "dx25        1370264\n",
       "race         250715\n",
       "poa1         899775\n",
       "poa2         917262\n",
       "poa3         940518\n",
       "poa4         958369\n",
       "poa5         999525\n",
       "poa6        1036568\n",
       "poa7        1058259\n",
       "poa8        1103316\n",
       "poa9        1133885\n",
       "poa10       1150425\n",
       "poa11       1189547\n",
       "poa12       1213840\n",
       "poa13       1225153\n",
       "poa14       1245390\n",
       "poa15       1263307\n",
       "poa16       1279189\n",
       "poa17       1293651\n",
       "poa18       1305384\n",
       "poa19       1314847\n",
       "poa20       1322655\n",
       "poa21       1329104\n",
       "poa22       1334517\n",
       "poa23       1338768\n",
       "poa24       1342213\n",
       "poa25       1345101\n",
       "Length: 62, dtype: int64"
      ]
     },
     "execution_count": 19,
     "metadata": {},
     "output_type": "execute_result"
    }
   ],
   "source": [
    "df2.isnull().sum()"
   ]
  },
  {
   "cell_type": "code",
   "execution_count": 20,
   "metadata": {},
   "outputs": [
    {
     "name": "stdout",
     "output_type": "stream",
     "text": [
      "(1385535, 62)\n",
      "(1384779, 62)\n",
      "(1384779, 62)\n",
      "(1383501, 62)\n",
      "(1134229, 62)\n",
      "(1134229, 62)\n",
      "(953625, 62)\n",
      "(953192, 62)\n",
      "(465251, 62)\n",
      "(464957, 62)\n"
     ]
    },
    {
     "data": {
      "text/plain": [
       "pay_ub92         0\n",
       "age              0\n",
       "sex              0\n",
       "provider         0\n",
       "moa              0\n",
       "yoa              0\n",
       "admtype          0\n",
       "asource          0\n",
       "dx1              2\n",
       "dx2           8927\n",
       "dx3          31011\n",
       "dx4          60426\n",
       "dx5          94342\n",
       "dx6         129759\n",
       "dx7         164698\n",
       "tot              0\n",
       "dx8         197990\n",
       "dx9         229397\n",
       "dx10        258801\n",
       "dx11        286354\n",
       "diag_adm         0\n",
       "er_mode          0\n",
       "dx12        311416\n",
       "dx13        333999\n",
       "dx14        354401\n",
       "dx15        372395\n",
       "dx16        389010\n",
       "dx17        403318\n",
       "dx18        414987\n",
       "dx19        424333\n",
       "             ...  \n",
       "dx22        443729\n",
       "dx23        447894\n",
       "dx24        451223\n",
       "dx25        454034\n",
       "race             0\n",
       "poa1           461\n",
       "poa2         16402\n",
       "poa3         39591\n",
       "poa4         56919\n",
       "poa5         98873\n",
       "poa6        130998\n",
       "poa7        151644\n",
       "poa8        194018\n",
       "poa9        222873\n",
       "poa10       238887\n",
       "poa11       275840\n",
       "poa12       299096\n",
       "poa13       310124\n",
       "poa14       329559\n",
       "poa15       346766\n",
       "poa16       362038\n",
       "poa17       375952\n",
       "poa18       387226\n",
       "poa19       396305\n",
       "poa20       403805\n",
       "poa21       409974\n",
       "poa22       415179\n",
       "poa23       419251\n",
       "poa24       422544\n",
       "poa25       425297\n",
       "Length: 62, dtype: int64"
      ]
     },
     "execution_count": 20,
     "metadata": {},
     "output_type": "execute_result"
    }
   ],
   "source": [
    "df2 = df2[df2.sex != '9']\n",
    "df2.sex.cat.remove_unused_categories()\n",
    "print(df2.shape)\n",
    "df2 = df2[df2.admtype != '9'] # rem\n",
    "print(df2.shape)\n",
    "df2 = df2[False == pd.isna(df2.admtype)]\n",
    "print(df2.shape)\n",
    "df2 = df2[False == pd.isna(df2.asource)]\n",
    "print(df2.shape)\n",
    "df2 = df2[False == pd.isna(df2.race)]\n",
    "print(df2.shape)\n",
    "#df2 = df2[False == pd.isna(df2.dx1)]\n",
    "print(df2.shape)\n",
    "df2 = df2[False == pd.isna(df2.er_mode)]\n",
    "print(df2.shape)\n",
    "df2 = df2[False == pd.isna(df2.diag_adm)]\n",
    "print(df2.shape)\n",
    "df2['yoa'] = df2['yoa'].apply(getFullYear)\n",
    "df2 = df2[df2.yoa >= 2010]\n",
    "print(df2.shape)\n",
    "df2 = df2[df2.age <= 100]\n",
    "print(df2.shape)\n",
    "df2.isnull().sum()"
   ]
  },
  {
   "cell_type": "code",
   "execution_count": 21,
   "metadata": {},
   "outputs": [
    {
     "data": {
      "text/plain": [
       "pay_ub92         0\n",
       "age              0\n",
       "sex              0\n",
       "provider         0\n",
       "moa              0\n",
       "yoa              0\n",
       "admtype          0\n",
       "asource          0\n",
       "dx1              2\n",
       "dx2           8927\n",
       "dx3          31011\n",
       "dx4          60426\n",
       "dx5          94342\n",
       "dx6         129759\n",
       "dx7         164698\n",
       "tot              0\n",
       "dx8         197990\n",
       "dx9         229397\n",
       "dx10        258801\n",
       "dx11        286354\n",
       "diag_adm         0\n",
       "er_mode          0\n",
       "dx12        311416\n",
       "dx13        333999\n",
       "dx14        354401\n",
       "dx15        372395\n",
       "dx16        389010\n",
       "dx17        403318\n",
       "dx18        414987\n",
       "dx19        424333\n",
       "             ...  \n",
       "dx22        443729\n",
       "dx23        447894\n",
       "dx24        451223\n",
       "dx25        454034\n",
       "race             0\n",
       "poa1           461\n",
       "poa2         16402\n",
       "poa3         39591\n",
       "poa4         56919\n",
       "poa5         98873\n",
       "poa6        130998\n",
       "poa7        151644\n",
       "poa8        194018\n",
       "poa9        222873\n",
       "poa10       238887\n",
       "poa11       275840\n",
       "poa12       299096\n",
       "poa13       310124\n",
       "poa14       329559\n",
       "poa15       346766\n",
       "poa16       362038\n",
       "poa17       375952\n",
       "poa18       387226\n",
       "poa19       396305\n",
       "poa20       403805\n",
       "poa21       409974\n",
       "poa22       415179\n",
       "poa23       419251\n",
       "poa24       422544\n",
       "poa25       425297\n",
       "Length: 62, dtype: int64"
      ]
     },
     "execution_count": 21,
     "metadata": {},
     "output_type": "execute_result"
    }
   ],
   "source": [
    "# fill na with values\n",
    "\n",
    "#df2.dx1 = df2.dx1.cat.add_categories('-1')\n",
    "#df2.px1 = df2.px1.cat.add_categories('-1')\n",
    "\n",
    "\n",
    "value = {#'dx1': '-1',\n",
    "         #'px1': '-1',\n",
    "        }\n",
    "df2 = df2.fillna(value)\n",
    "df2.isnull().sum()"
   ]
  },
  {
   "cell_type": "markdown",
   "metadata": {},
   "source": [
    "Check datatypes"
   ]
  },
  {
   "cell_type": "code",
   "execution_count": 22,
   "metadata": {},
   "outputs": [
    {
     "name": "stdout",
     "output_type": "stream",
     "text": [
      "pay_ub92    category\n",
      "age          float16\n",
      "sex         category\n",
      "provider    category\n",
      "moa          float16\n",
      "yoa          float64\n",
      "admtype     category\n",
      "asource     category\n",
      "dx1         category\n",
      "dx2         category\n",
      "dx3         category\n",
      "dx4         category\n",
      "dx5         category\n",
      "dx6         category\n",
      "dx7         category\n",
      "tot          float64\n",
      "dx8         category\n",
      "dx9         category\n",
      "dx10        category\n",
      "dx11        category\n",
      "diag_adm    category\n",
      "er_mode     category\n",
      "dx12        category\n",
      "dx13        category\n",
      "dx14        category\n",
      "dx15        category\n",
      "dx16        category\n",
      "dx17        category\n",
      "dx18        category\n",
      "dx19        category\n",
      "              ...   \n",
      "dx22        category\n",
      "dx23        category\n",
      "dx24        category\n",
      "dx25        category\n",
      "race        category\n",
      "poa1        category\n",
      "poa2        category\n",
      "poa3        category\n",
      "poa4        category\n",
      "poa5        category\n",
      "poa6        category\n",
      "poa7        category\n",
      "poa8        category\n",
      "poa9        category\n",
      "poa10       category\n",
      "poa11       category\n",
      "poa12       category\n",
      "poa13       category\n",
      "poa14       category\n",
      "poa15       category\n",
      "poa16       category\n",
      "poa17       category\n",
      "poa18       category\n",
      "poa19       category\n",
      "poa20       category\n",
      "poa21       category\n",
      "poa22       category\n",
      "poa23       category\n",
      "poa24       category\n",
      "poa25       category\n",
      "Length: 62, dtype: object\n"
     ]
    }
   ],
   "source": [
    "print(df2.dtypes)"
   ]
  },
  {
   "cell_type": "markdown",
   "metadata": {},
   "source": [
    "Edit year of addmission collumn"
   ]
  },
  {
   "cell_type": "code",
   "execution_count": 23,
   "metadata": {},
   "outputs": [
    {
     "data": {
      "text/plain": [
       "1005352    24122.0\n",
       "1005354    24122.0\n",
       "1005355    24122.0\n",
       "1005356    24122.0\n",
       "1005360    24121.0\n",
       "Name: doa, dtype: float64"
      ]
     },
     "execution_count": 23,
     "metadata": {},
     "output_type": "execute_result"
    }
   ],
   "source": [
    "df2['doa'] = df2['yoa'] * 12 + (df2['moa']-1)\n",
    "df2['doa'].head()\n"
   ]
  },
  {
   "cell_type": "code",
   "execution_count": 24,
   "metadata": {},
   "outputs": [
    {
     "name": "stdout",
     "output_type": "stream",
     "text": [
      "(464957, 63)\n"
     ]
    }
   ],
   "source": [
    "df3 = df2.copy()\n",
    "print(df3.shape)\n",
    "#print(df3.columns)\n",
    "#print(df3.dtypes)\n",
    "#df3.describe()\n"
   ]
  },
  {
   "cell_type": "markdown",
   "metadata": {},
   "source": [
    "#### Export datasets to csv"
   ]
  },
  {
   "cell_type": "code",
   "execution_count": 13,
   "metadata": {},
   "outputs": [],
   "source": [
    "df3.to_csv(\"df3.csv\")"
   ]
  },
  {
   "cell_type": "code",
   "execution_count": 27,
   "metadata": {},
   "outputs": [
    {
     "name": "stdout",
     "output_type": "stream",
     "text": [
      "(464957, 62)\n"
     ]
    },
    {
     "data": {
      "text/html": [
       "<div>\n",
       "<style scoped>\n",
       "    .dataframe tbody tr th:only-of-type {\n",
       "        vertical-align: middle;\n",
       "    }\n",
       "\n",
       "    .dataframe tbody tr th {\n",
       "        vertical-align: top;\n",
       "    }\n",
       "\n",
       "    .dataframe thead th {\n",
       "        text-align: right;\n",
       "    }\n",
       "</style>\n",
       "<table border=\"1\" class=\"dataframe\">\n",
       "  <thead>\n",
       "    <tr style=\"text-align: right;\">\n",
       "      <th></th>\n",
       "      <th>sex</th>\n",
       "      <th>er_mode</th>\n",
       "      <th>admtype</th>\n",
       "      <th>yoa</th>\n",
       "      <th>diag_adm</th>\n",
       "      <th>dx1</th>\n",
       "      <th>dx2</th>\n",
       "      <th>dx3</th>\n",
       "      <th>dx4</th>\n",
       "      <th>dx5</th>\n",
       "      <th>...</th>\n",
       "      <th>poa23</th>\n",
       "      <th>poa24</th>\n",
       "      <th>poa25</th>\n",
       "      <th>pay_ub92</th>\n",
       "      <th>provider</th>\n",
       "      <th>asource</th>\n",
       "      <th>moa</th>\n",
       "      <th>age</th>\n",
       "      <th>race</th>\n",
       "      <th>tot</th>\n",
       "    </tr>\n",
       "  </thead>\n",
       "  <tbody>\n",
       "    <tr>\n",
       "      <th>1005352</th>\n",
       "      <td>2</td>\n",
       "      <td>0</td>\n",
       "      <td>2</td>\n",
       "      <td>2010.0</td>\n",
       "      <td>64413</td>\n",
       "      <td>66401</td>\n",
       "      <td>64821</td>\n",
       "      <td>2859</td>\n",
       "      <td>V270</td>\n",
       "      <td>NaN</td>\n",
       "      <td>...</td>\n",
       "      <td>NaN</td>\n",
       "      <td>NaN</td>\n",
       "      <td>NaN</td>\n",
       "      <td>4</td>\n",
       "      <td>7214</td>\n",
       "      <td>1</td>\n",
       "      <td>3.0</td>\n",
       "      <td>20.0</td>\n",
       "      <td>1</td>\n",
       "      <td>14150.0</td>\n",
       "    </tr>\n",
       "    <tr>\n",
       "      <th>1005354</th>\n",
       "      <td>2</td>\n",
       "      <td>0</td>\n",
       "      <td>2</td>\n",
       "      <td>2010.0</td>\n",
       "      <td>78659</td>\n",
       "      <td>64893</td>\n",
       "      <td>514</td>\n",
       "      <td>4238</td>\n",
       "      <td>64863</td>\n",
       "      <td>4254</td>\n",
       "      <td>...</td>\n",
       "      <td>NaN</td>\n",
       "      <td>NaN</td>\n",
       "      <td>NaN</td>\n",
       "      <td>4</td>\n",
       "      <td>7214</td>\n",
       "      <td>1</td>\n",
       "      <td>3.0</td>\n",
       "      <td>28.0</td>\n",
       "      <td>1</td>\n",
       "      <td>7767.0</td>\n",
       "    </tr>\n",
       "    <tr>\n",
       "      <th>1005355</th>\n",
       "      <td>2</td>\n",
       "      <td>0</td>\n",
       "      <td>2</td>\n",
       "      <td>2010.0</td>\n",
       "      <td>64863</td>\n",
       "      <td>64863</td>\n",
       "      <td>4280</td>\n",
       "      <td>4238</td>\n",
       "      <td>4254</td>\n",
       "      <td>64853</td>\n",
       "      <td>...</td>\n",
       "      <td>NaN</td>\n",
       "      <td>NaN</td>\n",
       "      <td>NaN</td>\n",
       "      <td>4</td>\n",
       "      <td>7214</td>\n",
       "      <td>1</td>\n",
       "      <td>3.0</td>\n",
       "      <td>28.0</td>\n",
       "      <td>1</td>\n",
       "      <td>5315.0</td>\n",
       "    </tr>\n",
       "    <tr>\n",
       "      <th>1005356</th>\n",
       "      <td>2</td>\n",
       "      <td>0</td>\n",
       "      <td>2</td>\n",
       "      <td>2010.0</td>\n",
       "      <td>65803</td>\n",
       "      <td>65813</td>\n",
       "      <td>64843</td>\n",
       "      <td>30000</td>\n",
       "      <td>NaN</td>\n",
       "      <td>NaN</td>\n",
       "      <td>...</td>\n",
       "      <td>NaN</td>\n",
       "      <td>NaN</td>\n",
       "      <td>NaN</td>\n",
       "      <td>4</td>\n",
       "      <td>7214</td>\n",
       "      <td>1</td>\n",
       "      <td>3.0</td>\n",
       "      <td>26.0</td>\n",
       "      <td>1</td>\n",
       "      <td>31107.0</td>\n",
       "    </tr>\n",
       "    <tr>\n",
       "      <th>1005360</th>\n",
       "      <td>2</td>\n",
       "      <td>0</td>\n",
       "      <td>2</td>\n",
       "      <td>2010.0</td>\n",
       "      <td>64413</td>\n",
       "      <td>66411</td>\n",
       "      <td>V270</td>\n",
       "      <td>NaN</td>\n",
       "      <td>NaN</td>\n",
       "      <td>NaN</td>\n",
       "      <td>...</td>\n",
       "      <td>NaN</td>\n",
       "      <td>NaN</td>\n",
       "      <td>NaN</td>\n",
       "      <td>4</td>\n",
       "      <td>7214</td>\n",
       "      <td>1</td>\n",
       "      <td>2.0</td>\n",
       "      <td>24.0</td>\n",
       "      <td>5</td>\n",
       "      <td>5696.0</td>\n",
       "    </tr>\n",
       "  </tbody>\n",
       "</table>\n",
       "<p>5 rows × 62 columns</p>\n",
       "</div>"
      ],
      "text/plain": [
       "        sex er_mode admtype     yoa diag_adm    dx1    dx2    dx3    dx4  \\\n",
       "1005352   2       0       2  2010.0    64413  66401  64821   2859   V270   \n",
       "1005354   2       0       2  2010.0    78659  64893    514   4238  64863   \n",
       "1005355   2       0       2  2010.0    64863  64863   4280   4238   4254   \n",
       "1005356   2       0       2  2010.0    65803  65813  64843  30000    NaN   \n",
       "1005360   2       0       2  2010.0    64413  66411   V270    NaN    NaN   \n",
       "\n",
       "           dx5   ...    poa23 poa24 poa25 pay_ub92 provider asource  moa  \\\n",
       "1005352    NaN   ...      NaN   NaN   NaN        4     7214       1  3.0   \n",
       "1005354   4254   ...      NaN   NaN   NaN        4     7214       1  3.0   \n",
       "1005355  64853   ...      NaN   NaN   NaN        4     7214       1  3.0   \n",
       "1005356    NaN   ...      NaN   NaN   NaN        4     7214       1  3.0   \n",
       "1005360    NaN   ...      NaN   NaN   NaN        4     7214       1  2.0   \n",
       "\n",
       "          age race      tot  \n",
       "1005352  20.0    1  14150.0  \n",
       "1005354  28.0    1   7767.0  \n",
       "1005355  28.0    1   5315.0  \n",
       "1005356  26.0    1  31107.0  \n",
       "1005360  24.0    5   5696.0  \n",
       "\n",
       "[5 rows x 62 columns]"
      ]
     },
     "execution_count": 27,
     "metadata": {},
     "output_type": "execute_result"
    }
   ],
   "source": [
    "df3_arrival = df3.filter(col_arrival + col_target)\n",
    "print(df3_arrival.shape)\n",
    "df3_arrival.head()"
   ]
  },
  {
   "cell_type": "code",
   "execution_count": 32,
   "metadata": {},
   "outputs": [],
   "source": [
    "cxx = ['sex', 'age', 'provider', 'diag_adm', 'dx1', 'dx2', 'dx3', 'dx4', 'dx5', 'poa1', 'poa2', 'poa3', 'poa4', 'poa5']\n",
    "df3_preview = df3_arrival.filter(items=cxx, axis='columns')"
   ]
  },
  {
   "cell_type": "code",
   "execution_count": 33,
   "metadata": {},
   "outputs": [
    {
     "data": {
      "text/html": [
       "<div>\n",
       "<style scoped>\n",
       "    .dataframe tbody tr th:only-of-type {\n",
       "        vertical-align: middle;\n",
       "    }\n",
       "\n",
       "    .dataframe tbody tr th {\n",
       "        vertical-align: top;\n",
       "    }\n",
       "\n",
       "    .dataframe thead th {\n",
       "        text-align: right;\n",
       "    }\n",
       "</style>\n",
       "<table border=\"1\" class=\"dataframe\">\n",
       "  <thead>\n",
       "    <tr style=\"text-align: right;\">\n",
       "      <th></th>\n",
       "      <th>sex</th>\n",
       "      <th>age</th>\n",
       "      <th>provider</th>\n",
       "      <th>diag_adm</th>\n",
       "      <th>dx1</th>\n",
       "      <th>dx2</th>\n",
       "      <th>dx3</th>\n",
       "      <th>dx4</th>\n",
       "      <th>dx5</th>\n",
       "      <th>poa1</th>\n",
       "      <th>poa2</th>\n",
       "      <th>poa3</th>\n",
       "      <th>poa4</th>\n",
       "      <th>poa5</th>\n",
       "    </tr>\n",
       "  </thead>\n",
       "  <tbody>\n",
       "    <tr>\n",
       "      <th>1099758</th>\n",
       "      <td>1</td>\n",
       "      <td>87.0</td>\n",
       "      <td>7210</td>\n",
       "      <td>4589</td>\n",
       "      <td>99664</td>\n",
       "      <td>99591</td>\n",
       "      <td>03842</td>\n",
       "      <td>2639</td>\n",
       "      <td>591</td>\n",
       "      <td>Y</td>\n",
       "      <td>Y</td>\n",
       "      <td>Y</td>\n",
       "      <td>Y</td>\n",
       "      <td>Y</td>\n",
       "    </tr>\n",
       "    <tr>\n",
       "      <th>1378559</th>\n",
       "      <td>2</td>\n",
       "      <td>83.0</td>\n",
       "      <td>7211</td>\n",
       "      <td>5781</td>\n",
       "      <td>53784</td>\n",
       "      <td>2851</td>\n",
       "      <td>37230</td>\n",
       "      <td>2875</td>\n",
       "      <td>42789</td>\n",
       "      <td>Y</td>\n",
       "      <td>Y</td>\n",
       "      <td>N</td>\n",
       "      <td>Y</td>\n",
       "      <td>Y</td>\n",
       "    </tr>\n",
       "    <tr>\n",
       "      <th>1470052</th>\n",
       "      <td>1</td>\n",
       "      <td>52.0</td>\n",
       "      <td>7209</td>\n",
       "      <td>78909</td>\n",
       "      <td>56211</td>\n",
       "      <td>4589</td>\n",
       "      <td>27651</td>\n",
       "      <td>53081</td>\n",
       "      <td>3051</td>\n",
       "      <td>Y</td>\n",
       "      <td>Y</td>\n",
       "      <td>Y</td>\n",
       "      <td>Y</td>\n",
       "      <td>Y</td>\n",
       "    </tr>\n",
       "    <tr>\n",
       "      <th>1331929</th>\n",
       "      <td>2</td>\n",
       "      <td>59.0</td>\n",
       "      <td>7210</td>\n",
       "      <td>6184</td>\n",
       "      <td>6184</td>\n",
       "      <td>3004</td>\n",
       "      <td>4019</td>\n",
       "      <td>V1582</td>\n",
       "      <td>NaN</td>\n",
       "      <td>Y</td>\n",
       "      <td>Y</td>\n",
       "      <td>Y</td>\n",
       "      <td>E</td>\n",
       "      <td>NaN</td>\n",
       "    </tr>\n",
       "    <tr>\n",
       "      <th>1439431</th>\n",
       "      <td>2</td>\n",
       "      <td>30.0</td>\n",
       "      <td>7214</td>\n",
       "      <td>65423</td>\n",
       "      <td>65421</td>\n",
       "      <td>V270</td>\n",
       "      <td>NaN</td>\n",
       "      <td>NaN</td>\n",
       "      <td>NaN</td>\n",
       "      <td>Y</td>\n",
       "      <td>NaN</td>\n",
       "      <td>NaN</td>\n",
       "      <td>NaN</td>\n",
       "      <td>NaN</td>\n",
       "    </tr>\n",
       "    <tr>\n",
       "      <th>1379302</th>\n",
       "      <td>1</td>\n",
       "      <td>68.0</td>\n",
       "      <td>7206</td>\n",
       "      <td>4019</td>\n",
       "      <td>4019</td>\n",
       "      <td>78659</td>\n",
       "      <td>2724</td>\n",
       "      <td>53081</td>\n",
       "      <td>V1582</td>\n",
       "      <td>Y</td>\n",
       "      <td>Y</td>\n",
       "      <td>Y</td>\n",
       "      <td>Y</td>\n",
       "      <td>E</td>\n",
       "    </tr>\n",
       "    <tr>\n",
       "      <th>1132481</th>\n",
       "      <td>1</td>\n",
       "      <td>37.0</td>\n",
       "      <td>7205</td>\n",
       "      <td>49392</td>\n",
       "      <td>49392</td>\n",
       "      <td>5303</td>\n",
       "      <td>53081</td>\n",
       "      <td>73300</td>\n",
       "      <td>4659</td>\n",
       "      <td>Y</td>\n",
       "      <td>Y</td>\n",
       "      <td>Y</td>\n",
       "      <td>Y</td>\n",
       "      <td>Y</td>\n",
       "    </tr>\n",
       "    <tr>\n",
       "      <th>1325447</th>\n",
       "      <td>2</td>\n",
       "      <td>37.0</td>\n",
       "      <td>7214</td>\n",
       "      <td>2189</td>\n",
       "      <td>2189</td>\n",
       "      <td>30000</td>\n",
       "      <td>5680</td>\n",
       "      <td>6170</td>\n",
       "      <td>6262</td>\n",
       "      <td>Y</td>\n",
       "      <td>Y</td>\n",
       "      <td>Y</td>\n",
       "      <td>Y</td>\n",
       "      <td>Y</td>\n",
       "    </tr>\n",
       "    <tr>\n",
       "      <th>1108790</th>\n",
       "      <td>1</td>\n",
       "      <td>26.0</td>\n",
       "      <td>7210</td>\n",
       "      <td>5695</td>\n",
       "      <td>99859</td>\n",
       "      <td>56722</td>\n",
       "      <td>V4589</td>\n",
       "      <td>E8786</td>\n",
       "      <td>E8490</td>\n",
       "      <td>Y</td>\n",
       "      <td>Y</td>\n",
       "      <td>E</td>\n",
       "      <td>Y</td>\n",
       "      <td>1</td>\n",
       "    </tr>\n",
       "    <tr>\n",
       "      <th>1055647</th>\n",
       "      <td>1</td>\n",
       "      <td>70.0</td>\n",
       "      <td>7201</td>\n",
       "      <td>486</td>\n",
       "      <td>486</td>\n",
       "      <td>4532</td>\n",
       "      <td>07989</td>\n",
       "      <td>78720</td>\n",
       "      <td>V1251</td>\n",
       "      <td>Y</td>\n",
       "      <td>Y</td>\n",
       "      <td>Y</td>\n",
       "      <td>Y</td>\n",
       "      <td>E</td>\n",
       "    </tr>\n",
       "  </tbody>\n",
       "</table>\n",
       "</div>"
      ],
      "text/plain": [
       "        sex   age provider diag_adm    dx1    dx2    dx3    dx4    dx5 poa1  \\\n",
       "1099758   1  87.0     7210     4589  99664  99591  03842   2639    591    Y   \n",
       "1378559   2  83.0     7211     5781  53784   2851  37230   2875  42789    Y   \n",
       "1470052   1  52.0     7209    78909  56211   4589  27651  53081   3051    Y   \n",
       "1331929   2  59.0     7210     6184   6184   3004   4019  V1582    NaN    Y   \n",
       "1439431   2  30.0     7214    65423  65421   V270    NaN    NaN    NaN    Y   \n",
       "1379302   1  68.0     7206     4019   4019  78659   2724  53081  V1582    Y   \n",
       "1132481   1  37.0     7205    49392  49392   5303  53081  73300   4659    Y   \n",
       "1325447   2  37.0     7214     2189   2189  30000   5680   6170   6262    Y   \n",
       "1108790   1  26.0     7210     5695  99859  56722  V4589  E8786  E8490    Y   \n",
       "1055647   1  70.0     7201      486    486   4532  07989  78720  V1251    Y   \n",
       "\n",
       "        poa2 poa3 poa4 poa5  \n",
       "1099758    Y    Y    Y    Y  \n",
       "1378559    Y    N    Y    Y  \n",
       "1470052    Y    Y    Y    Y  \n",
       "1331929    Y    Y    E  NaN  \n",
       "1439431  NaN  NaN  NaN  NaN  \n",
       "1379302    Y    Y    Y    E  \n",
       "1132481    Y    Y    Y    Y  \n",
       "1325447    Y    Y    Y    Y  \n",
       "1108790    Y    E    Y    1  \n",
       "1055647    Y    Y    Y    E  "
      ]
     },
     "execution_count": 33,
     "metadata": {},
     "output_type": "execute_result"
    }
   ],
   "source": [
    "df3_preview.sample(10)"
   ]
  },
  {
   "cell_type": "code",
   "execution_count": 18,
   "metadata": {},
   "outputs": [],
   "source": [
    "#df3_arrival.to_csv(\"df3_arrival.csv\")"
   ]
  },
  {
   "cell_type": "markdown",
   "metadata": {},
   "source": [
    "## Encoding All dx Present on Admission"
   ]
  },
  {
   "cell_type": "code",
   "execution_count": null,
   "metadata": {},
   "outputs": [],
   "source": [
    "for each row in df3_arrival:\n",
    "    for x in range(1, 26):\n",
    "    "
   ]
  },
  {
   "cell_type": "markdown",
   "metadata": {},
   "source": [
    "## One-Hot Encoding"
   ]
  },
  {
   "cell_type": "code",
   "execution_count": 1,
   "metadata": {
    "scrolled": true
   },
   "outputs": [
    {
     "ename": "NameError",
     "evalue": "name 'df3_arrival' is not defined",
     "output_type": "error",
     "traceback": [
      "\u001b[1;31m---------------------------------------------------------------------------\u001b[0m",
      "\u001b[1;31mNameError\u001b[0m                                 Traceback (most recent call last)",
      "\u001b[1;32m<ipython-input-1-02f8e8c91af7>\u001b[0m in \u001b[0;36m<module>\u001b[1;34m()\u001b[0m\n\u001b[1;32m----> 1\u001b[1;33m \u001b[0mdf_copy\u001b[0m \u001b[1;33m=\u001b[0m \u001b[0mdf3_arrival\u001b[0m\u001b[1;33m.\u001b[0m\u001b[0mcopy\u001b[0m\u001b[1;33m(\u001b[0m\u001b[1;33m)\u001b[0m\u001b[1;33m\u001b[0m\u001b[0m\n\u001b[0m",
      "\u001b[1;31mNameError\u001b[0m: name 'df3_arrival' is not defined"
     ]
    }
   ],
   "source": [
    "df_copy = df3_arrival.copy()"
   ]
  },
  {
   "cell_type": "code",
   "execution_count": 16,
   "metadata": {},
   "outputs": [
    {
     "name": "stdout",
     "output_type": "stream",
     "text": [
      "Index(['sex', 'er_mode', 'admtype', 'yoa', 'diag_adm', 'pay_ub92', 'provider',\n",
      "       'asource', 'moa', 'age', 'race', 'tot'],\n",
      "      dtype='object')\n"
     ]
    }
   ],
   "source": [
    "print(df_copy.columns)"
   ]
  },
  {
   "cell_type": "code",
   "execution_count": 21,
   "metadata": {},
   "outputs": [
    {
     "name": "stdout",
     "output_type": "stream",
     "text": [
      "(951304, 6716)\n"
     ]
    }
   ],
   "source": [
    "fields = ['er_mode', 'admtype', 'diag_adm', \n",
    "          'pay_ub92', 'provider', 'asource', 'race']\n",
    "\n",
    "df3_encoded = pd.get_dummies(df_copy, columns=fields, prefix=fields)\n",
    "\n",
    "print(df3_encoded.shape)"
   ]
  },
  {
   "cell_type": "code",
   "execution_count": 22,
   "metadata": {},
   "outputs": [
    {
     "data": {
      "text/html": [
       "<div>\n",
       "<style scoped>\n",
       "    .dataframe tbody tr th:only-of-type {\n",
       "        vertical-align: middle;\n",
       "    }\n",
       "\n",
       "    .dataframe tbody tr th {\n",
       "        vertical-align: top;\n",
       "    }\n",
       "\n",
       "    .dataframe thead th {\n",
       "        text-align: right;\n",
       "    }\n",
       "</style>\n",
       "<table border=\"1\" class=\"dataframe\">\n",
       "  <thead>\n",
       "    <tr style=\"text-align: right;\">\n",
       "      <th></th>\n",
       "      <th>sex</th>\n",
       "      <th>yoa</th>\n",
       "      <th>moa</th>\n",
       "      <th>age</th>\n",
       "      <th>tot</th>\n",
       "      <th>er_mode_9</th>\n",
       "      <th>er_mode_1</th>\n",
       "      <th>er_mode_3</th>\n",
       "      <th>er_mode_5</th>\n",
       "      <th>er_mode_4</th>\n",
       "      <th>...</th>\n",
       "      <th>asource_F</th>\n",
       "      <th>race_1</th>\n",
       "      <th>race_2</th>\n",
       "      <th>race_3</th>\n",
       "      <th>race_5</th>\n",
       "      <th>race_9</th>\n",
       "      <th>race_6</th>\n",
       "      <th>race_7</th>\n",
       "      <th>race_4</th>\n",
       "      <th>race_0</th>\n",
       "    </tr>\n",
       "  </thead>\n",
       "  <tbody>\n",
       "    <tr>\n",
       "      <th>286600</th>\n",
       "      <td>2</td>\n",
       "      <td>2005.0</td>\n",
       "      <td>1.0</td>\n",
       "      <td>75.0</td>\n",
       "      <td>20084.0</td>\n",
       "      <td>1</td>\n",
       "      <td>0</td>\n",
       "      <td>0</td>\n",
       "      <td>0</td>\n",
       "      <td>0</td>\n",
       "      <td>...</td>\n",
       "      <td>0</td>\n",
       "      <td>0</td>\n",
       "      <td>0</td>\n",
       "      <td>0</td>\n",
       "      <td>1</td>\n",
       "      <td>0</td>\n",
       "      <td>0</td>\n",
       "      <td>0</td>\n",
       "      <td>0</td>\n",
       "      <td>0</td>\n",
       "    </tr>\n",
       "    <tr>\n",
       "      <th>286602</th>\n",
       "      <td>1</td>\n",
       "      <td>2005.0</td>\n",
       "      <td>1.0</td>\n",
       "      <td>53.0</td>\n",
       "      <td>31788.0</td>\n",
       "      <td>1</td>\n",
       "      <td>0</td>\n",
       "      <td>0</td>\n",
       "      <td>0</td>\n",
       "      <td>0</td>\n",
       "      <td>...</td>\n",
       "      <td>0</td>\n",
       "      <td>0</td>\n",
       "      <td>1</td>\n",
       "      <td>0</td>\n",
       "      <td>0</td>\n",
       "      <td>0</td>\n",
       "      <td>0</td>\n",
       "      <td>0</td>\n",
       "      <td>0</td>\n",
       "      <td>0</td>\n",
       "    </tr>\n",
       "    <tr>\n",
       "      <th>286603</th>\n",
       "      <td>1</td>\n",
       "      <td>2005.0</td>\n",
       "      <td>1.0</td>\n",
       "      <td>88.0</td>\n",
       "      <td>22544.0</td>\n",
       "      <td>1</td>\n",
       "      <td>0</td>\n",
       "      <td>0</td>\n",
       "      <td>0</td>\n",
       "      <td>0</td>\n",
       "      <td>...</td>\n",
       "      <td>0</td>\n",
       "      <td>1</td>\n",
       "      <td>0</td>\n",
       "      <td>0</td>\n",
       "      <td>0</td>\n",
       "      <td>0</td>\n",
       "      <td>0</td>\n",
       "      <td>0</td>\n",
       "      <td>0</td>\n",
       "      <td>0</td>\n",
       "    </tr>\n",
       "    <tr>\n",
       "      <th>286604</th>\n",
       "      <td>2</td>\n",
       "      <td>2005.0</td>\n",
       "      <td>1.0</td>\n",
       "      <td>3.0</td>\n",
       "      <td>12308.0</td>\n",
       "      <td>1</td>\n",
       "      <td>0</td>\n",
       "      <td>0</td>\n",
       "      <td>0</td>\n",
       "      <td>0</td>\n",
       "      <td>...</td>\n",
       "      <td>0</td>\n",
       "      <td>1</td>\n",
       "      <td>0</td>\n",
       "      <td>0</td>\n",
       "      <td>0</td>\n",
       "      <td>0</td>\n",
       "      <td>0</td>\n",
       "      <td>0</td>\n",
       "      <td>0</td>\n",
       "      <td>0</td>\n",
       "    </tr>\n",
       "    <tr>\n",
       "      <th>286605</th>\n",
       "      <td>2</td>\n",
       "      <td>2005.0</td>\n",
       "      <td>1.0</td>\n",
       "      <td>59.0</td>\n",
       "      <td>18970.0</td>\n",
       "      <td>1</td>\n",
       "      <td>0</td>\n",
       "      <td>0</td>\n",
       "      <td>0</td>\n",
       "      <td>0</td>\n",
       "      <td>...</td>\n",
       "      <td>0</td>\n",
       "      <td>0</td>\n",
       "      <td>1</td>\n",
       "      <td>0</td>\n",
       "      <td>0</td>\n",
       "      <td>0</td>\n",
       "      <td>0</td>\n",
       "      <td>0</td>\n",
       "      <td>0</td>\n",
       "      <td>0</td>\n",
       "    </tr>\n",
       "  </tbody>\n",
       "</table>\n",
       "<p>5 rows × 6716 columns</p>\n",
       "</div>"
      ],
      "text/plain": [
       "       sex     yoa  moa   age      tot  er_mode_9  er_mode_1  er_mode_3  \\\n",
       "286600   2  2005.0  1.0  75.0  20084.0          1          0          0   \n",
       "286602   1  2005.0  1.0  53.0  31788.0          1          0          0   \n",
       "286603   1  2005.0  1.0  88.0  22544.0          1          0          0   \n",
       "286604   2  2005.0  1.0   3.0  12308.0          1          0          0   \n",
       "286605   2  2005.0  1.0  59.0  18970.0          1          0          0   \n",
       "\n",
       "        er_mode_5  er_mode_4   ...    asource_F  race_1  race_2  race_3  \\\n",
       "286600          0          0   ...            0       0       0       0   \n",
       "286602          0          0   ...            0       0       1       0   \n",
       "286603          0          0   ...            0       1       0       0   \n",
       "286604          0          0   ...            0       1       0       0   \n",
       "286605          0          0   ...            0       0       1       0   \n",
       "\n",
       "        race_5  race_9  race_6  race_7  race_4  race_0  \n",
       "286600       1       0       0       0       0       0  \n",
       "286602       0       0       0       0       0       0  \n",
       "286603       0       0       0       0       0       0  \n",
       "286604       0       0       0       0       0       0  \n",
       "286605       0       0       0       0       0       0  \n",
       "\n",
       "[5 rows x 6716 columns]"
      ]
     },
     "execution_count": 22,
     "metadata": {},
     "output_type": "execute_result"
    }
   ],
   "source": [
    "df3_encoded.head()"
   ]
  },
  {
   "cell_type": "code",
   "execution_count": 23,
   "metadata": {},
   "outputs": [],
   "source": [
    "df_sample = df3_encoded.sample(10000)\n"
   ]
  },
  {
   "cell_type": "code",
   "execution_count": null,
   "metadata": {},
   "outputs": [],
   "source": [
    "df_sample.to_csv(\"df_sample.csv\")"
   ]
  },
  {
   "cell_type": "code",
   "execution_count": null,
   "metadata": {},
   "outputs": [],
   "source": [
    "df3_encoded.to_csv(\"df3_encoded.csv\")"
   ]
  },
  {
   "cell_type": "code",
   "execution_count": 25,
   "metadata": {},
   "outputs": [],
   "source": [
    "#df3_encoded.columns"
   ]
  },
  {
   "cell_type": "markdown",
   "metadata": {},
   "source": [
    "## Binary Encoding"
   ]
  },
  {
   "cell_type": "code",
   "execution_count": 17,
   "metadata": {},
   "outputs": [],
   "source": [
    "import category_encoders as ce"
   ]
  },
  {
   "cell_type": "code",
   "execution_count": 18,
   "metadata": {},
   "outputs": [],
   "source": [
    "df3_copy = df3.copy()"
   ]
  },
  {
   "cell_type": "code",
   "execution_count": 19,
   "metadata": {},
   "outputs": [],
   "source": [
    "fields = ['er_mode', 'admtype', 'diag_adm', 'pay_ub92', 'provider', 'asource', 'race']"
   ]
  },
  {
   "cell_type": "code",
   "execution_count": null,
   "metadata": {},
   "outputs": [],
   "source": [
    "encoder = ce.BinaryEncoder(cols=fields)\n",
    "df_binary = encoder.fit_transform(df3_copy)"
   ]
  },
  {
   "cell_type": "code",
   "execution_count": null,
   "metadata": {},
   "outputs": [],
   "source": [
    "df_binary.head(5)"
   ]
  },
  {
   "cell_type": "code",
   "execution_count": 37,
   "metadata": {},
   "outputs": [],
   "source": [
    "df_binary.to_csv(\"df_binary_sample.csv\")"
   ]
  },
  {
   "cell_type": "code",
   "execution_count": null,
   "metadata": {},
   "outputs": [],
   "source": [
    "print(df_binary.columns)"
   ]
  },
  {
   "cell_type": "code",
   "execution_count": 26,
   "metadata": {},
   "outputs": [
    {
     "data": {
      "text/html": [
       "<div>\n",
       "<style scoped>\n",
       "    .dataframe tbody tr th:only-of-type {\n",
       "        vertical-align: middle;\n",
       "    }\n",
       "\n",
       "    .dataframe tbody tr th {\n",
       "        vertical-align: top;\n",
       "    }\n",
       "\n",
       "    .dataframe thead th {\n",
       "        text-align: right;\n",
       "    }\n",
       "</style>\n",
       "<table border=\"1\" class=\"dataframe\">\n",
       "  <thead>\n",
       "    <tr style=\"text-align: right;\">\n",
       "      <th></th>\n",
       "      <th>tot</th>\n",
       "    </tr>\n",
       "    <tr>\n",
       "      <th>age</th>\n",
       "      <th></th>\n",
       "    </tr>\n",
       "  </thead>\n",
       "  <tbody>\n",
       "    <tr>\n",
       "      <th>1.0</th>\n",
       "      <td>16437.218391</td>\n",
       "    </tr>\n",
       "    <tr>\n",
       "      <th>2.0</th>\n",
       "      <td>16866.570591</td>\n",
       "    </tr>\n",
       "    <tr>\n",
       "      <th>3.0</th>\n",
       "      <td>18757.535192</td>\n",
       "    </tr>\n",
       "    <tr>\n",
       "      <th>4.0</th>\n",
       "      <td>18602.477401</td>\n",
       "    </tr>\n",
       "    <tr>\n",
       "      <th>5.0</th>\n",
       "      <td>21402.703343</td>\n",
       "    </tr>\n",
       "  </tbody>\n",
       "</table>\n",
       "</div>"
      ],
      "text/plain": [
       "              tot\n",
       "age              \n",
       "1.0  16437.218391\n",
       "2.0  16866.570591\n",
       "3.0  18757.535192\n",
       "4.0  18602.477401\n",
       "5.0  21402.703343"
      ]
     },
     "execution_count": 26,
     "metadata": {},
     "output_type": "execute_result"
    }
   ],
   "source": [
    "df3.filter(['age', 'tot']).groupby('age').mean().head() ##.plot(kind='bar', x='age', y='tot')"
   ]
  },
  {
   "cell_type": "code",
   "execution_count": 27,
   "metadata": {},
   "outputs": [
    {
     "data": {
      "text/plain": [
       "<matplotlib.axes._subplots.AxesSubplot at 0x1ec3e2cc6a0>"
      ]
     },
     "execution_count": 27,
     "metadata": {},
     "output_type": "execute_result"
    },
    {
     "data": {
      "image/png": "[encoded data removed]",
      "text/plain": [
       "<Figure size 432x288 with 1 Axes>"
      ]
     },
     "metadata": {
      "needs_background": "light"
     },
     "output_type": "display_data"
    },
    {
     "data": {
      "image/png": "[encoded data removed]",
      "text/plain": [
       "<Figure size 432x288 with 1 Axes>"
      ]
     },
     "metadata": {
      "needs_background": "light"
     },
     "output_type": "display_data"
    }
   ],
   "source": [
    "df2.filter(['age', 'tot']).groupby('age').mean().plot(kind='line')\n",
    "df2.filter(['age', 'tot']).groupby('age').count().plot(kind='line', color='blue')"
   ]
  },
  {
   "cell_type": "code",
   "execution_count": 28,
   "metadata": {},
   "outputs": [
    {
     "name": "stdout",
     "output_type": "stream",
     "text": [
      "              tot\n",
      "sex              \n",
      "1    31626.936510\n",
      "2    25948.274025\n",
      "9             NaN\n",
      "        tot\n",
      "sex        \n",
      "1    407448\n",
      "2    543856\n",
      "9         0\n"
     ]
    },
    {
     "data": {
      "text/plain": [
       "<matplotlib.axes._subplots.AxesSubplot at 0x1ec4e799898>"
      ]
     },
     "execution_count": 28,
     "metadata": {},
     "output_type": "execute_result"
    },
    {
     "data": {
      "image/png": "[encoded data removed]",
      "text/plain": [
       "<Figure size 432x288 with 1 Axes>"
      ]
     },
     "metadata": {
      "needs_background": "light"
     },
     "output_type": "display_data"
    },
    {
     "data": {
      "image/png": "[encoded data removed]",
      "text/plain": [
       "<Figure size 432x288 with 1 Axes>"
      ]
     },
     "metadata": {
      "needs_background": "light"
     },
     "output_type": "display_data"
    }
   ],
   "source": [
    "print(df2.filter(['sex', 'tot']).groupby('sex').mean().head())\n",
    "print(df2.filter(['sex', 'tot']).groupby('sex').count().head())\n",
    "df2.filter(['sex', 'tot']).groupby('sex').mean().plot(kind='bar')\n",
    "df2.filter(['sex', 'tot']).groupby('sex').count().plot(kind='bar', color='blue')"
   ]
  },
  {
   "cell_type": "markdown",
   "metadata": {},
   "source": [
    "Graph components of costs"
   ]
  },
  {
   "cell_type": "code",
   "execution_count": 29,
   "metadata": {},
   "outputs": [
    {
     "data": {
      "image/png": "[encoded data removed]",
      "text/plain": [
       "<Figure size 432x288 with 1 Axes>"
      ]
     },
     "metadata": {
      "needs_background": "light"
     },
     "output_type": "display_data"
    }
   ],
   "source": [
    "X_var = 'yoa'\n",
    "\n",
    "col_cost = ['trandb', 'orr', 'anes', 'seq', 'lab', 'dtest', 'ther', 'blood', 'phar',\n",
    "             'psycchrg', 'other', 'patcon', X_var]\n",
    "\n",
    "df_cost = df2.filter(col_cost)\n",
    "\n",
    "mean_cost = df_cost.groupby(X_var).mean().sort_values(by=X_var)\n",
    "#print(mean_cost)\n",
    "ax = mean_cost.plot(kind='area',stacked='true')\n",
    "ax.legend(loc=\"right\", bbox_to_anchor=(1.3, 0.5), ncol=1)\n",
    "plt.show()"
   ]
  },
  {
   "cell_type": "code",
   "execution_count": 30,
   "metadata": {},
   "outputs": [
    {
     "data": {
      "image/png": "[encoded data removed]",
      "text/plain": [
       "<Figure size 432x288 with 1 Axes>"
      ]
     },
     "metadata": {
      "needs_background": "light"
     },
     "output_type": "display_data"
    }
   ],
   "source": [
    "X_var = 'yoa'\n",
    "\n",
    "col_cost = ['trandb', 'orr', 'anes', 'seq', 'lab', 'dtest', 'ther', 'blood', 'phar',\n",
    "             'psycchrg', 'other', 'patcon', X_var]\n",
    "\n",
    "df_cost = df2.filter(col_cost)\n",
    "\n",
    "mean_cost = df_cost.groupby(X_var).mean().sort_values(by=X_var)\n",
    "mean_cost = mean_cost.divide(mean_cost.sum(axis=1),axis=0)\n",
    "#print(mean_cost)\n",
    "ax = mean_cost.plot(kind='area',stacked='true')\n",
    "ax.legend(loc=\"right\", bbox_to_anchor=(1.3, 0.5), ncol=1)\n",
    "plt.show()"
   ]
  },
  {
   "cell_type": "code",
   "execution_count": 31,
   "metadata": {},
   "outputs": [
    {
     "data": {
      "image/png": "[encoded data removed]",
      "text/plain": [
       "<Figure size 432x288 with 1 Axes>"
      ]
     },
     "metadata": {
      "needs_background": "light"
     },
     "output_type": "display_data"
    }
   ],
   "source": [
    "X_var = 'er_mode'\n",
    "\n",
    "col_cost = ['trandb', 'randbg', 'orr', 'anes', 'seq', 'lab', 'dtest', 'ther', 'blood', 'phar',\n",
    "             'psycchrg', 'other', 'patcon', X_var]\n",
    "\n",
    "df_cost = df2.filter(col_cost)\n",
    "\n",
    "mean_cost = df_cost.groupby(X_var).mean()\n",
    "rr = df_cost.groupby(X_var).count()/df_cost.count()\n",
    "ax1 = mean_cost.plot(kind='bar',stacked='true')\n",
    "ax1.legend(loc=\"right\", bbox_to_anchor=(1.3, 0.5), ncol=1)\n",
    "\n",
    "\n",
    "plt.show()"
   ]
  },
  {
   "cell_type": "code",
   "execution_count": 32,
   "metadata": {},
   "outputs": [
    {
     "name": "stdout",
     "output_type": "stream",
     "text": [
      "                 tot\n",
      "yoa                 \n",
      "2005.0  25433.925387\n",
      "2006.0  26814.851565\n",
      "2007.0  26379.792670\n",
      "2008.0  26284.281543\n",
      "2009.0  27318.012126\n",
      "2010.0  28592.420517\n",
      "2011.0  29581.636261\n",
      "2012.0  30888.181742\n",
      "2013.0  32576.318410\n",
      "           tot\n",
      "yoa           \n",
      "2005.0   70671\n",
      "2006.0   71762\n",
      "2007.0   98177\n",
      "2008.0  121786\n",
      "2009.0  123951\n",
      "2010.0  123510\n",
      "2011.0  119891\n",
      "2012.0  115994\n",
      "2013.0  105562\n"
     ]
    },
    {
     "data": {
      "text/plain": [
       "<matplotlib.axes._subplots.AxesSubplot at 0x1ec3e7fe240>"
      ]
     },
     "execution_count": 32,
     "metadata": {},
     "output_type": "execute_result"
    },
    {
     "data": {
      "image/png": "[encoded data removed]",
      "text/plain": [
       "<Figure size 432x288 with 1 Axes>"
      ]
     },
     "metadata": {
      "needs_background": "light"
     },
     "output_type": "display_data"
    },
    {
     "data": {
      "image/png": "[encoded data removed]",
      "text/plain": [
       "<Figure size 432x288 with 1 Axes>"
      ]
     },
     "metadata": {
      "needs_background": "light"
     },
     "output_type": "display_data"
    }
   ],
   "source": [
    "X_var = 'yoa'\n",
    "y_var = 'tot'\n",
    "print(df3.filter([X_var, y_var]).groupby(X_var).mean())\n",
    "df3.filter([X_var, y_var]).groupby(X_var).mean().plot(kind='bar')\n",
    "print(df3.filter([X_var, y_var]).groupby(X_var).count())\n",
    "df3.filter([X_var, y_var]).groupby(X_var).count().plot(kind='bar', color='blue')"
   ]
  },
  {
   "cell_type": "markdown",
   "metadata": {},
   "source": []
  },
  {
   "cell_type": "code",
   "execution_count": null,
   "metadata": {},
   "outputs": [],
   "source": []
  }
 ],
 "metadata": {
  "kernelspec": {
   "display_name": "Python 3",
   "language": "python",
   "name": "python3"
  },
  "language_info": {
   "codemirror_mode": {
    "name": "ipython",
    "version": 3
   },
   "file_extension": ".py",
   "mimetype": "text/x-python",
   "name": "python",
   "nbconvert_exporter": "python",
   "pygments_lexer": "ipython3",
   "version": "3.7.0"
  }
 },
 "nbformat": 4,
 "nbformat_minor": 2
}
