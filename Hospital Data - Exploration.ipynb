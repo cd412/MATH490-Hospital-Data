{
 "cells": [
  {
   "cell_type": "markdown",
   "metadata": {},
   "source": [
    "## Data Exploration"
   ]
  },
  {
   "cell_type": "markdown",
   "metadata": {},
   "source": [
    "Import libraries"
   ]
  },
  {
   "cell_type": "code",
   "execution_count": 2,
   "metadata": {},
   "outputs": [],
   "source": [
    "import numpy as np\n",
    "import pandas as pd\n",
    "import matplotlib.pyplot as plt\n",
    "%matplotlib inline\n",
    "plt.style.use('ggplot')"
   ]
  },
  {
   "cell_type": "markdown",
   "metadata": {},
   "source": [
    "Import dataset"
   ]
  },
  {
   "cell_type": "code",
   "execution_count": 3,
   "metadata": {
    "scrolled": false
   },
   "outputs": [],
   "source": [
    "df1 = pd.read_csv('hdd0313cy.csv', low_memory=False)"
   ]
  },
  {
   "cell_type": "markdown",
   "metadata": {},
   "source": [
    "Remove columns that are not known upon admission. Remove rows that are missing relevant data."
   ]
  },
  {
   "cell_type": "code",
   "execution_count": 4,
   "metadata": {},
   "outputs": [
    {
     "data": {
      "text/plain": [
       "sex         0\n",
       "er_mode     0\n",
       "admtype     0\n",
       "payer       0\n",
       "yoa         0\n",
       "provider    0\n",
       "asource     0\n",
       "moa         0\n",
       "service     0\n",
       "age         0\n",
       "tot         0\n",
       "dtype: int64"
      ]
     },
     "execution_count": 4,
     "metadata": {},
     "output_type": "execute_result"
    }
   ],
   "source": [
    "columns = ['sex', 'er_mode', 'admtype', 'payer', 'yoa',\n",
    "          'pay_yb92', 'provider', 'asource', 'moa',\n",
    "          'service', 'age', 'tot']\n",
    "\n",
    "df2 = df1.filter(columns)\n",
    "df2 = df2[df2.age > 0]\n",
    "df2 = df2[df2.admtype != 4]\n",
    "df2 = df2[df2.tot > 0]\n",
    "df2 = df2[df2.sex <= 2]\n",
    "df2 = df2[False == pd.isna(df2.admtype)]\n",
    "df2 = df2[False == pd.isna(df2.asource)]\n",
    "df2 = df2[False == pd.isna(df2.service)]\n",
    "\n",
    "df2.er_mode = df2.er_mode.fillna(9)\n",
    "\n",
    "df2.isnull().sum()"
   ]
  },
  {
   "cell_type": "markdown",
   "metadata": {},
   "source": [
    "Change datatypes"
   ]
  },
  {
   "cell_type": "code",
   "execution_count": 5,
   "metadata": {},
   "outputs": [
    {
     "name": "stdout",
     "output_type": "stream",
     "text": [
      "sex         float64\n",
      "er_mode     float64\n",
      "admtype     float64\n",
      "payer        object\n",
      "yoa           int64\n",
      "provider      int64\n",
      "asource      object\n",
      "moa           int64\n",
      "service     float64\n",
      "age         float64\n",
      "tot           int64\n",
      "dtype: object\n",
      "\n",
      "\n",
      "sex           int32\n",
      "er_mode     float64\n",
      "admtype     float64\n",
      "payer        object\n",
      "yoa           int64\n",
      "provider      int64\n",
      "asource      object\n",
      "moa           int64\n",
      "service     float64\n",
      "age         float64\n",
      "tot         float64\n",
      "dtype: object\n"
     ]
    }
   ],
   "source": [
    "print(df2.dtypes)\n",
    "df2['sex'] = df2['sex'].astype(int)\n",
    "#df2['er_mode'] = df2['er_mode'].astype(str)\n",
    "#df2['admtype'] = df2['admtype'].astype(str)\n",
    "#df2['payer'] = df2['payer'].astype(str)\n",
    "#df2['provider'] = df2['provider'].astype(str)\n",
    "df2['tot'] = df2['tot'].astype(float)\n",
    "print('\\n')\n",
    "print(df2.dtypes)"
   ]
  },
  {
   "cell_type": "markdown",
   "metadata": {},
   "source": [
    "Edit year of addmission collumn"
   ]
  },
  {
   "cell_type": "code",
   "execution_count": 6,
   "metadata": {},
   "outputs": [
    {
     "name": "stdout",
     "output_type": "stream",
     "text": [
      "0    2003\n",
      "1    2003\n",
      "2    2003\n",
      "3    2003\n",
      "4    2003\n",
      "Name: yoa, dtype: int64\n",
      "0    2\n",
      "1    1\n",
      "2    2\n",
      "3    2\n",
      "4    1\n",
      "Name: moa, dtype: int64\n"
     ]
    }
   ],
   "source": [
    "def getFullYear(y):\n",
    "    if y == 0:\n",
    "        return 2000\n",
    "    elif y < 10:\n",
    "        return int(\"200\"+str(y))\n",
    "    elif y < 25:\n",
    "        return int(\"20\"+str(y))\n",
    "    else:\n",
    "        return int(\"19\"+str(y))\n",
    "\n",
    "\n",
    "df2['yoa'] = df2['yoa'].apply(getFullYear)\n",
    "\n",
    "print(df2['yoa'].head())\n",
    "print(df2['moa'].head())\n"
   ]
  },
  {
   "cell_type": "code",
   "execution_count": 7,
   "metadata": {},
   "outputs": [
    {
     "data": {
      "text/plain": [
       "0    24038\n",
       "1    24037\n",
       "2    24038\n",
       "3    24038\n",
       "4    24037\n",
       "Name: doa, dtype: int64"
      ]
     },
     "execution_count": 7,
     "metadata": {},
     "output_type": "execute_result"
    }
   ],
   "source": [
    "df2['doa'] = df2['yoa'] * 12 + df2['moa']\n",
    "df2['doa'].head()\n"
   ]
  },
  {
   "cell_type": "code",
   "execution_count": 8,
   "metadata": {},
   "outputs": [],
   "source": [
    "columns.append('doa')\n",
    "df3 = df2.filter(columns)"
   ]
  },
  {
   "cell_type": "code",
   "execution_count": 9,
   "metadata": {},
   "outputs": [
    {
     "name": "stdout",
     "output_type": "stream",
     "text": [
      "(1382692, 12)\n",
      "Index(['sex', 'er_mode', 'admtype', 'payer', 'yoa', 'provider', 'asource',\n",
      "       'moa', 'service', 'age', 'tot', 'doa'],\n",
      "      dtype='object')\n",
      "sex           int32\n",
      "er_mode     float64\n",
      "admtype     float64\n",
      "payer        object\n",
      "yoa           int64\n",
      "provider      int64\n",
      "asource      object\n",
      "moa           int64\n",
      "service     float64\n",
      "age         float64\n",
      "tot         float64\n",
      "doa           int64\n",
      "dtype: object\n"
     ]
    },
    {
     "data": {
      "text/html": [
       "<div>\n",
       "<style scoped>\n",
       "    .dataframe tbody tr th:only-of-type {\n",
       "        vertical-align: middle;\n",
       "    }\n",
       "\n",
       "    .dataframe tbody tr th {\n",
       "        vertical-align: top;\n",
       "    }\n",
       "\n",
       "    .dataframe thead th {\n",
       "        text-align: right;\n",
       "    }\n",
       "</style>\n",
       "<table border=\"1\" class=\"dataframe\">\n",
       "  <thead>\n",
       "    <tr style=\"text-align: right;\">\n",
       "      <th></th>\n",
       "      <th>sex</th>\n",
       "      <th>er_mode</th>\n",
       "      <th>admtype</th>\n",
       "      <th>yoa</th>\n",
       "      <th>provider</th>\n",
       "      <th>moa</th>\n",
       "      <th>service</th>\n",
       "      <th>age</th>\n",
       "      <th>tot</th>\n",
       "      <th>doa</th>\n",
       "    </tr>\n",
       "  </thead>\n",
       "  <tbody>\n",
       "    <tr>\n",
       "      <th>count</th>\n",
       "      <td>1.382692e+06</td>\n",
       "      <td>1.382692e+06</td>\n",
       "      <td>1.382692e+06</td>\n",
       "      <td>1.382692e+06</td>\n",
       "      <td>1.382692e+06</td>\n",
       "      <td>1.382692e+06</td>\n",
       "      <td>1.382692e+06</td>\n",
       "      <td>1.382692e+06</td>\n",
       "      <td>1.382692e+06</td>\n",
       "      <td>1.382692e+06</td>\n",
       "    </tr>\n",
       "    <tr>\n",
       "      <th>mean</th>\n",
       "      <td>1.587670e+00</td>\n",
       "      <td>4.114896e+00</td>\n",
       "      <td>1.605658e+00</td>\n",
       "      <td>2.007930e+03</td>\n",
       "      <td>7.207281e+03</td>\n",
       "      <td>6.460066e+00</td>\n",
       "      <td>3.407494e+01</td>\n",
       "      <td>5.575278e+01</td>\n",
       "      <td>2.540182e+04</td>\n",
       "      <td>2.410162e+04</td>\n",
       "    </tr>\n",
       "    <tr>\n",
       "      <th>std</th>\n",
       "      <td>4.922542e-01</td>\n",
       "      <td>4.250072e+00</td>\n",
       "      <td>8.313449e-01</td>\n",
       "      <td>3.122299e+00</td>\n",
       "      <td>4.313955e+00</td>\n",
       "      <td>3.446818e+00</td>\n",
       "      <td>2.398921e+01</td>\n",
       "      <td>2.343017e+01</td>\n",
       "      <td>3.880319e+04</td>\n",
       "      <td>3.758754e+01</td>\n",
       "    </tr>\n",
       "    <tr>\n",
       "      <th>min</th>\n",
       "      <td>1.000000e+00</td>\n",
       "      <td>0.000000e+00</td>\n",
       "      <td>1.000000e+00</td>\n",
       "      <td>2.000000e+03</td>\n",
       "      <td>7.201000e+03</td>\n",
       "      <td>1.000000e+00</td>\n",
       "      <td>0.000000e+00</td>\n",
       "      <td>1.000000e+00</td>\n",
       "      <td>1.000000e+00</td>\n",
       "      <td>2.400700e+04</td>\n",
       "    </tr>\n",
       "    <tr>\n",
       "      <th>25%</th>\n",
       "      <td>1.000000e+00</td>\n",
       "      <td>0.000000e+00</td>\n",
       "      <td>1.000000e+00</td>\n",
       "      <td>2.005000e+03</td>\n",
       "      <td>7.204000e+03</td>\n",
       "      <td>3.000000e+00</td>\n",
       "      <td>1.000000e+01</td>\n",
       "      <td>3.700000e+01</td>\n",
       "      <td>9.307000e+03</td>\n",
       "      <td>2.406900e+04</td>\n",
       "    </tr>\n",
       "    <tr>\n",
       "      <th>50%</th>\n",
       "      <td>2.000000e+00</td>\n",
       "      <td>1.000000e+00</td>\n",
       "      <td>1.000000e+00</td>\n",
       "      <td>2.008000e+03</td>\n",
       "      <td>7.205000e+03</td>\n",
       "      <td>6.000000e+00</td>\n",
       "      <td>3.800000e+01</td>\n",
       "      <td>5.800000e+01</td>\n",
       "      <td>1.568200e+04</td>\n",
       "      <td>2.410100e+04</td>\n",
       "    </tr>\n",
       "    <tr>\n",
       "      <th>75%</th>\n",
       "      <td>2.000000e+00</td>\n",
       "      <td>9.000000e+00</td>\n",
       "      <td>2.000000e+00</td>\n",
       "      <td>2.011000e+03</td>\n",
       "      <td>7.210000e+03</td>\n",
       "      <td>9.000000e+00</td>\n",
       "      <td>4.000000e+01</td>\n",
       "      <td>7.600000e+01</td>\n",
       "      <td>2.804800e+04</td>\n",
       "      <td>2.413400e+04</td>\n",
       "    </tr>\n",
       "    <tr>\n",
       "      <th>max</th>\n",
       "      <td>2.000000e+00</td>\n",
       "      <td>9.000000e+00</td>\n",
       "      <td>9.000000e+00</td>\n",
       "      <td>2.013000e+03</td>\n",
       "      <td>7.216000e+03</td>\n",
       "      <td>1.200000e+01</td>\n",
       "      <td>9.800000e+01</td>\n",
       "      <td>1.240000e+02</td>\n",
       "      <td>4.243255e+06</td>\n",
       "      <td>2.416800e+04</td>\n",
       "    </tr>\n",
       "  </tbody>\n",
       "</table>\n",
       "</div>"
      ],
      "text/plain": [
       "                sex       er_mode       admtype           yoa      provider  \\\n",
       "count  1.382692e+06  1.382692e+06  1.382692e+06  1.382692e+06  1.382692e+06   \n",
       "mean   1.587670e+00  4.114896e+00  1.605658e+00  2.007930e+03  7.207281e+03   \n",
       "std    4.922542e-01  4.250072e+00  8.313449e-01  3.122299e+00  4.313955e+00   \n",
       "min    1.000000e+00  0.000000e+00  1.000000e+00  2.000000e+03  7.201000e+03   \n",
       "25%    1.000000e+00  0.000000e+00  1.000000e+00  2.005000e+03  7.204000e+03   \n",
       "50%    2.000000e+00  1.000000e+00  1.000000e+00  2.008000e+03  7.205000e+03   \n",
       "75%    2.000000e+00  9.000000e+00  2.000000e+00  2.011000e+03  7.210000e+03   \n",
       "max    2.000000e+00  9.000000e+00  9.000000e+00  2.013000e+03  7.216000e+03   \n",
       "\n",
       "                moa       service           age           tot           doa  \n",
       "count  1.382692e+06  1.382692e+06  1.382692e+06  1.382692e+06  1.382692e+06  \n",
       "mean   6.460066e+00  3.407494e+01  5.575278e+01  2.540182e+04  2.410162e+04  \n",
       "std    3.446818e+00  2.398921e+01  2.343017e+01  3.880319e+04  3.758754e+01  \n",
       "min    1.000000e+00  0.000000e+00  1.000000e+00  1.000000e+00  2.400700e+04  \n",
       "25%    3.000000e+00  1.000000e+01  3.700000e+01  9.307000e+03  2.406900e+04  \n",
       "50%    6.000000e+00  3.800000e+01  5.800000e+01  1.568200e+04  2.410100e+04  \n",
       "75%    9.000000e+00  4.000000e+01  7.600000e+01  2.804800e+04  2.413400e+04  \n",
       "max    1.200000e+01  9.800000e+01  1.240000e+02  4.243255e+06  2.416800e+04  "
      ]
     },
     "execution_count": 9,
     "metadata": {},
     "output_type": "execute_result"
    }
   ],
   "source": [
    "print(df3.shape)\n",
    "print(df3.columns)\n",
    "print(df3.dtypes)\n",
    "df3.describe()\n"
   ]
  },
  {
   "cell_type": "code",
   "execution_count": 10,
   "metadata": {},
   "outputs": [],
   "source": [
    "df3.to_csv(\"df3.csv\")"
   ]
  },
  {
   "cell_type": "code",
   "execution_count": 12,
   "metadata": {},
   "outputs": [
    {
     "data": {
      "text/html": [
       "<div>\n",
       "<style scoped>\n",
       "    .dataframe tbody tr th:only-of-type {\n",
       "        vertical-align: middle;\n",
       "    }\n",
       "\n",
       "    .dataframe tbody tr th {\n",
       "        vertical-align: top;\n",
       "    }\n",
       "\n",
       "    .dataframe thead th {\n",
       "        text-align: right;\n",
       "    }\n",
       "</style>\n",
       "<table border=\"1\" class=\"dataframe\">\n",
       "  <thead>\n",
       "    <tr style=\"text-align: right;\">\n",
       "      <th></th>\n",
       "      <th>tot</th>\n",
       "    </tr>\n",
       "    <tr>\n",
       "      <th>age</th>\n",
       "      <th></th>\n",
       "    </tr>\n",
       "  </thead>\n",
       "  <tbody>\n",
       "    <tr>\n",
       "      <th>1.0</th>\n",
       "      <td>15529.309878</td>\n",
       "    </tr>\n",
       "    <tr>\n",
       "      <th>2.0</th>\n",
       "      <td>15605.523799</td>\n",
       "    </tr>\n",
       "    <tr>\n",
       "      <th>3.0</th>\n",
       "      <td>17375.954982</td>\n",
       "    </tr>\n",
       "    <tr>\n",
       "      <th>4.0</th>\n",
       "      <td>17638.219085</td>\n",
       "    </tr>\n",
       "    <tr>\n",
       "      <th>5.0</th>\n",
       "      <td>19780.848837</td>\n",
       "    </tr>\n",
       "  </tbody>\n",
       "</table>\n",
       "</div>"
      ],
      "text/plain": [
       "              tot\n",
       "age              \n",
       "1.0  15529.309878\n",
       "2.0  15605.523799\n",
       "3.0  17375.954982\n",
       "4.0  17638.219085\n",
       "5.0  19780.848837"
      ]
     },
     "execution_count": 12,
     "metadata": {},
     "output_type": "execute_result"
    }
   ],
   "source": [
    "df3.filter(['age', 'tot']).groupby('age').mean().head() ##.plot(kind='bar', x='age', y='tot')"
   ]
  },
  {
   "cell_type": "code",
   "execution_count": 13,
   "metadata": {},
   "outputs": [
    {
     "data": {
      "text/plain": [
       "<matplotlib.axes._subplots.AxesSubplot at 0x1ef015dca58>"
      ]
     },
     "execution_count": 13,
     "metadata": {},
     "output_type": "execute_result"
    },
    {
     "data": {
      "image/png": "[encoded data removed]",
      "text/plain": [
       "<Figure size 432x288 with 1 Axes>"
      ]
     },
     "metadata": {
      "needs_background": "light"
     },
     "output_type": "display_data"
    },
    {
     "data": {
      "image/png": "[encoded data removed]",
      "text/plain": [
       "<Figure size 432x288 with 1 Axes>"
      ]
     },
     "metadata": {
      "needs_background": "light"
     },
     "output_type": "display_data"
    }
   ],
   "source": [
    "df3.filter(['age', 'tot']).groupby('age').mean().plot(kind='line')\n",
    "df3.filter(['age', 'tot']).groupby('age').count().plot(kind='line', color='blue')"
   ]
  },
  {
   "cell_type": "code",
   "execution_count": 14,
   "metadata": {},
   "outputs": [
    {
     "name": "stdout",
     "output_type": "stream",
     "text": [
      "              tot\n",
      "sex              \n",
      "1    28806.845180\n",
      "2    23012.732104\n"
     ]
    },
    {
     "data": {
      "text/plain": [
       "<matplotlib.axes._subplots.AxesSubplot at 0x1ef01749cc0>"
      ]
     },
     "execution_count": 14,
     "metadata": {},
     "output_type": "execute_result"
    },
    {
     "data": {
      "image/png": "[encoded data removed]",
      "text/plain": [
       "<Figure size 432x288 with 1 Axes>"
      ]
     },
     "metadata": {
      "needs_background": "light"
     },
     "output_type": "display_data"
    },
    {
     "data": {
      "image/png": "[encoded data removed]",
      "text/plain": [
       "<Figure size 432x288 with 1 Axes>"
      ]
     },
     "metadata": {
      "needs_background": "light"
     },
     "output_type": "display_data"
    }
   ],
   "source": [
    "print(df2.filter(['sex', 'tot']).groupby('sex').mean().head())\n",
    "df3.filter(['sex', 'tot']).groupby('sex').mean().plot(kind='bar')\n",
    "df3.filter(['sex', 'tot']).groupby('sex').count().plot(kind='bar', color='blue')"
   ]
  },
  {
   "cell_type": "markdown",
   "metadata": {},
   "source": [
    "## Missing Data"
   ]
  },
  {
   "cell_type": "code",
   "execution_count": 15,
   "metadata": {},
   "outputs": [
    {
     "data": {
      "text/plain": [
       "sex         0\n",
       "er_mode     0\n",
       "admtype     0\n",
       "payer       0\n",
       "yoa         0\n",
       "provider    0\n",
       "asource     0\n",
       "moa         0\n",
       "service     0\n",
       "age         0\n",
       "tot         0\n",
       "doa         0\n",
       "dtype: int64"
      ]
     },
     "execution_count": 15,
     "metadata": {},
     "output_type": "execute_result"
    }
   ],
   "source": [
    "df3.isnull().sum()"
   ]
  },
  {
   "cell_type": "code",
   "execution_count": 16,
   "metadata": {},
   "outputs": [
    {
     "name": "stdout",
     "output_type": "stream",
     "text": [
      "                  tot\n",
      "service              \n",
      "0.0      48108.694467\n",
      "2.0      12812.798687\n",
      "10.0     21223.485259\n",
      "22.0     18479.482991\n",
      "38.0     20023.935896\n",
      "40.0     41854.356772\n",
      "48.0     24001.638997\n",
      "50.0     17015.103448\n",
      "54.0     18583.288294\n",
      "58.0     31213.263220\n",
      "62.0     21417.909671\n",
      "70.0     19579.836188\n",
      "75.0     10335.406667\n",
      "76.0      9876.993696\n",
      "77.0     13434.072322\n",
      "80.0     21186.279412\n",
      "98.0     31349.895106\n",
      "            tot\n",
      "service        \n",
      "0.0       11187\n",
      "2.0       14018\n",
      "10.0     521789\n",
      "22.0      56293\n",
      "38.0     148853\n",
      "40.0     294140\n",
      "48.0       4349\n",
      "50.0       2494\n",
      "54.0       1495\n",
      "58.0     100509\n",
      "62.0      36212\n",
      "70.0      30596\n",
      "75.0        300\n",
      "76.0       6504\n",
      "77.0     144037\n",
      "80.0         68\n",
      "98.0       9848\n"
     ]
    },
    {
     "data": {
      "text/plain": [
       "<matplotlib.axes._subplots.AxesSubplot at 0x1ef068bd0f0>"
      ]
     },
     "execution_count": 16,
     "metadata": {},
     "output_type": "execute_result"
    },
    {
     "data": {
      "image/png": "[encoded data removed]",
      "text/plain": [
       "<Figure size 432x288 with 1 Axes>"
      ]
     },
     "metadata": {
      "needs_background": "light"
     },
     "output_type": "display_data"
    },
    {
     "data": {
      "image/png": "[encoded data removed]",
      "text/plain": [
       "<Figure size 432x288 with 1 Axes>"
      ]
     },
     "metadata": {
      "needs_background": "light"
     },
     "output_type": "display_data"
    }
   ],
   "source": [
    "var = 'service'\n",
    "print(df3.filter([var, 'tot']).groupby(var).mean())\n",
    "df3.filter([var, 'tot']).groupby(var).mean().plot(kind='bar')\n",
    "print(df3.filter([var, 'tot']).groupby(var).count())\n",
    "df3.filter([var, 'tot']).groupby(var).count().plot(kind='bar', color='blue')"
   ]
  },
  {
   "cell_type": "markdown",
   "metadata": {},
   "source": []
  }
 ],
 "metadata": {
  "kernelspec": {
   "display_name": "Python 3",
   "language": "python",
   "name": "python3"
  },
  "language_info": {
   "codemirror_mode": {
    "name": "ipython",
    "version": 3
   },
   "file_extension": ".py",
   "mimetype": "text/x-python",
   "name": "python",
   "nbconvert_exporter": "python",
   "pygments_lexer": "ipython3",
   "version": "3.7.0"
  }
 },
 "nbformat": 4,
 "nbformat_minor": 2
}
