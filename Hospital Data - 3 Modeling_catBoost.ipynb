{
 "cells": [
  {
   "cell_type": "code",
   "execution_count": 1,
   "metadata": {},
   "outputs": [],
   "source": [
    "import numpy as np\n",
    "import pandas as pd\n",
    "import matplotlib.pyplot as plt\n",
    "from pprint import pprint\n",
    "import seaborn as sns\n",
    "%matplotlib inline\n",
    "plt.style.use('ggplot')\n",
    "import matplotlib.ticker as mtick\n",
    "IMG_PATH = 'C:\\\\Users\\\\student\\\\Documents\\\\Bryant\\\\4_Senior\\\\MATH 490 - Capstone\\\\Presentation\\\\'"
   ]
  },
  {
   "cell_type": "code",
   "execution_count": 2,
   "metadata": {},
   "outputs": [],
   "source": [
    "# Play a been when the champion model is beat\n",
    "CHAMPION_SCORE = 0\n",
    "import winsound\n",
    "def chicken_dinner():\n",
    "    winsound.Beep(2500, 50)"
   ]
  },
  {
   "cell_type": "markdown",
   "metadata": {},
   "source": [
    "Import dataset"
   ]
  },
  {
   "cell_type": "code",
   "execution_count": 3,
   "metadata": {},
   "outputs": [],
   "source": [
    "dtype = {'admtype': 'int8',\n",
    " 'age': 'float16',\n",
    " 'asource': 'category',\n",
    " 'campus': 'category',\n",
    " 'diag_adm': 'category',\n",
    " 'diag_cat3': 'category',\n",
    " 'diag_cat4': 'category',\n",
    " 'er_mode': 'int8',\n",
    " 'moa': 'int8',\n",
    " 'pay_ub92': 'int8',\n",
    " 'provider': 'int8',\n",
    " 'pt_state': 'category',\n",
    " 'race': 'int8',\n",
    " 'sex': 'int8',\n",
    " 'tot': 'float64',\n",
    " 'yoa': 'int8'}"
   ]
  },
  {
   "cell_type": "code",
   "execution_count": 4,
   "metadata": {
    "scrolled": true
   },
   "outputs": [],
   "source": [
    "#df0 = pd.read_csv('df_sample_cleansed2.csv', dtype=dtype, low_memory=False)\n",
    "df0_full = pd.read_csv('df_cleansed2.csv', dtype=dtype, low_memory=False)\n",
    "#df3 = pd.read_csv('df_sample_coded.csv', low_memory=False)\n",
    "#df3 = pd.read_csv('df_binary.csv', low_memory=False)\n",
    "#df3 = pd.read_csv('df3_arrival.csv', low_memory=False)"
   ]
  },
  {
   "cell_type": "code",
   "execution_count": 5,
   "metadata": {},
   "outputs": [
    {
     "data": {
      "text/html": [
       "<div>\n",
       "<style scoped>\n",
       "    .dataframe tbody tr th:only-of-type {\n",
       "        vertical-align: middle;\n",
       "    }\n",
       "\n",
       "    .dataframe tbody tr th {\n",
       "        vertical-align: top;\n",
       "    }\n",
       "\n",
       "    .dataframe thead th {\n",
       "        text-align: right;\n",
       "    }\n",
       "</style>\n",
       "<table border=\"1\" class=\"dataframe\">\n",
       "  <thead>\n",
       "    <tr style=\"text-align: right;\">\n",
       "      <th></th>\n",
       "      <th>pay_ub92</th>\n",
       "      <th>age</th>\n",
       "      <th>sex</th>\n",
       "      <th>provider</th>\n",
       "      <th>moa</th>\n",
       "      <th>yoa</th>\n",
       "      <th>admtype</th>\n",
       "      <th>asource</th>\n",
       "      <th>tot</th>\n",
       "      <th>pt_state</th>\n",
       "      <th>diag_adm</th>\n",
       "      <th>campus</th>\n",
       "      <th>er_mode</th>\n",
       "      <th>race</th>\n",
       "      <th>diag_cat3</th>\n",
       "      <th>diag_cat4</th>\n",
       "    </tr>\n",
       "  </thead>\n",
       "  <tbody>\n",
       "    <tr>\n",
       "      <th>0</th>\n",
       "      <td>6</td>\n",
       "      <td>87.0</td>\n",
       "      <td>2</td>\n",
       "      <td>10</td>\n",
       "      <td>2</td>\n",
       "      <td>5</td>\n",
       "      <td>1</td>\n",
       "      <td>7</td>\n",
       "      <td>3412.0</td>\n",
       "      <td>RI</td>\n",
       "      <td>486</td>\n",
       "      <td>0</td>\n",
       "      <td>0</td>\n",
       "      <td>1</td>\n",
       "      <td>486</td>\n",
       "      <td>486</td>\n",
       "    </tr>\n",
       "    <tr>\n",
       "      <th>1</th>\n",
       "      <td>6</td>\n",
       "      <td>38.0</td>\n",
       "      <td>1</td>\n",
       "      <td>10</td>\n",
       "      <td>2</td>\n",
       "      <td>5</td>\n",
       "      <td>1</td>\n",
       "      <td>7</td>\n",
       "      <td>4132.0</td>\n",
       "      <td>RI</td>\n",
       "      <td>5128</td>\n",
       "      <td>0</td>\n",
       "      <td>0</td>\n",
       "      <td>1</td>\n",
       "      <td>512</td>\n",
       "      <td>5128</td>\n",
       "    </tr>\n",
       "    <tr>\n",
       "      <th>2</th>\n",
       "      <td>6</td>\n",
       "      <td>22.0</td>\n",
       "      <td>2</td>\n",
       "      <td>10</td>\n",
       "      <td>2</td>\n",
       "      <td>5</td>\n",
       "      <td>1</td>\n",
       "      <td>9</td>\n",
       "      <td>12583.0</td>\n",
       "      <td>RI</td>\n",
       "      <td>29650</td>\n",
       "      <td>0</td>\n",
       "      <td>0</td>\n",
       "      <td>1</td>\n",
       "      <td>296</td>\n",
       "      <td>2965</td>\n",
       "    </tr>\n",
       "    <tr>\n",
       "      <th>3</th>\n",
       "      <td>6</td>\n",
       "      <td>45.0</td>\n",
       "      <td>2</td>\n",
       "      <td>10</td>\n",
       "      <td>1</td>\n",
       "      <td>5</td>\n",
       "      <td>1</td>\n",
       "      <td>7</td>\n",
       "      <td>17462.0</td>\n",
       "      <td>RI</td>\n",
       "      <td>7850</td>\n",
       "      <td>0</td>\n",
       "      <td>0</td>\n",
       "      <td>1</td>\n",
       "      <td>785</td>\n",
       "      <td>7850</td>\n",
       "    </tr>\n",
       "    <tr>\n",
       "      <th>4</th>\n",
       "      <td>6</td>\n",
       "      <td>26.0</td>\n",
       "      <td>2</td>\n",
       "      <td>10</td>\n",
       "      <td>1</td>\n",
       "      <td>5</td>\n",
       "      <td>2</td>\n",
       "      <td>1</td>\n",
       "      <td>10357.0</td>\n",
       "      <td>RI</td>\n",
       "      <td>650</td>\n",
       "      <td>0</td>\n",
       "      <td>0</td>\n",
       "      <td>9</td>\n",
       "      <td>650</td>\n",
       "      <td>650</td>\n",
       "    </tr>\n",
       "  </tbody>\n",
       "</table>\n",
       "</div>"
      ],
      "text/plain": [
       "   pay_ub92   age  sex  provider  moa  yoa  admtype asource      tot pt_state  \\\n",
       "0         6  87.0    2        10    2    5        1       7   3412.0       RI   \n",
       "1         6  38.0    1        10    2    5        1       7   4132.0       RI   \n",
       "2         6  22.0    2        10    2    5        1       9  12583.0       RI   \n",
       "3         6  45.0    2        10    1    5        1       7  17462.0       RI   \n",
       "4         6  26.0    2        10    1    5        2       1  10357.0       RI   \n",
       "\n",
       "  diag_adm campus  er_mode  race diag_cat3 diag_cat4  \n",
       "0      486      0        0     1       486       486  \n",
       "1     5128      0        0     1       512      5128  \n",
       "2    29650      0        0     1       296      2965  \n",
       "3     7850      0        0     1       785      7850  \n",
       "4      650      0        0     9       650       650  "
      ]
     },
     "execution_count": 5,
     "metadata": {},
     "output_type": "execute_result"
    }
   ],
   "source": [
    "df0_full.head()"
   ]
  },
  {
   "cell_type": "code",
   "execution_count": 6,
   "metadata": {
    "scrolled": true
   },
   "outputs": [
    {
     "name": "stdout",
     "output_type": "stream",
     "text": [
      "<class 'pandas.core.frame.DataFrame'>\n",
      "RangeIndex: 972363 entries, 0 to 972362\n",
      "Data columns (total 16 columns):\n",
      "pay_ub92     972363 non-null int8\n",
      "age          972363 non-null float16\n",
      "sex          972363 non-null int8\n",
      "provider     972363 non-null int8\n",
      "moa          972363 non-null int8\n",
      "yoa          972363 non-null int8\n",
      "admtype      972363 non-null int8\n",
      "asource      972363 non-null category\n",
      "tot          972363 non-null float64\n",
      "pt_state     972363 non-null category\n",
      "diag_adm     972363 non-null category\n",
      "campus       972363 non-null category\n",
      "er_mode      972363 non-null int8\n",
      "race         972363 non-null int8\n",
      "diag_cat3    972363 non-null category\n",
      "diag_cat4    972363 non-null category\n",
      "dtypes: category(6), float16(1), float64(1), int8(8)\n",
      "memory usage: 25.5 MB\n"
     ]
    }
   ],
   "source": [
    "df0_full.info()"
   ]
  },
  {
   "cell_type": "markdown",
   "metadata": {},
   "source": [
    "## Transform Data"
   ]
  },
  {
   "cell_type": "code",
   "execution_count": 7,
   "metadata": {},
   "outputs": [],
   "source": [
    "df1 = df0_full.copy()"
   ]
  },
  {
   "cell_type": "code",
   "execution_count": 8,
   "metadata": {},
   "outputs": [],
   "source": [
    "#months = pd.DataFrame(columns=['winter', 'spring', 'summer', 'fall'], index=df0.index)"
   ]
  },
  {
   "cell_type": "code",
   "execution_count": 9,
   "metadata": {},
   "outputs": [],
   "source": [
    "#months.winter = df0.moa.isin([12, 1, 2])\n",
    "#months.spring = df0.moa.isin([3, 4, 5])\n",
    "#months.summer = df0.moa.isin([6, 7, 8])\n",
    "#months.fall = df0.moa.isin([9, 10, 11])"
   ]
  },
  {
   "cell_type": "code",
   "execution_count": 10,
   "metadata": {},
   "outputs": [],
   "source": [
    "seasons = {12: 'winter', 1: 'winter', 2: 'winter',\n",
    "           3: 'spring', 4: 'spring', 5: 'spring',\n",
    "           6: 'summer', 7: 'summer', 8: 'summer',\n",
    "           9: 'fall', 10: 'fall', 11: 'fall'}"
   ]
  },
  {
   "cell_type": "code",
   "execution_count": 11,
   "metadata": {},
   "outputs": [],
   "source": [
    "df1['moa'] = df1['moa'].map(seasons).astype('category')"
   ]
  },
  {
   "cell_type": "code",
   "execution_count": 12,
   "metadata": {},
   "outputs": [
    {
     "data": {
      "text/plain": [
       "0    winter\n",
       "1    winter\n",
       "2    winter\n",
       "3    winter\n",
       "4    winter\n",
       "Name: moa, dtype: category\n",
       "Categories (4, object): [fall, spring, summer, winter]"
      ]
     },
     "execution_count": 12,
     "metadata": {},
     "output_type": "execute_result"
    }
   ],
   "source": [
    "df1['moa'].head()"
   ]
  },
  {
   "cell_type": "markdown",
   "metadata": {},
   "source": [
    "## Split data set into Train and Test"
   ]
  },
  {
   "cell_type": "code",
   "execution_count": 13,
   "metadata": {},
   "outputs": [],
   "source": [
    "train_index = pd.read_csv(\"Train_Index.csv\")\n",
    "test_index = pd.read_csv(\"Test_Index.csv\")"
   ]
  },
  {
   "cell_type": "code",
   "execution_count": 14,
   "metadata": {
    "scrolled": true
   },
   "outputs": [],
   "source": [
    "train0 = df1.loc[train_index['0']]"
   ]
  },
  {
   "cell_type": "code",
   "execution_count": 15,
   "metadata": {
    "scrolled": true
   },
   "outputs": [],
   "source": [
    "test0 = df1.loc[test_index['0']]"
   ]
  },
  {
   "cell_type": "code",
   "execution_count": 16,
   "metadata": {},
   "outputs": [],
   "source": [
    "#X_train = train.drop(columns=['tot'])\n",
    "#X_test = test.drop(columns=['tot'])\n",
    "#y_train = train.tot.astype(float)\n",
    "#y_test = test.tot.astype(float)"
   ]
  },
  {
   "cell_type": "code",
   "execution_count": 17,
   "metadata": {},
   "outputs": [],
   "source": [
    "#X_train.shape"
   ]
  },
  {
   "cell_type": "code",
   "execution_count": 18,
   "metadata": {},
   "outputs": [],
   "source": [
    "#X_test.shape"
   ]
  },
  {
   "cell_type": "code",
   "execution_count": 19,
   "metadata": {},
   "outputs": [
    {
     "data": {
      "text/plain": [
       "(968362, 16)"
      ]
     },
     "execution_count": 19,
     "metadata": {},
     "output_type": "execute_result"
    }
   ],
   "source": [
    "train0.shape"
   ]
  },
  {
   "cell_type": "markdown",
   "metadata": {},
   "source": [
    "## Impute and Transform Values"
   ]
  },
  {
   "cell_type": "code",
   "execution_count": 20,
   "metadata": {},
   "outputs": [],
   "source": [
    "def simplify_state(df):\n",
    "    \"\"\"Group states\"\"\"\n",
    "    state_codes = ['RI', 'MA', 'NY', 'FL', '9']\n",
    "    df.pt_state = df.pt_state.cat.set_categories(state_codes)\n",
    "    df.pt_state = df.pt_state.fillna('9')\n",
    "    return df"
   ]
  },
  {
   "cell_type": "code",
   "execution_count": 21,
   "metadata": {},
   "outputs": [],
   "source": [
    "def simplify_age(df):\n",
    "    \"\"\"Reduce ages over 100 to 100\"\"\"\n",
    "    df.age = df.age.where(df.age < 100, other=100)\n",
    "    return df"
   ]
  },
  {
   "cell_type": "code",
   "execution_count": 22,
   "metadata": {},
   "outputs": [],
   "source": [
    "def simplify_moa(df):\n",
    "    \"\"\"Group month of arrival to seasons\"\"\"\n",
    "    seasons = {12: 'winter', 1: 'winter', 2: 'winter',\n",
    "           3: 'spring', 4: 'spring', 5: 'spring',\n",
    "           6: 'summer', 7: 'summer', 8: 'summer',\n",
    "           9: 'fall', 10: 'fall', 11: 'fall'}\n",
    "    return df"
   ]
  },
  {
   "cell_type": "code",
   "execution_count": 23,
   "metadata": {},
   "outputs": [],
   "source": [
    "def drop_columns(df):\n",
    "    \"\"\"Drop unnessary columns\"\"\"\n",
    "    columns = ['diag_cat4']\n",
    "    df = df.drop(columns, axis=\"columns\")\n",
    "    return df"
   ]
  },
  {
   "cell_type": "code",
   "execution_count": 24,
   "metadata": {},
   "outputs": [],
   "source": [
    "def transform_features(df):\n",
    "    \"\"\"Execute transformations\"\"\"\n",
    "    df = simplify_state(df)\n",
    "    df = simplify_age(df)\n",
    "    df = simplify_moa(df)\n",
    "    df = drop_columns(df)\n",
    "    #df = transform_target(df)\n",
    "    return df"
   ]
  },
  {
   "cell_type": "code",
   "execution_count": 25,
   "metadata": {},
   "outputs": [],
   "source": [
    "train = transform_features(train0)"
   ]
  },
  {
   "cell_type": "code",
   "execution_count": 26,
   "metadata": {},
   "outputs": [],
   "source": [
    "train = transform_features(test0)"
   ]
  },
  {
   "cell_type": "code",
   "execution_count": 31,
   "metadata": {},
   "outputs": [
    {
     "data": {
      "text/plain": [
       "(4000, 15)"
      ]
     },
     "execution_count": 31,
     "metadata": {},
     "output_type": "execute_result"
    }
   ],
   "source": [
    "train.shape"
   ]
  },
  {
   "cell_type": "markdown",
   "metadata": {},
   "source": [
    "## Balance Sample"
   ]
  },
  {
   "cell_type": "markdown",
   "metadata": {},
   "source": [
    "Sampling parameters"
   ]
  },
  {
   "cell_type": "code",
   "execution_count": 27,
   "metadata": {},
   "outputs": [],
   "source": [
    "bins = [0, 5000, 10000, 15000, 20000, 25000, 30000]"
   ]
  },
  {
   "cell_type": "code",
   "execution_count": 35,
   "metadata": {},
   "outputs": [],
   "source": [
    "size = [10000] * 6"
   ]
  },
  {
   "cell_type": "markdown",
   "metadata": {},
   "source": [
    "Graph"
   ]
  },
  {
   "cell_type": "code",
   "execution_count": 36,
   "metadata": {},
   "outputs": [
    {
     "data": {
      "text/plain": [
       "[<matplotlib.lines.Line2D at 0x23981f13a58>]"
      ]
     },
     "execution_count": 36,
     "metadata": {},
     "output_type": "execute_result"
    },
    {
     "data": {
      "image/png": "[encoded data removed]",
      "text/plain": [
       "<Figure size 432x288 with 1 Axes>"
      ]
     },
     "metadata": {
      "needs_background": "light"
     },
     "output_type": "display_data"
    }
   ],
   "source": [
    "train['tot'].hist(bins=bins)\n",
    "x = np.linspace(0, 30000, 2)\n",
    "plt.gca().plot(x, [size[0]]*len(x))"
   ]
  },
  {
   "cell_type": "code",
   "execution_count": null,
   "metadata": {},
   "outputs": [],
   "source": [
    "#s1 = np.random.choice(train[(train['tot'] > 0) & (train['tot'] <= 10000)].index, size=size[0], replace=False)\n",
    "#s2 = np.random.choice(train[(train['tot'] > 10000) & (train['tot'] <= 20000)].index, size=size[1], replace=False)\n",
    "#s3 = np.random.choice(train[(train['tot'] > 20000) & (train['tot'] <= 30000)].index, size=size[2], replace=True)\n",
    "#s = np.concatenate((s1, s2, s3))\n",
    "#s\n",
    "#len(s)"
   ]
  },
  {
   "cell_type": "code",
   "execution_count": null,
   "metadata": {},
   "outputs": [],
   "source": [
    "s = np.array([])\n",
    "for i in range(len(bins) - 1):\n",
    "    d = train[(train['tot'] > bins[i]) & (train['tot'] <= bins[i+1])]\n",
    "    sb = np.random.choice(d.index, size=size[i], replace=size[i] > len(d))\n",
    "    s = np.concatenate((s, sb))\n",
    "    print(len(s))"
   ]
  },
  {
   "cell_type": "code",
   "execution_count": null,
   "metadata": {},
   "outputs": [],
   "source": [
    "train_balanced = train.loc[s]"
   ]
  },
  {
   "cell_type": "code",
   "execution_count": null,
   "metadata": {},
   "outputs": [],
   "source": [
    "train_balanced['tot'].hist(bins=bins)\n",
    "x = np.linspace(0, 30000, 2)\n",
    "plt.gca().plot(x, [size[0]]*len(x))"
   ]
  },
  {
   "cell_type": "code",
   "execution_count": null,
   "metadata": {},
   "outputs": [],
   "source": [
    "## Sub sample for laptop"
   ]
  },
  {
   "cell_type": "code",
   "execution_count": null,
   "metadata": {},
   "outputs": [],
   "source": [
    "train_balanced2 = train_balanced.copy(deep=True)"
   ]
  },
  {
   "cell_type": "code",
   "execution_count": null,
   "metadata": {},
   "outputs": [],
   "source": [
    "train_balanced2.index = range(len(train_balanced2))\n",
    "\n",
    "i = np.random.choice(train_balanced2.index, size=16000, replace=False)\n",
    "train_balanced_sample = train_balanced2.loc[i]"
   ]
  },
  {
   "cell_type": "code",
   "execution_count": null,
   "metadata": {},
   "outputs": [],
   "source": [
    "# verify it is balanced\n",
    "train_balanced_sample['tot'].hist(bins=bins)\n",
    "x = np.linspace(0, 30000, 2)\n",
    "#plt.gca().plot(x, [300000]*len(x))"
   ]
  },
  {
   "cell_type": "code",
   "execution_count": null,
   "metadata": {},
   "outputs": [],
   "source": []
  },
  {
   "cell_type": "code",
   "execution_count": null,
   "metadata": {},
   "outputs": [],
   "source": []
  },
  {
   "cell_type": "code",
   "execution_count": null,
   "metadata": {},
   "outputs": [],
   "source": [
    "X_train = train_balanced_sample.drop(columns=['tot'])\n",
    "X_test = test.drop(columns=['tot'])\n",
    "y_train = train_balanced_sample.tot.astype(float)\n",
    "y_test = test.tot.astype(float)"
   ]
  },
  {
   "cell_type": "code",
   "execution_count": null,
   "metadata": {},
   "outputs": [],
   "source": [
    "X_train.shape"
   ]
  },
  {
   "cell_type": "code",
   "execution_count": null,
   "metadata": {},
   "outputs": [],
   "source": [
    "X_train.columns"
   ]
  },
  {
   "cell_type": "code",
   "execution_count": null,
   "metadata": {},
   "outputs": [],
   "source": []
  },
  {
   "cell_type": "markdown",
   "metadata": {},
   "source": [
    "## Model Testing"
   ]
  },
  {
   "cell_type": "code",
   "execution_count": null,
   "metadata": {},
   "outputs": [],
   "source": [
    "from catboost import Pool, CatBoostRegressor"
   ]
  },
  {
   "cell_type": "code",
   "execution_count": null,
   "metadata": {},
   "outputs": [],
   "source": [
    "from sklearn.metrics import mean_squared_error\n",
    "from sklearn.metrics import r2_score"
   ]
  },
  {
   "cell_type": "code",
   "execution_count": null,
   "metadata": {},
   "outputs": [],
   "source": [
    "# initialize Pool\n",
    "cat_features = [0, 2, 3, 4, 6, 7]\n",
    "cat_features.extend(range(8, len(X_train.columns)))\n",
    "print(cat_features)\n",
    "print(X_train.columns[cat_features])"
   ]
  },
  {
   "cell_type": "code",
   "execution_count": null,
   "metadata": {},
   "outputs": [],
   "source": [
    "train_pool = Pool(X_train, y_train, cat_features=cat_features)\n",
    "test_pool = Pool(X_test, cat_features=cat_features) "
   ]
  },
  {
   "cell_type": "code",
   "execution_count": null,
   "metadata": {
    "scrolled": true
   },
   "outputs": [],
   "source": [
    "# specify the training parameters \n",
    "#model = CatBoostRegressor(iterations=2, depth=2, learning_rate=1, loss_function='RMSE')\n",
    "model = CatBoostRegressor(iterations=10, loss_function='RMSE')\n",
    "#train the model\n",
    "model.fit(train_pool)\n",
    "# make the prediction using the resulting model\n",
    "predicted = model.predict(test_pool)\n",
    "#print(preds)"
   ]
  },
  {
   "cell_type": "code",
   "execution_count": null,
   "metadata": {},
   "outputs": [],
   "source": [
    "## Make this a function\n",
    "fi = model.get_feature_importance()\n",
    "for i in range(len(X_train.columns)):\n",
    "    print(X_train.columns[i], '\\t', fi[i])"
   ]
  },
  {
   "cell_type": "code",
   "execution_count": null,
   "metadata": {},
   "outputs": [],
   "source": [
    "# Play a been when the champion model is beat\n",
    "CHAMPION_SCORE = 0\n",
    "import winsound\n",
    "def chicken_dinner():\n",
    "    winsound.Beep(2500, 50)"
   ]
  },
  {
   "cell_type": "code",
   "execution_count": null,
   "metadata": {},
   "outputs": [],
   "source": [
    "def get_champion_score(score):\n",
    "    global CHAMPION_SCORE\n",
    "    if score > CHAMPION_SCORE:\n",
    "        chicken_dinner()\n",
    "        CHAMPION_SCORE = score\n",
    "        print(\"New champion score!\", score)\n",
    "    else:\n",
    "        print(\"Score to beat\", CHAMPION_SCORE)"
   ]
  },
  {
   "cell_type": "code",
   "execution_count": null,
   "metadata": {},
   "outputs": [],
   "source": [
    "def score_model(train_predicted, test_predicted, y_train, y_test):\n",
    "    rmse_train = mean_squared_error(y_train, train_predicted)**.5\n",
    "    rmse_test = mean_squared_error(y_test, test_predicted)**.5\n",
    "    r2_train = r2_score(y_train, train_predicted)\n",
    "    r2_test = r2_score(y_test, test_predicted)\n",
    "    print(\"Train RMSE:\\t{}\".format(rmse_train))\n",
    "    print(\"Test RMSE:\\t{}\".format(rmse_test))\n",
    "    print(\"Train r2:\\t{}\".format(r2_train))\n",
    "    print(\"Test r2:\\t{}\".format(r2_test))\n",
    "    get_champion_score(r2_test)\n",
    "    return r2_test"
   ]
  },
  {
   "cell_type": "code",
   "execution_count": null,
   "metadata": {},
   "outputs": [],
   "source": [
    "def fit_model(params, cat_features=cat_features, X_train=X_train, X_test=X_test, y_train=y_train, y_test=y_test):\n",
    "    train_pool = Pool(X_train, y_train, cat_features=cat_features)\n",
    "    test_pool = Pool(X_test, cat_features=cat_features)\n",
    "    model = CatBoostRegressor(**params)\n",
    "    \n",
    "    #train the model\n",
    "    model.fit(train_pool)\n",
    "    \n",
    "    # make the prediction using the resulting model\n",
    "    train_predicted = model.predict(train_pool)\n",
    "    test_predicted = model.predict(test_pool)\n",
    "    \n",
    "    metric = score_model(train_predicted, test_predicted, y_train, y_test)\n",
    "    \n",
    "    return model, metric"
   ]
  },
  {
   "cell_type": "code",
   "execution_count": null,
   "metadata": {},
   "outputs": [],
   "source": [
    "models = {}"
   ]
  },
  {
   "cell_type": "code",
   "execution_count": null,
   "metadata": {},
   "outputs": [],
   "source": [
    "data_set_name = '6 bins/ s=10000'"
   ]
  },
  {
   "cell_type": "code",
   "execution_count": null,
   "metadata": {
    "scrolled": true
   },
   "outputs": [],
   "source": [
    "m, s = fit_model({'iterations': 100})\n",
    "model_name = '{} 100 iter'.format(data_set_name)\n",
    "models[model_name] = m, s"
   ]
  },
  {
   "cell_type": "code",
   "execution_count": null,
   "metadata": {
    "scrolled": true
   },
   "outputs": [],
   "source": [
    "m, s = fit_model({'iterations': 100, 'depth': 2})\n",
    "model_name = '{} 100 iter 2 depth'.format(data_set_name)\n",
    "models[model_name] = m, s"
   ]
  },
  {
   "cell_type": "code",
   "execution_count": null,
   "metadata": {
    "scrolled": true
   },
   "outputs": [],
   "source": [
    "m, s = fit_model({'iterations': 1000})\n",
    "model_name = '{} 1000 iter'.format(data_set_name)\n",
    "models[model_name] = m, s"
   ]
  },
  {
   "cell_type": "code",
   "execution_count": null,
   "metadata": {
    "scrolled": true
   },
   "outputs": [],
   "source": [
    "m, s = fit_model({'iterations': 1000, 'bootstrap_type': 'No'})\n",
    "model_name = '{} 1000 iter'.format(data_set_name)\n",
    "models[model_name] = m, s"
   ]
  },
  {
   "cell_type": "code",
   "execution_count": null,
   "metadata": {
    "scrolled": true
   },
   "outputs": [],
   "source": [
    "m, s = fit_model({'iterations': 500, 'bootstrap_type': 'No'})\n",
    "model_name = '{} 500 iter, bootstrap=No'.format(data_set_name)\n",
    "models[model_name] = m, s"
   ]
  },
  {
   "cell_type": "markdown",
   "metadata": {},
   "source": [
    "## Residual Plot"
   ]
  },
  {
   "cell_type": "code",
   "execution_count": null,
   "metadata": {},
   "outputs": [],
   "source": [
    "def res_plot(model, y_test):\n",
    "    test_predicted = models[model][0].predict(test_pool)\n",
    "    \n",
    "    df_residuals = pd.DataFrame(columns=['predicted', 'actual'])\n",
    "    df_residuals['predicted'] = test_predicted\n",
    "    df_residuals['actual'] = y_test.reset_index()['tot']\n",
    "\n",
    "    fig, ax = plt.subplots()\n",
    "\n",
    "    # plot residual heat map\n",
    "    df_residuals.plot(kind='hexbin', x='predicted', y='actual', gridsize=15, sharex=False, xlim=(0,30000), ax=ax)\n",
    "\n",
    "    # now plot the identiy line\n",
    "    ax.plot([0, 30000], [0, 30000], 'k-', alpha=.75)\n",
    "\n",
    "    # format\n",
    "    ax.xaxis.set_major_formatter(mtick.StrMethodFormatter('${x:,.0f}'))\n",
    "    ax.yaxis.set_major_formatter(mtick.StrMethodFormatter('${x:,.0f}'))\n",
    "    ax.set_title(\"Residual Plot\")\n",
    "    ax.set_xlabel(\"Predicted\")\n",
    "    ax.set_ylabel(\"Actual\")\n",
    "    ax.grid(None)\n",
    "    plt.tight_layout(pad=0.4, w_pad=0.5, h_pad=1.0)\n",
    "    #fig.savefig(IMG_PATH + 'Residual.png', dpi=300)\n",
    "    \n",
    "    g = sns.jointplot(\"predicted\", \"actual\", data=df_residuals, kind=\"reg\",\n",
    "                  xlim=(0, 30000), ylim=(0, 30000), color=\"m\", height=7)"
   ]
  },
  {
   "cell_type": "code",
   "execution_count": null,
   "metadata": {},
   "outputs": [],
   "source": [
    "pprint(models)"
   ]
  },
  {
   "cell_type": "code",
   "execution_count": null,
   "metadata": {},
   "outputs": [],
   "source": [
    "res_plot('6 bins/ s=10000 100 iter', y_test)"
   ]
  },
  {
   "cell_type": "code",
   "execution_count": null,
   "metadata": {},
   "outputs": [],
   "source": [
    "res_plot('6 bins/ s=10000 1000 iter', y_test)"
   ]
  },
  {
   "cell_type": "code",
   "execution_count": null,
   "metadata": {},
   "outputs": [],
   "source": []
  }
 ],
 "metadata": {
  "kernelspec": {
   "display_name": "Python 3",
   "language": "python",
   "name": "python3"
  },
  "language_info": {
   "codemirror_mode": {
    "name": "ipython",
    "version": 3
   },
   "file_extension": ".py",
   "mimetype": "text/x-python",
   "name": "python",
   "nbconvert_exporter": "python",
   "pygments_lexer": "ipython3",
   "version": "3.7.0"
  }
 },
 "nbformat": 4,
 "nbformat_minor": 2
}
