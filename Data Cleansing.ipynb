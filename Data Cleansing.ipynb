{
 "cells": [
  {
   "cell_type": "markdown",
   "metadata": {},
   "source": [
    "# Predicting Hospitalization Costs"
   ]
  },
  {
   "cell_type": "markdown",
   "metadata": {},
   "source": [
    "Chris Defreitas\n",
    "\n",
    "November 2018\n",
    "\n",
    "Bryant University"
   ]
  },
  {
   "cell_type": "markdown",
   "metadata": {},
   "source": [
    "# Data Cleaning and Transformation"
   ]
  },
  {
   "cell_type": "markdown",
   "metadata": {},
   "source": [
    "### Imports"
   ]
  },
  {
   "cell_type": "markdown",
   "metadata": {},
   "source": [
    "Import libraries"
   ]
  },
  {
   "cell_type": "code",
   "execution_count": 1,
   "metadata": {},
   "outputs": [],
   "source": [
    "import numpy as np\n",
    "import pandas as pd\n",
    "import copy\n",
    "from pprint import pprint"
   ]
  },
  {
   "cell_type": "code",
   "execution_count": 2,
   "metadata": {},
   "outputs": [],
   "source": [
    "import warnings\n",
    "warnings.filterwarnings('ignore')"
   ]
  },
  {
   "cell_type": "markdown",
   "metadata": {},
   "source": [
    "Import dataset"
   ]
  },
  {
   "cell_type": "code",
   "execution_count": 3,
   "metadata": {
    "scrolled": false
   },
   "outputs": [],
   "source": [
    "# Specify the selected field and their datatypes \n",
    "\n",
    "type_arrival = {'sex': 'float16',\n",
    "                'er_mode': 'float16',\n",
    "                'admtype': 'float16',\n",
    "                'yoa': 'float16',\n",
    "                'campus': 'category',\n",
    "                'pay_ub92': 'category',\n",
    "                'provider': 'category', \n",
    "                'asource': 'category',\n",
    "                'moa': 'float16',\n",
    "                'age': 'float16',\n",
    "                'race': 'float16',\n",
    "                'diag_adm': 'category',\n",
    "                'pt_state': 'category',\n",
    "               }\n",
    "\n",
    "type_other = {}\n",
    "\n",
    "type_target = {'tot': 'float64'}\n",
    "\n",
    "col_arrival = [*type_arrival]\n",
    "col_other = [*type_other]\n",
    "col_target = [*type_target]\n",
    "\n",
    "usecols = col_arrival + col_other + col_target\n",
    "dtype = {}\n",
    "for d in [type_arrival, type_other, type_target]:\n",
    "    for k, v in d.items():\n",
    "        dtype[k] = v"
   ]
  },
  {
   "cell_type": "code",
   "execution_count": 4,
   "metadata": {},
   "outputs": [],
   "source": [
    "# import data using relevant columns and datatypes\n",
    "df0 = pd.read_csv('hdd0313cy.csv', \n",
    "                  usecols=usecols, \n",
    "                  dtype=dtype,\n",
    "                 )"
   ]
  },
  {
   "cell_type": "code",
   "execution_count": 5,
   "metadata": {},
   "outputs": [
    {
     "name": "stdout",
     "output_type": "stream",
     "text": [
      "(1544747, 14)\n"
     ]
    }
   ],
   "source": [
    "print(df0.shape)"
   ]
  },
  {
   "cell_type": "markdown",
   "metadata": {},
   "source": [
    "## Missing Data"
   ]
  },
  {
   "cell_type": "markdown",
   "metadata": {},
   "source": [
    "Filter on yoa of at least 2005"
   ]
  },
  {
   "cell_type": "code",
   "execution_count": 6,
   "metadata": {},
   "outputs": [],
   "source": [
    "df1 = df0.copy()"
   ]
  },
  {
   "cell_type": "code",
   "execution_count": 7,
   "metadata": {},
   "outputs": [],
   "source": [
    "def getFullYear(y):\n",
    "    '''Converts yoa from yy format to yyyy format'''\n",
    "    if y == 0:\n",
    "        return 0\n",
    "    elif y < 10:\n",
    "        return float(\"200\"+str(y)) - 2000\n",
    "    elif y < 25:\n",
    "        return float(\"20\"+str(y)) - 2000\n",
    "    elif y < 100:\n",
    "        return float(\"19\"+str(y)) - 2000\n",
    "    else:\n",
    "        return y - 2000"
   ]
  },
  {
   "cell_type": "code",
   "execution_count": 8,
   "metadata": {},
   "outputs": [],
   "source": [
    "df1.yoa = df1.yoa.apply(getFullYear)"
   ]
  },
  {
   "cell_type": "code",
   "execution_count": 9,
   "metadata": {},
   "outputs": [],
   "source": [
    "df1 = df1[df1.yoa >= 5]"
   ]
  },
  {
   "cell_type": "code",
   "execution_count": 10,
   "metadata": {},
   "outputs": [
    {
     "name": "stdout",
     "output_type": "stream",
     "text": [
      "(1260408, 14)\n"
     ]
    }
   ],
   "source": [
    "print(df1.shape)"
   ]
  },
  {
   "cell_type": "markdown",
   "metadata": {},
   "source": [
    "Drop values with negative total cost and missing ages"
   ]
  },
  {
   "cell_type": "code",
   "execution_count": 11,
   "metadata": {},
   "outputs": [],
   "source": [
    "df1 = df1[df1.tot > 0]"
   ]
  },
  {
   "cell_type": "code",
   "execution_count": 12,
   "metadata": {},
   "outputs": [
    {
     "name": "stdout",
     "output_type": "stream",
     "text": [
      "(1260013, 14)\n"
     ]
    }
   ],
   "source": [
    "print(df1.shape)"
   ]
  },
  {
   "cell_type": "code",
   "execution_count": 13,
   "metadata": {},
   "outputs": [],
   "source": [
    "df1 = df1[False == df1.age.isna()]"
   ]
  },
  {
   "cell_type": "code",
   "execution_count": 14,
   "metadata": {},
   "outputs": [
    {
     "name": "stdout",
     "output_type": "stream",
     "text": [
      "(1260006, 14)\n"
     ]
    }
   ],
   "source": [
    "print(df1.shape)"
   ]
  },
  {
   "cell_type": "code",
   "execution_count": 15,
   "metadata": {},
   "outputs": [
    {
     "data": {
      "text/plain": [
       "sex              0\n",
       "er_mode     209983\n",
       "admtype          8\n",
       "yoa              0\n",
       "campus           0\n",
       "pay_ub92         0\n",
       "provider         0\n",
       "asource        114\n",
       "moa              0\n",
       "age              0\n",
       "race            20\n",
       "diag_adm       554\n",
       "pt_state       257\n",
       "tot              0\n",
       "dtype: int64"
      ]
     },
     "execution_count": 15,
     "metadata": {},
     "output_type": "execute_result"
    }
   ],
   "source": [
    "df1[col_arrival + col_target].isna().sum()"
   ]
  },
  {
   "cell_type": "code",
   "execution_count": 16,
   "metadata": {},
   "outputs": [
    {
     "data": {
      "text/html": [
       "<div>\n",
       "<style scoped>\n",
       "    .dataframe tbody tr th:only-of-type {\n",
       "        vertical-align: middle;\n",
       "    }\n",
       "\n",
       "    .dataframe tbody tr th {\n",
       "        vertical-align: top;\n",
       "    }\n",
       "\n",
       "    .dataframe thead th {\n",
       "        text-align: right;\n",
       "    }\n",
       "</style>\n",
       "<table border=\"1\" class=\"dataframe\">\n",
       "  <thead>\n",
       "    <tr style=\"text-align: right;\">\n",
       "      <th></th>\n",
       "      <th>sex</th>\n",
       "      <th>er_mode</th>\n",
       "      <th>admtype</th>\n",
       "      <th>yoa</th>\n",
       "      <th>campus</th>\n",
       "      <th>pay_ub92</th>\n",
       "      <th>provider</th>\n",
       "      <th>asource</th>\n",
       "      <th>moa</th>\n",
       "      <th>age</th>\n",
       "      <th>race</th>\n",
       "      <th>diag_adm</th>\n",
       "      <th>pt_state</th>\n",
       "      <th>tot</th>\n",
       "    </tr>\n",
       "  </thead>\n",
       "  <tbody>\n",
       "    <tr>\n",
       "      <th>count</th>\n",
       "      <td>1260006.0</td>\n",
       "      <td>1050023.0</td>\n",
       "      <td>1259998.0</td>\n",
       "      <td>1.260006e+06</td>\n",
       "      <td>1260006</td>\n",
       "      <td>1260006</td>\n",
       "      <td>1260006</td>\n",
       "      <td>1259892</td>\n",
       "      <td>1260006.0</td>\n",
       "      <td>1260006.0</td>\n",
       "      <td>1259986.0</td>\n",
       "      <td>1259452</td>\n",
       "      <td>1259749</td>\n",
       "      <td>1.260006e+06</td>\n",
       "    </tr>\n",
       "    <tr>\n",
       "      <th>unique</th>\n",
       "      <td>NaN</td>\n",
       "      <td>NaN</td>\n",
       "      <td>NaN</td>\n",
       "      <td>NaN</td>\n",
       "      <td>6</td>\n",
       "      <td>15</td>\n",
       "      <td>14</td>\n",
       "      <td>20</td>\n",
       "      <td>NaN</td>\n",
       "      <td>NaN</td>\n",
       "      <td>NaN</td>\n",
       "      <td>6632</td>\n",
       "      <td>84</td>\n",
       "      <td>NaN</td>\n",
       "    </tr>\n",
       "    <tr>\n",
       "      <th>top</th>\n",
       "      <td>NaN</td>\n",
       "      <td>NaN</td>\n",
       "      <td>NaN</td>\n",
       "      <td>NaN</td>\n",
       "      <td>0</td>\n",
       "      <td>1</td>\n",
       "      <td>7205</td>\n",
       "      <td>1</td>\n",
       "      <td>NaN</td>\n",
       "      <td>NaN</td>\n",
       "      <td>NaN</td>\n",
       "      <td>V3000</td>\n",
       "      <td>RI</td>\n",
       "      <td>NaN</td>\n",
       "    </tr>\n",
       "    <tr>\n",
       "      <th>freq</th>\n",
       "      <td>NaN</td>\n",
       "      <td>NaN</td>\n",
       "      <td>NaN</td>\n",
       "      <td>NaN</td>\n",
       "      <td>871432</td>\n",
       "      <td>356231</td>\n",
       "      <td>308331</td>\n",
       "      <td>464072</td>\n",
       "      <td>NaN</td>\n",
       "      <td>NaN</td>\n",
       "      <td>NaN</td>\n",
       "      <td>75222</td>\n",
       "      <td>1157711</td>\n",
       "      <td>NaN</td>\n",
       "    </tr>\n",
       "    <tr>\n",
       "      <th>mean</th>\n",
       "      <td>NaN</td>\n",
       "      <td>NaN</td>\n",
       "      <td>NaN</td>\n",
       "      <td>8.901591e+00</td>\n",
       "      <td>NaN</td>\n",
       "      <td>NaN</td>\n",
       "      <td>NaN</td>\n",
       "      <td>NaN</td>\n",
       "      <td>NaN</td>\n",
       "      <td>NaN</td>\n",
       "      <td>NaN</td>\n",
       "      <td>NaN</td>\n",
       "      <td>NaN</td>\n",
       "      <td>2.576076e+04</td>\n",
       "    </tr>\n",
       "    <tr>\n",
       "      <th>std</th>\n",
       "      <td>0.0</td>\n",
       "      <td>0.0</td>\n",
       "      <td>0.0</td>\n",
       "      <td>2.556645e+00</td>\n",
       "      <td>NaN</td>\n",
       "      <td>NaN</td>\n",
       "      <td>NaN</td>\n",
       "      <td>NaN</td>\n",
       "      <td>0.0</td>\n",
       "      <td>0.0</td>\n",
       "      <td>0.0</td>\n",
       "      <td>NaN</td>\n",
       "      <td>NaN</td>\n",
       "      <td>4.533506e+04</td>\n",
       "    </tr>\n",
       "    <tr>\n",
       "      <th>min</th>\n",
       "      <td>1.0</td>\n",
       "      <td>0.0</td>\n",
       "      <td>1.0</td>\n",
       "      <td>5.000000e+00</td>\n",
       "      <td>NaN</td>\n",
       "      <td>NaN</td>\n",
       "      <td>NaN</td>\n",
       "      <td>NaN</td>\n",
       "      <td>1.0</td>\n",
       "      <td>0.0</td>\n",
       "      <td>0.0</td>\n",
       "      <td>NaN</td>\n",
       "      <td>NaN</td>\n",
       "      <td>1.000000e+00</td>\n",
       "    </tr>\n",
       "    <tr>\n",
       "      <th>25%</th>\n",
       "      <td>1.0</td>\n",
       "      <td>0.0</td>\n",
       "      <td>1.0</td>\n",
       "      <td>7.000000e+00</td>\n",
       "      <td>NaN</td>\n",
       "      <td>NaN</td>\n",
       "      <td>NaN</td>\n",
       "      <td>NaN</td>\n",
       "      <td>3.0</td>\n",
       "      <td>29.0</td>\n",
       "      <td>1.0</td>\n",
       "      <td>NaN</td>\n",
       "      <td>NaN</td>\n",
       "      <td>8.692000e+03</td>\n",
       "    </tr>\n",
       "    <tr>\n",
       "      <th>50%</th>\n",
       "      <td>2.0</td>\n",
       "      <td>0.0</td>\n",
       "      <td>1.0</td>\n",
       "      <td>9.000000e+00</td>\n",
       "      <td>NaN</td>\n",
       "      <td>NaN</td>\n",
       "      <td>NaN</td>\n",
       "      <td>NaN</td>\n",
       "      <td>6.0</td>\n",
       "      <td>53.0</td>\n",
       "      <td>1.0</td>\n",
       "      <td>NaN</td>\n",
       "      <td>NaN</td>\n",
       "      <td>1.547300e+04</td>\n",
       "    </tr>\n",
       "    <tr>\n",
       "      <th>75%</th>\n",
       "      <td>2.0</td>\n",
       "      <td>1.0</td>\n",
       "      <td>3.0</td>\n",
       "      <td>1.100000e+01</td>\n",
       "      <td>NaN</td>\n",
       "      <td>NaN</td>\n",
       "      <td>NaN</td>\n",
       "      <td>NaN</td>\n",
       "      <td>9.0</td>\n",
       "      <td>74.0</td>\n",
       "      <td>1.0</td>\n",
       "      <td>NaN</td>\n",
       "      <td>NaN</td>\n",
       "      <td>2.809100e+04</td>\n",
       "    </tr>\n",
       "    <tr>\n",
       "      <th>max</th>\n",
       "      <td>9.0</td>\n",
       "      <td>9.0</td>\n",
       "      <td>9.0</td>\n",
       "      <td>1.300000e+01</td>\n",
       "      <td>NaN</td>\n",
       "      <td>NaN</td>\n",
       "      <td>NaN</td>\n",
       "      <td>NaN</td>\n",
       "      <td>12.0</td>\n",
       "      <td>124.0</td>\n",
       "      <td>9.0</td>\n",
       "      <td>NaN</td>\n",
       "      <td>NaN</td>\n",
       "      <td>3.080197e+06</td>\n",
       "    </tr>\n",
       "  </tbody>\n",
       "</table>\n",
       "</div>"
      ],
      "text/plain": [
       "              sex    er_mode    admtype           yoa   campus pay_ub92  \\\n",
       "count   1260006.0  1050023.0  1259998.0  1.260006e+06  1260006  1260006   \n",
       "unique        NaN        NaN        NaN           NaN        6       15   \n",
       "top           NaN        NaN        NaN           NaN        0        1   \n",
       "freq          NaN        NaN        NaN           NaN   871432   356231   \n",
       "mean          NaN        NaN        NaN  8.901591e+00      NaN      NaN   \n",
       "std           0.0        0.0        0.0  2.556645e+00      NaN      NaN   \n",
       "min           1.0        0.0        1.0  5.000000e+00      NaN      NaN   \n",
       "25%           1.0        0.0        1.0  7.000000e+00      NaN      NaN   \n",
       "50%           2.0        0.0        1.0  9.000000e+00      NaN      NaN   \n",
       "75%           2.0        1.0        3.0  1.100000e+01      NaN      NaN   \n",
       "max           9.0        9.0        9.0  1.300000e+01      NaN      NaN   \n",
       "\n",
       "       provider  asource        moa        age       race diag_adm pt_state  \\\n",
       "count   1260006  1259892  1260006.0  1260006.0  1259986.0  1259452  1259749   \n",
       "unique       14       20        NaN        NaN        NaN     6632       84   \n",
       "top        7205        1        NaN        NaN        NaN    V3000       RI   \n",
       "freq     308331   464072        NaN        NaN        NaN    75222  1157711   \n",
       "mean        NaN      NaN        NaN        NaN        NaN      NaN      NaN   \n",
       "std         NaN      NaN        0.0        0.0        0.0      NaN      NaN   \n",
       "min         NaN      NaN        1.0        0.0        0.0      NaN      NaN   \n",
       "25%         NaN      NaN        3.0       29.0        1.0      NaN      NaN   \n",
       "50%         NaN      NaN        6.0       53.0        1.0      NaN      NaN   \n",
       "75%         NaN      NaN        9.0       74.0        1.0      NaN      NaN   \n",
       "max         NaN      NaN       12.0      124.0        9.0      NaN      NaN   \n",
       "\n",
       "                 tot  \n",
       "count   1.260006e+06  \n",
       "unique           NaN  \n",
       "top              NaN  \n",
       "freq             NaN  \n",
       "mean    2.576076e+04  \n",
       "std     4.533506e+04  \n",
       "min     1.000000e+00  \n",
       "25%     8.692000e+03  \n",
       "50%     1.547300e+04  \n",
       "75%     2.809100e+04  \n",
       "max     3.080197e+06  "
      ]
     },
     "execution_count": 16,
     "metadata": {},
     "output_type": "execute_result"
    }
   ],
   "source": [
    "df1[col_arrival + col_target].describe(include='all')"
   ]
  },
  {
   "cell_type": "code",
   "execution_count": 17,
   "metadata": {},
   "outputs": [
    {
     "name": "stdout",
     "output_type": "stream",
     "text": [
      "['RI', 'MA', 'MN', 'CT', 'CA', 'ME', 'IL', 'KY', 'VA', 'FL', 'XX', 'PA', 'TX', 'GA', 'NH', 'SC', 'AL', 'NC', 'WI', 'NY', 'QC', 'ID', nan, 'LA', 'NE', 'MD', 'MI', 'TN', 'NJ', 'NM', 'VT', 'KS', 'OR', 'NV', 'OH', 'PR', 'AZ', 'WV', 'AK', 'DE', 'IN', 'YY', 'OK', 'CO', 'MO', 'HI', 'UT', 'IA', 'ON', 'YT', 'DC', 'AR', 'MS', '75', 'VI', 'NB', 'UK', 'EN', 'ND', 'WA', '`', 'SD', 'FI', 'FC', 'U', 'Q', 'MT', '-2', 'UN', 'WY', 'R', 'D', 'BC', 'RD', 'PQ', 'CD', 'RO', '40', 'RT', 'AB', '02', '__', 'AS', 'ri', 'GU']\n"
     ]
    }
   ],
   "source": [
    "print([*df1.pt_state.unique()])"
   ]
  },
  {
   "cell_type": "code",
   "execution_count": 18,
   "metadata": {
    "scrolled": true
   },
   "outputs": [
    {
     "name": "stdout",
     "output_type": "stream",
     "text": [
      "72\n",
      "77\n",
      "pt_state\n",
      "RI    1157711\n",
      "MA      71857\n",
      "CT      20816\n",
      "FL       1908\n",
      "NY       1677\n",
      "9         667\n",
      "NJ        604\n",
      "NH        502\n",
      "PA        412\n",
      "CA        405\n",
      "ME        374\n",
      "VA        289\n",
      "TX        259\n",
      "NC        237\n",
      "MD        225\n",
      "GA        205\n",
      "IL        155\n",
      "VT        142\n",
      "SC        138\n",
      "OH        137\n",
      "AZ        124\n",
      "MI        105\n",
      "IN         67\n",
      "WA         66\n",
      "CO         62\n",
      "MN         60\n",
      "NV         58\n",
      "TN         57\n",
      "LA         51\n",
      "WI         49\n",
      "       ...   \n",
      "PR         14\n",
      "KS         12\n",
      "IA         12\n",
      "AK         11\n",
      "ND          9\n",
      "MT          9\n",
      "SD          7\n",
      "QC          6\n",
      "BC          5\n",
      "WY          5\n",
      "VI          4\n",
      "FI          2\n",
      "RO          2\n",
      "NB          2\n",
      "PQ          2\n",
      "AB          1\n",
      "RT          1\n",
      "GU          1\n",
      "CD          1\n",
      "RD          1\n",
      "UK          1\n",
      "EN          1\n",
      "YT          1\n",
      "UN          1\n",
      "AS          1\n",
      "MP          0\n",
      "FM          0\n",
      "MH          0\n",
      "UM          0\n",
      "PW          0\n",
      "Length: 77, dtype: int64\n"
     ]
    }
   ],
   "source": [
    "state_codes = {'RI', 'MA', 'MN', 'CT', 'CA', 'ME', 'IL', 'KY', 'VA', 'FL', 'PA', 'TX', 'GA', 'NH', 'SC', 'AL', 'NC', \n",
    "              'WI', 'NY', 'QC', 'ID', 'LA', 'NE', 'MD', 'MI', 'TN', 'NJ', 'NM', 'VT', 'KS', 'OR', 'NV', 'OH', 'PR',\n",
    "              'AZ', 'WV', 'AK', 'DE', 'IN', 'OK', 'CO', 'MO', 'HI', 'UT', 'IA', 'ON', 'YT', 'DC', 'AR', 'MS', 'VI',\n",
    "              'NB', 'UK', 'EN', 'ND', 'WA', 'SD', 'FI', 'FC', 'MT', 'UN', 'WY', 'BC', 'RD', 'PQ', 'CD', 'RO', 'RT',\n",
    "              'AB', 'AS', 'GU', '9'}\n",
    "print(len(state_codes))\n",
    "ansi = {\"AK\", \"AL\", \"AR\", \"AS\", \"AZ\", \"CA\", \"CO\", \"CT\", \"DC\", \"DE\", \"FL\", \"FM\", \"GA\", \"GU\", \"HI\", \"IA\", \"ID\", \"IL\", \"IN\", \"KS\", \"KY\", \"LA\", \"MA\", \"MD\", \"ME\", \"MH\", \"MI\", \"MN\", \"MO\", \"MP\", \"MS\", \"MT\", \"NC\", \"ND\", \"NE\", \"NH\", \"NJ\", \"NM\", \"NV\", \"NY\", \"OH\", \"OK\", \"OR\", \"PA\", \"PR\", \"PW\", \"RI\", \"SC\", \"SD\", \"TN\", \"TX\", \"UM\", \"UT\", \"VA\", \"VI\", \"VT\", \"WA\", \"WI\", \"WV\", \"WY\"}\n",
    "\n",
    "state_codes = state_codes.union(ansi)\n",
    "print(len(state_codes))\n",
    "\n",
    "df1.pt_state = df1.pt_state.cat.set_categories(state_codes)\n",
    "df1.pt_state = df1.pt_state.fillna('9')\n",
    "print(df1.groupby(['pt_state']).size().sort_values(ascending=False))"
   ]
  },
  {
   "cell_type": "markdown",
   "metadata": {},
   "source": [
    "Code missing values as 9"
   ]
  },
  {
   "cell_type": "code",
   "execution_count": 19,
   "metadata": {},
   "outputs": [],
   "source": [
    "df1.er_mode = df1.er_mode.fillna(0)\n",
    "df1.race = df1.race.fillna(9)\n",
    "df1.race = df1.race.where(df1.race > 0, 9)\n",
    "#df1.sex = df1.sex.fillna(9)\n",
    "df1.asource = df1.asource.fillna('9')\n",
    "df1.admtype = df1.admtype.fillna(9)\n",
    "df1.age = df1.age.fillna(df1.age.median())\n",
    "df1.diag_adm = df1.diag_adm.cat.add_categories(['XXX'])\n",
    "df1.diag_adm = df1.diag_adm.fillna('XXX')"
   ]
  },
  {
   "cell_type": "code",
   "execution_count": 20,
   "metadata": {},
   "outputs": [],
   "source": [
    "df2 = df1.copy()"
   ]
  },
  {
   "cell_type": "code",
   "execution_count": 21,
   "metadata": {},
   "outputs": [
    {
     "name": "stdout",
     "output_type": "stream",
     "text": [
      "(1260006, 14)\n"
     ]
    }
   ],
   "source": [
    "print(df2.shape)"
   ]
  },
  {
   "cell_type": "code",
   "execution_count": 22,
   "metadata": {},
   "outputs": [
    {
     "data": {
      "text/plain": [
       "sex         0\n",
       "er_mode     0\n",
       "admtype     0\n",
       "yoa         0\n",
       "campus      0\n",
       "pay_ub92    0\n",
       "provider    0\n",
       "asource     0\n",
       "moa         0\n",
       "age         0\n",
       "race        0\n",
       "diag_adm    0\n",
       "pt_state    0\n",
       "tot         0\n",
       "dtype: int64"
      ]
     },
     "execution_count": 22,
     "metadata": {},
     "output_type": "execute_result"
    }
   ],
   "source": [
    "df2[col_arrival + col_target].isna().sum()"
   ]
  },
  {
   "cell_type": "code",
   "execution_count": 23,
   "metadata": {},
   "outputs": [
    {
     "data": {
      "text/html": [
       "<div>\n",
       "<style scoped>\n",
       "    .dataframe tbody tr th:only-of-type {\n",
       "        vertical-align: middle;\n",
       "    }\n",
       "\n",
       "    .dataframe tbody tr th {\n",
       "        vertical-align: top;\n",
       "    }\n",
       "\n",
       "    .dataframe thead th {\n",
       "        text-align: right;\n",
       "    }\n",
       "</style>\n",
       "<table border=\"1\" class=\"dataframe\">\n",
       "  <thead>\n",
       "    <tr style=\"text-align: right;\">\n",
       "      <th></th>\n",
       "      <th>sex</th>\n",
       "      <th>er_mode</th>\n",
       "      <th>admtype</th>\n",
       "      <th>yoa</th>\n",
       "      <th>campus</th>\n",
       "      <th>pay_ub92</th>\n",
       "      <th>provider</th>\n",
       "      <th>asource</th>\n",
       "      <th>moa</th>\n",
       "      <th>age</th>\n",
       "      <th>race</th>\n",
       "      <th>diag_adm</th>\n",
       "      <th>pt_state</th>\n",
       "      <th>tot</th>\n",
       "    </tr>\n",
       "  </thead>\n",
       "  <tbody>\n",
       "    <tr>\n",
       "      <th>count</th>\n",
       "      <td>1260006.0</td>\n",
       "      <td>1260006.0</td>\n",
       "      <td>1260006.0</td>\n",
       "      <td>1.260006e+06</td>\n",
       "      <td>1260006</td>\n",
       "      <td>1260006</td>\n",
       "      <td>1260006</td>\n",
       "      <td>1260006</td>\n",
       "      <td>1260006.0</td>\n",
       "      <td>1260006.0</td>\n",
       "      <td>1260006.0</td>\n",
       "      <td>1260006</td>\n",
       "      <td>1260006</td>\n",
       "      <td>1.260006e+06</td>\n",
       "    </tr>\n",
       "    <tr>\n",
       "      <th>unique</th>\n",
       "      <td>NaN</td>\n",
       "      <td>NaN</td>\n",
       "      <td>NaN</td>\n",
       "      <td>NaN</td>\n",
       "      <td>6</td>\n",
       "      <td>15</td>\n",
       "      <td>14</td>\n",
       "      <td>20</td>\n",
       "      <td>NaN</td>\n",
       "      <td>NaN</td>\n",
       "      <td>NaN</td>\n",
       "      <td>6633</td>\n",
       "      <td>72</td>\n",
       "      <td>NaN</td>\n",
       "    </tr>\n",
       "    <tr>\n",
       "      <th>top</th>\n",
       "      <td>NaN</td>\n",
       "      <td>NaN</td>\n",
       "      <td>NaN</td>\n",
       "      <td>NaN</td>\n",
       "      <td>0</td>\n",
       "      <td>1</td>\n",
       "      <td>7205</td>\n",
       "      <td>1</td>\n",
       "      <td>NaN</td>\n",
       "      <td>NaN</td>\n",
       "      <td>NaN</td>\n",
       "      <td>V3000</td>\n",
       "      <td>RI</td>\n",
       "      <td>NaN</td>\n",
       "    </tr>\n",
       "    <tr>\n",
       "      <th>freq</th>\n",
       "      <td>NaN</td>\n",
       "      <td>NaN</td>\n",
       "      <td>NaN</td>\n",
       "      <td>NaN</td>\n",
       "      <td>871432</td>\n",
       "      <td>356231</td>\n",
       "      <td>308331</td>\n",
       "      <td>464072</td>\n",
       "      <td>NaN</td>\n",
       "      <td>NaN</td>\n",
       "      <td>NaN</td>\n",
       "      <td>75222</td>\n",
       "      <td>1157711</td>\n",
       "      <td>NaN</td>\n",
       "    </tr>\n",
       "    <tr>\n",
       "      <th>mean</th>\n",
       "      <td>NaN</td>\n",
       "      <td>NaN</td>\n",
       "      <td>NaN</td>\n",
       "      <td>8.901591e+00</td>\n",
       "      <td>NaN</td>\n",
       "      <td>NaN</td>\n",
       "      <td>NaN</td>\n",
       "      <td>NaN</td>\n",
       "      <td>NaN</td>\n",
       "      <td>NaN</td>\n",
       "      <td>NaN</td>\n",
       "      <td>NaN</td>\n",
       "      <td>NaN</td>\n",
       "      <td>2.576076e+04</td>\n",
       "    </tr>\n",
       "    <tr>\n",
       "      <th>std</th>\n",
       "      <td>0.0</td>\n",
       "      <td>0.0</td>\n",
       "      <td>0.0</td>\n",
       "      <td>2.556645e+00</td>\n",
       "      <td>NaN</td>\n",
       "      <td>NaN</td>\n",
       "      <td>NaN</td>\n",
       "      <td>NaN</td>\n",
       "      <td>0.0</td>\n",
       "      <td>0.0</td>\n",
       "      <td>0.0</td>\n",
       "      <td>NaN</td>\n",
       "      <td>NaN</td>\n",
       "      <td>4.533506e+04</td>\n",
       "    </tr>\n",
       "    <tr>\n",
       "      <th>min</th>\n",
       "      <td>1.0</td>\n",
       "      <td>0.0</td>\n",
       "      <td>1.0</td>\n",
       "      <td>5.000000e+00</td>\n",
       "      <td>NaN</td>\n",
       "      <td>NaN</td>\n",
       "      <td>NaN</td>\n",
       "      <td>NaN</td>\n",
       "      <td>1.0</td>\n",
       "      <td>0.0</td>\n",
       "      <td>1.0</td>\n",
       "      <td>NaN</td>\n",
       "      <td>NaN</td>\n",
       "      <td>1.000000e+00</td>\n",
       "    </tr>\n",
       "    <tr>\n",
       "      <th>25%</th>\n",
       "      <td>1.0</td>\n",
       "      <td>0.0</td>\n",
       "      <td>1.0</td>\n",
       "      <td>7.000000e+00</td>\n",
       "      <td>NaN</td>\n",
       "      <td>NaN</td>\n",
       "      <td>NaN</td>\n",
       "      <td>NaN</td>\n",
       "      <td>3.0</td>\n",
       "      <td>29.0</td>\n",
       "      <td>1.0</td>\n",
       "      <td>NaN</td>\n",
       "      <td>NaN</td>\n",
       "      <td>8.692000e+03</td>\n",
       "    </tr>\n",
       "    <tr>\n",
       "      <th>50%</th>\n",
       "      <td>2.0</td>\n",
       "      <td>0.0</td>\n",
       "      <td>1.0</td>\n",
       "      <td>9.000000e+00</td>\n",
       "      <td>NaN</td>\n",
       "      <td>NaN</td>\n",
       "      <td>NaN</td>\n",
       "      <td>NaN</td>\n",
       "      <td>6.0</td>\n",
       "      <td>53.0</td>\n",
       "      <td>1.0</td>\n",
       "      <td>NaN</td>\n",
       "      <td>NaN</td>\n",
       "      <td>1.547300e+04</td>\n",
       "    </tr>\n",
       "    <tr>\n",
       "      <th>75%</th>\n",
       "      <td>2.0</td>\n",
       "      <td>1.0</td>\n",
       "      <td>3.0</td>\n",
       "      <td>1.100000e+01</td>\n",
       "      <td>NaN</td>\n",
       "      <td>NaN</td>\n",
       "      <td>NaN</td>\n",
       "      <td>NaN</td>\n",
       "      <td>9.0</td>\n",
       "      <td>74.0</td>\n",
       "      <td>1.0</td>\n",
       "      <td>NaN</td>\n",
       "      <td>NaN</td>\n",
       "      <td>2.809100e+04</td>\n",
       "    </tr>\n",
       "    <tr>\n",
       "      <th>max</th>\n",
       "      <td>9.0</td>\n",
       "      <td>9.0</td>\n",
       "      <td>9.0</td>\n",
       "      <td>1.300000e+01</td>\n",
       "      <td>NaN</td>\n",
       "      <td>NaN</td>\n",
       "      <td>NaN</td>\n",
       "      <td>NaN</td>\n",
       "      <td>12.0</td>\n",
       "      <td>124.0</td>\n",
       "      <td>9.0</td>\n",
       "      <td>NaN</td>\n",
       "      <td>NaN</td>\n",
       "      <td>3.080197e+06</td>\n",
       "    </tr>\n",
       "  </tbody>\n",
       "</table>\n",
       "</div>"
      ],
      "text/plain": [
       "              sex    er_mode    admtype           yoa   campus pay_ub92  \\\n",
       "count   1260006.0  1260006.0  1260006.0  1.260006e+06  1260006  1260006   \n",
       "unique        NaN        NaN        NaN           NaN        6       15   \n",
       "top           NaN        NaN        NaN           NaN        0        1   \n",
       "freq          NaN        NaN        NaN           NaN   871432   356231   \n",
       "mean          NaN        NaN        NaN  8.901591e+00      NaN      NaN   \n",
       "std           0.0        0.0        0.0  2.556645e+00      NaN      NaN   \n",
       "min           1.0        0.0        1.0  5.000000e+00      NaN      NaN   \n",
       "25%           1.0        0.0        1.0  7.000000e+00      NaN      NaN   \n",
       "50%           2.0        0.0        1.0  9.000000e+00      NaN      NaN   \n",
       "75%           2.0        1.0        3.0  1.100000e+01      NaN      NaN   \n",
       "max           9.0        9.0        9.0  1.300000e+01      NaN      NaN   \n",
       "\n",
       "       provider  asource        moa        age       race diag_adm pt_state  \\\n",
       "count   1260006  1260006  1260006.0  1260006.0  1260006.0  1260006  1260006   \n",
       "unique       14       20        NaN        NaN        NaN     6633       72   \n",
       "top        7205        1        NaN        NaN        NaN    V3000       RI   \n",
       "freq     308331   464072        NaN        NaN        NaN    75222  1157711   \n",
       "mean        NaN      NaN        NaN        NaN        NaN      NaN      NaN   \n",
       "std         NaN      NaN        0.0        0.0        0.0      NaN      NaN   \n",
       "min         NaN      NaN        1.0        0.0        1.0      NaN      NaN   \n",
       "25%         NaN      NaN        3.0       29.0        1.0      NaN      NaN   \n",
       "50%         NaN      NaN        6.0       53.0        1.0      NaN      NaN   \n",
       "75%         NaN      NaN        9.0       74.0        1.0      NaN      NaN   \n",
       "max         NaN      NaN       12.0      124.0        9.0      NaN      NaN   \n",
       "\n",
       "                 tot  \n",
       "count   1.260006e+06  \n",
       "unique           NaN  \n",
       "top              NaN  \n",
       "freq             NaN  \n",
       "mean    2.576076e+04  \n",
       "std     4.533506e+04  \n",
       "min     1.000000e+00  \n",
       "25%     8.692000e+03  \n",
       "50%     1.547300e+04  \n",
       "75%     2.809100e+04  \n",
       "max     3.080197e+06  "
      ]
     },
     "execution_count": 23,
     "metadata": {},
     "output_type": "execute_result"
    }
   ],
   "source": [
    "df2[col_arrival + col_target].describe(include='all')"
   ]
  },
  {
   "cell_type": "markdown",
   "metadata": {},
   "source": [
    "## Categorize Diagnosis Codes"
   ]
  },
  {
   "cell_type": "code",
   "execution_count": 24,
   "metadata": {},
   "outputs": [],
   "source": [
    "df3 = df2.copy()"
   ]
  },
  {
   "cell_type": "code",
   "execution_count": 25,
   "metadata": {},
   "outputs": [
    {
     "data": {
      "text/html": [
       "<div>\n",
       "<style scoped>\n",
       "    .dataframe tbody tr th:only-of-type {\n",
       "        vertical-align: middle;\n",
       "    }\n",
       "\n",
       "    .dataframe tbody tr th {\n",
       "        vertical-align: top;\n",
       "    }\n",
       "\n",
       "    .dataframe thead th {\n",
       "        text-align: right;\n",
       "    }\n",
       "</style>\n",
       "<table border=\"1\" class=\"dataframe\">\n",
       "  <thead>\n",
       "    <tr style=\"text-align: right;\">\n",
       "      <th></th>\n",
       "      <th>pay_ub92</th>\n",
       "      <th>age</th>\n",
       "      <th>sex</th>\n",
       "      <th>provider</th>\n",
       "      <th>moa</th>\n",
       "      <th>yoa</th>\n",
       "      <th>admtype</th>\n",
       "      <th>asource</th>\n",
       "      <th>tot</th>\n",
       "      <th>pt_state</th>\n",
       "      <th>diag_adm</th>\n",
       "      <th>campus</th>\n",
       "      <th>er_mode</th>\n",
       "      <th>race</th>\n",
       "    </tr>\n",
       "  </thead>\n",
       "  <tbody>\n",
       "    <tr>\n",
       "      <th>282340</th>\n",
       "      <td>6</td>\n",
       "      <td>87.0</td>\n",
       "      <td>2.0</td>\n",
       "      <td>7210</td>\n",
       "      <td>2.0</td>\n",
       "      <td>5.0</td>\n",
       "      <td>1.0</td>\n",
       "      <td>7</td>\n",
       "      <td>3412.0</td>\n",
       "      <td>RI</td>\n",
       "      <td>486</td>\n",
       "      <td>0</td>\n",
       "      <td>0.0</td>\n",
       "      <td>1.0</td>\n",
       "    </tr>\n",
       "    <tr>\n",
       "      <th>282341</th>\n",
       "      <td>6</td>\n",
       "      <td>38.0</td>\n",
       "      <td>1.0</td>\n",
       "      <td>7210</td>\n",
       "      <td>2.0</td>\n",
       "      <td>5.0</td>\n",
       "      <td>1.0</td>\n",
       "      <td>7</td>\n",
       "      <td>4132.0</td>\n",
       "      <td>RI</td>\n",
       "      <td>5128</td>\n",
       "      <td>0</td>\n",
       "      <td>0.0</td>\n",
       "      <td>1.0</td>\n",
       "    </tr>\n",
       "    <tr>\n",
       "      <th>282342</th>\n",
       "      <td>6</td>\n",
       "      <td>22.0</td>\n",
       "      <td>2.0</td>\n",
       "      <td>7210</td>\n",
       "      <td>2.0</td>\n",
       "      <td>5.0</td>\n",
       "      <td>1.0</td>\n",
       "      <td>9</td>\n",
       "      <td>12583.0</td>\n",
       "      <td>RI</td>\n",
       "      <td>29650</td>\n",
       "      <td>0</td>\n",
       "      <td>0.0</td>\n",
       "      <td>1.0</td>\n",
       "    </tr>\n",
       "    <tr>\n",
       "      <th>282343</th>\n",
       "      <td>6</td>\n",
       "      <td>45.0</td>\n",
       "      <td>2.0</td>\n",
       "      <td>7210</td>\n",
       "      <td>1.0</td>\n",
       "      <td>5.0</td>\n",
       "      <td>1.0</td>\n",
       "      <td>7</td>\n",
       "      <td>17462.0</td>\n",
       "      <td>RI</td>\n",
       "      <td>7850</td>\n",
       "      <td>0</td>\n",
       "      <td>0.0</td>\n",
       "      <td>1.0</td>\n",
       "    </tr>\n",
       "    <tr>\n",
       "      <th>282344</th>\n",
       "      <td>6</td>\n",
       "      <td>26.0</td>\n",
       "      <td>2.0</td>\n",
       "      <td>7210</td>\n",
       "      <td>1.0</td>\n",
       "      <td>5.0</td>\n",
       "      <td>2.0</td>\n",
       "      <td>1</td>\n",
       "      <td>10357.0</td>\n",
       "      <td>RI</td>\n",
       "      <td>650</td>\n",
       "      <td>0</td>\n",
       "      <td>0.0</td>\n",
       "      <td>9.0</td>\n",
       "    </tr>\n",
       "  </tbody>\n",
       "</table>\n",
       "</div>"
      ],
      "text/plain": [
       "       pay_ub92   age  sex provider  moa  yoa  admtype asource      tot  \\\n",
       "282340        6  87.0  2.0     7210  2.0  5.0      1.0       7   3412.0   \n",
       "282341        6  38.0  1.0     7210  2.0  5.0      1.0       7   4132.0   \n",
       "282342        6  22.0  2.0     7210  2.0  5.0      1.0       9  12583.0   \n",
       "282343        6  45.0  2.0     7210  1.0  5.0      1.0       7  17462.0   \n",
       "282344        6  26.0  2.0     7210  1.0  5.0      2.0       1  10357.0   \n",
       "\n",
       "       pt_state diag_adm campus  er_mode  race  \n",
       "282340       RI      486      0      0.0   1.0  \n",
       "282341       RI     5128      0      0.0   1.0  \n",
       "282342       RI    29650      0      0.0   1.0  \n",
       "282343       RI     7850      0      0.0   1.0  \n",
       "282344       RI      650      0      0.0   9.0  "
      ]
     },
     "execution_count": 25,
     "metadata": {},
     "output_type": "execute_result"
    }
   ],
   "source": [
    "df3.head()"
   ]
  },
  {
   "cell_type": "code",
   "execution_count": 26,
   "metadata": {},
   "outputs": [],
   "source": [
    "diag_cat3 = df1.diag_adm.astype(str).str[:3]\n",
    "df3 = df3.assign(diag_cat3=diag_cat3.values)"
   ]
  },
  {
   "cell_type": "code",
   "execution_count": 27,
   "metadata": {},
   "outputs": [],
   "source": [
    "diag_cat4 = df1.diag_adm.astype(str).str[:4]\n",
    "df3 = df3.assign(diag_cat4=diag_cat4.values)"
   ]
  },
  {
   "cell_type": "code",
   "execution_count": 28,
   "metadata": {},
   "outputs": [
    {
     "data": {
      "text/html": [
       "<div>\n",
       "<style scoped>\n",
       "    .dataframe tbody tr th:only-of-type {\n",
       "        vertical-align: middle;\n",
       "    }\n",
       "\n",
       "    .dataframe tbody tr th {\n",
       "        vertical-align: top;\n",
       "    }\n",
       "\n",
       "    .dataframe thead th {\n",
       "        text-align: right;\n",
       "    }\n",
       "</style>\n",
       "<table border=\"1\" class=\"dataframe\">\n",
       "  <thead>\n",
       "    <tr style=\"text-align: right;\">\n",
       "      <th></th>\n",
       "      <th>pay_ub92</th>\n",
       "      <th>age</th>\n",
       "      <th>sex</th>\n",
       "      <th>provider</th>\n",
       "      <th>moa</th>\n",
       "      <th>yoa</th>\n",
       "      <th>admtype</th>\n",
       "      <th>asource</th>\n",
       "      <th>tot</th>\n",
       "      <th>pt_state</th>\n",
       "      <th>diag_adm</th>\n",
       "      <th>campus</th>\n",
       "      <th>er_mode</th>\n",
       "      <th>race</th>\n",
       "      <th>diag_cat3</th>\n",
       "      <th>diag_cat4</th>\n",
       "    </tr>\n",
       "  </thead>\n",
       "  <tbody>\n",
       "    <tr>\n",
       "      <th>282340</th>\n",
       "      <td>6</td>\n",
       "      <td>87.0</td>\n",
       "      <td>2.0</td>\n",
       "      <td>7210</td>\n",
       "      <td>2.0</td>\n",
       "      <td>5.0</td>\n",
       "      <td>1.0</td>\n",
       "      <td>7</td>\n",
       "      <td>3412.0</td>\n",
       "      <td>RI</td>\n",
       "      <td>486</td>\n",
       "      <td>0</td>\n",
       "      <td>0.0</td>\n",
       "      <td>1.0</td>\n",
       "      <td>486</td>\n",
       "      <td>486</td>\n",
       "    </tr>\n",
       "    <tr>\n",
       "      <th>282341</th>\n",
       "      <td>6</td>\n",
       "      <td>38.0</td>\n",
       "      <td>1.0</td>\n",
       "      <td>7210</td>\n",
       "      <td>2.0</td>\n",
       "      <td>5.0</td>\n",
       "      <td>1.0</td>\n",
       "      <td>7</td>\n",
       "      <td>4132.0</td>\n",
       "      <td>RI</td>\n",
       "      <td>5128</td>\n",
       "      <td>0</td>\n",
       "      <td>0.0</td>\n",
       "      <td>1.0</td>\n",
       "      <td>512</td>\n",
       "      <td>5128</td>\n",
       "    </tr>\n",
       "    <tr>\n",
       "      <th>282342</th>\n",
       "      <td>6</td>\n",
       "      <td>22.0</td>\n",
       "      <td>2.0</td>\n",
       "      <td>7210</td>\n",
       "      <td>2.0</td>\n",
       "      <td>5.0</td>\n",
       "      <td>1.0</td>\n",
       "      <td>9</td>\n",
       "      <td>12583.0</td>\n",
       "      <td>RI</td>\n",
       "      <td>29650</td>\n",
       "      <td>0</td>\n",
       "      <td>0.0</td>\n",
       "      <td>1.0</td>\n",
       "      <td>296</td>\n",
       "      <td>2965</td>\n",
       "    </tr>\n",
       "    <tr>\n",
       "      <th>282343</th>\n",
       "      <td>6</td>\n",
       "      <td>45.0</td>\n",
       "      <td>2.0</td>\n",
       "      <td>7210</td>\n",
       "      <td>1.0</td>\n",
       "      <td>5.0</td>\n",
       "      <td>1.0</td>\n",
       "      <td>7</td>\n",
       "      <td>17462.0</td>\n",
       "      <td>RI</td>\n",
       "      <td>7850</td>\n",
       "      <td>0</td>\n",
       "      <td>0.0</td>\n",
       "      <td>1.0</td>\n",
       "      <td>785</td>\n",
       "      <td>7850</td>\n",
       "    </tr>\n",
       "    <tr>\n",
       "      <th>282344</th>\n",
       "      <td>6</td>\n",
       "      <td>26.0</td>\n",
       "      <td>2.0</td>\n",
       "      <td>7210</td>\n",
       "      <td>1.0</td>\n",
       "      <td>5.0</td>\n",
       "      <td>2.0</td>\n",
       "      <td>1</td>\n",
       "      <td>10357.0</td>\n",
       "      <td>RI</td>\n",
       "      <td>650</td>\n",
       "      <td>0</td>\n",
       "      <td>0.0</td>\n",
       "      <td>9.0</td>\n",
       "      <td>650</td>\n",
       "      <td>650</td>\n",
       "    </tr>\n",
       "  </tbody>\n",
       "</table>\n",
       "</div>"
      ],
      "text/plain": [
       "       pay_ub92   age  sex provider  moa  yoa  admtype asource      tot  \\\n",
       "282340        6  87.0  2.0     7210  2.0  5.0      1.0       7   3412.0   \n",
       "282341        6  38.0  1.0     7210  2.0  5.0      1.0       7   4132.0   \n",
       "282342        6  22.0  2.0     7210  2.0  5.0      1.0       9  12583.0   \n",
       "282343        6  45.0  2.0     7210  1.0  5.0      1.0       7  17462.0   \n",
       "282344        6  26.0  2.0     7210  1.0  5.0      2.0       1  10357.0   \n",
       "\n",
       "       pt_state diag_adm campus  er_mode  race diag_cat3 diag_cat4  \n",
       "282340       RI      486      0      0.0   1.0       486       486  \n",
       "282341       RI     5128      0      0.0   1.0       512      5128  \n",
       "282342       RI    29650      0      0.0   1.0       296      2965  \n",
       "282343       RI     7850      0      0.0   1.0       785      7850  \n",
       "282344       RI      650      0      0.0   9.0       650       650  "
      ]
     },
     "execution_count": 28,
     "metadata": {},
     "output_type": "execute_result"
    }
   ],
   "source": [
    "df3.head()"
   ]
  },
  {
   "cell_type": "code",
   "execution_count": 29,
   "metadata": {},
   "outputs": [],
   "source": [
    "df4 = df3.copy()"
   ]
  },
  {
   "cell_type": "markdown",
   "metadata": {},
   "source": [
    "## Change Datatypes"
   ]
  },
  {
   "cell_type": "code",
   "execution_count": 30,
   "metadata": {
    "scrolled": true
   },
   "outputs": [
    {
     "name": "stdout",
     "output_type": "stream",
     "text": [
      "pay_ub92     category\n",
      "age           float16\n",
      "sex           float16\n",
      "provider     category\n",
      "moa           float16\n",
      "yoa           float64\n",
      "admtype       float16\n",
      "asource      category\n",
      "tot           float64\n",
      "pt_state     category\n",
      "diag_adm     category\n",
      "campus       category\n",
      "er_mode       float16\n",
      "race          float16\n",
      "diag_cat3      object\n",
      "diag_cat4      object\n",
      "dtype: object\n"
     ]
    }
   ],
   "source": [
    "print(df4.dtypes)"
   ]
  },
  {
   "cell_type": "code",
   "execution_count": 31,
   "metadata": {},
   "outputs": [],
   "source": [
    "df4.provider = df4.provider.astype('int16') - 7200"
   ]
  },
  {
   "cell_type": "code",
   "execution_count": 32,
   "metadata": {},
   "outputs": [],
   "source": [
    "types = {'pay_ub92': 'int8', \n",
    "         'sex': 'int8', \n",
    "         'provider': 'int8',\n",
    "         'moa': 'int8',\n",
    "         'yoa': 'int8',\n",
    "         'admtype': 'int8',\n",
    "         'er_mode': 'int8',\n",
    "         'race': 'int8',\n",
    "         'diag_cat3': 'category',\n",
    "         'diag_cat4': 'category',\n",
    "        }"
   ]
  },
  {
   "cell_type": "code",
   "execution_count": 33,
   "metadata": {},
   "outputs": [
    {
     "name": "stdout",
     "output_type": "stream",
     "text": [
      "pay_ub92 ['6', '2', '10', '9', '1', '8', '3', '7', '4', '11', '13', '99', '5', '12', '98']\n",
      "sex [2.0, 1.0, 9.0]\n",
      "provider [10, 5, 1, 11, 4, 3, 13, 14, 6, 9, 2, 16, 15, 12]\n",
      "moa [2.0, 1.0, 3.0, 4.0, 5.0, 6.0, 7.0, 8.0, 9.0, 10.0, 11.0, 12.0]\n",
      "yoa [5.0, 6.0, 7.0, 8.0, 9.0, 10.0, 11.0, 12.0, 13.0]\n",
      "admtype [1.0, 2.0, 3.0, 4.0, 9.0]\n",
      "er_mode [0.0, 9.0, 1.0, 5.0, 3.0, 4.0, 2.0]\n",
      "race [1.0, 9.0, 3.0, 5.0, 2.0, 6.0, 7.0, 4.0]\n",
      "diag_cat3 ['486', '512', '296', '785', '650', '311', '038', '995', '997', '428', '185', '654', '715', '291', '560', '530', '789', '682', '557', '541', 'V30', '814', '642', '586', '411', '786', 'V10', '410', '427', '540', '592', '625', '578', '491', 'V55', '434', '401', '453', '487', '787', '780', '782', '996', '157', '196', '340', '599', '584', '722', '788', '415', '285', '515', '600', 'V45', '444', '442', '562', '286', '496', '153', '309', '620', '726', '218', '810', '825', '574', '276', '784', '707', '820', '591', '305', '823', '300', '781', '202', '250', '724', '493', '555', '567', '575', '242', '433', '946', '331', '288', '150', '558', '729', 'V43', 'V49', '518', '805', '799', '998', '507', '235', 'V71', '423', '792', '490', '536', '812', '435', '808', '594', '980', '413', '716', '577', '294', '284', '569', '585', '967', '977', '251', '280', 'E94', '188', '730', '686', '431', '733', '295', '174', '813', '292', '293', '492', '275', '511', '162', '531', '571', '573', '965', '441', '203', '298', '807', '303', '348', '728', '304', '297', '969', '644', '617', '936', '608', '623', '614', '590', '053', '519', 'V31', '556', '420', '765', '661', '821', '475', '183', '626', '844', '233', '161', '598', '641', '459', '437', '154', '783', '239', '537', '618', '414', '648', '646', '658', '971', '645', '945', '455', '346', '222', 'XXX', '611', '595', '466', '443', '282', '865', '922', '986', '440', '721', '621', '604', '836', '794', '924', '708', '552', '189', '255', '485', '322', '009', '660', '619', '008', '345', '198', '182', '824', '890', '576', '719', '163', '426', '451', '553', '179', '566', '693', '079', '727', '653', '664', '199', '593', '966', '532', '425', '681', '465', '447', '342', 'V54', '826', '790', '421', '663', '355', '550', '197', '494', '651', '470', '213', '211', '078', '632', '462', '187', '287', '656', '332', '151', '344', '458', '237', '403', '572', '910', '333', '274', '312', '307', 'E93', '881', '913', '991', '643', '564', '136', '054', '289', '424', '047', '774', '313', 'V66', '456', '351', '481', '802', '155', 'V58', '927', '278', '193', '225', '314', '616', '852', '394', '454', '077', '570', '478', '204', '436', '432', '822', '383', '944', '863', '270', '034', '350', '227', '474', '040', '741', '736', '191', '770', '942', '850', '386', '756', '804', '205', '369', '738', '416', '172', '430', '864', '446', '324', '398', '941', '336', '277', '861', '800', '216', '164', '959', '745', '902', '845', '891', '747', '851', '711', '042', '691', '803', '526', '372', '949', '480', '860', '473', '035', '290', '816', '874', '853', '875', '244', '483', '742', '970', '751', '376', '778', '402', '801', '683', '921', '464', '036', '704', '749', '238', '357', '457', '230', '873', '883', '879', '320', 'V42', '710', '607', '516', '723', '748', '596', '528', '171', '759', 'V53', '955', '568', '777', '882', '362', '379', '527', '482', '299', '972', '753', '535', '732', '368', '323', '364', '463', '088', '762', '373', '377', '900', '252', '746', 'V50', '720', '840', '229', '334', '246', '215', '737', '385', '754', 'V72', '926', '241', '811', '170', '212', '984', '771', '903', '359', '750', '862', 'V59', '806', '755', '210', '201', '581', '529', '999', '974', '370', '943', '388', '514', '779', '734', '701', 'V51', '011', '214', '361', '920', '928', '135', '685', '524', '343', '365', '940', '003', '226', '263', '352', '380', '937', '815', '601', '989', '041', '152', '391', '705', '871', '901', '870', '714', '228', '194', '735', '835', '703', '301', '396', '156', '522', '461', '673', '048', '695', '389', '994', '375', '718', '775', '869', '963', '173', '142', '958', '929', '962', '886', '680', '709', '948', '987', '866', '829', '117', '847', '791', '834', '358', '382', '306', '776', 'V22', '513', '622', '006', '422', 'V57', '627', '868', '146', '652', '696', '684', '657', '033', '510', '349', '236', '968', '640', '761', 'V05', '659', '669', '335', '773', '223', '662', '655', '438', '046', '143', '366', '975', '158', '405', '240', '793', '283', '175', '031', '633', '583', '843', '084', '220', '145', '057', '429', '717', '023', '647', '404', '261', '471', '603', '665', '694', '839', 'V24', '253', '916', '706', '200', '005', '565', '976', '795', '935', 'V12', '412', '674', '635', '672', '184', 'V34', '180', '666', '670', 'V32', '698', '758', '675', '667', '671', '634', '256', '615', '768', '772', '639', '221', '637', '769', '219', 'V26', '508', '141', '140', '070', '144', '002', '195', '354', '846', '542', '933', '082', '281', '543', '112', '356', '319', '867', '310', '208', '521', 'V25', 'V64', '796', '934', '534', '148', 'V67', '905', '533', 'V29', '725', '876', '952', '692', '892', '395', '938', '895', '908', '149', '192', '744', '052', '854', '114', '767', '848', '973', '378', '374', '360', '809', '904', '381', '506', '330', '123', 'V70', '880', '147', '885', '075', 'V56', '992', 'V07', '912', '245', '893', '757', '363', '981', '832', '133', '325', '523', '579', '308', '915', '978', '752', '160', '258', '266', '190', '341', '551', '452', '337', '588', '094', '393', '923', '917', 'V65', '631', '872', 'V76', '831', '988', '273', '186', '939', '302', '911', '353', '605', '049', '206', '628', '760', '827', '833', '763', '837', '013', '877', '074', '098', '272', '982', '265', '610', '271', '582', '232', '950', '587', '315', '137', '007', '061', '896', '817', '525', '259', '018', '602', '445', '914', '878', '983', '159', 'V52', '947', '894', '099', '828', '887', 'V62', '448', '327', '764', '985', '110', '932', '838', '964', '961', '906', '027', 'V08', '066', 'V84', '630', '629', '819', '638', '267', '956', '390', '925', '039', '015', '884', 'V63', '279', 'V44', '960', '207', 'V40', '797', '580', 'V27', '347', '460', '115', 'V23', '597', '254', '318', '495', '953', '897', '624', '269', '317', '130', '338', '004', '731', '649', '818', '100', '690', '472', 'V15', 'V21', '397', '262', '979', '520', '676', '217', '830', 'V68', '021', '918', '636', '907', '919', 'V01', '058', 'V16', '957', '500', '702', '010', '930', 'V20', '842', '126', 'V46', '209', '417', '139', '132', 'V13', 'E88', '841', '612', '392', '249', '339', '127', '700', '234', '678', '488', '668', '131', '713', '016', '091', '766', '087', '477', 'V02', 'V60', '993', 'V36', '371', '086', 'V81', 'E91', 'V61', '097', '176', '026', 'V83', 'V33', '083', '231', '504', '539', 'V04', 'V89', '538', '138', '030', 'V86', '012', '268', 'V28', '316', '101', 'V14', '501', '096', '484', '517', 'V69', '990', '384']\n",
      "diag_cat4 ['486', '5128', '2965', '7850', '650', '311', '0389', '9950', '9971', '4280', '185', '6542', '7153', '2918', '5609', '7159', '5308', '7890', '6824', '5579', '541', 'V300', '8140', '6423', '586', '4111', '7865', '5601', 'V103', '4109', '4273', '5409', '5920', '6256', '5789', '4912', 'V553', '4349', '4019', '4538', '6827', '4870', '7879', '7802', '4871', '7827', '9967', '1570', '6826', '4118', '1965', '7803', '340', '7809', '2962', '5990', '5849', '7225', '4278', '7882', '4151', '2852', '515', '6001', 'V458', '4442', '4422', '7866', '5621', '7806', '2869', '496', '1539', '3090', '6202', '7261', '7221', '2189', '2963', '8100', '5921', '8252', '5745', '2765', '7842', '7071', '7807', '8202', '2859', '591', '8208', '3050', '2767', '8232', '5741', '3009', '7813', '2029', '2501', '7240', '4939', '5559', '5672', '6258', '5758', '2429', '4331', '7870', '4534', '2762', '9462', '3310', '2880', '1509', '5589', '7860', '9964', '7804', '7295', 'V436', 'V497', '4423', '5188', '7895', '7820', '8054', '7993', '9985', '5070', '7242', '2352', 'V718', '4239', '7921', '490', '5364', '7990', '8120', '7800', '7823', '4359', '8088', '5941', 'V552', '3099', '9809', '4139', '5742', '4274', '7169', '5770', '8082', '2948', '2508', '2848', '5691', '585', '9679', '9779', '2512', '2809', '6829', '8209', 'E942', '1888', '7301', '6869', '431', '2500', '8238', '2912', '7331', '2761', '5781', '2953', '1744', '8138', '4279', '7293', '4107', '2928', '2930', '4928', '2028', '2957', '2754', '8134', '5119', '5997', '1629', '5319', '5715', '5738', '6823', '9654', '4414', '2030', '4932', '2989', '4101', '8070', '2968', '3039', '7339', '3483', '7288', '2964', '3048', '2971', '3030', '2969', '3040', '2966', '3098', '9694', '7840', '2954', '6822', '6440', '6170', '936', '6084', '6238', '3094', '2967', '6149', '5908', '9651', '5751', '1749', '7883', '6820', '6253', '7220', '4270', '0532', '5199', '5780', '1887', 'V310', '5569', '4209', '3003', '1889', '9966', '6259', '7650', '8130', '8230', '6611', '8212', '7651', '475', '1830', '6268', '8448', '2888', '2333', '1619', '5698', '5989', '6419', '4590', '9976', '6000', '4371', '1540', '7302', '7837', '2395', '1538', '5184', '5679', '5370', '6188', '5603', '7245', '4140', '6489', '5733', '6468', '6581', '4598', '9713', '6451', '9452', '9690', '6483', '4552', '6466', '3469', '9951', '2222', 'XXX', '6117', '5959', '4660', '7854', '4439', '2826', '3004', '8650', '9223', '986', '7856', '4402', '7211', '6210', '6049', '8363', '6262', '7948', '9248', '7089', '5520', '1890', '2554', '8052', '485', '3229', '7336', '0092', '6604', '6191', '0084', '3453', '9975', '1983', '1820', '8248', '8901', '5768', '6185', '4104', '1533', '7194', '1639', '5693', '4413', '4261', '5901', 'V714', '4518', '2768', '4440', '5532', '7863', '7243', '4878', 'V100', '179', '2959', '5740', '566', '6930', '3047', '0799', '7271', '4661', '6535', '7195', '6640', '4260', '1991', '6641', '8210', 'V450', '7847', '5938', '7893', '3000', '9663', '5326', '7270', '5362', '4255', '5712', '6810', '4659', '7880', '4401', '4471', '9240', '3429', 'V548', '8261', '7902', '4210', '7227', '6633', '3559', '5501', '8200', '7824', '8246', '1972', '4940', '5602', '9952', '6510', '470', '2133', '9981', '4372', '0798', '2113', '0788', '632', '462', '9800', '1874', '2875', '5315', '6564', '2506', '5314', '5694', '6582', '2181', '0088', '3320', '1519', '3441', '9241', '4281', '5310', '2507', '1748', '8244', '4589', '2375', '5750', '4039', '2502', '4102', '6180', '5713', '2399', '4103', '0539', '5110', '5722', '9100', '5533', '3330', '2740', '1880', '7991', '3123', '3078', '5711', '2920', 'E939', '8810', '9130', '6825', '9670', '7213', '9916', '6432', '5641', '5771', '1369', '9960', '7998', '9974', '4108', '0542', '2749', '4275', '1977', '7855', '2895', '1628', '4241', '0479', '8250', '9982', '7746', '3138', 'V667', '8233', '4560', '3510', '9650', '481', '1882', '4271', '7300', '8022', '1551', '1534', 'V581', '9271', '2780', '193', '7872', '1742', '6009', '2396', '7862', '9968', '5747', '2251', '3140', '7851', '1978', '1625', '5571', '5374', '1963', '5608', '1579', '6811', '5988', '1550', 'V584', '3451', '6165', '8522', '1985', '3941', '4540', '0779', '2252', '5509', '8203', '7907', '570', '5528', '0384', '8239', '7891', '5560', '4782', '2960', '2040', '436', '3139', '4329', '8220', '3830', '8900', '6484', '9443', '9962', '8633', '2706', '0340', '3501', '6568', '4580', '2273', '4740', '0408', '7419', '7363', '7338', '7832', '1912', '4240', '7708', '7190', '5568', '9422', '8502', '3863', '9801', '7881', '3042', '7560', '8042', '2050', '3693', '7384', '3128', '7241', '3459', '4428', '4160', '7229', '3222', '1723', '5779', '2863', '5640', '3940', '2390', '430', '7226', '1970', '5902', '8640', '4461', '3241', '7834', '0785', '7561', '4599', '3989', '9412', '6111', '3369', '2770', '2392', '7819', '7298', '2504', '8610', '8002', '4168', '2163', '1640', '9590', '6161', 'V588', '2270', '7455', '1518', '3318', '8024', '9022', '4340', '8450', '4289', '8050', '8910', '0380', '7478', '1917', '8080', '8514', '4403', '3314', '7110', '9597', '7845', '4341', '2051', '2861', '042', '3468', '6910', '8030', '5269', '3727', '8518', '8020', '9490', '3489', '1743', '4809', '8600', '4738', 'V454', '035', '3482', '2900', '8510', '8161', '8748', '8530', '8750', '2503', '2441', '4831', '7420', '7567', '9961', '7801', '9708', '7513', '3760', '7784', '4029', '7810', '8012', '683', '3079', '9211', '4644', '5363', '0362', '7048', '7490', '2380', '9442', '3570', '4571', '7906', '9983', '2309', '5566', '8133', '8735', '5185', '2910', '8832', '7266', '8251', '5550', '8014', '7861', '8792', '3201', '8730', '3690', '9970', 'V427', '5600', '7100', '7849', '8010', '0781', '5845', '6079', '2760', '7210', '5168', '5400', '7231', '8520', '4474', '8026', '7483', '5960', '5522', '4739', '9440', '5264', '5283', '3518', '9598', '5934', '7821', '1713', '5695', '2253', '7592', '1913', '0546', '8249', '1623', 'V533', '7843', '8084', '9552', '2870', '9693', '4283', '7244', '5761', '5680', '7492', '7776', '8822', '7263', '3622', '3799', '5273', '9955', '3720', '5562', '0341', '8242', '3129', '4829', '8821', '5305', '7381', '3313', '7884', '4801', '2990', '4582', '6082', '3575', '4105', '9729', '7531', '3450', '9963', '8000', '5521', '8365', '8500', '5354', '8798', '7322', '3682', '4358', '3239', '2998', '3643', '5118', '463', '9272', '0888', '7623', '3731', '9656', '7537', '3770', '2132', '2550', '9000', '1510', '2520', '7464', '7230', '7070', '1505', '5937', 'V501', '5939', '2370', '4219', '8503', '2397', '7200', '8404', '1530', '2299', '1911', '5552', '3341', '7830', '2469', '4941', '4169', '4321', '7825', '3071', '2156', '2159', '1919', '7373', 'V457', '2858', 'V536', '5306', '1960', '7332', '3858', '1624', '2958', '8074', '5743', '5570', '1974', '7547', 'V728', '9268', '8028', '5942', '2411', '8110', '1707', '9986', '5981', '2123', '4373', '9840', '5304', '7844', '2874', '7716', '1918', '5280', '4267', '9031', '3593', '0540', '9972', '7423', '9453', '9460', '5778', '0369', '7505', '8124', '5191', '8623', '4787', '3831', 'V594', '8064', '5401', '5739', '6482', '2254', '9778', '9802', '9973', '1741', '7718', '7552', '9965', '3075', '2102', '4110', '2019', '4741', '9701', '0086', '7833', '5699', '3334', '2800', '9451', '5583', '5819', '4476', '1531', '5299', '9998', '5379', '9745', '3708', '9433', '8131', '8603', '3240', '3887', '4100', '9221', '9593', '4269', '8749', '4558', '514', '5551', '7790', '3093', '734', '5272', '7292', '7018', '1961', '2824', '7410', '7463', '3455', 'V51', '2330', '7228', '0119', '2149', '3860', '3618', '4254', '920', '9281', '135', '5720', '9432', 'V540', '6850', '5246', '3439', '7706', '8612', '3700', '4249', '3652', '2518', '9403', 'V537', '5523', '5301', '0030', '8121', '226', '1976', '4410', '2639', '3332', '7512', '9984', '5190', '3526', '4466', '3801', '2983', '3456', '937', '8150', '7812', '6012', '9899', '0419', '5716', '8072', '1520', '7248', '9001', '3918', '7058', '7321', '8712', '9010', '8701', '7140', 'V496', '2280', '3458', '7596', '5965', '7161', '1541', '6851', '8211', '1891', '7532', '2157', '6190', '7267', '2115', '7460', '1940', '6184', '5309', '7234', '5900', '7471', '2116', '2510', '7543', '3484', '7354', '7556', '2250', '8350', '8505', '7030', '3013', '3962', '4251', '1724', '2021', '1568', '4930', '9661', '9280', '5325', '2387', '6078', '1560', '6110', '5225', '4612', '3461', '8231', '9450', '6186', '7566', '2956', '6732', '8135', '7943', '048', '3072', '8240', '2766', '0544', '4619', '8734', '6951', '8062', '3891', '2281', '4611', '3432', '3688', '2127', '9988', '4641', '2873', '2860', '6861', '7148', '9599', 'V541', '8241', '3598', '8037', '9948', '5378', '7805', '6144', '1990', '4448', '2949', '3753', '7185', 'V712', '7755', '4821', '3449', '7299', '8613', '7707', '8690', '5307', '8631', '9630', '3689', '4030', '1731', '1420', '9698', '9583', '9299', '8051', '8638', '9956', '3348', '4141', '7214', '1973', '9627', '3591', '8711', '9594', '7469', '8860', '6808', '7742', '9032', '6040', '4429', '7098', '8831', '8812', '2130', '6208', '6088', '8122', '6118', '2410', '7151', '7334', '9481', '2904', '0543', '9879', 'V550', '8513', '7184', '3360', '5813', '8661', '3553', '5696', '4333', '8861', '8290', '1914', '3488', '8737', '9222', '7568', '1175', '9721', '3550', '4578', '8125', '8472', '7916', '8629', '9282', '1536', '0531', '2271', '9958', '4539', '6918', '2921', '7712', '5240', '5772', '6263', '7491', '8340', '1988', '3580', '2820', '7869', '3829', '7919', '8253', '8011', '3064', '9726', '3446', '4588', '8811', '9596', '7761', '2851', '3481', '6462', '2509', '7714', '4408', 'V221', '5130', '1981', '2919', 'V220', 'V222', '8442', '6221', '0063', '9288', '6425', '4229', '6164', 'V578', '6213', '5728', '6270', '6412', '2031', '8681', '8449', '1460', '2394', '6526', '2180', '9245', '6182', '7846', '3861', '4010', '0537', '6961', '8341', '6140', '6183', '6565', '684', '5951', '6570', '6488', '4374', '3092', '5688', '0339', '5109', '3490', '2362', '7818', '9684', '6868', '3238', '7841', '7892', '6424', '6179', '6467', '1537', '2763', '3681', '7078', '6408', '6528', '6580', '4276', '8710', '7617', '9623', '1881', '2898', 'V051', '4919', '6480', '6595', '6631', '6597', '6430', '6429', '1548', '6271', '6541', '6695', '6442', '8056', '2781', '5121', '3352', '1578', '5183', '6566', '5120', '4568', '7731', '2233', '6622', '6557', '0381', '7732', '6698', '6596', '0382', '4265', '6583', '2893', '3853', '5351', '2337', '4388', '4824', '0461', '6143', '2182', '6531', '6089', '6642', '6694', '4438', '6621', '5648', '1431', '1622', '0418', '4282', '8509', '6201', '4532', '8245', '5324', '6600', '3661', '7219', '5818', '2391', '9912', '9752', '6160', '6522', '6525', '5967', '9977', '3498', '2230', '5531', '1580', '5762', '7876', '4059', '4658', '4148', '3773', '4781', '6805', '1886', '2409', '5961', '5303', '7262', '1179', '4106', '4511', '2420', '7183', '7327', '8911', '6142', '5692', '5300', '7939', '0090', '2041', '6010', '5329', '2865', '5763', '4417', '7119', '4421', '1532', '1984', '3331', '5249', '2839', '5248', '6173', '1572', '1508', '3202', '1759', '8407', '4465', '7835', '4643', '5933', '6958', '0310', '1884', '6331', '5839', '3963', '8439', '9685', '0846', '2752', '6613', '220', '1459', '4462', '6200', '5355', '7188', '5690', '0579', '9724', '6420', '4297', '1512', '6523', '2849', '7178', '6561', '1458', '1542', '4149', '6431', '8408', '6171', '0239', '6638', '1706', '5320', '2511', '7909', '6632', '3056', '6478', '6610', '4049', '261', '5848', '2980', '2384', '4710', '2462', '8680', '5748', '2126', '4555', '5350', '5723', '6427', '4823', '6038', '6655', '6945', '2120', '8392', '4828', 'V240', 'V301', '4266', '9261', '2536', '9161', '5353', '7350', '2894', '7062', '0841', '2001', '7476', '6264', '0059', '5539', '5651', '9763', '6218', '7957', '3669', '6338', '9953', '9351', '7276', '6181', '7222', '3059', '7291', '3019', '5529', 'V127', '7079', '6339', '0411', '412', '6409', '6189', '9959', '1745', '6741', '6359', '6563', '6146', '6620', '6511', '6411', '6643', '2360', '6743', '6609', '6418', '6630', '6603', '2331', 'V580', '6720', '6558', '1844', '1588', 'V340', '6550', '6486', '1808', '6545', '6661', '6598', '6662', '6476', '6700', '6601', '6635', '6602', '6608', '6584', '6544', '6410', '6654', '6438', 'V587', 'V320', '6141', '6524', '1828', '7798', '7775', '6350', '6175', '7743', '6988', '7702', '7586', '6752', '6172', '6670', '6645', '6548', '1840', '1982', '6713', '6341', '6485', '6546', '6534', '6592', '7701', '2561', '2381', '6540', '1975', '6151', '6349', '6653', 'V504', '6591', '7685', '6748', '7686', '1522', '7700', '6520', '6547', '3576', '1535', '6745', '6481', '7726', '6391', '2210', '2218', '6718', '6370', '5998', '6697', '5565', '769', '2191', '1528', 'V260', '7452', '2902', '2913', '9595', '8632', '1725', '9753', '2903', '7873', '1717', '5749', '8160', '5080', '3041', '6821', '1410', 'V593', '1418', '5950', '5270', '0383', '7080', '9411', '1409', '5647', '2148', '5746', '0701', '7212', '1449', '2000', '0020', '5321', '1618', '1950', '4618', '7197', '7168', '0478', '5302', '3543', '3549', '4150', '9979', '7279', '6549', '6612', '1733', '2830', '7174', '1986', '5714', '6567', '5298', '8460', '7380', '5756', '542', '8604', '9331', '0824', '6521', '2810', '4432', '5439', '5163', '2753', '6441', '7280', '7224', '1120', '7905', '4592', '5932', '1562', '2929', '4557', '6828', '1892', '4556', '7209', '2951', '3562', '5317', 'V433', '2024', '4820', '0844', '2339', '319', '2941', '3558', '7274', '8670', '7182', 'V554', '3070', '6944', '4400', '9591', '3102', '7992', '2367', '2080', '3599', '2970', '5769', '6400', '4554', '5210', '1419', '7652', 'V252', '4572', '3120', '7885', '7191', 'V643', '8141', '3540', '4548', '4785', '1529', '0705', '3049', '3011', '1543', '7962', '1734', 'V711', '3839', '9341', '7265', '5349', '3124', '7795', '1481', '5759', 'V670', '9213', '9053', '7994', '5339', '7931', '3018', '6619', 'V290', '7092', '8524', '8132', '725', '8060', '8760', '9592', '9529', '7949', '3886', '8651', '3823', '7516', '6924', '1702', '3431', '8920', '1122', '7515', '3249', '8032', '9423', '8794', '8922', '7330', '9692', '3899', '8796', '3952', '938', '8950', '7101', '9089', '2376', '4377', '7595', '3578', '6929', '8139', '3699', '9249', '7428', '1490', '1915', '1920', '4232', '9166', '3208', '7485', '7444', '7103', '5198', '9420', '2298', '8001', '9678', '0529', '8023', '3761', '8007', '0547', '8540', '7565', '1883', '4411', '7104', '1719', '1142', '1611', '1610', '7673', '1712', '8489', '3551', '9352', '8641', '9738', '2377', '3785', '3743', '9219', '7468', '3696', '8017', '4783', '5500', '2751', '2899', 'V717', '7771', '7793', '3445', '5678', '3600', '4296', '4243', '2143', '1715', '3074', '1710', '8090', '7754', '9041', '2825', '8440', '9520', '7955', '4419', '3811', '7425', '8031', '8213', '9697', '1916', '1709', '3555', '7548', '4259', '1910', '3462', '9957', '4931', '9913', '4299', '5061', '8912', '3300', '7424', '7368', '2114', '9212', '2707', '4263', '2939', '1231', '3438', '7534', '1714', '9588', 'V703', '2808', '2866', '7721', '8801', '1479', '8601', '1589', '8850', '075', '9941', 'V560', '3480', '9920', 'V071', '7474', '8008', '9921', '9125', '7503', '7456', '4920', '2419', '3339', '2421', '2450', '8360', '8932', '7573', '3632', '981', '8320', '8719', '3485', '1330', '8247', '9349', '4467', '325', '4645', '3601', '3101', '3343', '2872', '5290', '9680', '8470', '8034', '5238', '7787', '8390', '6379', '9993', '5793', '9999', '9463', '7808', '6594', '4294', '5100', '3083', '9165', '9155', '6072', '7360', '1571', '2449', '8602', '9788', '6452', '9695', '7521', '7286', '2819', '2773', '6589', '9224', '1893', '1600', '8501', '2564', '2589', '8708', '6606', '5242', '7887', '8396', '2662', '6071', '1951', '1514', '3910', '0703', '4412', '5311', '1900', '6209', '3418', '7189', '7218', '7260', '2788', '7246', '2020', '5192', '4553', '7449', '5245', '7099', '1908', '4238', '6163', '3623', '2879', '5285', '3625', '5241', '1737', '5181', '5368', '1173', '5518', '1448', '6205', '2505', '6330', '0388', '452', '6250', '5334', '5581', '3349', '3370', '4938', '7367', '5790', '7152', '1602', '4284', '1128', '2883', '7011', '5643', '5881', '6463', '1468', '6710', '7546', '0949', '393', '2521', '4822', '5798', '1430', '6002', '7470', '5323', '9995', '8921', '3361', '4510', '7920', '3862', '4549', '3372', '9230', '9176', '5289', '4449', '7859', '4352', '4378', '7309', '6340', '5233', '6738', '6751', '2118', '1962', '7783', '7744', '7756', '6487', '6162', '6714', '6656', '6398', '0549', 'V650', '1966', '631', '6660', '1800', '6671', '6657', '3091', '6269', '8720', '1440', '3492', 'V765', '1363', '4264', '8738', '5234', '7510', '8310', '6959', '4610', '1877', '1941', '3055', '5724', '2111', '2867', '2303', '4830', '4040', '3542', '1421', '2112', '1630', '9882', '7960', '1740', '2302', '6351', '2988', '4515', '7238', '0530', '2733', '1869', '2938', '9390', '7283', '1503', '3564', '3027', '5969', '7359', '5996', '9110', '2398', '3530', '2776', '5180', '605', '8660', '3529', '0499', '2769', '4918', '9895', 'V242', '1727', '1750', '9152', '2061', '6282', '5962', '9290', 'V125', '4460', '5968', '8622', '7602', '8270', '4330', '8330', '3569', '9044', '5958', '4389', '7525', '0578', '9711', '7638', '8370', '8005', '0312', '3440', '8736', '0130', '1952', '2892', '8111', '8771', '9454', '7553', '3803', '2373', '2638', '7545', '0740', '0988', '2720', '9828', '2651', '1953', '8678', '6039', '8221', '3590', '2452', '7502', '6101', '3950', '5991', '3001', '2710', '5821', '3883', '9584', '3723', '4320', '5982', '5356', '7511', '5186', '8714', '6342', '6927', '8519', '1574', '8621', 'V551', '3502', '2328', '7388', '9722', '8676', '4591', '7143', '9992', '5642', '9754', '5710', '3335', '9896', '0709', '8015', '9500', '3533', '587', '8043', '9750', '3158', '9925', '9431', '1700', '6963', '9720', 'V571', '1370', '2764', '8751', '8058', '5888', '4786', '7142', '0074', '061', '6731', '9877', '7598', '8628', '0840', '8793', '8960', '2864', '8170', '7323', '5259', '2778', '0330', '2592', '2931', '0180', '4463', '4272', '4131', '5060', '9434', '6543', '6644', '9174', '8931', '9172', '2774', '2539', '6461', '2211', '9242', '8438', '4381', '6711', '5213', '5963', '6278', '2559', '6020', '5244', '5214', '5538', '5935', 'V561', '9340', '7186', '5834', '7165', '5754', '5831', '6806', '3763', '4450', '9149', '2141', '4530', '0940', '5268', '4551', '2053', '9878', '8820', '5313', '9164', '4298', '3100', '9743', '5744', '4050', '0189', '2530', '9923', '5620', '1609', '8021', '5582', '4562', '8782', '0471', '1511', '0050', '9735', '6150', '9839', '3046', '3942', '9330', '7950', '0490', '6235', '8830', '8799', '7273', '2388', '2389', '4478', '4353', 'V530', '2361', '1599', '6347', '6533', '6422', '1598', 'V298', '6426', '6390', '6552', '7765', '2190', '6514', '6212', '0541', '8786', 'V524', '6332', '6651', '7745', '6607', '1848', '1561', '2169', '7822', '7296', '1500', '2351', '1701', '6267', '5430', '3448', '3538', '5282', '2538', '0704', '1898', '9478', '4385', '1969', '3109', '7166', '7889', '6028', '6021', '7852', '8398', '3002', '3444', '8941', '9894', '2468', '3311', '3008', '3017', '2901', '3149', '0993', '8280', '8870', '4382', '8281', 'V628', '9980', '4480', '1613', '7507', '5909', '5992', 'V652', '3272', '2979', '6800', '3068', '4838', '0080', '3810', '4020', '0058', '7289', '0093', '3865', '7868', '3351', '4550', '5673', '1987', '5811', '5855', '7640', '9283', '9832', '6960', '9858', '6220', '5856', '7458', '4376', '4593', '4253', '5088', '5718', '3022', '9413', '1104', '2779', '932', '8380', '8611', '1708', '9947', '2911', '7324', '7944', '2131', '4642', '4242', '9028', '7378', '6952', '1736', '1738', '7536', '8025', '8605', '7899', '2089', '9640', '1456', '1703', '3968', '9471', '8243', '9228', '1124', '8702', '8704', '5345', '3519', '8260', '7524', '4731', '3430', '9731', '8027', '9617', '7826', '8731', '0527', '9229', '9064', '2355', '5561', '7454', '5530', '7542', '8795', '1716', '1451', '7788', '7904', '5859', '5275', '0796', '9173', '7480', '7294', '7371', '9492', '9493', '9348', '9911', '6413', '1809', '2142', '5510', '5332', '8674', '6989', '6472', '2981', '5824', '1834', '9712', '3337', '5512', '8930', '3594', '2369', '4351', '7871', '5650', '0279', 'V08', '4416', '3818', '0091', '1478', '7366', '3960', '2459', '2729', '3338', '2724', '2357', '4531', '6159', '7799', '7829', '4512', '7177', 'V586', '7179', 'V105', '1732', '2386', '2748', '6479', '7836', '7886', '7599', '7088', 'V539', '3010', '0664', '5752', '6801', '7555', '1832', '6740', '7514', '7689', '7724', 'V840', '2363', '6513', '7741', '7580', '630', '6465', '6298', '7758', '7766', '2999', '2950', '3319', '8190', 'V120', '1885', '1482', '5511', '6214', '2721', '5373', '6803', '5846', '1980', '8788', '4370', '1649', '4350', '2138', '6555', '1361', '4542', '1872', '1515', '6381', '5271', '1504', 'V715', '8033', '7061', '7526', '1100', '8479', '9146', '3754', '9871', '7269', '6663', '2164', '8362', '2137', '3561', '7364', '7910', '1726', '1488', '3628', '2535', '6928', '1739', '8715', '2353', '267', '8083', '9118', '8790', '9560', '5078', '9231', '1873', 'V558', '8739', '2703', '9121', '8409', '7063', '390', '5131', '4230', '9273', '2428', '3888', '4613', '9642', '9410', '2354', '9252', '0498', '3768', '7278', '8151', '9898', '9210', '3824', '5889', '0398', '4268', '0150', '9658', '8840', '2832', '5940', 'V638', '1569', '2790', 'V446', '3043', '2150', '9603', '6696', '7963', 'V710', '7607', '9760', '4409', '9160', '2070', '6255', '0820', '8940', '1735', '0400', 'V403', '797', '3684', '1480', '2101', '8035', '6819', '3890', '4489', '7329', 'V556', '5361', '5809', '7581', '6658', '1125', '6742', 'V270', '7422', 'V292', '7618', '7481', '1177', '3379', '4561', '2890', '2738', '1638', '3470', '7158', '5322', '6962', '4464', '4784', '4338', '5089', '3557', '5316', '5333', '9270', '7385', '3725', '5800', '2532', '3812', '8075', '3556', '9479', '8066', '7722', '3057', '8800', '3499', '6073', '7019', '2374', '3592', '3662', '1601', '7671', '7539', '9040', '5265', '5227', '9556', '3544', '7370', '3209', '1704', '0707', '2382', '3457', '8802', '5832', '4293', '8673', '2552', '460', '2002', '9401', '5644', '1414', '6439', '6860', '4789', '1521', '1159', '3911', '5563', '3794', '0270', '5719', '1729', '7901', '6599', '0661', '7235', '2558', '8471', 'V238', '6538', '7287', '9239', '5978', '2134', '1501', '5689', '6019', '7014', '2548', '0085', '7587', '1590', '7917', '6011', '2125', '3180', '9606', '1921', '7670', '1821', '6232', '4959', '6352', '6719', '1838', '6715', '7451', '7816', '1121', '1513', '6266', '3428', '3783', '3898', '8488', 'V237', '3659', '2793', '5081', '7275', '3800', '2811', '7282', '2871', '9535', '3531', '7202', '5160', '2952', '3080', '9587', '6168', '8016', '3802', '2422', '7538', '0981', '4732', '8029', '0743', '9108', '0521', '8970', '1552', '8639', '8744', '3336', '8003', '8101', '8047', '9175', '5649', '8063', '4375', '1106', '6248', '4430', '9551', '8009', '3765', '0792', '8013', '2699', '9521', '3350', '8672', '8902', '1922', '2443', '8951', '8405', '9618', '4519', '9024', '2110', '4733', '8761', '7867', '8541', '0071', '7039', '9671', '4290', '9039', '7828', '7307', '8620', '2915', '9987', '6692', '7896', '0943', '5327', '9881', '4570', '9061', '3054', '9691', '9244', '8700', 'V234', '5929', '9696', '317', '6954', '3610', '3012', '7176', '6809', '3621', '9289', '7938', '6228', 'V073', '1307', '1968', '9232', '3820', 'V675', '2978', '7187', '6119', '7764', '7472', '6421', '9392', '6148', '7815', '3007', '3077', '5063', '1498', '3321', '8972', '3182', '9589', '7297', '3381', '1413', '4332', '2850', '3383', '3412', '8201', '6018', '7683', '2841', '5645', '9177', '5810', '3730', '0048', '7318', '5340', '639', '5111', '6490', '0980', '7649', '2308', '7593', '7964', '9470', '3698', '9528', '8716', '8123', '7442', '2372', '9631', '7676', '2199', '2540', '6950', '2158', '9524', '8770', '3308', '3015', '2726', '3789', 'V704', '3814', '7473', '8180', '0412', '9393', '3460', '1718', '3709', '2881', '7517', '7530', '3421', '1009', '4473', '9220', '1368', '6901', '7817', '9522', '5296', '9404', '5854', '4722', '1573', '7325', '2014', '5193', '5799', '7192', '5375', '8071', 'V452', '5838', '9608', 'V443', '8361', '2886', '7923', '5276', 'E936', 'V158', '3029', '1462', '7196', 'V211', '2232', '8517', '2961', '7999', '2008', 'V235', '6495', '6215', '6494', '7310', '6551', '6562', '6493', '3044', '3073', '1450', '5224', '8780', '7936', '5808', '4011', '5999', '8783', '9169', '8406', '2741', '2799', '6348', '6496', '911', '5344', '3382', '7172', '7052', '6178', '7199', '8484', '2015', '2533', '1971', '8781', '9831', '6083', '7541', '3454', '1901', '1906', '9820', '2580', '3970', '7320', '1642', '9047', '5284', '8065', '7564', '5231', '262', '7551', '1612', '8630', '8634', '4564', '2771', '6491', '5336', '2555', '4379', '3619', '9799', '2551', 'V702', '2168', '6174', '7141', '7217', '3089', '5206', '1730', '9472', '7249', '5286', '5764', '1455', '5330', '5360', '6802', '7687', '6289', '6763', '6224', '6219', '6187', '8732', '0039', '8381', '2448', '8483', '217', '9051', '735', '7484', '9926', '3108', '3788', '4780', '3795', '9008', '5279', '7831', '6981', '9943', '2136', '3775', '9619', '8006', '2117', '0271', '9876', '1720', '6926', '9136', '8300', '8371', '3384', '4802', 'V688', '8717', '9441', '7163', '6145', '0219', '5755', '1452', '9421', '8394', '9181', '2304', '6361', '9070', 'V213', '3949', '2088', '6530', '9350', '0948', '8842', '3798', '6206', '8974', '6492', '8089', '2440', '9072', '4420', '2718', '2831', '9823', '2038', '6614', '2885', '3051', '1123', '6940', '8085', '8635', '7934', '817?', '7247', '2122', '3368', '5369', '2060', '2553', '9890', '3859', '7303', '1728', '9025', '7488', '7467', '9170', '9067', '8321', '7102', '5993', 'V528', '5948', '9115', '327?', '9116', '9190', '7193', '7609', '7352', '1905', '3342', '0748', '7523', 'V017', '4233', '9919', '3315', 'V438', '4441', '4650', 'V632', '5734', '9683', '7780', '7603', '6512', '0582', '2383', '4730', '7594', '9033', '8851', '2026', '7958', '3234', '5564', '4470', '7932', '6357', '9131', '6648', '9102', '7506', '1502', '2007', '3014', '9994', 'V720', '7173', '9741', '6469', '1401', '3410', 'V555', '5069', '1928', '3636', '5260', '2155', '9761', '2027', '9157', '6646', '9159', '3568', '0410', '1103', 'V442', '7489', 'V164', '7421', '4566', '8441', '3069', '1643', '2732', '7528', '9766', '3750', '9105', '7093', '9914', '9579', '3200', '9989', '7519', '8671', '500', 'V707', '2897', '5335', '1489', '8469', '7198', '8726', '3813', '6634', '9747', '5343', '2371', '2828', '9278', '7028', '0109', '6588', '9751', '8745', '6553', '9648', '7335', '9615', '6590', '3491', '0135', '8531', '0108', '0780', '4640', '9300', 'V202', '4748', '0319', 'V660', '7591', '7621', '3181', '7935', 'V169', '5262', '2878', 'V409', '2423', '7281', '5949', '8523', '2458', '9464', '8420', '1269', '7081', '1101', '7105', '6254', '2004', '7715', '8018', '2058', '1105', '3951', '7750', '9757', '7520', '1400', '8733', '2891', '7894', '7533', '3961', '9553', '2327', '8784', '1516', 'V461', '9770', '5194', '7486', '6949', '2005', '7903', '2165', '8872', '8473', '9870', '3833', '9060', '7550', '6639', '6712', 'V108', '676?', '7109', '6516', '9198', '9120', '8679', 'V719', '2922', '2630', '2356', '5760', '3809', '7778', '9730', '475?', '3680', '8740', '9126', '9113', '7083', '5277', '7150', '9849', '7501', 'V265', '5853', '7540', '2940', '3052', 'V510', '2090', '2094', '1412', '3892', '6102', '6497', '3203', '7626', '7628', 'V665', '3919', '6257', 'V163', '7877', '1453', '7170', '1746', '6272', '5169', '9530', '2096', '7558', '9019', '9402', '7164', '2092', '9710', '0318', '5258', '9744', '2840', '6192', '2049', '3792', '3729', '4911', '8400', '4800', '4170', '3463', '2154', '7930', '9614', '4718', '1108', '7149', '1398', '7953', '3523', '0995', '9178', '5252', '2750', '3885', '4958', '3697', '4431', '2078', '7308', '3467', '7328', '1320', '3380', '0414', '3790', '0783', '6920', '2794', '7482', '9171', 'V130', 'E888', '8411', '7937', '6121', 'V518', '8485', '2813', '2003', '7601', '6554', '7730', '7108', '5064', '0416', '3132', '6690', '9534', '3548', '2528', '9048', '3656', '2728', 'E934', '8841', '2513', '7232', '8521', '2730', '7582', '9582', '4458', '8045', '7908', '2091', '7358', '1469', '5966', '3493', '3869', '3340', '7365', '9279', '7711', '9563', '9145', '6234', '8504', '3920', '2301', '0391', '9659', 'V583', '7504', '2492', '6230', '6216', '6649', '7589', '9808', '3393', '7180', '8797', '9193', '9657', '9880', '0570', '9571', '6252', '2364', '5880', '0364', '1270', '2698', '700', '2348', '4479', '8081', '6371', '6780', '2059', '2777', '4881', '8787', '8727', '2853', '9889', '6701', '1958', '4535', '6688', '2358', '6176', '2025', '4162', '0793', '2491', '2690', '2652', '2300', '4404', '7605', '7527', '6702', '9733', 'V420', '4536', '4880', '7091', '1310', '7135', '8871', '8041', '2515', '4537', '2393', '8053', '2702', '2498', '3604', '3028', '2661', '0160', '9074', '2095', '7897', '3884', '9539', '7585', '7544', '7576', 'E880', '6693', '2739', 'V160', '0588', '6943', '6120', '3644', '8004', '5697', '2334', 'V291', 'E947', '7082', '3552', '0915', '7660', 'V654', '9054', '7662', '9600', '6983', '7811', '4808', '4415', '2153', '5970', '6237', '2219', '5247', '2499', '9082', '7969', '9194', '8366', 'V653', '3060', '9163', '2490', '1605', '4339', '9045', '8057', '9135', '9888', '3774', '0031', '0360', '7583', '0879', '9755', '8418', '3929', '8721', '6356', '9309', '8291', '2792', '2097', '0032', '6031', '2772', '6396', 'V641', 'V078', '5792', '1000', '4770', '8421', '2631', 'V230', '6652', '6923', 'V029', '0392', '7942', 'V600', '6931', '5341', '9933', 'V360', '3712', '2350', '0863', '1841', 'V812', '0790', '2119', '2451', 'E917', 'E885', '9009', '2093', '3452', '9430', '3273', '3419', '5230', '7285', 'V612', '7450', '2549', '9942', '6360', '3390', '6229', '9954', '2107', '7940', '4477', '8691', '6169', '9444', '2731', '0979', 'V726', '1761', '2048', '6223', '7351', '5584', '6471', '7015', '2006', 'V023', '5278', '7313', 'V440', '9021', 'V522', '7136', '4472', '9405', '3796', '6699', '7900', '3739', '0261', '2537', '3392', '7814', '6680', '6708', '2332', '1415', 'V590', '9179', '1705', 'V838', '2795', '1429', '9018', '4779', '7569', '9424', '1839', 'V330', '6108', '0839', '2312', '6265', '9664', '8512', '4541', '6358', 'V311', '5828', '5964', '504', '6807', '3443', '8322', '2290', 'V681', 'V535', '7661', '2942', '5390', '8048', 'V048', 'V890', '6293', '6559', '7175', '7608', '6113', '538', '3769', '4031', '7961', '6498', '3536', '9140', '9180', '3793', '7570', '5082', '9803', '3398', '138', '6318', '6517', '4380', '9101', 'V620', '8451', '6227', '6730', '3579', '1899', '2775', '0985', '9949', '6691', '0300', '5200', '9260', '6636', '2359', '6529', '9414', '7044', '5122', '4533', 'V860', '7429', '9138', '9996', '7874', '0120', '0914', '1842', '1860', '3082', '6539', '3153', '2713', 'V502', '3574', 'V708', '3545', '2534', '8171', 'V701', '2689', '3509', 'V604', '1129', '4888', '2812', '9892', '9632', '8391', '0538', '9013', '6650', '1620', '6984', '7374', 'V025', '9859', '6470', '6532', '3741', '5398', 'V716', '0794', '9055', '0272', 'V713', '6367', '6204', '2755', '5166', '7216', '8271', '3766', '1764', 'V282', 'V453', '3053', '9620', 'V109', '7072', '3740', '9465', '5513', '2700', '6377', '9042', '3868', '316', '8038', '7767', '6203', '101', '3702', 'V664', '1272', '7611', '9147', '4179', 'V140', 'V232', '3522', '4386', '2884', '8040', '3121', '501', 'V161', '7792', '8713', '0049', '3221', 'V663', '6100', '0520', '9020', '9557', '0830', '096', '9848', '4846', '5173', 'V559', 'V691', '3642', '7284', 'V293', '3637', 'E933', '6245', '2955', '3236', '3969', '3597', '6537', '6703', '990', '8876', '0052', '7171', '0043', 'V072', 'V639', '9083', '9141', '0040', '2692', '3842']\n"
     ]
    }
   ],
   "source": [
    "for t, _ in types.items():\n",
    "    print(t, list(df4[t].unique()))"
   ]
  },
  {
   "cell_type": "code",
   "execution_count": 34,
   "metadata": {},
   "outputs": [],
   "source": [
    "df4 = df4.astype(types)"
   ]
  },
  {
   "cell_type": "code",
   "execution_count": 35,
   "metadata": {},
   "outputs": [
    {
     "data": {
      "text/html": [
       "<div>\n",
       "<style scoped>\n",
       "    .dataframe tbody tr th:only-of-type {\n",
       "        vertical-align: middle;\n",
       "    }\n",
       "\n",
       "    .dataframe tbody tr th {\n",
       "        vertical-align: top;\n",
       "    }\n",
       "\n",
       "    .dataframe thead th {\n",
       "        text-align: right;\n",
       "    }\n",
       "</style>\n",
       "<table border=\"1\" class=\"dataframe\">\n",
       "  <thead>\n",
       "    <tr style=\"text-align: right;\">\n",
       "      <th></th>\n",
       "      <th>pay_ub92</th>\n",
       "      <th>age</th>\n",
       "      <th>sex</th>\n",
       "      <th>provider</th>\n",
       "      <th>moa</th>\n",
       "      <th>yoa</th>\n",
       "      <th>admtype</th>\n",
       "      <th>asource</th>\n",
       "      <th>tot</th>\n",
       "      <th>pt_state</th>\n",
       "      <th>diag_adm</th>\n",
       "      <th>campus</th>\n",
       "      <th>er_mode</th>\n",
       "      <th>race</th>\n",
       "      <th>diag_cat3</th>\n",
       "      <th>diag_cat4</th>\n",
       "    </tr>\n",
       "  </thead>\n",
       "  <tbody>\n",
       "    <tr>\n",
       "      <th>282340</th>\n",
       "      <td>6</td>\n",
       "      <td>87.0</td>\n",
       "      <td>2</td>\n",
       "      <td>10</td>\n",
       "      <td>2</td>\n",
       "      <td>5</td>\n",
       "      <td>1</td>\n",
       "      <td>7</td>\n",
       "      <td>3412.0</td>\n",
       "      <td>RI</td>\n",
       "      <td>486</td>\n",
       "      <td>0</td>\n",
       "      <td>0</td>\n",
       "      <td>1</td>\n",
       "      <td>486</td>\n",
       "      <td>486</td>\n",
       "    </tr>\n",
       "    <tr>\n",
       "      <th>282341</th>\n",
       "      <td>6</td>\n",
       "      <td>38.0</td>\n",
       "      <td>1</td>\n",
       "      <td>10</td>\n",
       "      <td>2</td>\n",
       "      <td>5</td>\n",
       "      <td>1</td>\n",
       "      <td>7</td>\n",
       "      <td>4132.0</td>\n",
       "      <td>RI</td>\n",
       "      <td>5128</td>\n",
       "      <td>0</td>\n",
       "      <td>0</td>\n",
       "      <td>1</td>\n",
       "      <td>512</td>\n",
       "      <td>5128</td>\n",
       "    </tr>\n",
       "    <tr>\n",
       "      <th>282342</th>\n",
       "      <td>6</td>\n",
       "      <td>22.0</td>\n",
       "      <td>2</td>\n",
       "      <td>10</td>\n",
       "      <td>2</td>\n",
       "      <td>5</td>\n",
       "      <td>1</td>\n",
       "      <td>9</td>\n",
       "      <td>12583.0</td>\n",
       "      <td>RI</td>\n",
       "      <td>29650</td>\n",
       "      <td>0</td>\n",
       "      <td>0</td>\n",
       "      <td>1</td>\n",
       "      <td>296</td>\n",
       "      <td>2965</td>\n",
       "    </tr>\n",
       "    <tr>\n",
       "      <th>282343</th>\n",
       "      <td>6</td>\n",
       "      <td>45.0</td>\n",
       "      <td>2</td>\n",
       "      <td>10</td>\n",
       "      <td>1</td>\n",
       "      <td>5</td>\n",
       "      <td>1</td>\n",
       "      <td>7</td>\n",
       "      <td>17462.0</td>\n",
       "      <td>RI</td>\n",
       "      <td>7850</td>\n",
       "      <td>0</td>\n",
       "      <td>0</td>\n",
       "      <td>1</td>\n",
       "      <td>785</td>\n",
       "      <td>7850</td>\n",
       "    </tr>\n",
       "    <tr>\n",
       "      <th>282344</th>\n",
       "      <td>6</td>\n",
       "      <td>26.0</td>\n",
       "      <td>2</td>\n",
       "      <td>10</td>\n",
       "      <td>1</td>\n",
       "      <td>5</td>\n",
       "      <td>2</td>\n",
       "      <td>1</td>\n",
       "      <td>10357.0</td>\n",
       "      <td>RI</td>\n",
       "      <td>650</td>\n",
       "      <td>0</td>\n",
       "      <td>0</td>\n",
       "      <td>9</td>\n",
       "      <td>650</td>\n",
       "      <td>650</td>\n",
       "    </tr>\n",
       "  </tbody>\n",
       "</table>\n",
       "</div>"
      ],
      "text/plain": [
       "        pay_ub92   age  sex  provider  moa  yoa  admtype asource      tot  \\\n",
       "282340         6  87.0    2        10    2    5        1       7   3412.0   \n",
       "282341         6  38.0    1        10    2    5        1       7   4132.0   \n",
       "282342         6  22.0    2        10    2    5        1       9  12583.0   \n",
       "282343         6  45.0    2        10    1    5        1       7  17462.0   \n",
       "282344         6  26.0    2        10    1    5        2       1  10357.0   \n",
       "\n",
       "       pt_state diag_adm campus  er_mode  race diag_cat3 diag_cat4  \n",
       "282340       RI      486      0        0     1       486       486  \n",
       "282341       RI     5128      0        0     1       512      5128  \n",
       "282342       RI    29650      0        0     1       296      2965  \n",
       "282343       RI     7850      0        0     1       785      7850  \n",
       "282344       RI      650      0        0     9       650       650  "
      ]
     },
     "execution_count": 35,
     "metadata": {},
     "output_type": "execute_result"
    }
   ],
   "source": [
    "df4.head()"
   ]
  },
  {
   "cell_type": "code",
   "execution_count": 36,
   "metadata": {
    "scrolled": true
   },
   "outputs": [
    {
     "name": "stdout",
     "output_type": "stream",
     "text": [
      "<class 'pandas.core.frame.DataFrame'>\n",
      "Int64Index: 1260006 entries, 282340 to 1544746\n",
      "Data columns (total 16 columns):\n",
      "pay_ub92     1260006 non-null int8\n",
      "age          1260006 non-null float16\n",
      "sex          1260006 non-null int8\n",
      "provider     1260006 non-null int8\n",
      "moa          1260006 non-null int8\n",
      "yoa          1260006 non-null int8\n",
      "admtype      1260006 non-null int8\n",
      "asource      1260006 non-null category\n",
      "tot          1260006 non-null float64\n",
      "pt_state     1260006 non-null category\n",
      "diag_adm     1260006 non-null category\n",
      "campus       1260006 non-null category\n",
      "er_mode      1260006 non-null int8\n",
      "race         1260006 non-null int8\n",
      "diag_cat3    1260006 non-null category\n",
      "diag_cat4    1260006 non-null category\n",
      "dtypes: category(6), float16(1), float64(1), int8(8)\n",
      "memory usage: 42.7 MB\n"
     ]
    }
   ],
   "source": [
    "df4.info()"
   ]
  },
  {
   "cell_type": "markdown",
   "metadata": {},
   "source": [
    "Print out datatypes as a dictionary to make importing easier in the next notebook"
   ]
  },
  {
   "cell_type": "code",
   "execution_count": 37,
   "metadata": {
    "scrolled": true
   },
   "outputs": [
    {
     "name": "stdout",
     "output_type": "stream",
     "text": [
      "{'admtype': 'int8',\n",
      " 'age': 'float16',\n",
      " 'asource': 'category',\n",
      " 'campus': 'category',\n",
      " 'diag_adm': 'category',\n",
      " 'diag_cat3': 'category',\n",
      " 'diag_cat4': 'category',\n",
      " 'er_mode': 'int8',\n",
      " 'moa': 'int8',\n",
      " 'pay_ub92': 'int8',\n",
      " 'provider': 'int8',\n",
      " 'pt_state': 'category',\n",
      " 'race': 'int8',\n",
      " 'sex': 'int8',\n",
      " 'tot': 'float64',\n",
      " 'yoa': 'int8'}\n"
     ]
    }
   ],
   "source": [
    "dtypes = df4.dtypes\n",
    "dt = {}\n",
    "for i in range(len(dtypes)):\n",
    "    dt[dtypes.index[i]] = str(dtypes.iloc[i])\n",
    "pprint(dt)"
   ]
  },
  {
   "cell_type": "markdown",
   "metadata": {},
   "source": [
    "## Filter Data"
   ]
  },
  {
   "cell_type": "code",
   "execution_count": 38,
   "metadata": {},
   "outputs": [],
   "source": [
    "#df4.to_csv(\"df_cleansed2_all.csv\", index=False)"
   ]
  },
  {
   "cell_type": "code",
   "execution_count": 39,
   "metadata": {},
   "outputs": [],
   "source": [
    "df4 = df4[df4.tot <= 30000]"
   ]
  },
  {
   "cell_type": "markdown",
   "metadata": {},
   "source": [
    "## Save to CSV"
   ]
  },
  {
   "cell_type": "code",
   "execution_count": 40,
   "metadata": {},
   "outputs": [],
   "source": [
    "#df_sample = df4.sample(20000, random_state=0)"
   ]
  },
  {
   "cell_type": "code",
   "execution_count": 41,
   "metadata": {},
   "outputs": [],
   "source": [
    "#df_sample.to_csv(\"df_sample_cleansed2.csv\", index=False)"
   ]
  },
  {
   "cell_type": "code",
   "execution_count": 42,
   "metadata": {},
   "outputs": [],
   "source": [
    "#df4.to_csv(\"df_cleansed2.csv\", index=False)"
   ]
  },
  {
   "cell_type": "markdown",
   "metadata": {},
   "source": []
  }
 ],
 "metadata": {
  "kernelspec": {
   "display_name": "Python 3",
   "language": "python",
   "name": "python3"
  },
  "language_info": {
   "codemirror_mode": {
    "name": "ipython",
    "version": 3
   },
   "file_extension": ".py",
   "mimetype": "text/x-python",
   "name": "python",
   "nbconvert_exporter": "python",
   "pygments_lexer": "ipython3",
   "version": "3.7.0"
  }
 },
 "nbformat": 4,
 "nbformat_minor": 2
}
