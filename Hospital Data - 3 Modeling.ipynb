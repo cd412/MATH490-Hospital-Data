{
 "cells": [
  {
   "cell_type": "code",
   "execution_count": 3,
   "metadata": {},
   "outputs": [],
   "source": [
    "import numpy as np\n",
    "import pandas as pd\n",
    "import matplotlib.pyplot as plt\n",
    "from pprint import pprint\n",
    "%matplotlib inline\n",
    "plt.style.use('ggplot')"
   ]
  },
  {
   "cell_type": "markdown",
   "metadata": {},
   "source": [
    "Import dataset"
   ]
  },
  {
   "cell_type": "code",
   "execution_count": 4,
   "metadata": {},
   "outputs": [],
   "source": [
    "dtype = {'admtype': 'int8',\n",
    " 'age': 'float16',\n",
    " 'asource': 'category',\n",
    " 'campus': 'category',\n",
    " 'diag_adm': 'category',\n",
    " 'diag_cat3': 'category',\n",
    " 'diag_cat4': 'category',\n",
    " 'er_mode': 'int8',\n",
    " 'moa': 'int8',\n",
    " 'pay_ub92': 'int8',\n",
    " 'provider': 'int8',\n",
    " 'pt_state': 'category',\n",
    " 'race': 'int8',\n",
    " 'sex': 'int8',\n",
    " 'tot': 'float64',\n",
    " 'yoa': 'int8'}"
   ]
  },
  {
   "cell_type": "code",
   "execution_count": 5,
   "metadata": {
    "scrolled": true
   },
   "outputs": [],
   "source": [
    "df0 = pd.read_csv('df_sample_cleansed.csv', dtype=dtype, low_memory=False)\n",
    "#df0 = pd.read_csv('df_cleansed.csv', dtype=dtype, low_memory=False)\n",
    "#df3 = pd.read_csv('df_sample_coded.csv', low_memory=False)\n",
    "#df3 = pd.read_csv('df_binary.csv', low_memory=False)\n",
    "#df3 = pd.read_csv('df3_arrival.csv', low_memory=False)"
   ]
  },
  {
   "cell_type": "code",
   "execution_count": 6,
   "metadata": {},
   "outputs": [],
   "source": [
    "#df3 = df3.drop(['Unnamed: 0'], axis='columns')"
   ]
  },
  {
   "cell_type": "code",
   "execution_count": 7,
   "metadata": {},
   "outputs": [
    {
     "data": {
      "text/html": [
       "<div>\n",
       "<style scoped>\n",
       "    .dataframe tbody tr th:only-of-type {\n",
       "        vertical-align: middle;\n",
       "    }\n",
       "\n",
       "    .dataframe tbody tr th {\n",
       "        vertical-align: top;\n",
       "    }\n",
       "\n",
       "    .dataframe thead th {\n",
       "        text-align: right;\n",
       "    }\n",
       "</style>\n",
       "<table border=\"1\" class=\"dataframe\">\n",
       "  <thead>\n",
       "    <tr style=\"text-align: right;\">\n",
       "      <th></th>\n",
       "      <th>pay_ub92</th>\n",
       "      <th>age</th>\n",
       "      <th>sex</th>\n",
       "      <th>provider</th>\n",
       "      <th>moa</th>\n",
       "      <th>yoa</th>\n",
       "      <th>admtype</th>\n",
       "      <th>asource</th>\n",
       "      <th>tot</th>\n",
       "      <th>pt_state</th>\n",
       "      <th>diag_adm</th>\n",
       "      <th>campus</th>\n",
       "      <th>er_mode</th>\n",
       "      <th>race</th>\n",
       "      <th>diag_cat3</th>\n",
       "      <th>diag_cat4</th>\n",
       "    </tr>\n",
       "  </thead>\n",
       "  <tbody>\n",
       "    <tr>\n",
       "      <th>0</th>\n",
       "      <td>10</td>\n",
       "      <td>0.0</td>\n",
       "      <td>1</td>\n",
       "      <td>9</td>\n",
       "      <td>4</td>\n",
       "      <td>8</td>\n",
       "      <td>4</td>\n",
       "      <td>S</td>\n",
       "      <td>2152.0</td>\n",
       "      <td>RI</td>\n",
       "      <td>V3000</td>\n",
       "      <td>0</td>\n",
       "      <td>0</td>\n",
       "      <td>1</td>\n",
       "      <td>V30</td>\n",
       "      <td>V300</td>\n",
       "    </tr>\n",
       "    <tr>\n",
       "      <th>1</th>\n",
       "      <td>9</td>\n",
       "      <td>58.0</td>\n",
       "      <td>1</td>\n",
       "      <td>9</td>\n",
       "      <td>5</td>\n",
       "      <td>6</td>\n",
       "      <td>1</td>\n",
       "      <td>7</td>\n",
       "      <td>5388.0</td>\n",
       "      <td>RI</td>\n",
       "      <td>0088</td>\n",
       "      <td>0</td>\n",
       "      <td>0</td>\n",
       "      <td>1</td>\n",
       "      <td>008</td>\n",
       "      <td>0088</td>\n",
       "    </tr>\n",
       "    <tr>\n",
       "      <th>2</th>\n",
       "      <td>9</td>\n",
       "      <td>36.0</td>\n",
       "      <td>2</td>\n",
       "      <td>13</td>\n",
       "      <td>3</td>\n",
       "      <td>5</td>\n",
       "      <td>3</td>\n",
       "      <td>1</td>\n",
       "      <td>6422.0</td>\n",
       "      <td>MA</td>\n",
       "      <td>65423</td>\n",
       "      <td>0</td>\n",
       "      <td>0</td>\n",
       "      <td>1</td>\n",
       "      <td>654</td>\n",
       "      <td>6542</td>\n",
       "    </tr>\n",
       "    <tr>\n",
       "      <th>3</th>\n",
       "      <td>8</td>\n",
       "      <td>22.0</td>\n",
       "      <td>1</td>\n",
       "      <td>16</td>\n",
       "      <td>10</td>\n",
       "      <td>11</td>\n",
       "      <td>1</td>\n",
       "      <td>A</td>\n",
       "      <td>10453.0</td>\n",
       "      <td>RI</td>\n",
       "      <td>29633</td>\n",
       "      <td>0</td>\n",
       "      <td>4</td>\n",
       "      <td>5</td>\n",
       "      <td>296</td>\n",
       "      <td>2963</td>\n",
       "    </tr>\n",
       "    <tr>\n",
       "      <th>4</th>\n",
       "      <td>99</td>\n",
       "      <td>74.0</td>\n",
       "      <td>2</td>\n",
       "      <td>1</td>\n",
       "      <td>12</td>\n",
       "      <td>13</td>\n",
       "      <td>1</td>\n",
       "      <td>1</td>\n",
       "      <td>6510.0</td>\n",
       "      <td>RI</td>\n",
       "      <td>29651</td>\n",
       "      <td>0</td>\n",
       "      <td>0</td>\n",
       "      <td>2</td>\n",
       "      <td>296</td>\n",
       "      <td>2965</td>\n",
       "    </tr>\n",
       "  </tbody>\n",
       "</table>\n",
       "</div>"
      ],
      "text/plain": [
       "   pay_ub92   age  sex  provider  moa  yoa  admtype asource      tot pt_state  \\\n",
       "0        10   0.0    1         9    4    8        4       S   2152.0       RI   \n",
       "1         9  58.0    1         9    5    6        1       7   5388.0       RI   \n",
       "2         9  36.0    2        13    3    5        3       1   6422.0       MA   \n",
       "3         8  22.0    1        16   10   11        1       A  10453.0       RI   \n",
       "4        99  74.0    2         1   12   13        1       1   6510.0       RI   \n",
       "\n",
       "  diag_adm campus  er_mode  race diag_cat3 diag_cat4  \n",
       "0    V3000      0        0     1       V30      V300  \n",
       "1     0088      0        0     1       008      0088  \n",
       "2    65423      0        0     1       654      6542  \n",
       "3    29633      0        4     5       296      2963  \n",
       "4    29651      0        0     2       296      2965  "
      ]
     },
     "execution_count": 7,
     "metadata": {},
     "output_type": "execute_result"
    }
   ],
   "source": [
    "df0.head()"
   ]
  },
  {
   "cell_type": "code",
   "execution_count": 8,
   "metadata": {
    "scrolled": true
   },
   "outputs": [
    {
     "name": "stdout",
     "output_type": "stream",
     "text": [
      "<class 'pandas.core.frame.DataFrame'>\n",
      "RangeIndex: 10000 entries, 0 to 9999\n",
      "Data columns (total 16 columns):\n",
      "pay_ub92     10000 non-null int8\n",
      "age          10000 non-null float16\n",
      "sex          10000 non-null int8\n",
      "provider     10000 non-null int8\n",
      "moa          10000 non-null int8\n",
      "yoa          10000 non-null int8\n",
      "admtype      10000 non-null int8\n",
      "asource      10000 non-null category\n",
      "tot          10000 non-null float64\n",
      "pt_state     10000 non-null category\n",
      "diag_adm     10000 non-null category\n",
      "campus       10000 non-null category\n",
      "er_mode      10000 non-null int8\n",
      "race         10000 non-null int8\n",
      "diag_cat3    10000 non-null category\n",
      "diag_cat4    10000 non-null category\n",
      "dtypes: category(6), float16(1), float64(1), int8(8)\n",
      "memory usage: 388.4 KB\n"
     ]
    }
   ],
   "source": [
    "df0.info()"
   ]
  },
  {
   "cell_type": "code",
   "execution_count": 9,
   "metadata": {},
   "outputs": [
    {
     "data": {
      "text/plain": [
       "pay_ub92     0\n",
       "age          0\n",
       "sex          0\n",
       "provider     0\n",
       "moa          0\n",
       "yoa          0\n",
       "admtype      0\n",
       "asource      0\n",
       "tot          0\n",
       "pt_state     0\n",
       "diag_adm     0\n",
       "campus       0\n",
       "er_mode      0\n",
       "race         0\n",
       "diag_cat3    0\n",
       "diag_cat4    0\n",
       "dtype: int64"
      ]
     },
     "execution_count": 9,
     "metadata": {},
     "output_type": "execute_result"
    }
   ],
   "source": [
    "df0.isna().sum()"
   ]
  },
  {
   "cell_type": "code",
   "execution_count": null,
   "metadata": {},
   "outputs": [],
   "source": []
  },
  {
   "cell_type": "code",
   "execution_count": null,
   "metadata": {},
   "outputs": [],
   "source": []
  },
  {
   "cell_type": "markdown",
   "metadata": {},
   "source": [
    "## Transformation"
   ]
  },
  {
   "cell_type": "code",
   "execution_count": 10,
   "metadata": {},
   "outputs": [],
   "source": [
    "df1 = df0.copy()"
   ]
  },
  {
   "cell_type": "code",
   "execution_count": 11,
   "metadata": {},
   "outputs": [],
   "source": [
    "def simplify_state(df):\n",
    "    \"\"\"Group states\"\"\"\n",
    "    state_codes = ['RI', 'MA', 'NY', 'FL', '9']\n",
    "    df.pt_state = df.pt_state.cat.set_categories(state_codes)\n",
    "    df.pt_state = df.pt_state.fillna('9')\n",
    "    return df"
   ]
  },
  {
   "cell_type": "code",
   "execution_count": 12,
   "metadata": {},
   "outputs": [],
   "source": [
    "def simplify_age(df):\n",
    "    \"\"\"Reduce ages over 100 to 100\"\"\"\n",
    "    df.age = df.age.where(df.age < 100, other=100)\n",
    "    return df"
   ]
  },
  {
   "cell_type": "code",
   "execution_count": 13,
   "metadata": {},
   "outputs": [],
   "source": [
    "def categorize_target(df):\n",
    "    \"\"\"Create a binary target variable\"\"\"\n",
    "    tgt = df.tot > 25000\n",
    "    df = df.assign(high_cost=tgt.values)\n",
    "    return df"
   ]
  },
  {
   "cell_type": "code",
   "execution_count": 14,
   "metadata": {},
   "outputs": [],
   "source": [
    "def transform_features(df):\n",
    "    \"\"\"Execute transformations\"\"\"\n",
    "    df = simplify_state(df)\n",
    "    df = simplify_age(df)\n",
    "    df = categorize_target(df)\n",
    "    return df"
   ]
  },
  {
   "cell_type": "code",
   "execution_count": 15,
   "metadata": {},
   "outputs": [],
   "source": [
    "df1 = transform_features(df1)"
   ]
  },
  {
   "cell_type": "markdown",
   "metadata": {},
   "source": [
    "## Feature Selection"
   ]
  },
  {
   "cell_type": "code",
   "execution_count": 16,
   "metadata": {},
   "outputs": [],
   "source": [
    "drop_col = ['diag_adm', 'diag_cat4', 'high_cost']\n",
    "df2 = df1.drop(drop_col, axis=1)"
   ]
  },
  {
   "cell_type": "markdown",
   "metadata": {},
   "source": [
    "## One-Hot-Encoding"
   ]
  },
  {
   "cell_type": "code",
   "execution_count": 17,
   "metadata": {},
   "outputs": [],
   "source": [
    "col = ['pay_ub92', 'provider', 'admtype', 'asource', 'pt_state', 'campus', 'er_mode', 'race', 'diag_cat3']\n",
    "df2 = pd.get_dummies(df2, columns=col, prefix=col)"
   ]
  },
  {
   "cell_type": "markdown",
   "metadata": {},
   "source": [
    "## Split data set into Train and Test"
   ]
  },
  {
   "cell_type": "code",
   "execution_count": 18,
   "metadata": {},
   "outputs": [
    {
     "data": {
      "text/html": [
       "<div>\n",
       "<style scoped>\n",
       "    .dataframe tbody tr th:only-of-type {\n",
       "        vertical-align: middle;\n",
       "    }\n",
       "\n",
       "    .dataframe tbody tr th {\n",
       "        vertical-align: top;\n",
       "    }\n",
       "\n",
       "    .dataframe thead th {\n",
       "        text-align: right;\n",
       "    }\n",
       "</style>\n",
       "<table border=\"1\" class=\"dataframe\">\n",
       "  <thead>\n",
       "    <tr style=\"text-align: right;\">\n",
       "      <th></th>\n",
       "      <th>age</th>\n",
       "      <th>sex</th>\n",
       "      <th>moa</th>\n",
       "      <th>yoa</th>\n",
       "      <th>tot</th>\n",
       "      <th>pay_ub92_1</th>\n",
       "      <th>pay_ub92_2</th>\n",
       "      <th>pay_ub92_3</th>\n",
       "      <th>pay_ub92_4</th>\n",
       "      <th>pay_ub92_6</th>\n",
       "      <th>...</th>\n",
       "      <th>diag_cat3_V55</th>\n",
       "      <th>diag_cat3_V57</th>\n",
       "      <th>diag_cat3_V58</th>\n",
       "      <th>diag_cat3_V59</th>\n",
       "      <th>diag_cat3_V62</th>\n",
       "      <th>diag_cat3_V63</th>\n",
       "      <th>diag_cat3_V66</th>\n",
       "      <th>diag_cat3_V70</th>\n",
       "      <th>diag_cat3_V71</th>\n",
       "      <th>diag_cat3_XXX</th>\n",
       "    </tr>\n",
       "  </thead>\n",
       "  <tbody>\n",
       "    <tr>\n",
       "      <th>0</th>\n",
       "      <td>0.0</td>\n",
       "      <td>1</td>\n",
       "      <td>4</td>\n",
       "      <td>8</td>\n",
       "      <td>2152.0</td>\n",
       "      <td>0</td>\n",
       "      <td>0</td>\n",
       "      <td>0</td>\n",
       "      <td>0</td>\n",
       "      <td>0</td>\n",
       "      <td>...</td>\n",
       "      <td>0</td>\n",
       "      <td>0</td>\n",
       "      <td>0</td>\n",
       "      <td>0</td>\n",
       "      <td>0</td>\n",
       "      <td>0</td>\n",
       "      <td>0</td>\n",
       "      <td>0</td>\n",
       "      <td>0</td>\n",
       "      <td>0</td>\n",
       "    </tr>\n",
       "    <tr>\n",
       "      <th>1</th>\n",
       "      <td>58.0</td>\n",
       "      <td>1</td>\n",
       "      <td>5</td>\n",
       "      <td>6</td>\n",
       "      <td>5388.0</td>\n",
       "      <td>0</td>\n",
       "      <td>0</td>\n",
       "      <td>0</td>\n",
       "      <td>0</td>\n",
       "      <td>0</td>\n",
       "      <td>...</td>\n",
       "      <td>0</td>\n",
       "      <td>0</td>\n",
       "      <td>0</td>\n",
       "      <td>0</td>\n",
       "      <td>0</td>\n",
       "      <td>0</td>\n",
       "      <td>0</td>\n",
       "      <td>0</td>\n",
       "      <td>0</td>\n",
       "      <td>0</td>\n",
       "    </tr>\n",
       "    <tr>\n",
       "      <th>2</th>\n",
       "      <td>36.0</td>\n",
       "      <td>2</td>\n",
       "      <td>3</td>\n",
       "      <td>5</td>\n",
       "      <td>6422.0</td>\n",
       "      <td>0</td>\n",
       "      <td>0</td>\n",
       "      <td>0</td>\n",
       "      <td>0</td>\n",
       "      <td>0</td>\n",
       "      <td>...</td>\n",
       "      <td>0</td>\n",
       "      <td>0</td>\n",
       "      <td>0</td>\n",
       "      <td>0</td>\n",
       "      <td>0</td>\n",
       "      <td>0</td>\n",
       "      <td>0</td>\n",
       "      <td>0</td>\n",
       "      <td>0</td>\n",
       "      <td>0</td>\n",
       "    </tr>\n",
       "    <tr>\n",
       "      <th>3</th>\n",
       "      <td>22.0</td>\n",
       "      <td>1</td>\n",
       "      <td>10</td>\n",
       "      <td>11</td>\n",
       "      <td>10453.0</td>\n",
       "      <td>0</td>\n",
       "      <td>0</td>\n",
       "      <td>0</td>\n",
       "      <td>0</td>\n",
       "      <td>0</td>\n",
       "      <td>...</td>\n",
       "      <td>0</td>\n",
       "      <td>0</td>\n",
       "      <td>0</td>\n",
       "      <td>0</td>\n",
       "      <td>0</td>\n",
       "      <td>0</td>\n",
       "      <td>0</td>\n",
       "      <td>0</td>\n",
       "      <td>0</td>\n",
       "      <td>0</td>\n",
       "    </tr>\n",
       "    <tr>\n",
       "      <th>4</th>\n",
       "      <td>74.0</td>\n",
       "      <td>2</td>\n",
       "      <td>12</td>\n",
       "      <td>13</td>\n",
       "      <td>6510.0</td>\n",
       "      <td>0</td>\n",
       "      <td>0</td>\n",
       "      <td>0</td>\n",
       "      <td>0</td>\n",
       "      <td>0</td>\n",
       "      <td>...</td>\n",
       "      <td>0</td>\n",
       "      <td>0</td>\n",
       "      <td>0</td>\n",
       "      <td>0</td>\n",
       "      <td>0</td>\n",
       "      <td>0</td>\n",
       "      <td>0</td>\n",
       "      <td>0</td>\n",
       "      <td>0</td>\n",
       "      <td>0</td>\n",
       "    </tr>\n",
       "  </tbody>\n",
       "</table>\n",
       "<p>5 rows × 576 columns</p>\n",
       "</div>"
      ],
      "text/plain": [
       "    age  sex  moa  yoa      tot  pay_ub92_1  pay_ub92_2  pay_ub92_3  \\\n",
       "0   0.0    1    4    8   2152.0           0           0           0   \n",
       "1  58.0    1    5    6   5388.0           0           0           0   \n",
       "2  36.0    2    3    5   6422.0           0           0           0   \n",
       "3  22.0    1   10   11  10453.0           0           0           0   \n",
       "4  74.0    2   12   13   6510.0           0           0           0   \n",
       "\n",
       "   pay_ub92_4  pay_ub92_6      ...        diag_cat3_V55  diag_cat3_V57  \\\n",
       "0           0           0      ...                    0              0   \n",
       "1           0           0      ...                    0              0   \n",
       "2           0           0      ...                    0              0   \n",
       "3           0           0      ...                    0              0   \n",
       "4           0           0      ...                    0              0   \n",
       "\n",
       "   diag_cat3_V58  diag_cat3_V59  diag_cat3_V62  diag_cat3_V63  diag_cat3_V66  \\\n",
       "0              0              0              0              0              0   \n",
       "1              0              0              0              0              0   \n",
       "2              0              0              0              0              0   \n",
       "3              0              0              0              0              0   \n",
       "4              0              0              0              0              0   \n",
       "\n",
       "   diag_cat3_V70  diag_cat3_V71  diag_cat3_XXX  \n",
       "0              0              0              0  \n",
       "1              0              0              0  \n",
       "2              0              0              0  \n",
       "3              0              0              0  \n",
       "4              0              0              0  \n",
       "\n",
       "[5 rows x 576 columns]"
      ]
     },
     "execution_count": 18,
     "metadata": {},
     "output_type": "execute_result"
    }
   ],
   "source": [
    "df2.head()"
   ]
  },
  {
   "cell_type": "code",
   "execution_count": 19,
   "metadata": {},
   "outputs": [],
   "source": [
    "from sklearn.model_selection import train_test_split"
   ]
  },
  {
   "cell_type": "code",
   "execution_count": 20,
   "metadata": {
    "scrolled": true
   },
   "outputs": [],
   "source": [
    "y = df2.tot.astype(float)\n",
    "X = df2.drop(columns=['tot'])\n",
    "\n",
    "X_train, X_test, y_train, y_test = train_test_split(X, y, test_size=0.2, random_state=0)"
   ]
  },
  {
   "cell_type": "code",
   "execution_count": 21,
   "metadata": {},
   "outputs": [],
   "source": [
    "#train, test = train_test_split(df2, test_size=0.2, random_state=0)"
   ]
  },
  {
   "cell_type": "code",
   "execution_count": 22,
   "metadata": {},
   "outputs": [
    {
     "name": "stdout",
     "output_type": "stream",
     "text": [
      "(8000, 575)\n",
      "(2000, 575)\n"
     ]
    }
   ],
   "source": [
    "print(X_train.shape)\n",
    "print(X_test.shape)\n",
    "#print(train.shape)\n",
    "#print(test.shape)"
   ]
  },
  {
   "cell_type": "markdown",
   "metadata": {},
   "source": [
    "## Count Encoding"
   ]
  },
  {
   "cell_type": "code",
   "execution_count": 222,
   "metadata": {},
   "outputs": [],
   "source": [
    "#diag_counts = train[['diag_cat3', 'tot']].groupby(by='diag_cat3').mean().to_dict()['tot']\n",
    "#other = train.tot.mean"
   ]
  },
  {
   "cell_type": "code",
   "execution_count": 223,
   "metadata": {},
   "outputs": [],
   "source": [
    "#def lookup_count(attr):\n",
    "#    try:\n",
    "#        return diag_counts[attr]\n",
    "#    except KeyError:\n",
    "#        return other   "
   ]
  },
  {
   "cell_type": "code",
   "execution_count": 224,
   "metadata": {},
   "outputs": [],
   "source": [
    "#def count_encode(df, attr):\n",
    "#    encoded = df[attr].apply(lookup_count)\n",
    "#    df = df.assign(diag_encoded=encoded.values)\n",
    "#    df.diag_encoded = df.diag_encoded/df.diag_encoded.max()\n",
    "#    df = df.drop(attr, axis=1)\n",
    "#    return df"
   ]
  },
  {
   "cell_type": "code",
   "execution_count": 225,
   "metadata": {},
   "outputs": [],
   "source": [
    "#train = count_encode(train, 'diag_cat3')\n",
    "#test = count_encode(test, 'diag_cat3')"
   ]
  },
  {
   "cell_type": "code",
   "execution_count": 226,
   "metadata": {},
   "outputs": [],
   "source": [
    "#X_train = train.drop('tot', axis=1)\n",
    "#X_test = test.drop('tot', axis=1)\n",
    "#y_train = train.tot\n",
    "#y_test = test.tot"
   ]
  },
  {
   "cell_type": "code",
   "execution_count": 227,
   "metadata": {},
   "outputs": [],
   "source": [
    "#X_train.head()"
   ]
  },
  {
   "cell_type": "code",
   "execution_count": 228,
   "metadata": {},
   "outputs": [],
   "source": [
    "#X_train.describe()"
   ]
  },
  {
   "cell_type": "markdown",
   "metadata": {},
   "source": [
    "## Model Testing"
   ]
  },
  {
   "cell_type": "code",
   "execution_count": 23,
   "metadata": {},
   "outputs": [],
   "source": [
    "from sklearn import model_selection\n",
    "from sklearn.metrics import mean_squared_error\n",
    "from sklearn.metrics import r2_score"
   ]
  },
  {
   "cell_type": "code",
   "execution_count": 24,
   "metadata": {},
   "outputs": [],
   "source": [
    "def print_model_score(train_predicted, test_predicted):\n",
    "    train_rmse = mean_squared_error(y_train, train_predicted)**.5\n",
    "    train_r2 = r2_score(y_train, train_predicted)\n",
    "    test_rmse = mean_squared_error(y_test, test_predicted)**.5\n",
    "    test_r2 = r2_score(y_test, test_predicted)\n",
    "    print(\"Train RMSE:\\t{}\".format(train_rmse))\n",
    "    print(\"Train R2 Score:\\t{}\".format(train_r2))\n",
    "    print(\"Test RMSE:\\t{}\".format(test_rmse))\n",
    "    print(\"Test R2 Score:\\t{}\".format(test_r2))"
   ]
  },
  {
   "cell_type": "markdown",
   "metadata": {},
   "source": [
    "## Decision Tree"
   ]
  },
  {
   "cell_type": "code",
   "execution_count": 25,
   "metadata": {},
   "outputs": [],
   "source": [
    "from sklearn.tree import DecisionTreeRegressor"
   ]
  },
  {
   "cell_type": "code",
   "execution_count": 26,
   "metadata": {},
   "outputs": [],
   "source": [
    "model = DecisionTreeRegressor()\n",
    "model.fit(X_train, y_train)\n",
    "train_predicted = model.predict(X_train)\n",
    "test_predicted = model.predict(X_test)"
   ]
  },
  {
   "cell_type": "code",
   "execution_count": 27,
   "metadata": {},
   "outputs": [
    {
     "name": "stdout",
     "output_type": "stream",
     "text": [
      "Train RMSE:\t11557.551377161566\n",
      "Train R2 Score:\t0.9373936174174887\n",
      "Test RMSE:\t63116.651937438866\n",
      "Test R2 Score:\t-0.38159786939150275\n"
     ]
    }
   ],
   "source": [
    "print_model_score(train_predicted, test_predicted)"
   ]
  },
  {
   "cell_type": "code",
   "execution_count": 28,
   "metadata": {},
   "outputs": [
    {
     "name": "stdout",
     "output_type": "stream",
     "text": [
      "               Importance\n",
      "moa              0.146808\n",
      "pt_state_MA      0.093594\n",
      "age              0.083277\n",
      "yoa              0.048587\n",
      "asource_5        0.046266\n",
      "diag_cat3_431    0.037181\n",
      "asource_4        0.031973\n",
      "campus_3         0.028605\n",
      "race_9           0.022652\n",
      "diag_cat3_803    0.022210\n",
      "sex              0.018078\n",
      "race_1           0.016974\n",
      "pay_ub92_6       0.016901\n",
      "diag_cat3_821    0.013135\n",
      "pay_ub92_2       0.011060\n",
      "diag_cat3_867    0.010998\n",
      "diag_cat3_396    0.010889\n",
      "diag_cat3_452    0.009430\n",
      "provider_4       0.009102\n",
      "pay_ub92_1       0.008988\n",
      "asource_1        0.008488\n",
      "diag_cat3_042    0.008479\n",
      "diag_cat3_038    0.008334\n",
      "asource_S        0.007757\n",
      "diag_cat3_780    0.007587\n",
      "pay_ub92_4       0.007550\n",
      "diag_cat3_430    0.007162\n",
      "pay_ub92_9       0.006909\n",
      "er_mode_0        0.006602\n",
      "diag_cat3_205    0.006502\n",
      "...                   ...\n",
      "diag_cat3_826    0.000000\n",
      "diag_cat3_488    0.000000\n",
      "diag_cat3_828    0.000000\n",
      "diag_cat3_831    0.000000\n",
      "diag_cat3_836    0.000000\n",
      "diag_cat3_454    0.000000\n",
      "diag_cat3_714    0.000000\n",
      "diag_cat3_844    0.000000\n",
      "diag_cat3_845    0.000000\n",
      "diag_cat3_235    0.000000\n",
      "diag_cat3_228    0.000000\n",
      "diag_cat3_112    0.000000\n",
      "diag_cat3_794    0.000000\n",
      "diag_cat3_200    0.000000\n",
      "diag_cat3_201    0.000000\n",
      "diag_cat3_079    0.000000\n",
      "diag_cat3_539    0.000000\n",
      "diag_cat3_048    0.000000\n",
      "diag_cat3_524    0.000000\n",
      "diag_cat3_793    0.000000\n",
      "diag_cat3_795    0.000000\n",
      "diag_cat3_806    0.000000\n",
      "diag_cat3_519    0.000000\n",
      "diag_cat3_515    0.000000\n",
      "diag_cat3_514    0.000000\n",
      "diag_cat3_040    0.000000\n",
      "diag_cat3_035    0.000000\n",
      "diag_cat3_227    0.000000\n",
      "diag_cat3_031    0.000000\n",
      "diag_cat3_657    0.000000\n",
      "\n",
      "[575 rows x 1 columns]\n"
     ]
    }
   ],
   "source": [
    "fi = model.feature_importances_\n",
    "col = X_train.columns\n",
    "feat_imp = pd.DataFrame(fi, columns=['Importance'],index=col).sort_values(by='Importance', ascending=False)\n",
    "print(feat_imp)"
   ]
  },
  {
   "cell_type": "markdown",
   "metadata": {},
   "source": [
    "## Lasso Regression"
   ]
  },
  {
   "cell_type": "code",
   "execution_count": 235,
   "metadata": {},
   "outputs": [],
   "source": [
    "from sklearn.linear_model import Lasso"
   ]
  },
  {
   "cell_type": "code",
   "execution_count": 236,
   "metadata": {},
   "outputs": [
    {
     "name": "stderr",
     "output_type": "stream",
     "text": [
      "c:\\users\\student\\appdata\\local\\programs\\python\\python37\\lib\\site-packages\\sklearn\\linear_model\\coordinate_descent.py:491: ConvergenceWarning: Objective did not converge. You might want to increase the number of iterations. Fitting data with very small alpha may cause precision problems.\n",
      "  ConvergenceWarning)\n",
      "c:\\users\\student\\appdata\\local\\programs\\python\\python37\\lib\\site-packages\\numpy\\core\\_methods.py:36: RuntimeWarning: overflow encountered in reduce\n",
      "  return umr_sum(a, axis, dtype, out, keepdims, initial)\n"
     ]
    }
   ],
   "source": [
    "model = Lasso()\n",
    "model.fit(X_train, y_train)\n",
    "train_predicted = model.predict(X_train)\n",
    "test_predicted = model.predict(X_test)"
   ]
  },
  {
   "cell_type": "code",
   "execution_count": 237,
   "metadata": {},
   "outputs": [
    {
     "name": "stdout",
     "output_type": "stream",
     "text": [
      "Train RMSE:\t40829.33494339833\n",
      "Train R2 Score:\t0.21867529397774976\n",
      "Test RMSE:\t54734.417541741976\n",
      "Test R2 Score:\t-0.03899809149029676\n"
     ]
    }
   ],
   "source": [
    "print_model_score(train_predicted, test_predicted)"
   ]
  },
  {
   "cell_type": "markdown",
   "metadata": {},
   "source": [
    "## AdaBoost"
   ]
  },
  {
   "cell_type": "code",
   "execution_count": 42,
   "metadata": {},
   "outputs": [],
   "source": [
    "from sklearn.ensemble import AdaBoostRegressor"
   ]
  },
  {
   "cell_type": "code",
   "execution_count": 43,
   "metadata": {},
   "outputs": [],
   "source": [
    "model = AdaBoostRegressor()\n",
    "model.fit(X_train, y_train)\n",
    "train_predicted = model.predict(X_train)\n",
    "test_predicted = model.predict(X_test)"
   ]
  },
  {
   "cell_type": "code",
   "execution_count": 44,
   "metadata": {},
   "outputs": [
    {
     "name": "stdout",
     "output_type": "stream",
     "text": [
      "Train RMSE:\t42454.00729628877\n",
      "Train R2 Score:\t0.15525753646526463\n",
      "Test RMSE:\t55547.17772269557\n",
      "Test R2 Score:\t-0.07008368803758191\n"
     ]
    }
   ],
   "source": [
    "print_model_score(train_predicted, test_predicted)"
   ]
  },
  {
   "cell_type": "markdown",
   "metadata": {},
   "source": [
    "## Boosting"
   ]
  },
  {
   "cell_type": "code",
   "execution_count": 45,
   "metadata": {},
   "outputs": [],
   "source": [
    "from sklearn.ensemble import GradientBoostingRegressor"
   ]
  },
  {
   "cell_type": "code",
   "execution_count": 46,
   "metadata": {},
   "outputs": [],
   "source": [
    "params = {'n_estimators': 100, 'max_depth': 4, 'min_samples_split': 2,\n",
    "          'learning_rate': 0.1, 'loss': 'ls'}\n",
    "model = GradientBoostingRegressor(**params)\n",
    "model.fit(X_train, y_train)\n",
    "train_predicted = model.predict(X_train)\n",
    "test_predicted = model.predict(X_test)"
   ]
  },
  {
   "cell_type": "code",
   "execution_count": 47,
   "metadata": {},
   "outputs": [
    {
     "name": "stdout",
     "output_type": "stream",
     "text": [
      "Train RMSE:\t35974.332167098044\n",
      "Train R2 Score:\t0.39344187276731235\n",
      "Test RMSE:\t53114.78919158587\n",
      "Test R2 Score:\t0.02158146272999839\n"
     ]
    }
   ],
   "source": [
    "print_model_score(train_predicted, test_predicted)"
   ]
  },
  {
   "cell_type": "markdown",
   "metadata": {},
   "source": [
    "## XGBoost"
   ]
  },
  {
   "cell_type": "code",
   "execution_count": 238,
   "metadata": {},
   "outputs": [],
   "source": [
    "import xgboost as xgb\n",
    "from xgboost.sklearn import XGBRegressor"
   ]
  },
  {
   "cell_type": "code",
   "execution_count": 239,
   "metadata": {},
   "outputs": [
    {
     "data": {
      "text/plain": [
       "XGBRegressor(base_score=0.5, booster='gbtree', colsample_bylevel=1,\n",
       "       colsample_bytree=1, gamma=0, learning_rate=0.1, max_delta_step=0,\n",
       "       max_depth=3, min_child_weight=1, missing=None, n_estimators=100,\n",
       "       n_jobs=1, nthread=None, objective='reg:linear', random_state=0,\n",
       "       reg_alpha=0, reg_lambda=1, scale_pos_weight=1, seed=None,\n",
       "       silent=True, subsample=1)"
      ]
     },
     "execution_count": 239,
     "metadata": {},
     "output_type": "execute_result"
    }
   ],
   "source": [
    "# fit model to training data\n",
    "#params = {'n_estimators': 500, 'max_depth': 4, 'min_samples_split': 2,\n",
    "#          'learning_rate': 0.3, 'loss': 'ls'}\n",
    "#model = XGBRegressor(**params)\n",
    "model = XGBRegressor()\n",
    "model.fit(X_train, y_train)"
   ]
  },
  {
   "cell_type": "code",
   "execution_count": 240,
   "metadata": {},
   "outputs": [],
   "source": [
    "train_predicted = model.predict(X_train)\n",
    "test_predicted = model.predict(X_test)"
   ]
  },
  {
   "cell_type": "code",
   "execution_count": 241,
   "metadata": {},
   "outputs": [
    {
     "name": "stdout",
     "output_type": "stream",
     "text": [
      "Train RMSE:\t39167.12455579084\n",
      "Train R2 Score:\t0.2809976271545833\n",
      "Test RMSE:\t54200.34633637991\n",
      "Test R2 Score:\t-0.018820960758463956\n"
     ]
    }
   ],
   "source": [
    "print_model_score(train_predicted, test_predicted)"
   ]
  },
  {
   "cell_type": "markdown",
   "metadata": {},
   "source": [
    "## Random Forest"
   ]
  },
  {
   "cell_type": "code",
   "execution_count": 242,
   "metadata": {},
   "outputs": [
    {
     "name": "stderr",
     "output_type": "stream",
     "text": [
      "c:\\users\\student\\appdata\\local\\programs\\python\\python37\\lib\\site-packages\\sklearn\\ensemble\\weight_boosting.py:29: DeprecationWarning: numpy.core.umath_tests is an internal NumPy module and should not be imported. It will be removed in a future NumPy release.\n",
      "  from numpy.core.umath_tests import inner1d\n"
     ]
    }
   ],
   "source": [
    "from sklearn.ensemble import RandomForestRegressor"
   ]
  },
  {
   "cell_type": "code",
   "execution_count": 255,
   "metadata": {},
   "outputs": [
    {
     "data": {
      "text/plain": [
       "RandomForestRegressor(bootstrap=True, criterion='mse', max_depth=None,\n",
       "           max_features='auto', max_leaf_nodes=None,\n",
       "           min_impurity_decrease=0.0, min_impurity_split=None,\n",
       "           min_samples_leaf=1, min_samples_split=2,\n",
       "           min_weight_fraction_leaf=0.0, n_estimators=100, n_jobs=1,\n",
       "           oob_score=False, random_state=None, verbose=0, warm_start=False)"
      ]
     },
     "execution_count": 255,
     "metadata": {},
     "output_type": "execute_result"
    }
   ],
   "source": [
    "model = RandomForestRegressor(n_estimators=100)\n",
    "model.fit(X_train, y_train)"
   ]
  },
  {
   "cell_type": "code",
   "execution_count": 256,
   "metadata": {},
   "outputs": [],
   "source": [
    "train_predicted = model.predict(X_train)\n",
    "test_predicted = model.predict(X_test)"
   ]
  },
  {
   "cell_type": "code",
   "execution_count": 257,
   "metadata": {},
   "outputs": [
    {
     "name": "stdout",
     "output_type": "stream",
     "text": [
      "Train RMSE:\t19741.27068433493\n",
      "Train R2 Score:\t0.8173426501336625\n",
      "Test RMSE:\t55367.35477264504\n",
      "Test R2 Score:\t-0.06316653603708144\n"
     ]
    }
   ],
   "source": [
    "print_model_score(train_predicted, test_predicted)"
   ]
  },
  {
   "cell_type": "code",
   "execution_count": null,
   "metadata": {},
   "outputs": [],
   "source": []
  }
 ],
 "metadata": {
  "kernelspec": {
   "display_name": "Python 3",
   "language": "python",
   "name": "python3"
  },
  "language_info": {
   "codemirror_mode": {
    "name": "ipython",
    "version": 3
   },
   "file_extension": ".py",
   "mimetype": "text/x-python",
   "name": "python",
   "nbconvert_exporter": "python",
   "pygments_lexer": "ipython3",
   "version": "3.7.0"
  }
 },
 "nbformat": 4,
 "nbformat_minor": 2
}
