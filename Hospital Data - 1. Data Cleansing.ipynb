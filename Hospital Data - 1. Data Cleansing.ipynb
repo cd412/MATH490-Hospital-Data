{
 "cells": [
  {
   "cell_type": "markdown",
   "metadata": {},
   "source": [
    "# Predicting Hospitalization Costs"
   ]
  },
  {
   "cell_type": "markdown",
   "metadata": {},
   "source": [
    "Chris Defreitas\n",
    "\n",
    "November 2018\n",
    "\n",
    "Bryant University"
   ]
  },
  {
   "cell_type": "markdown",
   "metadata": {},
   "source": [
    "# Data Cleaning and Transformation"
   ]
  },
  {
   "cell_type": "markdown",
   "metadata": {},
   "source": [
    "### Imports"
   ]
  },
  {
   "cell_type": "markdown",
   "metadata": {},
   "source": [
    "Import libraries"
   ]
  },
  {
   "cell_type": "code",
   "execution_count": 1,
   "metadata": {},
   "outputs": [],
   "source": [
    "import numpy as np\n",
    "import pandas as pd\n",
    "import matplotlib.pyplot as plt\n",
    "import copy\n",
    "%matplotlib inline\n",
    "plt.style.use('ggplot')"
   ]
  },
  {
   "cell_type": "markdown",
   "metadata": {},
   "source": [
    "Import dataset"
   ]
  },
  {
   "cell_type": "code",
   "execution_count": 2,
   "metadata": {
    "scrolled": false
   },
   "outputs": [],
   "source": [
    "# Specify the selected field and their datatypes \n",
    "\n",
    "type_arrival = {'sex': 'float16',\n",
    "                'er_mode': 'float16',\n",
    "                'admtype': 'float16',\n",
    "                'yoa': 'float16',\n",
    "                'campus': 'category',\n",
    "                'pay_ub92': 'category',\n",
    "                'provider': 'category', \n",
    "                'asource': 'category',\n",
    "                'moa': 'float16',\n",
    "                'age': 'float16',\n",
    "                'race': 'float16'}\n",
    "\n",
    "type_diag = {'diag_adm': 'category', 'dx1': 'category', 'dx2': 'category', 'dx3': 'category', 'dx4': 'category', \n",
    "                'dx5': 'category', 'dx6': 'category', 'dx7': 'category', 'dx8': 'category', 'dx9': 'category', \n",
    "                'dx10': 'category', 'dx11': 'category', 'dx12': 'category', 'dx13': 'category', 'dx14': 'category', \n",
    "                'dx15': 'category', 'dx16': 'category', 'dx17': 'category', 'dx18': 'category', 'dx19': 'category', \n",
    "                'dx20': 'category', 'dx21': 'category', 'dx22': 'category', 'dx23': 'category', 'dx24': 'category',\n",
    "                'dx25': 'category', \n",
    "             'poa1': 'category', 'poa2': 'category', 'poa3': 'category', 'poa4': 'category', 'poa5': 'category', \n",
    "                'poa6': 'category', 'poa7': 'category', 'poa8': 'category', 'poa9': 'category', 'poa10': 'category', \n",
    "                'poa11': 'category','poa12': 'category', 'poa13': 'category', 'poa14': 'category', 'poa15': 'category', \n",
    "                'poa16': 'category', 'poa17': 'category', 'poa18': 'category', 'poa19': 'category', 'poa20': 'category', \n",
    "                'poa21': 'category', 'poa22': 'category','poa23': 'category','poa24': 'category','poa25': 'category'}\n",
    "\n",
    "type_target = {'tot': 'float64'}\n",
    "\n",
    "col_arrival = [*type_arrival]\n",
    "col_diag = [*type_diag]\n",
    "col_target = [*type_target]\n",
    "\n",
    "usecols = col_arrival + col_diag + col_target\n",
    "dtype = {}\n",
    "for d in [type_arrival, type_diag, type_target]:\n",
    "    for k, v in d.items():\n",
    "        dtype[k] = v"
   ]
  },
  {
   "cell_type": "code",
   "execution_count": 3,
   "metadata": {},
   "outputs": [],
   "source": [
    "# import data using relevant columns and datatypes\n",
    "df0 = pd.read_csv('hdd0313cy.csv', \n",
    "                  usecols=usecols, \n",
    "                  dtype=dtype,\n",
    "                  #nrows=10000\n",
    "                 )"
   ]
  },
  {
   "cell_type": "code",
   "execution_count": 4,
   "metadata": {},
   "outputs": [
    {
     "name": "stdout",
     "output_type": "stream",
     "text": [
      "(1544747, 63)\n"
     ]
    }
   ],
   "source": [
    "print(df0.shape)"
   ]
  },
  {
   "cell_type": "markdown",
   "metadata": {},
   "source": [
    "## Missing Data"
   ]
  },
  {
   "cell_type": "markdown",
   "metadata": {},
   "source": [
    "Filter on yoa of at least 2010"
   ]
  },
  {
   "cell_type": "code",
   "execution_count": 5,
   "metadata": {},
   "outputs": [],
   "source": [
    "df1 = df0.copy()"
   ]
  },
  {
   "cell_type": "code",
   "execution_count": 6,
   "metadata": {},
   "outputs": [],
   "source": [
    "def getFullYear(y):\n",
    "    '''Converts yoa from yy format to yyyy format'''\n",
    "    if y == 0:\n",
    "        return 0\n",
    "    elif y < 10:\n",
    "        return float(\"200\"+str(y)) - 2000\n",
    "    elif y < 25:\n",
    "        return float(\"20\"+str(y)) - 2000\n",
    "    elif y < 100:\n",
    "        return float(\"19\"+str(y)) - 2000\n",
    "    else:\n",
    "        return y - 2000"
   ]
  },
  {
   "cell_type": "code",
   "execution_count": 7,
   "metadata": {},
   "outputs": [],
   "source": [
    "df1.yoa = df1.yoa.apply(getFullYear)"
   ]
  },
  {
   "cell_type": "code",
   "execution_count": 8,
   "metadata": {},
   "outputs": [],
   "source": [
    "df1 = df1[df1.yoa >= 10]"
   ]
  },
  {
   "cell_type": "code",
   "execution_count": 9,
   "metadata": {},
   "outputs": [
    {
     "name": "stdout",
     "output_type": "stream",
     "text": [
      "(537599, 63)\n"
     ]
    }
   ],
   "source": [
    "print(df1.shape)"
   ]
  },
  {
   "cell_type": "code",
   "execution_count": 10,
   "metadata": {},
   "outputs": [
    {
     "data": {
      "text/plain": [
       "sex             0\n",
       "er_mode     19126\n",
       "admtype         1\n",
       "yoa             0\n",
       "campus          0\n",
       "pay_ub92        0\n",
       "provider        0\n",
       "asource        14\n",
       "moa             0\n",
       "age             1\n",
       "race           10\n",
       "tot             0\n",
       "dtype: int64"
      ]
     },
     "execution_count": 10,
     "metadata": {},
     "output_type": "execute_result"
    }
   ],
   "source": [
    "df1[col_arrival + col_target].isna().sum()"
   ]
  },
  {
   "cell_type": "code",
   "execution_count": 11,
   "metadata": {},
   "outputs": [
    {
     "data": {
      "text/html": [
       "<div>\n",
       "<style scoped>\n",
       "    .dataframe tbody tr th:only-of-type {\n",
       "        vertical-align: middle;\n",
       "    }\n",
       "\n",
       "    .dataframe tbody tr th {\n",
       "        vertical-align: top;\n",
       "    }\n",
       "\n",
       "    .dataframe thead th {\n",
       "        text-align: right;\n",
       "    }\n",
       "</style>\n",
       "<table border=\"1\" class=\"dataframe\">\n",
       "  <thead>\n",
       "    <tr style=\"text-align: right;\">\n",
       "      <th></th>\n",
       "      <th>sex</th>\n",
       "      <th>er_mode</th>\n",
       "      <th>admtype</th>\n",
       "      <th>yoa</th>\n",
       "      <th>campus</th>\n",
       "      <th>pay_ub92</th>\n",
       "      <th>provider</th>\n",
       "      <th>asource</th>\n",
       "      <th>moa</th>\n",
       "      <th>age</th>\n",
       "      <th>race</th>\n",
       "      <th>tot</th>\n",
       "    </tr>\n",
       "  </thead>\n",
       "  <tbody>\n",
       "    <tr>\n",
       "      <th>count</th>\n",
       "      <td>537599.0</td>\n",
       "      <td>518473.0</td>\n",
       "      <td>537598.0</td>\n",
       "      <td>537599.000000</td>\n",
       "      <td>537599</td>\n",
       "      <td>537599</td>\n",
       "      <td>537599</td>\n",
       "      <td>537585</td>\n",
       "      <td>537599.0</td>\n",
       "      <td>537598.0</td>\n",
       "      <td>537589.0</td>\n",
       "      <td>5.375990e+05</td>\n",
       "    </tr>\n",
       "    <tr>\n",
       "      <th>unique</th>\n",
       "      <td>NaN</td>\n",
       "      <td>NaN</td>\n",
       "      <td>NaN</td>\n",
       "      <td>NaN</td>\n",
       "      <td>5</td>\n",
       "      <td>15</td>\n",
       "      <td>14</td>\n",
       "      <td>17</td>\n",
       "      <td>NaN</td>\n",
       "      <td>NaN</td>\n",
       "      <td>NaN</td>\n",
       "      <td>NaN</td>\n",
       "    </tr>\n",
       "    <tr>\n",
       "      <th>top</th>\n",
       "      <td>NaN</td>\n",
       "      <td>NaN</td>\n",
       "      <td>NaN</td>\n",
       "      <td>NaN</td>\n",
       "      <td>0</td>\n",
       "      <td>1</td>\n",
       "      <td>7205</td>\n",
       "      <td>1</td>\n",
       "      <td>NaN</td>\n",
       "      <td>NaN</td>\n",
       "      <td>NaN</td>\n",
       "      <td>NaN</td>\n",
       "    </tr>\n",
       "    <tr>\n",
       "      <th>freq</th>\n",
       "      <td>NaN</td>\n",
       "      <td>NaN</td>\n",
       "      <td>NaN</td>\n",
       "      <td>NaN</td>\n",
       "      <td>371170</td>\n",
       "      <td>152265</td>\n",
       "      <td>137260</td>\n",
       "      <td>260502</td>\n",
       "      <td>NaN</td>\n",
       "      <td>NaN</td>\n",
       "      <td>NaN</td>\n",
       "      <td>NaN</td>\n",
       "    </tr>\n",
       "    <tr>\n",
       "      <th>mean</th>\n",
       "      <td>NaN</td>\n",
       "      <td>NaN</td>\n",
       "      <td>NaN</td>\n",
       "      <td>11.459344</td>\n",
       "      <td>NaN</td>\n",
       "      <td>NaN</td>\n",
       "      <td>NaN</td>\n",
       "      <td>NaN</td>\n",
       "      <td>NaN</td>\n",
       "      <td>NaN</td>\n",
       "      <td>NaN</td>\n",
       "      <td>2.915693e+04</td>\n",
       "    </tr>\n",
       "    <tr>\n",
       "      <th>std</th>\n",
       "      <td>0.0</td>\n",
       "      <td>0.0</td>\n",
       "      <td>0.0</td>\n",
       "      <td>1.112772</td>\n",
       "      <td>NaN</td>\n",
       "      <td>NaN</td>\n",
       "      <td>NaN</td>\n",
       "      <td>NaN</td>\n",
       "      <td>0.0</td>\n",
       "      <td>0.0</td>\n",
       "      <td>0.0</td>\n",
       "      <td>4.930646e+04</td>\n",
       "    </tr>\n",
       "    <tr>\n",
       "      <th>min</th>\n",
       "      <td>1.0</td>\n",
       "      <td>0.0</td>\n",
       "      <td>1.0</td>\n",
       "      <td>10.000000</td>\n",
       "      <td>NaN</td>\n",
       "      <td>NaN</td>\n",
       "      <td>NaN</td>\n",
       "      <td>NaN</td>\n",
       "      <td>1.0</td>\n",
       "      <td>0.0</td>\n",
       "      <td>0.0</td>\n",
       "      <td>-1.966000e+03</td>\n",
       "    </tr>\n",
       "    <tr>\n",
       "      <th>25%</th>\n",
       "      <td>1.0</td>\n",
       "      <td>0.0</td>\n",
       "      <td>1.0</td>\n",
       "      <td>10.000000</td>\n",
       "      <td>NaN</td>\n",
       "      <td>NaN</td>\n",
       "      <td>NaN</td>\n",
       "      <td>NaN</td>\n",
       "      <td>3.0</td>\n",
       "      <td>29.0</td>\n",
       "      <td>1.0</td>\n",
       "      <td>1.077900e+04</td>\n",
       "    </tr>\n",
       "    <tr>\n",
       "      <th>50%</th>\n",
       "      <td>2.0</td>\n",
       "      <td>0.0</td>\n",
       "      <td>1.0</td>\n",
       "      <td>11.000000</td>\n",
       "      <td>NaN</td>\n",
       "      <td>NaN</td>\n",
       "      <td>NaN</td>\n",
       "      <td>NaN</td>\n",
       "      <td>6.0</td>\n",
       "      <td>54.0</td>\n",
       "      <td>1.0</td>\n",
       "      <td>1.814000e+04</td>\n",
       "    </tr>\n",
       "    <tr>\n",
       "      <th>75%</th>\n",
       "      <td>2.0</td>\n",
       "      <td>1.0</td>\n",
       "      <td>2.0</td>\n",
       "      <td>12.000000</td>\n",
       "      <td>NaN</td>\n",
       "      <td>NaN</td>\n",
       "      <td>NaN</td>\n",
       "      <td>NaN</td>\n",
       "      <td>9.0</td>\n",
       "      <td>73.0</td>\n",
       "      <td>1.0</td>\n",
       "      <td>3.190950e+04</td>\n",
       "    </tr>\n",
       "    <tr>\n",
       "      <th>max</th>\n",
       "      <td>9.0</td>\n",
       "      <td>9.0</td>\n",
       "      <td>9.0</td>\n",
       "      <td>13.000000</td>\n",
       "      <td>NaN</td>\n",
       "      <td>NaN</td>\n",
       "      <td>NaN</td>\n",
       "      <td>NaN</td>\n",
       "      <td>12.0</td>\n",
       "      <td>124.0</td>\n",
       "      <td>9.0</td>\n",
       "      <td>3.080197e+06</td>\n",
       "    </tr>\n",
       "  </tbody>\n",
       "</table>\n",
       "</div>"
      ],
      "text/plain": [
       "             sex   er_mode   admtype            yoa  campus pay_ub92 provider  \\\n",
       "count   537599.0  518473.0  537598.0  537599.000000  537599   537599   537599   \n",
       "unique       NaN       NaN       NaN            NaN       5       15       14   \n",
       "top          NaN       NaN       NaN            NaN       0        1     7205   \n",
       "freq         NaN       NaN       NaN            NaN  371170   152265   137260   \n",
       "mean         NaN       NaN       NaN      11.459344     NaN      NaN      NaN   \n",
       "std          0.0       0.0       0.0       1.112772     NaN      NaN      NaN   \n",
       "min          1.0       0.0       1.0      10.000000     NaN      NaN      NaN   \n",
       "25%          1.0       0.0       1.0      10.000000     NaN      NaN      NaN   \n",
       "50%          2.0       0.0       1.0      11.000000     NaN      NaN      NaN   \n",
       "75%          2.0       1.0       2.0      12.000000     NaN      NaN      NaN   \n",
       "max          9.0       9.0       9.0      13.000000     NaN      NaN      NaN   \n",
       "\n",
       "       asource       moa       age      race           tot  \n",
       "count   537585  537599.0  537598.0  537589.0  5.375990e+05  \n",
       "unique      17       NaN       NaN       NaN           NaN  \n",
       "top          1       NaN       NaN       NaN           NaN  \n",
       "freq    260502       NaN       NaN       NaN           NaN  \n",
       "mean       NaN       NaN       NaN       NaN  2.915693e+04  \n",
       "std        NaN       0.0       0.0       0.0  4.930646e+04  \n",
       "min        NaN       1.0       0.0       0.0 -1.966000e+03  \n",
       "25%        NaN       3.0      29.0       1.0  1.077900e+04  \n",
       "50%        NaN       6.0      54.0       1.0  1.814000e+04  \n",
       "75%        NaN       9.0      73.0       1.0  3.190950e+04  \n",
       "max        NaN      12.0     124.0       9.0  3.080197e+06  "
      ]
     },
     "execution_count": 11,
     "metadata": {},
     "output_type": "execute_result"
    }
   ],
   "source": [
    "df1[col_arrival + col_target].describe(include='all')"
   ]
  },
  {
   "cell_type": "markdown",
   "metadata": {},
   "source": [
    "Code missing values as 9"
   ]
  },
  {
   "cell_type": "code",
   "execution_count": 12,
   "metadata": {},
   "outputs": [],
   "source": [
    "df1.er_mode = df1.er_mode.fillna(0)\n",
    "df1.race = df1.race.fillna(9)\n",
    "df1.sex = df1.sex.fillna(9)\n",
    "df1.asource = df1.asource.fillna('9')\n",
    "df1.admtype = df1.admtype.fillna(9)"
   ]
  },
  {
   "cell_type": "code",
   "execution_count": 13,
   "metadata": {},
   "outputs": [],
   "source": [
    "df2 = df1.copy()"
   ]
  },
  {
   "cell_type": "markdown",
   "metadata": {},
   "source": [
    "Drop one record with missing age"
   ]
  },
  {
   "cell_type": "code",
   "execution_count": 14,
   "metadata": {},
   "outputs": [],
   "source": [
    "df2 = df2[False == pd.isna(df2.age)]"
   ]
  },
  {
   "cell_type": "code",
   "execution_count": 15,
   "metadata": {},
   "outputs": [
    {
     "name": "stdout",
     "output_type": "stream",
     "text": [
      "(537598, 63)\n"
     ]
    }
   ],
   "source": [
    "print(df2.shape)"
   ]
  },
  {
   "cell_type": "code",
   "execution_count": 16,
   "metadata": {},
   "outputs": [
    {
     "data": {
      "text/plain": [
       "sex         0\n",
       "er_mode     0\n",
       "admtype     0\n",
       "yoa         0\n",
       "campus      0\n",
       "pay_ub92    0\n",
       "provider    0\n",
       "asource     0\n",
       "moa         0\n",
       "age         0\n",
       "race        0\n",
       "tot         0\n",
       "dtype: int64"
      ]
     },
     "execution_count": 16,
     "metadata": {},
     "output_type": "execute_result"
    }
   ],
   "source": [
    "df2[col_arrival + col_target].isna().sum()"
   ]
  },
  {
   "cell_type": "code",
   "execution_count": 17,
   "metadata": {},
   "outputs": [
    {
     "data": {
      "text/html": [
       "<div>\n",
       "<style scoped>\n",
       "    .dataframe tbody tr th:only-of-type {\n",
       "        vertical-align: middle;\n",
       "    }\n",
       "\n",
       "    .dataframe tbody tr th {\n",
       "        vertical-align: top;\n",
       "    }\n",
       "\n",
       "    .dataframe thead th {\n",
       "        text-align: right;\n",
       "    }\n",
       "</style>\n",
       "<table border=\"1\" class=\"dataframe\">\n",
       "  <thead>\n",
       "    <tr style=\"text-align: right;\">\n",
       "      <th></th>\n",
       "      <th>sex</th>\n",
       "      <th>er_mode</th>\n",
       "      <th>admtype</th>\n",
       "      <th>yoa</th>\n",
       "      <th>campus</th>\n",
       "      <th>pay_ub92</th>\n",
       "      <th>provider</th>\n",
       "      <th>asource</th>\n",
       "      <th>moa</th>\n",
       "      <th>age</th>\n",
       "      <th>race</th>\n",
       "      <th>tot</th>\n",
       "    </tr>\n",
       "  </thead>\n",
       "  <tbody>\n",
       "    <tr>\n",
       "      <th>count</th>\n",
       "      <td>537598.0</td>\n",
       "      <td>537598.0</td>\n",
       "      <td>537598.0</td>\n",
       "      <td>537598.000000</td>\n",
       "      <td>537598</td>\n",
       "      <td>537598</td>\n",
       "      <td>537598</td>\n",
       "      <td>537598</td>\n",
       "      <td>537598.0</td>\n",
       "      <td>537598.0</td>\n",
       "      <td>537598.0</td>\n",
       "      <td>5.375980e+05</td>\n",
       "    </tr>\n",
       "    <tr>\n",
       "      <th>unique</th>\n",
       "      <td>NaN</td>\n",
       "      <td>NaN</td>\n",
       "      <td>NaN</td>\n",
       "      <td>NaN</td>\n",
       "      <td>5</td>\n",
       "      <td>15</td>\n",
       "      <td>14</td>\n",
       "      <td>17</td>\n",
       "      <td>NaN</td>\n",
       "      <td>NaN</td>\n",
       "      <td>NaN</td>\n",
       "      <td>NaN</td>\n",
       "    </tr>\n",
       "    <tr>\n",
       "      <th>top</th>\n",
       "      <td>NaN</td>\n",
       "      <td>NaN</td>\n",
       "      <td>NaN</td>\n",
       "      <td>NaN</td>\n",
       "      <td>0</td>\n",
       "      <td>1</td>\n",
       "      <td>7205</td>\n",
       "      <td>1</td>\n",
       "      <td>NaN</td>\n",
       "      <td>NaN</td>\n",
       "      <td>NaN</td>\n",
       "      <td>NaN</td>\n",
       "    </tr>\n",
       "    <tr>\n",
       "      <th>freq</th>\n",
       "      <td>NaN</td>\n",
       "      <td>NaN</td>\n",
       "      <td>NaN</td>\n",
       "      <td>NaN</td>\n",
       "      <td>371169</td>\n",
       "      <td>152265</td>\n",
       "      <td>137260</td>\n",
       "      <td>260502</td>\n",
       "      <td>NaN</td>\n",
       "      <td>NaN</td>\n",
       "      <td>NaN</td>\n",
       "      <td>NaN</td>\n",
       "    </tr>\n",
       "    <tr>\n",
       "      <th>mean</th>\n",
       "      <td>NaN</td>\n",
       "      <td>NaN</td>\n",
       "      <td>NaN</td>\n",
       "      <td>11.459343</td>\n",
       "      <td>NaN</td>\n",
       "      <td>NaN</td>\n",
       "      <td>NaN</td>\n",
       "      <td>NaN</td>\n",
       "      <td>NaN</td>\n",
       "      <td>NaN</td>\n",
       "      <td>NaN</td>\n",
       "      <td>2.915697e+04</td>\n",
       "    </tr>\n",
       "    <tr>\n",
       "      <th>std</th>\n",
       "      <td>0.0</td>\n",
       "      <td>0.0</td>\n",
       "      <td>0.0</td>\n",
       "      <td>1.112773</td>\n",
       "      <td>NaN</td>\n",
       "      <td>NaN</td>\n",
       "      <td>NaN</td>\n",
       "      <td>NaN</td>\n",
       "      <td>0.0</td>\n",
       "      <td>0.0</td>\n",
       "      <td>0.0</td>\n",
       "      <td>4.930649e+04</td>\n",
       "    </tr>\n",
       "    <tr>\n",
       "      <th>min</th>\n",
       "      <td>1.0</td>\n",
       "      <td>0.0</td>\n",
       "      <td>1.0</td>\n",
       "      <td>10.000000</td>\n",
       "      <td>NaN</td>\n",
       "      <td>NaN</td>\n",
       "      <td>NaN</td>\n",
       "      <td>NaN</td>\n",
       "      <td>1.0</td>\n",
       "      <td>0.0</td>\n",
       "      <td>0.0</td>\n",
       "      <td>-1.966000e+03</td>\n",
       "    </tr>\n",
       "    <tr>\n",
       "      <th>25%</th>\n",
       "      <td>1.0</td>\n",
       "      <td>0.0</td>\n",
       "      <td>1.0</td>\n",
       "      <td>10.000000</td>\n",
       "      <td>NaN</td>\n",
       "      <td>NaN</td>\n",
       "      <td>NaN</td>\n",
       "      <td>NaN</td>\n",
       "      <td>3.0</td>\n",
       "      <td>29.0</td>\n",
       "      <td>1.0</td>\n",
       "      <td>1.077900e+04</td>\n",
       "    </tr>\n",
       "    <tr>\n",
       "      <th>50%</th>\n",
       "      <td>2.0</td>\n",
       "      <td>0.0</td>\n",
       "      <td>1.0</td>\n",
       "      <td>11.000000</td>\n",
       "      <td>NaN</td>\n",
       "      <td>NaN</td>\n",
       "      <td>NaN</td>\n",
       "      <td>NaN</td>\n",
       "      <td>6.0</td>\n",
       "      <td>54.0</td>\n",
       "      <td>1.0</td>\n",
       "      <td>1.814000e+04</td>\n",
       "    </tr>\n",
       "    <tr>\n",
       "      <th>75%</th>\n",
       "      <td>2.0</td>\n",
       "      <td>0.0</td>\n",
       "      <td>2.0</td>\n",
       "      <td>12.000000</td>\n",
       "      <td>NaN</td>\n",
       "      <td>NaN</td>\n",
       "      <td>NaN</td>\n",
       "      <td>NaN</td>\n",
       "      <td>9.0</td>\n",
       "      <td>73.0</td>\n",
       "      <td>1.0</td>\n",
       "      <td>3.190975e+04</td>\n",
       "    </tr>\n",
       "    <tr>\n",
       "      <th>max</th>\n",
       "      <td>9.0</td>\n",
       "      <td>9.0</td>\n",
       "      <td>9.0</td>\n",
       "      <td>13.000000</td>\n",
       "      <td>NaN</td>\n",
       "      <td>NaN</td>\n",
       "      <td>NaN</td>\n",
       "      <td>NaN</td>\n",
       "      <td>12.0</td>\n",
       "      <td>124.0</td>\n",
       "      <td>9.0</td>\n",
       "      <td>3.080197e+06</td>\n",
       "    </tr>\n",
       "  </tbody>\n",
       "</table>\n",
       "</div>"
      ],
      "text/plain": [
       "             sex   er_mode   admtype            yoa  campus pay_ub92 provider  \\\n",
       "count   537598.0  537598.0  537598.0  537598.000000  537598   537598   537598   \n",
       "unique       NaN       NaN       NaN            NaN       5       15       14   \n",
       "top          NaN       NaN       NaN            NaN       0        1     7205   \n",
       "freq         NaN       NaN       NaN            NaN  371169   152265   137260   \n",
       "mean         NaN       NaN       NaN      11.459343     NaN      NaN      NaN   \n",
       "std          0.0       0.0       0.0       1.112773     NaN      NaN      NaN   \n",
       "min          1.0       0.0       1.0      10.000000     NaN      NaN      NaN   \n",
       "25%          1.0       0.0       1.0      10.000000     NaN      NaN      NaN   \n",
       "50%          2.0       0.0       1.0      11.000000     NaN      NaN      NaN   \n",
       "75%          2.0       0.0       2.0      12.000000     NaN      NaN      NaN   \n",
       "max          9.0       9.0       9.0      13.000000     NaN      NaN      NaN   \n",
       "\n",
       "       asource       moa       age      race           tot  \n",
       "count   537598  537598.0  537598.0  537598.0  5.375980e+05  \n",
       "unique      17       NaN       NaN       NaN           NaN  \n",
       "top          1       NaN       NaN       NaN           NaN  \n",
       "freq    260502       NaN       NaN       NaN           NaN  \n",
       "mean       NaN       NaN       NaN       NaN  2.915697e+04  \n",
       "std        NaN       0.0       0.0       0.0  4.930649e+04  \n",
       "min        NaN       1.0       0.0       0.0 -1.966000e+03  \n",
       "25%        NaN       3.0      29.0       1.0  1.077900e+04  \n",
       "50%        NaN       6.0      54.0       1.0  1.814000e+04  \n",
       "75%        NaN       9.0      73.0       1.0  3.190975e+04  \n",
       "max        NaN      12.0     124.0       9.0  3.080197e+06  "
      ]
     },
     "execution_count": 17,
     "metadata": {},
     "output_type": "execute_result"
    }
   ],
   "source": [
    "df2[col_arrival + col_target].describe(include='all')"
   ]
  },
  {
   "cell_type": "code",
   "execution_count": 18,
   "metadata": {
    "scrolled": true
   },
   "outputs": [
    {
     "data": {
      "text/plain": [
       "diag_adm       374\n",
       "dx1            292\n",
       "dx2          28554\n",
       "dx3          64869\n",
       "dx4         103605\n",
       "dx5         143509\n",
       "dx6         183099\n",
       "dx7         221179\n",
       "dx8         257031\n",
       "dx9         290652\n",
       "dx10        321812\n",
       "dx11        350944\n",
       "dx12        377281\n",
       "dx13        401009\n",
       "dx14        422275\n",
       "dx15        441013\n",
       "dx16        458260\n",
       "dx17        473132\n",
       "dx18        485277\n",
       "dx19        495026\n",
       "dx20        503045\n",
       "dx21        509691\n",
       "dx22        515237\n",
       "dx23        519595\n",
       "dx24        523077\n",
       "dx25        526015\n",
       "poa1           783\n",
       "poa2         41417\n",
       "poa3         76274\n",
       "poa4        100121\n",
       "poa5        149324\n",
       "poa6        185468\n",
       "poa7        208107\n",
       "poa8        254104\n",
       "poa9        285172\n",
       "poa10       301869\n",
       "poa11       341323\n",
       "poa12       365777\n",
       "poa13       377102\n",
       "poa14       397400\n",
       "poa15       415354\n",
       "poa16       431256\n",
       "poa17       445735\n",
       "poa18       457483\n",
       "poa19       466964\n",
       "poa20       474781\n",
       "poa21       481242\n",
       "poa22       486653\n",
       "poa23       490917\n",
       "poa24       494362\n",
       "poa25       497243\n",
       "dtype: int64"
      ]
     },
     "execution_count": 18,
     "metadata": {},
     "output_type": "execute_result"
    }
   ],
   "source": [
    "df2[col_diag].isna().sum()"
   ]
  },
  {
   "cell_type": "markdown",
   "metadata": {},
   "source": [
    "Drop records with missing diagnosis on admission"
   ]
  },
  {
   "cell_type": "code",
   "execution_count": 19,
   "metadata": {},
   "outputs": [],
   "source": [
    "df2 = df2[False == pd.isna(df2.diag_adm)]"
   ]
  },
  {
   "cell_type": "code",
   "execution_count": 20,
   "metadata": {},
   "outputs": [
    {
     "data": {
      "text/plain": [
       "(537224, 63)"
      ]
     },
     "execution_count": 20,
     "metadata": {},
     "output_type": "execute_result"
    }
   ],
   "source": [
    "df2.shape"
   ]
  },
  {
   "cell_type": "code",
   "execution_count": 21,
   "metadata": {
    "scrolled": true
   },
   "outputs": [
    {
     "data": {
      "text/plain": [
       "diag_adm         0\n",
       "dx1              2\n",
       "dx2          28261\n",
       "dx3          64567\n",
       "dx4         103295\n",
       "dx5         143188\n",
       "dx6         182769\n",
       "dx7         220840\n",
       "dx8         256689\n",
       "dx9         290307\n",
       "dx10        321462\n",
       "dx11        350590\n",
       "dx12        376921\n",
       "dx13        400640\n",
       "dx14        421905\n",
       "dx15        440642\n",
       "dx16        457889\n",
       "dx17        472761\n",
       "dx18        484906\n",
       "dx19        494655\n",
       "dx20        502673\n",
       "dx21        509319\n",
       "dx22        514864\n",
       "dx23        519222\n",
       "dx24        522703\n",
       "dx25        525641\n",
       "poa1           495\n",
       "poa2         41125\n",
       "poa3         75976\n",
       "poa4         99816\n",
       "poa5        149012\n",
       "poa6        185148\n",
       "poa7        207780\n",
       "poa8        253774\n",
       "poa9        284840\n",
       "poa10       301532\n",
       "poa11       340981\n",
       "poa12       365429\n",
       "poa13       376746\n",
       "poa14       397043\n",
       "poa15       414996\n",
       "poa16       430899\n",
       "poa17       445377\n",
       "poa18       457125\n",
       "poa19       466606\n",
       "poa20       474423\n",
       "poa21       480884\n",
       "poa22       486294\n",
       "poa23       490558\n",
       "poa24       494002\n",
       "poa25       496883\n",
       "dtype: int64"
      ]
     },
     "execution_count": 21,
     "metadata": {},
     "output_type": "execute_result"
    }
   ],
   "source": [
    "df2[col_diag].isna().sum()"
   ]
  },
  {
   "cell_type": "markdown",
   "metadata": {},
   "source": [
    "Remove columns that are not known upon admission. Remove rows that are missing relevant data."
   ]
  },
  {
   "cell_type": "code",
   "execution_count": 22,
   "metadata": {},
   "outputs": [
    {
     "name": "stdout",
     "output_type": "stream",
     "text": [
      "(536923, 63)\n"
     ]
    }
   ],
   "source": [
    "df2 = df2[df2.age <= 100]\n",
    "print(df2.shape)"
   ]
  },
  {
   "cell_type": "markdown",
   "metadata": {},
   "source": [
    "## Cleanse Diagnosis Codes"
   ]
  },
  {
   "cell_type": "code",
   "execution_count": 23,
   "metadata": {},
   "outputs": [],
   "source": [
    "df3 = df2.copy()"
   ]
  },
  {
   "cell_type": "code",
   "execution_count": 24,
   "metadata": {},
   "outputs": [],
   "source": [
    "#df3.to_csv(\"df3.csv\")"
   ]
  },
  {
   "cell_type": "code",
   "execution_count": 25,
   "metadata": {},
   "outputs": [
    {
     "data": {
      "text/html": [
       "<div>\n",
       "<style scoped>\n",
       "    .dataframe tbody tr th:only-of-type {\n",
       "        vertical-align: middle;\n",
       "    }\n",
       "\n",
       "    .dataframe tbody tr th {\n",
       "        vertical-align: top;\n",
       "    }\n",
       "\n",
       "    .dataframe thead th {\n",
       "        text-align: right;\n",
       "    }\n",
       "</style>\n",
       "<table border=\"1\" class=\"dataframe\">\n",
       "  <thead>\n",
       "    <tr style=\"text-align: right;\">\n",
       "      <th></th>\n",
       "      <th>pay_ub92</th>\n",
       "      <th>age</th>\n",
       "      <th>sex</th>\n",
       "      <th>provider</th>\n",
       "      <th>moa</th>\n",
       "      <th>yoa</th>\n",
       "      <th>admtype</th>\n",
       "      <th>asource</th>\n",
       "      <th>dx1</th>\n",
       "      <th>dx2</th>\n",
       "      <th>...</th>\n",
       "      <th>poa16</th>\n",
       "      <th>poa17</th>\n",
       "      <th>poa18</th>\n",
       "      <th>poa19</th>\n",
       "      <th>poa20</th>\n",
       "      <th>poa21</th>\n",
       "      <th>poa22</th>\n",
       "      <th>poa23</th>\n",
       "      <th>poa24</th>\n",
       "      <th>poa25</th>\n",
       "    </tr>\n",
       "  </thead>\n",
       "  <tbody>\n",
       "    <tr>\n",
       "      <th>1005352</th>\n",
       "      <td>4</td>\n",
       "      <td>20.0</td>\n",
       "      <td>2.0</td>\n",
       "      <td>7214</td>\n",
       "      <td>3.0</td>\n",
       "      <td>10.0</td>\n",
       "      <td>2.0</td>\n",
       "      <td>1</td>\n",
       "      <td>66401</td>\n",
       "      <td>64821</td>\n",
       "      <td>...</td>\n",
       "      <td>NaN</td>\n",
       "      <td>NaN</td>\n",
       "      <td>NaN</td>\n",
       "      <td>NaN</td>\n",
       "      <td>NaN</td>\n",
       "      <td>NaN</td>\n",
       "      <td>NaN</td>\n",
       "      <td>NaN</td>\n",
       "      <td>NaN</td>\n",
       "      <td>NaN</td>\n",
       "    </tr>\n",
       "    <tr>\n",
       "      <th>1005353</th>\n",
       "      <td>4</td>\n",
       "      <td>0.0</td>\n",
       "      <td>2.0</td>\n",
       "      <td>7214</td>\n",
       "      <td>3.0</td>\n",
       "      <td>10.0</td>\n",
       "      <td>4.0</td>\n",
       "      <td>S</td>\n",
       "      <td>V3000</td>\n",
       "      <td>7746</td>\n",
       "      <td>...</td>\n",
       "      <td>NaN</td>\n",
       "      <td>NaN</td>\n",
       "      <td>NaN</td>\n",
       "      <td>NaN</td>\n",
       "      <td>NaN</td>\n",
       "      <td>NaN</td>\n",
       "      <td>NaN</td>\n",
       "      <td>NaN</td>\n",
       "      <td>NaN</td>\n",
       "      <td>NaN</td>\n",
       "    </tr>\n",
       "    <tr>\n",
       "      <th>1005354</th>\n",
       "      <td>4</td>\n",
       "      <td>28.0</td>\n",
       "      <td>2.0</td>\n",
       "      <td>7214</td>\n",
       "      <td>3.0</td>\n",
       "      <td>10.0</td>\n",
       "      <td>2.0</td>\n",
       "      <td>1</td>\n",
       "      <td>64893</td>\n",
       "      <td>514</td>\n",
       "      <td>...</td>\n",
       "      <td>NaN</td>\n",
       "      <td>NaN</td>\n",
       "      <td>NaN</td>\n",
       "      <td>NaN</td>\n",
       "      <td>NaN</td>\n",
       "      <td>NaN</td>\n",
       "      <td>NaN</td>\n",
       "      <td>NaN</td>\n",
       "      <td>NaN</td>\n",
       "      <td>NaN</td>\n",
       "    </tr>\n",
       "    <tr>\n",
       "      <th>1005355</th>\n",
       "      <td>4</td>\n",
       "      <td>28.0</td>\n",
       "      <td>2.0</td>\n",
       "      <td>7214</td>\n",
       "      <td>3.0</td>\n",
       "      <td>10.0</td>\n",
       "      <td>2.0</td>\n",
       "      <td>1</td>\n",
       "      <td>64863</td>\n",
       "      <td>4280</td>\n",
       "      <td>...</td>\n",
       "      <td>NaN</td>\n",
       "      <td>NaN</td>\n",
       "      <td>NaN</td>\n",
       "      <td>NaN</td>\n",
       "      <td>NaN</td>\n",
       "      <td>NaN</td>\n",
       "      <td>NaN</td>\n",
       "      <td>NaN</td>\n",
       "      <td>NaN</td>\n",
       "      <td>NaN</td>\n",
       "    </tr>\n",
       "    <tr>\n",
       "      <th>1005356</th>\n",
       "      <td>4</td>\n",
       "      <td>26.0</td>\n",
       "      <td>2.0</td>\n",
       "      <td>7214</td>\n",
       "      <td>3.0</td>\n",
       "      <td>10.0</td>\n",
       "      <td>2.0</td>\n",
       "      <td>1</td>\n",
       "      <td>65813</td>\n",
       "      <td>64843</td>\n",
       "      <td>...</td>\n",
       "      <td>NaN</td>\n",
       "      <td>NaN</td>\n",
       "      <td>NaN</td>\n",
       "      <td>NaN</td>\n",
       "      <td>NaN</td>\n",
       "      <td>NaN</td>\n",
       "      <td>NaN</td>\n",
       "      <td>NaN</td>\n",
       "      <td>NaN</td>\n",
       "      <td>NaN</td>\n",
       "    </tr>\n",
       "  </tbody>\n",
       "</table>\n",
       "<p>5 rows × 63 columns</p>\n",
       "</div>"
      ],
      "text/plain": [
       "        pay_ub92   age  sex provider  moa   yoa  admtype asource    dx1  \\\n",
       "1005352        4  20.0  2.0     7214  3.0  10.0      2.0       1  66401   \n",
       "1005353        4   0.0  2.0     7214  3.0  10.0      4.0       S  V3000   \n",
       "1005354        4  28.0  2.0     7214  3.0  10.0      2.0       1  64893   \n",
       "1005355        4  28.0  2.0     7214  3.0  10.0      2.0       1  64863   \n",
       "1005356        4  26.0  2.0     7214  3.0  10.0      2.0       1  65813   \n",
       "\n",
       "           dx2  ...  poa16 poa17 poa18 poa19 poa20  poa21 poa22 poa23 poa24  \\\n",
       "1005352  64821  ...    NaN   NaN   NaN   NaN   NaN    NaN   NaN   NaN   NaN   \n",
       "1005353   7746  ...    NaN   NaN   NaN   NaN   NaN    NaN   NaN   NaN   NaN   \n",
       "1005354    514  ...    NaN   NaN   NaN   NaN   NaN    NaN   NaN   NaN   NaN   \n",
       "1005355   4280  ...    NaN   NaN   NaN   NaN   NaN    NaN   NaN   NaN   NaN   \n",
       "1005356  64843  ...    NaN   NaN   NaN   NaN   NaN    NaN   NaN   NaN   NaN   \n",
       "\n",
       "        poa25  \n",
       "1005352   NaN  \n",
       "1005353   NaN  \n",
       "1005354   NaN  \n",
       "1005355   NaN  \n",
       "1005356   NaN  \n",
       "\n",
       "[5 rows x 63 columns]"
      ]
     },
     "execution_count": 25,
     "metadata": {},
     "output_type": "execute_result"
    }
   ],
   "source": [
    "df3.head()"
   ]
  },
  {
   "cell_type": "markdown",
   "metadata": {},
   "source": [
    "Preview data"
   ]
  },
  {
   "cell_type": "code",
   "execution_count": 26,
   "metadata": {},
   "outputs": [],
   "source": [
    "cxx = ['sex', 'age', 'provider', 'diag_adm', 'dx1', 'dx2', 'dx3', 'dx4', 'dx5', 'poa1', 'poa2', 'poa3', 'poa4', 'poa5']\n",
    "df3_preview = df3.filter(items=cxx, axis='columns')"
   ]
  },
  {
   "cell_type": "markdown",
   "metadata": {},
   "source": [
    "## Encoding All dx Present on Admission"
   ]
  },
  {
   "cell_type": "markdown",
   "metadata": {},
   "source": [
    "Delete diagnostic codes that are not present on admission using poa(1-25)"
   ]
  },
  {
   "cell_type": "code",
   "execution_count": 27,
   "metadata": {},
   "outputs": [],
   "source": [
    "dxs = [\"dx{}\".format(i) for i in range(1, 26)]\n",
    "dxs.append('diag_adm')"
   ]
  },
  {
   "cell_type": "code",
   "execution_count": 28,
   "metadata": {},
   "outputs": [
    {
     "name": "stdout",
     "output_type": "stream",
     "text": [
      "26\n"
     ]
    }
   ],
   "source": [
    "print(len(dxs))"
   ]
  },
  {
   "cell_type": "code",
   "execution_count": 29,
   "metadata": {},
   "outputs": [],
   "source": [
    "def dx_poa(df, a=1, b=26):\n",
    "    for i in range(a, b):\n",
    "        dx = \"dx{}\".format(i)\n",
    "        poa = \"poa{}\".format(i)\n",
    "        df[dx] = df[dx][df[poa]==\"Y\"]\n",
    "    return df"
   ]
  },
  {
   "cell_type": "code",
   "execution_count": 30,
   "metadata": {},
   "outputs": [],
   "source": [
    "df4 = dx_poa(df3)"
   ]
  },
  {
   "cell_type": "code",
   "execution_count": 31,
   "metadata": {},
   "outputs": [],
   "source": [
    "drop_cols = [\"poa{}\".format(i) for i in range(1,26)]"
   ]
  },
  {
   "cell_type": "code",
   "execution_count": 32,
   "metadata": {},
   "outputs": [],
   "source": [
    "df4 = df4.drop(drop_cols, axis=1)"
   ]
  },
  {
   "cell_type": "code",
   "execution_count": 33,
   "metadata": {},
   "outputs": [
    {
     "data": {
      "text/plain": [
       "(536923, 38)"
      ]
     },
     "execution_count": 33,
     "metadata": {},
     "output_type": "execute_result"
    }
   ],
   "source": [
    "df4.shape"
   ]
  },
  {
   "cell_type": "code",
   "execution_count": 34,
   "metadata": {},
   "outputs": [
    {
     "data": {
      "text/html": [
       "<div>\n",
       "<style scoped>\n",
       "    .dataframe tbody tr th:only-of-type {\n",
       "        vertical-align: middle;\n",
       "    }\n",
       "\n",
       "    .dataframe tbody tr th {\n",
       "        vertical-align: top;\n",
       "    }\n",
       "\n",
       "    .dataframe thead th {\n",
       "        text-align: right;\n",
       "    }\n",
       "</style>\n",
       "<table border=\"1\" class=\"dataframe\">\n",
       "  <thead>\n",
       "    <tr style=\"text-align: right;\">\n",
       "      <th></th>\n",
       "      <th>pay_ub92</th>\n",
       "      <th>age</th>\n",
       "      <th>sex</th>\n",
       "      <th>provider</th>\n",
       "      <th>moa</th>\n",
       "      <th>yoa</th>\n",
       "      <th>admtype</th>\n",
       "      <th>asource</th>\n",
       "      <th>dx1</th>\n",
       "      <th>dx2</th>\n",
       "      <th>...</th>\n",
       "      <th>dx17</th>\n",
       "      <th>dx18</th>\n",
       "      <th>dx19</th>\n",
       "      <th>dx20</th>\n",
       "      <th>dx21</th>\n",
       "      <th>dx22</th>\n",
       "      <th>dx23</th>\n",
       "      <th>dx24</th>\n",
       "      <th>dx25</th>\n",
       "      <th>race</th>\n",
       "    </tr>\n",
       "  </thead>\n",
       "  <tbody>\n",
       "    <tr>\n",
       "      <th>1005352</th>\n",
       "      <td>4</td>\n",
       "      <td>20.0</td>\n",
       "      <td>2.0</td>\n",
       "      <td>7214</td>\n",
       "      <td>3.0</td>\n",
       "      <td>10.0</td>\n",
       "      <td>2.0</td>\n",
       "      <td>1</td>\n",
       "      <td>NaN</td>\n",
       "      <td>64821</td>\n",
       "      <td>...</td>\n",
       "      <td>NaN</td>\n",
       "      <td>NaN</td>\n",
       "      <td>NaN</td>\n",
       "      <td>NaN</td>\n",
       "      <td>NaN</td>\n",
       "      <td>NaN</td>\n",
       "      <td>NaN</td>\n",
       "      <td>NaN</td>\n",
       "      <td>NaN</td>\n",
       "      <td>1.0</td>\n",
       "    </tr>\n",
       "    <tr>\n",
       "      <th>1005353</th>\n",
       "      <td>4</td>\n",
       "      <td>0.0</td>\n",
       "      <td>2.0</td>\n",
       "      <td>7214</td>\n",
       "      <td>3.0</td>\n",
       "      <td>10.0</td>\n",
       "      <td>4.0</td>\n",
       "      <td>S</td>\n",
       "      <td>NaN</td>\n",
       "      <td>7746</td>\n",
       "      <td>...</td>\n",
       "      <td>NaN</td>\n",
       "      <td>NaN</td>\n",
       "      <td>NaN</td>\n",
       "      <td>NaN</td>\n",
       "      <td>NaN</td>\n",
       "      <td>NaN</td>\n",
       "      <td>NaN</td>\n",
       "      <td>NaN</td>\n",
       "      <td>NaN</td>\n",
       "      <td>1.0</td>\n",
       "    </tr>\n",
       "    <tr>\n",
       "      <th>1005354</th>\n",
       "      <td>4</td>\n",
       "      <td>28.0</td>\n",
       "      <td>2.0</td>\n",
       "      <td>7214</td>\n",
       "      <td>3.0</td>\n",
       "      <td>10.0</td>\n",
       "      <td>2.0</td>\n",
       "      <td>1</td>\n",
       "      <td>64893</td>\n",
       "      <td>514</td>\n",
       "      <td>...</td>\n",
       "      <td>NaN</td>\n",
       "      <td>NaN</td>\n",
       "      <td>NaN</td>\n",
       "      <td>NaN</td>\n",
       "      <td>NaN</td>\n",
       "      <td>NaN</td>\n",
       "      <td>NaN</td>\n",
       "      <td>NaN</td>\n",
       "      <td>NaN</td>\n",
       "      <td>1.0</td>\n",
       "    </tr>\n",
       "    <tr>\n",
       "      <th>1005355</th>\n",
       "      <td>4</td>\n",
       "      <td>28.0</td>\n",
       "      <td>2.0</td>\n",
       "      <td>7214</td>\n",
       "      <td>3.0</td>\n",
       "      <td>10.0</td>\n",
       "      <td>2.0</td>\n",
       "      <td>1</td>\n",
       "      <td>64863</td>\n",
       "      <td>4280</td>\n",
       "      <td>...</td>\n",
       "      <td>NaN</td>\n",
       "      <td>NaN</td>\n",
       "      <td>NaN</td>\n",
       "      <td>NaN</td>\n",
       "      <td>NaN</td>\n",
       "      <td>NaN</td>\n",
       "      <td>NaN</td>\n",
       "      <td>NaN</td>\n",
       "      <td>NaN</td>\n",
       "      <td>1.0</td>\n",
       "    </tr>\n",
       "    <tr>\n",
       "      <th>1005356</th>\n",
       "      <td>4</td>\n",
       "      <td>26.0</td>\n",
       "      <td>2.0</td>\n",
       "      <td>7214</td>\n",
       "      <td>3.0</td>\n",
       "      <td>10.0</td>\n",
       "      <td>2.0</td>\n",
       "      <td>1</td>\n",
       "      <td>65813</td>\n",
       "      <td>64843</td>\n",
       "      <td>...</td>\n",
       "      <td>NaN</td>\n",
       "      <td>NaN</td>\n",
       "      <td>NaN</td>\n",
       "      <td>NaN</td>\n",
       "      <td>NaN</td>\n",
       "      <td>NaN</td>\n",
       "      <td>NaN</td>\n",
       "      <td>NaN</td>\n",
       "      <td>NaN</td>\n",
       "      <td>1.0</td>\n",
       "    </tr>\n",
       "  </tbody>\n",
       "</table>\n",
       "<p>5 rows × 38 columns</p>\n",
       "</div>"
      ],
      "text/plain": [
       "        pay_ub92   age  sex provider  moa   yoa  admtype asource    dx1  \\\n",
       "1005352        4  20.0  2.0     7214  3.0  10.0      2.0       1    NaN   \n",
       "1005353        4   0.0  2.0     7214  3.0  10.0      4.0       S    NaN   \n",
       "1005354        4  28.0  2.0     7214  3.0  10.0      2.0       1  64893   \n",
       "1005355        4  28.0  2.0     7214  3.0  10.0      2.0       1  64863   \n",
       "1005356        4  26.0  2.0     7214  3.0  10.0      2.0       1  65813   \n",
       "\n",
       "           dx2 ...  dx17 dx18 dx19 dx20 dx21  dx22 dx23 dx24 dx25 race  \n",
       "1005352  64821 ...   NaN  NaN  NaN  NaN  NaN   NaN  NaN  NaN  NaN  1.0  \n",
       "1005353   7746 ...   NaN  NaN  NaN  NaN  NaN   NaN  NaN  NaN  NaN  1.0  \n",
       "1005354    514 ...   NaN  NaN  NaN  NaN  NaN   NaN  NaN  NaN  NaN  1.0  \n",
       "1005355   4280 ...   NaN  NaN  NaN  NaN  NaN   NaN  NaN  NaN  NaN  1.0  \n",
       "1005356  64843 ...   NaN  NaN  NaN  NaN  NaN   NaN  NaN  NaN  NaN  1.0  \n",
       "\n",
       "[5 rows x 38 columns]"
      ]
     },
     "execution_count": 34,
     "metadata": {},
     "output_type": "execute_result"
    }
   ],
   "source": [
    "df4.head()"
   ]
  },
  {
   "cell_type": "markdown",
   "metadata": {},
   "source": [
    "## Change Datatypes"
   ]
  },
  {
   "cell_type": "code",
   "execution_count": 35,
   "metadata": {
    "scrolled": true
   },
   "outputs": [
    {
     "name": "stdout",
     "output_type": "stream",
     "text": [
      "pay_ub92    category\n",
      "age          float16\n",
      "sex          float16\n",
      "provider    category\n",
      "moa          float16\n",
      "yoa          float64\n",
      "admtype      float16\n",
      "asource     category\n",
      "dx1         category\n",
      "dx2         category\n",
      "dx3         category\n",
      "dx4         category\n",
      "dx5         category\n",
      "dx6         category\n",
      "dx7         category\n",
      "tot          float64\n",
      "dx8         category\n",
      "dx9         category\n",
      "dx10        category\n",
      "dx11        category\n",
      "diag_adm    category\n",
      "campus      category\n",
      "er_mode      float16\n",
      "dx12        category\n",
      "dx13        category\n",
      "dx14        category\n",
      "dx15        category\n",
      "dx16        category\n",
      "dx17        category\n",
      "dx18        category\n",
      "dx19        category\n",
      "dx20        category\n",
      "dx21        category\n",
      "dx22        category\n",
      "dx23        category\n",
      "dx24        category\n",
      "dx25        category\n",
      "race         float16\n",
      "dtype: object\n"
     ]
    }
   ],
   "source": [
    "print(df4.dtypes)"
   ]
  },
  {
   "cell_type": "code",
   "execution_count": 36,
   "metadata": {},
   "outputs": [],
   "source": [
    "df4.provider = df4.provider.astype('int16') - 7200"
   ]
  },
  {
   "cell_type": "code",
   "execution_count": 37,
   "metadata": {},
   "outputs": [],
   "source": [
    "types = {'pay_ub92': 'int8', \n",
    "         'sex': 'int8', \n",
    "         'provider': 'int8',\n",
    "         'moa': 'int8',\n",
    "         'yoa': 'int8',\n",
    "         'admtype': 'int8',\n",
    "         'er_mode': 'int8',\n",
    "         'race': 'int8'\n",
    "        }"
   ]
  },
  {
   "cell_type": "code",
   "execution_count": 38,
   "metadata": {},
   "outputs": [
    {
     "name": "stdout",
     "output_type": "stream",
     "text": [
      "pay_ub92 ['4', '1', '6', '3', '10', '9', '7', '8', '2', '13', '12', '99', '11', '98', '5']\n",
      "sex [2.0, 1.0, 9.0]\n",
      "provider [14, 13, 10, 9, 1, 15, 2, 5, 6, 11, 4, 3, 16, 12]\n",
      "moa [3.0, 2.0, 1.0, 4.0, 5.0, 6.0, 7.0, 8.0, 9.0, 10.0, 11.0, 12.0]\n",
      "yoa [10.0, 11.0, 12.0, 13.0]\n",
      "admtype [2.0, 4.0, 1.0, 3.0, 9.0]\n",
      "er_mode [0.0, 1.0, 4.0, 3.0, 5.0, 9.0]\n",
      "race [1.0, 3.0, 5.0, 9.0, 2.0, 6.0, 4.0, 0.0]\n"
     ]
    }
   ],
   "source": [
    "for t, _ in types.items():\n",
    "    print(t, list(df4[t].unique()))"
   ]
  },
  {
   "cell_type": "code",
   "execution_count": 39,
   "metadata": {},
   "outputs": [],
   "source": [
    "df4 = df4.astype(types)"
   ]
  },
  {
   "cell_type": "code",
   "execution_count": 40,
   "metadata": {},
   "outputs": [
    {
     "data": {
      "text/html": [
       "<div>\n",
       "<style scoped>\n",
       "    .dataframe tbody tr th:only-of-type {\n",
       "        vertical-align: middle;\n",
       "    }\n",
       "\n",
       "    .dataframe tbody tr th {\n",
       "        vertical-align: top;\n",
       "    }\n",
       "\n",
       "    .dataframe thead th {\n",
       "        text-align: right;\n",
       "    }\n",
       "</style>\n",
       "<table border=\"1\" class=\"dataframe\">\n",
       "  <thead>\n",
       "    <tr style=\"text-align: right;\">\n",
       "      <th></th>\n",
       "      <th>pay_ub92</th>\n",
       "      <th>age</th>\n",
       "      <th>sex</th>\n",
       "      <th>provider</th>\n",
       "      <th>moa</th>\n",
       "      <th>yoa</th>\n",
       "      <th>admtype</th>\n",
       "      <th>asource</th>\n",
       "      <th>dx1</th>\n",
       "      <th>dx2</th>\n",
       "      <th>...</th>\n",
       "      <th>dx17</th>\n",
       "      <th>dx18</th>\n",
       "      <th>dx19</th>\n",
       "      <th>dx20</th>\n",
       "      <th>dx21</th>\n",
       "      <th>dx22</th>\n",
       "      <th>dx23</th>\n",
       "      <th>dx24</th>\n",
       "      <th>dx25</th>\n",
       "      <th>race</th>\n",
       "    </tr>\n",
       "  </thead>\n",
       "  <tbody>\n",
       "    <tr>\n",
       "      <th>1005352</th>\n",
       "      <td>4</td>\n",
       "      <td>20.0</td>\n",
       "      <td>2</td>\n",
       "      <td>14</td>\n",
       "      <td>3</td>\n",
       "      <td>10</td>\n",
       "      <td>2</td>\n",
       "      <td>1</td>\n",
       "      <td>NaN</td>\n",
       "      <td>64821</td>\n",
       "      <td>...</td>\n",
       "      <td>NaN</td>\n",
       "      <td>NaN</td>\n",
       "      <td>NaN</td>\n",
       "      <td>NaN</td>\n",
       "      <td>NaN</td>\n",
       "      <td>NaN</td>\n",
       "      <td>NaN</td>\n",
       "      <td>NaN</td>\n",
       "      <td>NaN</td>\n",
       "      <td>1</td>\n",
       "    </tr>\n",
       "    <tr>\n",
       "      <th>1005353</th>\n",
       "      <td>4</td>\n",
       "      <td>0.0</td>\n",
       "      <td>2</td>\n",
       "      <td>14</td>\n",
       "      <td>3</td>\n",
       "      <td>10</td>\n",
       "      <td>4</td>\n",
       "      <td>S</td>\n",
       "      <td>NaN</td>\n",
       "      <td>7746</td>\n",
       "      <td>...</td>\n",
       "      <td>NaN</td>\n",
       "      <td>NaN</td>\n",
       "      <td>NaN</td>\n",
       "      <td>NaN</td>\n",
       "      <td>NaN</td>\n",
       "      <td>NaN</td>\n",
       "      <td>NaN</td>\n",
       "      <td>NaN</td>\n",
       "      <td>NaN</td>\n",
       "      <td>1</td>\n",
       "    </tr>\n",
       "    <tr>\n",
       "      <th>1005354</th>\n",
       "      <td>4</td>\n",
       "      <td>28.0</td>\n",
       "      <td>2</td>\n",
       "      <td>14</td>\n",
       "      <td>3</td>\n",
       "      <td>10</td>\n",
       "      <td>2</td>\n",
       "      <td>1</td>\n",
       "      <td>64893</td>\n",
       "      <td>514</td>\n",
       "      <td>...</td>\n",
       "      <td>NaN</td>\n",
       "      <td>NaN</td>\n",
       "      <td>NaN</td>\n",
       "      <td>NaN</td>\n",
       "      <td>NaN</td>\n",
       "      <td>NaN</td>\n",
       "      <td>NaN</td>\n",
       "      <td>NaN</td>\n",
       "      <td>NaN</td>\n",
       "      <td>1</td>\n",
       "    </tr>\n",
       "    <tr>\n",
       "      <th>1005355</th>\n",
       "      <td>4</td>\n",
       "      <td>28.0</td>\n",
       "      <td>2</td>\n",
       "      <td>14</td>\n",
       "      <td>3</td>\n",
       "      <td>10</td>\n",
       "      <td>2</td>\n",
       "      <td>1</td>\n",
       "      <td>64863</td>\n",
       "      <td>4280</td>\n",
       "      <td>...</td>\n",
       "      <td>NaN</td>\n",
       "      <td>NaN</td>\n",
       "      <td>NaN</td>\n",
       "      <td>NaN</td>\n",
       "      <td>NaN</td>\n",
       "      <td>NaN</td>\n",
       "      <td>NaN</td>\n",
       "      <td>NaN</td>\n",
       "      <td>NaN</td>\n",
       "      <td>1</td>\n",
       "    </tr>\n",
       "    <tr>\n",
       "      <th>1005356</th>\n",
       "      <td>4</td>\n",
       "      <td>26.0</td>\n",
       "      <td>2</td>\n",
       "      <td>14</td>\n",
       "      <td>3</td>\n",
       "      <td>10</td>\n",
       "      <td>2</td>\n",
       "      <td>1</td>\n",
       "      <td>65813</td>\n",
       "      <td>64843</td>\n",
       "      <td>...</td>\n",
       "      <td>NaN</td>\n",
       "      <td>NaN</td>\n",
       "      <td>NaN</td>\n",
       "      <td>NaN</td>\n",
       "      <td>NaN</td>\n",
       "      <td>NaN</td>\n",
       "      <td>NaN</td>\n",
       "      <td>NaN</td>\n",
       "      <td>NaN</td>\n",
       "      <td>1</td>\n",
       "    </tr>\n",
       "  </tbody>\n",
       "</table>\n",
       "<p>5 rows × 38 columns</p>\n",
       "</div>"
      ],
      "text/plain": [
       "         pay_ub92   age  sex  provider  moa  yoa  admtype asource    dx1  \\\n",
       "1005352         4  20.0    2        14    3   10        2       1    NaN   \n",
       "1005353         4   0.0    2        14    3   10        4       S    NaN   \n",
       "1005354         4  28.0    2        14    3   10        2       1  64893   \n",
       "1005355         4  28.0    2        14    3   10        2       1  64863   \n",
       "1005356         4  26.0    2        14    3   10        2       1  65813   \n",
       "\n",
       "           dx2 ...  dx17 dx18 dx19 dx20 dx21  dx22 dx23 dx24 dx25 race  \n",
       "1005352  64821 ...   NaN  NaN  NaN  NaN  NaN   NaN  NaN  NaN  NaN    1  \n",
       "1005353   7746 ...   NaN  NaN  NaN  NaN  NaN   NaN  NaN  NaN  NaN    1  \n",
       "1005354    514 ...   NaN  NaN  NaN  NaN  NaN   NaN  NaN  NaN  NaN    1  \n",
       "1005355   4280 ...   NaN  NaN  NaN  NaN  NaN   NaN  NaN  NaN  NaN    1  \n",
       "1005356  64843 ...   NaN  NaN  NaN  NaN  NaN   NaN  NaN  NaN  NaN    1  \n",
       "\n",
       "[5 rows x 38 columns]"
      ]
     },
     "execution_count": 40,
     "metadata": {},
     "output_type": "execute_result"
    }
   ],
   "source": [
    "df4.head()"
   ]
  },
  {
   "cell_type": "markdown",
   "metadata": {},
   "source": [
    "## Save to CSV"
   ]
  },
  {
   "cell_type": "code",
   "execution_count": 41,
   "metadata": {},
   "outputs": [],
   "source": [
    "df_sample = df4.sample(10000, random_state=0)"
   ]
  },
  {
   "cell_type": "code",
   "execution_count": 42,
   "metadata": {},
   "outputs": [],
   "source": [
    "df_sample.to_csv(\"df_sample.csv\")"
   ]
  },
  {
   "cell_type": "code",
   "execution_count": 43,
   "metadata": {},
   "outputs": [],
   "source": [
    "df4.to_csv(\"df_cleansed.csv\")"
   ]
  },
  {
   "cell_type": "markdown",
   "metadata": {},
   "source": []
  }
 ],
 "metadata": {
  "kernelspec": {
   "display_name": "Python 3",
   "language": "python",
   "name": "python3"
  },
  "language_info": {
   "codemirror_mode": {
    "name": "ipython",
    "version": 3
   },
   "file_extension": ".py",
   "mimetype": "text/x-python",
   "name": "python",
   "nbconvert_exporter": "python",
   "pygments_lexer": "ipython3",
   "version": "3.7.0"
  }
 },
 "nbformat": 4,
 "nbformat_minor": 2
}
