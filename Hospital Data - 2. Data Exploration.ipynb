{
 "cells": [
  {
   "cell_type": "markdown",
   "metadata": {},
   "source": [
    "# Predicting Hospitalization Costs"
   ]
  },
  {
   "cell_type": "markdown",
   "metadata": {},
   "source": [
    "Chris Defreitas\n",
    "\n",
    "November 2018\n",
    "\n",
    "Bryant University"
   ]
  },
  {
   "cell_type": "markdown",
   "metadata": {},
   "source": [
    "# Data Cleaning and Transformation"
   ]
  },
  {
   "cell_type": "markdown",
   "metadata": {},
   "source": [
    "### Imports"
   ]
  },
  {
   "cell_type": "markdown",
   "metadata": {},
   "source": [
    "Import libraries"
   ]
  },
  {
   "cell_type": "code",
   "execution_count": 2,
   "metadata": {},
   "outputs": [],
   "source": [
    "import numpy as np\n",
    "import pandas as pd\n",
    "import matplotlib.pyplot as plt\n",
    "import copy\n",
    "%matplotlib inline\n",
    "plt.style.use('ggplot')"
   ]
  },
  {
   "cell_type": "markdown",
   "metadata": {},
   "source": [
    "Import dataset"
   ]
  },
  {
   "cell_type": "code",
   "execution_count": 3,
   "metadata": {
    "scrolled": false
   },
   "outputs": [],
   "source": [
    "# Specify the selected field and their datatypes \n",
    "\n",
    "type_arrival = {'sex': 'category',\n",
    "                'er_mode': 'category',\n",
    "                'admtype': 'category',\n",
    "                'yoa': 'float16',\n",
    "                'diag_adm': 'category',\n",
    "                'dx1': 'category',\n",
    "                'dx2': 'category',\n",
    "                'dx3': 'category',\n",
    "                'dx4': 'category',\n",
    "                'dx5': 'category',\n",
    "                'dx6': 'category',\n",
    "                'dx7': 'category',\n",
    "                'dx8': 'category',\n",
    "                'dx9': 'category',\n",
    "                'dx10': 'category',\n",
    "                'dx11': 'category',\n",
    "                'dx12': 'category',\n",
    "                'dx13': 'category',\n",
    "                'dx14': 'category',\n",
    "                'dx15': 'category',\n",
    "                'dx16': 'category',\n",
    "                'dx17': 'category',\n",
    "                'dx18': 'category',\n",
    "                'dx19': 'category',\n",
    "                'dx20': 'category',\n",
    "                'dx21': 'category',\n",
    "                'dx22': 'category',\n",
    "                'dx23': 'category',\n",
    "                'dx24': 'category',\n",
    "                'dx25': 'category', \n",
    "                'poa1': 'category', \n",
    "                'poa2': 'category', \n",
    "                'poa3': 'category', \n",
    "                'poa4': 'category', \n",
    "                'poa5': 'category', \n",
    "                'poa6': 'category', \n",
    "                'poa7': 'category', \n",
    "                'poa8': 'category', \n",
    "                'poa9': 'category', \n",
    "                'poa10': 'category', \n",
    "                'poa11': 'category',\n",
    "                'poa12': 'category', \n",
    "                'poa13': 'category', \n",
    "                'poa14': 'category', \n",
    "                'poa15': 'category', \n",
    "                'poa16': 'category', \n",
    "                'poa17': 'category', \n",
    "                'poa18': 'category', \n",
    "                'poa19': 'category', \n",
    "                'poa20': 'category', \n",
    "                'poa21': 'category', \n",
    "                'poa22': 'category',\n",
    "                'poa23': 'category',\n",
    "                'poa24': 'category',\n",
    "                'poa25': 'category',\n",
    "                'pay_ub92': 'category',\n",
    "                'provider': 'category', \n",
    "                'asource': 'category',\n",
    "                'moa': 'float16',\n",
    "                'age': 'float16',\n",
    "                'race': 'category'}\n",
    "\n",
    "type_target = {'tot': 'float64'}\n",
    "\n",
    "col_arrival = [*type_arrival]\n",
    "col_target = [*type_target]\n",
    "\n",
    "usecols = col_arrival + col_target\n",
    "dtype = {}\n",
    "for d in [type_arrival, type_target]:\n",
    "    for k, v in d.items():\n",
    "        dtype[k] = v"
   ]
  },
  {
   "cell_type": "code",
   "execution_count": 4,
   "metadata": {},
   "outputs": [],
   "source": [
    "# import data using relevant columns and datatypes\n",
    "df1 = pd.read_csv('hdd0313cy.csv', \n",
    "                  usecols=usecols, \n",
    "                  dtype=dtype\n",
    "                 )"
   ]
  },
  {
   "cell_type": "code",
   "execution_count": null,
   "metadata": {},
   "outputs": [],
   "source": [
    "print(df1.shape)"
   ]
  },
  {
   "cell_type": "markdown",
   "metadata": {},
   "source": [
    "## Data Cleaning"
   ]
  },
  {
   "cell_type": "markdown",
   "metadata": {},
   "source": [
    "Remove newborn data"
   ]
  },
  {
   "cell_type": "code",
   "execution_count": 5,
   "metadata": {},
   "outputs": [
    {
     "data": {
      "text/plain": [
       "(1385592, 62)"
      ]
     },
     "execution_count": 5,
     "metadata": {},
     "output_type": "execute_result"
    }
   ],
   "source": [
    "df2 = df1.copy()\n",
    "df2 = df2[df2.age > 0]\n",
    "df2 = df2[df2.admtype != '4']\n",
    "v = ['1', '2', '3', '4', '5', '6', '7', '8', '9', 'Z', 'A']\n",
    "df2 = df2[df2.admtype.isin(v)]\n",
    "df2.shape"
   ]
  },
  {
   "cell_type": "code",
   "execution_count": 6,
   "metadata": {},
   "outputs": [],
   "source": [
    "def getFullYear(y):\n",
    "    '''Converts yoa from yy format to yyyy format'''\n",
    "    if y == 0:\n",
    "        return 2000\n",
    "    elif y < 10:\n",
    "        return float(\"200\"+str(y))\n",
    "    elif y < 25:\n",
    "        return float(\"20\"+str(y))\n",
    "    elif y < 100:\n",
    "        return float(\"19\"+str(y))\n",
    "    else:\n",
    "        return y"
   ]
  },
  {
   "cell_type": "markdown",
   "metadata": {},
   "source": [
    "Remove columns that are not known upon admission. Remove rows that are missing relevant data."
   ]
  },
  {
   "cell_type": "code",
   "execution_count": 7,
   "metadata": {},
   "outputs": [
    {
     "name": "stdout",
     "output_type": "stream",
     "text": [
      "(1385535, 62)\n",
      "(1384779, 62)\n",
      "(1384779, 62)\n",
      "(1383501, 62)\n",
      "(1134229, 62)\n",
      "(1134229, 62)\n",
      "(953625, 62)\n",
      "(953192, 62)\n",
      "(465251, 62)\n",
      "(464957, 62)\n"
     ]
    }
   ],
   "source": [
    "df2 = df2[df2.sex != '9']\n",
    "df2.sex.cat.remove_unused_categories()\n",
    "print(df2.shape)\n",
    "df2 = df2[df2.admtype != '9'] # rem\n",
    "print(df2.shape)\n",
    "df2 = df2[False == pd.isna(df2.admtype)]\n",
    "print(df2.shape)\n",
    "df2 = df2[False == pd.isna(df2.asource)]\n",
    "print(df2.shape)\n",
    "df2 = df2[False == pd.isna(df2.race)]\n",
    "print(df2.shape)\n",
    "#df2 = df2[False == pd.isna(df2.dx1)]\n",
    "print(df2.shape)\n",
    "df2 = df2[False == pd.isna(df2.er_mode)]\n",
    "print(df2.shape)\n",
    "df2 = df2[False == pd.isna(df2.diag_adm)]\n",
    "print(df2.shape)\n",
    "df2['yoa'] = df2['yoa'].apply(getFullYear)\n",
    "df2 = df2[df2.yoa >= 2010]\n",
    "print(df2.shape)\n",
    "df2 = df2[df2.age <= 100]\n",
    "print(df2.shape)"
   ]
  },
  {
   "cell_type": "markdown",
   "metadata": {},
   "source": [
    "Check datatypes"
   ]
  },
  {
   "cell_type": "code",
   "execution_count": 8,
   "metadata": {},
   "outputs": [
    {
     "name": "stdout",
     "output_type": "stream",
     "text": [
      "pay_ub92    category\n",
      "age          float16\n",
      "sex         category\n",
      "provider    category\n",
      "moa          float16\n",
      "yoa          float64\n",
      "admtype     category\n",
      "asource     category\n",
      "dx1         category\n",
      "dx2         category\n",
      "dx3         category\n",
      "dx4         category\n",
      "dx5         category\n",
      "dx6         category\n",
      "dx7         category\n",
      "tot          float64\n",
      "dx8         category\n",
      "dx9         category\n",
      "dx10        category\n",
      "dx11        category\n",
      "diag_adm    category\n",
      "er_mode     category\n",
      "dx12        category\n",
      "dx13        category\n",
      "dx14        category\n",
      "dx15        category\n",
      "dx16        category\n",
      "dx17        category\n",
      "dx18        category\n",
      "dx19        category\n",
      "              ...   \n",
      "dx22        category\n",
      "dx23        category\n",
      "dx24        category\n",
      "dx25        category\n",
      "race        category\n",
      "poa1        category\n",
      "poa2        category\n",
      "poa3        category\n",
      "poa4        category\n",
      "poa5        category\n",
      "poa6        category\n",
      "poa7        category\n",
      "poa8        category\n",
      "poa9        category\n",
      "poa10       category\n",
      "poa11       category\n",
      "poa12       category\n",
      "poa13       category\n",
      "poa14       category\n",
      "poa15       category\n",
      "poa16       category\n",
      "poa17       category\n",
      "poa18       category\n",
      "poa19       category\n",
      "poa20       category\n",
      "poa21       category\n",
      "poa22       category\n",
      "poa23       category\n",
      "poa24       category\n",
      "poa25       category\n",
      "Length: 62, dtype: object\n"
     ]
    }
   ],
   "source": [
    "print(df2.dtypes)"
   ]
  },
  {
   "cell_type": "markdown",
   "metadata": {},
   "source": [
    "Edit year of addmission collumn"
   ]
  },
  {
   "cell_type": "code",
   "execution_count": 9,
   "metadata": {},
   "outputs": [],
   "source": [
    "df2['doa'] = df2['yoa'] * 12 + (df2['moa']-1)"
   ]
  },
  {
   "cell_type": "code",
   "execution_count": 10,
   "metadata": {},
   "outputs": [],
   "source": [
    "df3 = df2.copy()"
   ]
  },
  {
   "cell_type": "code",
   "execution_count": 11,
   "metadata": {},
   "outputs": [],
   "source": [
    "#df3.to_csv(\"df3.csv\")"
   ]
  },
  {
   "cell_type": "code",
   "execution_count": 12,
   "metadata": {},
   "outputs": [
    {
     "name": "stdout",
     "output_type": "stream",
     "text": [
      "(464957, 62)\n"
     ]
    },
    {
     "data": {
      "text/html": [
       "<div>\n",
       "<style scoped>\n",
       "    .dataframe tbody tr th:only-of-type {\n",
       "        vertical-align: middle;\n",
       "    }\n",
       "\n",
       "    .dataframe tbody tr th {\n",
       "        vertical-align: top;\n",
       "    }\n",
       "\n",
       "    .dataframe thead th {\n",
       "        text-align: right;\n",
       "    }\n",
       "</style>\n",
       "<table border=\"1\" class=\"dataframe\">\n",
       "  <thead>\n",
       "    <tr style=\"text-align: right;\">\n",
       "      <th></th>\n",
       "      <th>sex</th>\n",
       "      <th>er_mode</th>\n",
       "      <th>admtype</th>\n",
       "      <th>yoa</th>\n",
       "      <th>diag_adm</th>\n",
       "      <th>dx1</th>\n",
       "      <th>dx2</th>\n",
       "      <th>dx3</th>\n",
       "      <th>dx4</th>\n",
       "      <th>dx5</th>\n",
       "      <th>...</th>\n",
       "      <th>poa23</th>\n",
       "      <th>poa24</th>\n",
       "      <th>poa25</th>\n",
       "      <th>pay_ub92</th>\n",
       "      <th>provider</th>\n",
       "      <th>asource</th>\n",
       "      <th>moa</th>\n",
       "      <th>age</th>\n",
       "      <th>race</th>\n",
       "      <th>tot</th>\n",
       "    </tr>\n",
       "  </thead>\n",
       "  <tbody>\n",
       "    <tr>\n",
       "      <th>1005352</th>\n",
       "      <td>2</td>\n",
       "      <td>0</td>\n",
       "      <td>2</td>\n",
       "      <td>2010.0</td>\n",
       "      <td>64413</td>\n",
       "      <td>66401</td>\n",
       "      <td>64821</td>\n",
       "      <td>2859</td>\n",
       "      <td>V270</td>\n",
       "      <td>NaN</td>\n",
       "      <td>...</td>\n",
       "      <td>NaN</td>\n",
       "      <td>NaN</td>\n",
       "      <td>NaN</td>\n",
       "      <td>4</td>\n",
       "      <td>7214</td>\n",
       "      <td>1</td>\n",
       "      <td>3.0</td>\n",
       "      <td>20.0</td>\n",
       "      <td>1</td>\n",
       "      <td>14150.0</td>\n",
       "    </tr>\n",
       "    <tr>\n",
       "      <th>1005354</th>\n",
       "      <td>2</td>\n",
       "      <td>0</td>\n",
       "      <td>2</td>\n",
       "      <td>2010.0</td>\n",
       "      <td>78659</td>\n",
       "      <td>64893</td>\n",
       "      <td>514</td>\n",
       "      <td>4238</td>\n",
       "      <td>64863</td>\n",
       "      <td>4254</td>\n",
       "      <td>...</td>\n",
       "      <td>NaN</td>\n",
       "      <td>NaN</td>\n",
       "      <td>NaN</td>\n",
       "      <td>4</td>\n",
       "      <td>7214</td>\n",
       "      <td>1</td>\n",
       "      <td>3.0</td>\n",
       "      <td>28.0</td>\n",
       "      <td>1</td>\n",
       "      <td>7767.0</td>\n",
       "    </tr>\n",
       "    <tr>\n",
       "      <th>1005355</th>\n",
       "      <td>2</td>\n",
       "      <td>0</td>\n",
       "      <td>2</td>\n",
       "      <td>2010.0</td>\n",
       "      <td>64863</td>\n",
       "      <td>64863</td>\n",
       "      <td>4280</td>\n",
       "      <td>4238</td>\n",
       "      <td>4254</td>\n",
       "      <td>64853</td>\n",
       "      <td>...</td>\n",
       "      <td>NaN</td>\n",
       "      <td>NaN</td>\n",
       "      <td>NaN</td>\n",
       "      <td>4</td>\n",
       "      <td>7214</td>\n",
       "      <td>1</td>\n",
       "      <td>3.0</td>\n",
       "      <td>28.0</td>\n",
       "      <td>1</td>\n",
       "      <td>5315.0</td>\n",
       "    </tr>\n",
       "    <tr>\n",
       "      <th>1005356</th>\n",
       "      <td>2</td>\n",
       "      <td>0</td>\n",
       "      <td>2</td>\n",
       "      <td>2010.0</td>\n",
       "      <td>65803</td>\n",
       "      <td>65813</td>\n",
       "      <td>64843</td>\n",
       "      <td>30000</td>\n",
       "      <td>NaN</td>\n",
       "      <td>NaN</td>\n",
       "      <td>...</td>\n",
       "      <td>NaN</td>\n",
       "      <td>NaN</td>\n",
       "      <td>NaN</td>\n",
       "      <td>4</td>\n",
       "      <td>7214</td>\n",
       "      <td>1</td>\n",
       "      <td>3.0</td>\n",
       "      <td>26.0</td>\n",
       "      <td>1</td>\n",
       "      <td>31107.0</td>\n",
       "    </tr>\n",
       "    <tr>\n",
       "      <th>1005360</th>\n",
       "      <td>2</td>\n",
       "      <td>0</td>\n",
       "      <td>2</td>\n",
       "      <td>2010.0</td>\n",
       "      <td>64413</td>\n",
       "      <td>66411</td>\n",
       "      <td>V270</td>\n",
       "      <td>NaN</td>\n",
       "      <td>NaN</td>\n",
       "      <td>NaN</td>\n",
       "      <td>...</td>\n",
       "      <td>NaN</td>\n",
       "      <td>NaN</td>\n",
       "      <td>NaN</td>\n",
       "      <td>4</td>\n",
       "      <td>7214</td>\n",
       "      <td>1</td>\n",
       "      <td>2.0</td>\n",
       "      <td>24.0</td>\n",
       "      <td>5</td>\n",
       "      <td>5696.0</td>\n",
       "    </tr>\n",
       "  </tbody>\n",
       "</table>\n",
       "<p>5 rows × 62 columns</p>\n",
       "</div>"
      ],
      "text/plain": [
       "        sex er_mode admtype     yoa diag_adm    dx1    dx2    dx3    dx4  \\\n",
       "1005352   2       0       2  2010.0    64413  66401  64821   2859   V270   \n",
       "1005354   2       0       2  2010.0    78659  64893    514   4238  64863   \n",
       "1005355   2       0       2  2010.0    64863  64863   4280   4238   4254   \n",
       "1005356   2       0       2  2010.0    65803  65813  64843  30000    NaN   \n",
       "1005360   2       0       2  2010.0    64413  66411   V270    NaN    NaN   \n",
       "\n",
       "           dx5   ...    poa23 poa24 poa25 pay_ub92 provider asource  moa  \\\n",
       "1005352    NaN   ...      NaN   NaN   NaN        4     7214       1  3.0   \n",
       "1005354   4254   ...      NaN   NaN   NaN        4     7214       1  3.0   \n",
       "1005355  64853   ...      NaN   NaN   NaN        4     7214       1  3.0   \n",
       "1005356    NaN   ...      NaN   NaN   NaN        4     7214       1  3.0   \n",
       "1005360    NaN   ...      NaN   NaN   NaN        4     7214       1  2.0   \n",
       "\n",
       "          age race      tot  \n",
       "1005352  20.0    1  14150.0  \n",
       "1005354  28.0    1   7767.0  \n",
       "1005355  28.0    1   5315.0  \n",
       "1005356  26.0    1  31107.0  \n",
       "1005360  24.0    5   5696.0  \n",
       "\n",
       "[5 rows x 62 columns]"
      ]
     },
     "execution_count": 12,
     "metadata": {},
     "output_type": "execute_result"
    }
   ],
   "source": [
    "df3_arrival = df3.filter(col_arrival + col_target)\n",
    "print(df3_arrival.shape)\n",
    "df3_arrival.head()"
   ]
  },
  {
   "cell_type": "markdown",
   "metadata": {},
   "source": [
    "#### Filter on the most frequent diag_adm"
   ]
  },
  {
   "cell_type": "code",
   "execution_count": 13,
   "metadata": {},
   "outputs": [
    {
     "name": "stdout",
     "output_type": "stream",
     "text": [
      "     diag_adm  counts\n",
      "2211    64413   15873\n",
      "491     78605   14325\n",
      "41        486   12337\n",
      "233     29690   11694\n",
      "98      78650   10767\n",
      "102675\n",
      "235747\n",
      "295865\n",
      "407000\n",
      "438038\n",
      "464957\n"
     ]
    }
   ],
   "source": [
    "top_diag = df3_arrival.groupby(['diag_adm']).size().reset_index(name='counts').sort_values(by=['counts'], ascending=False)\n",
    "print(top_diag.head())\n",
    "print(top_diag.head(10)['counts'].sum())\n",
    "print(top_diag.head(50)['counts'].sum())\n",
    "print(top_diag.head(100)['counts'].sum())\n",
    "print(top_diag.head(500)['counts'].sum())\n",
    "print(top_diag.head(1000)['counts'].sum())\n",
    "print(top_diag['counts'].sum())"
   ]
  },
  {
   "cell_type": "code",
   "execution_count": 14,
   "metadata": {},
   "outputs": [],
   "source": [
    "n = 50\n",
    "top_n_diag = top_diag.head(n)['diag_adm']\n",
    "df3_top_n_diag = df3_arrival[df3_arrival['diag_adm'].isin(top_n_diag)]"
   ]
  },
  {
   "cell_type": "markdown",
   "metadata": {},
   "source": [
    "## ANOVA for diag_adm"
   ]
  },
  {
   "cell_type": "code",
   "execution_count": 15,
   "metadata": {},
   "outputs": [],
   "source": [
    "import statsmodels.api as sm\n",
    "from statsmodels.formula.api import ols"
   ]
  },
  {
   "cell_type": "code",
   "execution_count": 16,
   "metadata": {},
   "outputs": [],
   "source": [
    "#mod = ols('tot ~ diag_adm', data=df3_arrival).fit()"
   ]
  },
  {
   "cell_type": "code",
   "execution_count": 17,
   "metadata": {
    "scrolled": true
   },
   "outputs": [],
   "source": [
    "#aov_table = sm.stats.anova_lm(mod, tpy=2)\n",
    "#print(aov_table)"
   ]
  },
  {
   "cell_type": "code",
   "execution_count": 18,
   "metadata": {},
   "outputs": [],
   "source": [
    "#                df        sum_sq       mean_sq          F  PR(>F)\n",
    "#diag_adm    6639.0  1.238547e+14  1.865563e+10  12.227963     0.0\n",
    "#Residual  459800.0  7.014952e+14  1.525653e+09        NaN     NaN"
   ]
  },
  {
   "cell_type": "code",
   "execution_count": 19,
   "metadata": {},
   "outputs": [],
   "source": [
    "#mod = ols('tot ~ sex', data=df3_arrival).fit()"
   ]
  },
  {
   "cell_type": "code",
   "execution_count": 20,
   "metadata": {
    "scrolled": true
   },
   "outputs": [],
   "source": [
    "#aov_table = sm.stats.anova_lm(mod, tpy=2)\n",
    "#print(aov_table)"
   ]
  },
  {
   "cell_type": "code",
   "execution_count": 21,
   "metadata": {},
   "outputs": [],
   "source": [
    "#mod = ols('tot ~ er_mode', data=df3_arrival).fit()"
   ]
  },
  {
   "cell_type": "code",
   "execution_count": 22,
   "metadata": {},
   "outputs": [],
   "source": [
    "#aov_table = sm.stats.anova_lm(mod, tpy=2)\n",
    "#print(aov_table)"
   ]
  },
  {
   "cell_type": "code",
   "execution_count": 23,
   "metadata": {},
   "outputs": [],
   "source": [
    "#mod = ols('tot ~ asource', data=df3_arrival).fit()"
   ]
  },
  {
   "cell_type": "code",
   "execution_count": 24,
   "metadata": {},
   "outputs": [],
   "source": [
    "#aov_table = sm.stats.anova_lm(mod, tpy=2)\n",
    "#print(aov_table)"
   ]
  },
  {
   "cell_type": "code",
   "execution_count": 25,
   "metadata": {},
   "outputs": [],
   "source": [
    "cxx = ['sex', 'age', 'provider', 'diag_adm', 'dx1', 'dx2', 'dx3', 'dx4', 'dx5', 'poa1', 'poa2', 'poa3', 'poa4', 'poa5']\n",
    "df3_preview = df3_arrival.filter(items=cxx, axis='columns')"
   ]
  },
  {
   "cell_type": "code",
   "execution_count": 26,
   "metadata": {},
   "outputs": [],
   "source": [
    "#df3_arrival.to_csv(\"df3_arrival.csv\")"
   ]
  },
  {
   "cell_type": "markdown",
   "metadata": {},
   "source": [
    "## Encoding All dx Present on Admission"
   ]
  },
  {
   "cell_type": "code",
   "execution_count": 27,
   "metadata": {},
   "outputs": [],
   "source": [
    "dxs = [\"dx{}\".format(i) for i in range(1, 26)]\n",
    "dxs.append('diag_adm')\n",
    "dx_uniques = list(top_n_diag)"
   ]
  },
  {
   "cell_type": "code",
   "execution_count": 28,
   "metadata": {},
   "outputs": [
    {
     "name": "stdout",
     "output_type": "stream",
     "text": [
      "26\n",
      "50\n"
     ]
    }
   ],
   "source": [
    "print(len(dxs))\n",
    "print(len(dx_uniques))"
   ]
  },
  {
   "cell_type": "code",
   "execution_count": 29,
   "metadata": {},
   "outputs": [],
   "source": [
    "def dx_poa(df, a=1, b=26):\n",
    "    for i in range(a, b):\n",
    "        dx = \"dx{}\".format(i)\n",
    "        poa = \"poa{}\".format(i)\n",
    "        df[dx] = df[dx][df[poa]==\"Y\"]\n",
    "    return df"
   ]
  },
  {
   "cell_type": "code",
   "execution_count": 30,
   "metadata": {},
   "outputs": [],
   "source": [
    "df4 = dx_poa(df3_arrival)"
   ]
  },
  {
   "cell_type": "code",
   "execution_count": 31,
   "metadata": {},
   "outputs": [],
   "source": [
    "df5 = df4.copy()"
   ]
  },
  {
   "cell_type": "code",
   "execution_count": 32,
   "metadata": {},
   "outputs": [],
   "source": [
    "#def _reset_hots(df):\n",
    "#    #n = len(df)\n",
    "#    reset = pd.Series([0] * len(df.index), index=df.index)\n",
    "#    for code in dx_uniques:\n",
    "#        #df[col] = 0\n",
    "#        #df.loc[:,col] = np.zeros(n)\n",
    "#        df[\"dx_{}\".format(code)] = reset\n",
    "#    return df"
   ]
  },
  {
   "cell_type": "code",
   "execution_count": 33,
   "metadata": {},
   "outputs": [],
   "source": [
    "df_diag = pd.DataFrame(index=df5.index, columns=dx_uniques)\n",
    "df_diag = df_diag.fillna(0)"
   ]
  },
  {
   "cell_type": "code",
   "execution_count": 34,
   "metadata": {},
   "outputs": [],
   "source": [
    "codes = dx_uniques\n",
    "for code in codes:\n",
    "    df_diag[code] = (code == df5['diag_adm']) | (code == df5['dx1']) | (code == df5['dx2']) | (code == df5['dx3']) | (code == df5['dx4']) | (code == df5['dx5']) | (code == df5['dx6']) | (code == df5['dx7']) | (code == df5['dx8']) | (code == df5['dx9']) | (code == df5['dx10']) | (code == df5['dx11']) | (code == df5['dx12']) | (code == df5['dx13']) | (code == df5['dx14']) | (code == df5['dx15']) | (code == df5['dx16']) | (code == df5['dx17']) | (code == df5['dx18']) | (code == df5['dx19']) | (code == df5['dx20']) | (code == df5['dx21']) | (code == df5['dx22']) | (code == df5['dx23']) | (code == df5['dx24']) | (code == df5['dx25'])"
   ]
  },
  {
   "cell_type": "code",
   "execution_count": 35,
   "metadata": {},
   "outputs": [
    {
     "name": "stdout",
     "output_type": "stream",
     "text": [
      "64413    15887\n",
      "78605    15019\n",
      "486      28535\n",
      "29690    16093\n",
      "78650    12825\n",
      "311      50799\n",
      "78900     9166\n",
      "7802     10749\n",
      "4280     54637\n",
      "78060     8303\n",
      "49121    17599\n",
      "78097     8892\n",
      "5990     35679\n",
      "71536     7790\n",
      "78079     9157\n",
      "42731    55085\n",
      "29633     6098\n",
      "5789      7297\n",
      "6826      9225\n",
      "43491     6500\n",
      "2989      6674\n",
      "78659    10296\n",
      "0389     12131\n",
      "78609     4812\n",
      "5849     41170\n",
      "78701     7262\n",
      "78909     4470\n",
      "V5789     3276\n",
      "65423     3498\n",
      "30390    10725\n",
      "65813     2775\n",
      "71535     3663\n",
      "41401    64452\n",
      "V221      2578\n",
      "78791     8736\n",
      "5609      3801\n",
      "56211     4966\n",
      "5770      4868\n",
      "64513     2334\n",
      "2859     31279\n",
      "41071    11386\n",
      "27651    22194\n",
      "7295      4067\n",
      "49392     4184\n",
      "78039     5184\n",
      "650       2001\n",
      "51881    11449\n",
      "7804      4390\n",
      "64403     2048\n",
      "29680    10456\n",
      "dtype: int64\n"
     ]
    }
   ],
   "source": [
    "print(df_diag.sum())"
   ]
  },
  {
   "cell_type": "code",
   "execution_count": 40,
   "metadata": {},
   "outputs": [],
   "source": [
    "df_5_hot = pd.concat([df5, df_diag], axis=1)"
   ]
  },
  {
   "cell_type": "code",
   "execution_count": 41,
   "metadata": {},
   "outputs": [
    {
     "data": {
      "text/html": [
       "<div>\n",
       "<style scoped>\n",
       "    .dataframe tbody tr th:only-of-type {\n",
       "        vertical-align: middle;\n",
       "    }\n",
       "\n",
       "    .dataframe tbody tr th {\n",
       "        vertical-align: top;\n",
       "    }\n",
       "\n",
       "    .dataframe thead th {\n",
       "        text-align: right;\n",
       "    }\n",
       "</style>\n",
       "<table border=\"1\" class=\"dataframe\">\n",
       "  <thead>\n",
       "    <tr style=\"text-align: right;\">\n",
       "      <th></th>\n",
       "      <th>sex</th>\n",
       "      <th>er_mode</th>\n",
       "      <th>admtype</th>\n",
       "      <th>yoa</th>\n",
       "      <th>diag_adm</th>\n",
       "      <th>dx1</th>\n",
       "      <th>dx2</th>\n",
       "      <th>dx3</th>\n",
       "      <th>dx4</th>\n",
       "      <th>dx5</th>\n",
       "      <th>...</th>\n",
       "      <th>41071</th>\n",
       "      <th>27651</th>\n",
       "      <th>7295</th>\n",
       "      <th>49392</th>\n",
       "      <th>78039</th>\n",
       "      <th>650</th>\n",
       "      <th>51881</th>\n",
       "      <th>7804</th>\n",
       "      <th>64403</th>\n",
       "      <th>29680</th>\n",
       "    </tr>\n",
       "  </thead>\n",
       "  <tbody>\n",
       "    <tr>\n",
       "      <th>1005352</th>\n",
       "      <td>2</td>\n",
       "      <td>0</td>\n",
       "      <td>2</td>\n",
       "      <td>2010.0</td>\n",
       "      <td>64413</td>\n",
       "      <td>NaN</td>\n",
       "      <td>64821</td>\n",
       "      <td>2859</td>\n",
       "      <td>NaN</td>\n",
       "      <td>NaN</td>\n",
       "      <td>...</td>\n",
       "      <td>False</td>\n",
       "      <td>False</td>\n",
       "      <td>False</td>\n",
       "      <td>False</td>\n",
       "      <td>False</td>\n",
       "      <td>False</td>\n",
       "      <td>False</td>\n",
       "      <td>False</td>\n",
       "      <td>False</td>\n",
       "      <td>False</td>\n",
       "    </tr>\n",
       "    <tr>\n",
       "      <th>1005354</th>\n",
       "      <td>2</td>\n",
       "      <td>0</td>\n",
       "      <td>2</td>\n",
       "      <td>2010.0</td>\n",
       "      <td>78659</td>\n",
       "      <td>64893</td>\n",
       "      <td>514</td>\n",
       "      <td>4238</td>\n",
       "      <td>64863</td>\n",
       "      <td>4254</td>\n",
       "      <td>...</td>\n",
       "      <td>False</td>\n",
       "      <td>False</td>\n",
       "      <td>False</td>\n",
       "      <td>False</td>\n",
       "      <td>False</td>\n",
       "      <td>False</td>\n",
       "      <td>False</td>\n",
       "      <td>False</td>\n",
       "      <td>False</td>\n",
       "      <td>False</td>\n",
       "    </tr>\n",
       "    <tr>\n",
       "      <th>1005355</th>\n",
       "      <td>2</td>\n",
       "      <td>0</td>\n",
       "      <td>2</td>\n",
       "      <td>2010.0</td>\n",
       "      <td>64863</td>\n",
       "      <td>64863</td>\n",
       "      <td>4280</td>\n",
       "      <td>4238</td>\n",
       "      <td>4254</td>\n",
       "      <td>64853</td>\n",
       "      <td>...</td>\n",
       "      <td>False</td>\n",
       "      <td>False</td>\n",
       "      <td>False</td>\n",
       "      <td>False</td>\n",
       "      <td>False</td>\n",
       "      <td>False</td>\n",
       "      <td>False</td>\n",
       "      <td>False</td>\n",
       "      <td>False</td>\n",
       "      <td>False</td>\n",
       "    </tr>\n",
       "    <tr>\n",
       "      <th>1005356</th>\n",
       "      <td>2</td>\n",
       "      <td>0</td>\n",
       "      <td>2</td>\n",
       "      <td>2010.0</td>\n",
       "      <td>65803</td>\n",
       "      <td>65813</td>\n",
       "      <td>64843</td>\n",
       "      <td>30000</td>\n",
       "      <td>NaN</td>\n",
       "      <td>NaN</td>\n",
       "      <td>...</td>\n",
       "      <td>False</td>\n",
       "      <td>False</td>\n",
       "      <td>False</td>\n",
       "      <td>False</td>\n",
       "      <td>False</td>\n",
       "      <td>False</td>\n",
       "      <td>False</td>\n",
       "      <td>False</td>\n",
       "      <td>False</td>\n",
       "      <td>False</td>\n",
       "    </tr>\n",
       "    <tr>\n",
       "      <th>1005360</th>\n",
       "      <td>2</td>\n",
       "      <td>0</td>\n",
       "      <td>2</td>\n",
       "      <td>2010.0</td>\n",
       "      <td>64413</td>\n",
       "      <td>NaN</td>\n",
       "      <td>NaN</td>\n",
       "      <td>NaN</td>\n",
       "      <td>NaN</td>\n",
       "      <td>NaN</td>\n",
       "      <td>...</td>\n",
       "      <td>False</td>\n",
       "      <td>False</td>\n",
       "      <td>False</td>\n",
       "      <td>False</td>\n",
       "      <td>False</td>\n",
       "      <td>False</td>\n",
       "      <td>False</td>\n",
       "      <td>False</td>\n",
       "      <td>False</td>\n",
       "      <td>False</td>\n",
       "    </tr>\n",
       "  </tbody>\n",
       "</table>\n",
       "<p>5 rows × 112 columns</p>\n",
       "</div>"
      ],
      "text/plain": [
       "        sex er_mode admtype     yoa diag_adm    dx1    dx2    dx3    dx4  \\\n",
       "1005352   2       0       2  2010.0    64413    NaN  64821   2859    NaN   \n",
       "1005354   2       0       2  2010.0    78659  64893    514   4238  64863   \n",
       "1005355   2       0       2  2010.0    64863  64863   4280   4238   4254   \n",
       "1005356   2       0       2  2010.0    65803  65813  64843  30000    NaN   \n",
       "1005360   2       0       2  2010.0    64413    NaN    NaN    NaN    NaN   \n",
       "\n",
       "           dx5  ...    41071  27651   7295  49392  78039    650  51881   7804  \\\n",
       "1005352    NaN  ...    False  False  False  False  False  False  False  False   \n",
       "1005354   4254  ...    False  False  False  False  False  False  False  False   \n",
       "1005355  64853  ...    False  False  False  False  False  False  False  False   \n",
       "1005356    NaN  ...    False  False  False  False  False  False  False  False   \n",
       "1005360    NaN  ...    False  False  False  False  False  False  False  False   \n",
       "\n",
       "         64403  29680  \n",
       "1005352  False  False  \n",
       "1005354  False  False  \n",
       "1005355  False  False  \n",
       "1005356  False  False  \n",
       "1005360  False  False  \n",
       "\n",
       "[5 rows x 112 columns]"
      ]
     },
     "execution_count": 41,
     "metadata": {},
     "output_type": "execute_result"
    }
   ],
   "source": [
    "df_5_hot.head()"
   ]
  },
  {
   "cell_type": "code",
   "execution_count": null,
   "metadata": {},
   "outputs": [],
   "source": [
    "#print(df_5_hot.iloc[0])"
   ]
  },
  {
   "cell_type": "code",
   "execution_count": 48,
   "metadata": {},
   "outputs": [
    {
     "name": "stdout",
     "output_type": "stream",
     "text": [
      "['poa1', 'poa2', 'poa3', 'poa4', 'poa5', 'poa6', 'poa7', 'poa8', 'poa9', 'poa10', 'poa11', 'poa12', 'poa13', 'poa14', 'poa15', 'poa16', 'poa17', 'poa18', 'poa19', 'poa20', 'poa21', 'poa22', 'poa23', 'poa24', 'poa25', 'dx1', 'dx2', 'dx3', 'dx4', 'dx5', 'dx6', 'dx7', 'dx8', 'dx9', 'dx10', 'dx11', 'dx12', 'dx13', 'dx14', 'dx15', 'dx16', 'dx17', 'dx18', 'dx19', 'dx20', 'dx21', 'dx22', 'dx23', 'dx24', 'dx25', 'diag_adm']\n"
     ]
    }
   ],
   "source": [
    "drop_cols = [\"poa{}\".format(i) for i in range(1,26)]\n",
    "drop_cols.extend(dxs)\n",
    "print(drop_cols)"
   ]
  },
  {
   "cell_type": "code",
   "execution_count": 49,
   "metadata": {},
   "outputs": [],
   "source": [
    "df6 = df_5_hot.drop(drop_cols, axis=1)"
   ]
  },
  {
   "cell_type": "code",
   "execution_count": 52,
   "metadata": {},
   "outputs": [
    {
     "data": {
      "text/html": [
       "<div>\n",
       "<style scoped>\n",
       "    .dataframe tbody tr th:only-of-type {\n",
       "        vertical-align: middle;\n",
       "    }\n",
       "\n",
       "    .dataframe tbody tr th {\n",
       "        vertical-align: top;\n",
       "    }\n",
       "\n",
       "    .dataframe thead th {\n",
       "        text-align: right;\n",
       "    }\n",
       "</style>\n",
       "<table border=\"1\" class=\"dataframe\">\n",
       "  <thead>\n",
       "    <tr style=\"text-align: right;\">\n",
       "      <th></th>\n",
       "      <th>sex</th>\n",
       "      <th>er_mode</th>\n",
       "      <th>admtype</th>\n",
       "      <th>yoa</th>\n",
       "      <th>pay_ub92</th>\n",
       "      <th>provider</th>\n",
       "      <th>asource</th>\n",
       "      <th>moa</th>\n",
       "      <th>age</th>\n",
       "      <th>race</th>\n",
       "      <th>...</th>\n",
       "      <th>41071</th>\n",
       "      <th>27651</th>\n",
       "      <th>7295</th>\n",
       "      <th>49392</th>\n",
       "      <th>78039</th>\n",
       "      <th>650</th>\n",
       "      <th>51881</th>\n",
       "      <th>7804</th>\n",
       "      <th>64403</th>\n",
       "      <th>29680</th>\n",
       "    </tr>\n",
       "  </thead>\n",
       "  <tbody>\n",
       "    <tr>\n",
       "      <th>1005352</th>\n",
       "      <td>2</td>\n",
       "      <td>0</td>\n",
       "      <td>2</td>\n",
       "      <td>2010.0</td>\n",
       "      <td>4</td>\n",
       "      <td>7214</td>\n",
       "      <td>1</td>\n",
       "      <td>3.0</td>\n",
       "      <td>20.0</td>\n",
       "      <td>1</td>\n",
       "      <td>...</td>\n",
       "      <td>False</td>\n",
       "      <td>False</td>\n",
       "      <td>False</td>\n",
       "      <td>False</td>\n",
       "      <td>False</td>\n",
       "      <td>False</td>\n",
       "      <td>False</td>\n",
       "      <td>False</td>\n",
       "      <td>False</td>\n",
       "      <td>False</td>\n",
       "    </tr>\n",
       "    <tr>\n",
       "      <th>1005354</th>\n",
       "      <td>2</td>\n",
       "      <td>0</td>\n",
       "      <td>2</td>\n",
       "      <td>2010.0</td>\n",
       "      <td>4</td>\n",
       "      <td>7214</td>\n",
       "      <td>1</td>\n",
       "      <td>3.0</td>\n",
       "      <td>28.0</td>\n",
       "      <td>1</td>\n",
       "      <td>...</td>\n",
       "      <td>False</td>\n",
       "      <td>False</td>\n",
       "      <td>False</td>\n",
       "      <td>False</td>\n",
       "      <td>False</td>\n",
       "      <td>False</td>\n",
       "      <td>False</td>\n",
       "      <td>False</td>\n",
       "      <td>False</td>\n",
       "      <td>False</td>\n",
       "    </tr>\n",
       "    <tr>\n",
       "      <th>1005355</th>\n",
       "      <td>2</td>\n",
       "      <td>0</td>\n",
       "      <td>2</td>\n",
       "      <td>2010.0</td>\n",
       "      <td>4</td>\n",
       "      <td>7214</td>\n",
       "      <td>1</td>\n",
       "      <td>3.0</td>\n",
       "      <td>28.0</td>\n",
       "      <td>1</td>\n",
       "      <td>...</td>\n",
       "      <td>False</td>\n",
       "      <td>False</td>\n",
       "      <td>False</td>\n",
       "      <td>False</td>\n",
       "      <td>False</td>\n",
       "      <td>False</td>\n",
       "      <td>False</td>\n",
       "      <td>False</td>\n",
       "      <td>False</td>\n",
       "      <td>False</td>\n",
       "    </tr>\n",
       "    <tr>\n",
       "      <th>1005356</th>\n",
       "      <td>2</td>\n",
       "      <td>0</td>\n",
       "      <td>2</td>\n",
       "      <td>2010.0</td>\n",
       "      <td>4</td>\n",
       "      <td>7214</td>\n",
       "      <td>1</td>\n",
       "      <td>3.0</td>\n",
       "      <td>26.0</td>\n",
       "      <td>1</td>\n",
       "      <td>...</td>\n",
       "      <td>False</td>\n",
       "      <td>False</td>\n",
       "      <td>False</td>\n",
       "      <td>False</td>\n",
       "      <td>False</td>\n",
       "      <td>False</td>\n",
       "      <td>False</td>\n",
       "      <td>False</td>\n",
       "      <td>False</td>\n",
       "      <td>False</td>\n",
       "    </tr>\n",
       "    <tr>\n",
       "      <th>1005360</th>\n",
       "      <td>2</td>\n",
       "      <td>0</td>\n",
       "      <td>2</td>\n",
       "      <td>2010.0</td>\n",
       "      <td>4</td>\n",
       "      <td>7214</td>\n",
       "      <td>1</td>\n",
       "      <td>2.0</td>\n",
       "      <td>24.0</td>\n",
       "      <td>5</td>\n",
       "      <td>...</td>\n",
       "      <td>False</td>\n",
       "      <td>False</td>\n",
       "      <td>False</td>\n",
       "      <td>False</td>\n",
       "      <td>False</td>\n",
       "      <td>False</td>\n",
       "      <td>False</td>\n",
       "      <td>False</td>\n",
       "      <td>False</td>\n",
       "      <td>False</td>\n",
       "    </tr>\n",
       "  </tbody>\n",
       "</table>\n",
       "<p>5 rows × 61 columns</p>\n",
       "</div>"
      ],
      "text/plain": [
       "        sex er_mode admtype     yoa pay_ub92 provider asource  moa   age race  \\\n",
       "1005352   2       0       2  2010.0        4     7214       1  3.0  20.0    1   \n",
       "1005354   2       0       2  2010.0        4     7214       1  3.0  28.0    1   \n",
       "1005355   2       0       2  2010.0        4     7214       1  3.0  28.0    1   \n",
       "1005356   2       0       2  2010.0        4     7214       1  3.0  26.0    1   \n",
       "1005360   2       0       2  2010.0        4     7214       1  2.0  24.0    5   \n",
       "\n",
       "         ...    41071  27651   7295  49392  78039    650  51881   7804  64403  \\\n",
       "1005352  ...    False  False  False  False  False  False  False  False  False   \n",
       "1005354  ...    False  False  False  False  False  False  False  False  False   \n",
       "1005355  ...    False  False  False  False  False  False  False  False  False   \n",
       "1005356  ...    False  False  False  False  False  False  False  False  False   \n",
       "1005360  ...    False  False  False  False  False  False  False  False  False   \n",
       "\n",
       "         29680  \n",
       "1005352  False  \n",
       "1005354  False  \n",
       "1005355  False  \n",
       "1005356  False  \n",
       "1005360  False  \n",
       "\n",
       "[5 rows x 61 columns]"
      ]
     },
     "execution_count": 52,
     "metadata": {},
     "output_type": "execute_result"
    }
   ],
   "source": [
    "df6.head()"
   ]
  },
  {
   "cell_type": "markdown",
   "metadata": {},
   "source": [
    "## One-Hot Encoding for Other Categorical Variables"
   ]
  },
  {
   "cell_type": "code",
   "execution_count": 53,
   "metadata": {
    "scrolled": true
   },
   "outputs": [],
   "source": [
    "df_copy = df6.copy()"
   ]
  },
  {
   "cell_type": "code",
   "execution_count": 54,
   "metadata": {},
   "outputs": [
    {
     "name": "stdout",
     "output_type": "stream",
     "text": [
      "Index(['sex', 'er_mode', 'admtype', 'yoa', 'pay_ub92', 'provider', 'asource',\n",
      "       'moa', 'age', 'race', 'tot', '64413', '78605', '486', '29690', '78650',\n",
      "       '311', '78900', '7802', '4280', '78060', '49121', '78097', '5990',\n",
      "       '71536', '78079', '42731', '29633', '5789', '6826', '43491', '2989',\n",
      "       '78659', '0389', '78609', '5849', '78701', '78909', 'V5789', '65423',\n",
      "       '30390', '65813', '71535', '41401', 'V221', '78791', '5609', '56211',\n",
      "       '5770', '64513', '2859', '41071', '27651', '7295', '49392', '78039',\n",
      "       '650', '51881', '7804', '64403', '29680'],\n",
      "      dtype='object')\n"
     ]
    }
   ],
   "source": [
    "print(df_copy.columns)"
   ]
  },
  {
   "cell_type": "code",
   "execution_count": 55,
   "metadata": {},
   "outputs": [
    {
     "name": "stdout",
     "output_type": "stream",
     "text": [
      "(464957, 126)\n"
     ]
    }
   ],
   "source": [
    "fields = ['er_mode', 'admtype', \n",
    "          #'diag_adm', \n",
    "          'pay_ub92', 'provider', 'asource', 'race']\n",
    "\n",
    "df6_encoded = pd.get_dummies(df_copy, columns=fields, prefix=fields)\n",
    "\n",
    "print(df6_encoded.shape)"
   ]
  },
  {
   "cell_type": "code",
   "execution_count": 56,
   "metadata": {},
   "outputs": [
    {
     "data": {
      "text/html": [
       "<div>\n",
       "<style scoped>\n",
       "    .dataframe tbody tr th:only-of-type {\n",
       "        vertical-align: middle;\n",
       "    }\n",
       "\n",
       "    .dataframe tbody tr th {\n",
       "        vertical-align: top;\n",
       "    }\n",
       "\n",
       "    .dataframe thead th {\n",
       "        text-align: right;\n",
       "    }\n",
       "</style>\n",
       "<table border=\"1\" class=\"dataframe\">\n",
       "  <thead>\n",
       "    <tr style=\"text-align: right;\">\n",
       "      <th></th>\n",
       "      <th>sex</th>\n",
       "      <th>yoa</th>\n",
       "      <th>moa</th>\n",
       "      <th>age</th>\n",
       "      <th>tot</th>\n",
       "      <th>64413</th>\n",
       "      <th>78605</th>\n",
       "      <th>486</th>\n",
       "      <th>29690</th>\n",
       "      <th>78650</th>\n",
       "      <th>...</th>\n",
       "      <th>asource_F</th>\n",
       "      <th>race_1</th>\n",
       "      <th>race_2</th>\n",
       "      <th>race_3</th>\n",
       "      <th>race_5</th>\n",
       "      <th>race_9</th>\n",
       "      <th>race_6</th>\n",
       "      <th>race_7</th>\n",
       "      <th>race_4</th>\n",
       "      <th>race_0</th>\n",
       "    </tr>\n",
       "  </thead>\n",
       "  <tbody>\n",
       "    <tr>\n",
       "      <th>1005352</th>\n",
       "      <td>2</td>\n",
       "      <td>2010.0</td>\n",
       "      <td>3.0</td>\n",
       "      <td>20.0</td>\n",
       "      <td>14150.0</td>\n",
       "      <td>True</td>\n",
       "      <td>False</td>\n",
       "      <td>False</td>\n",
       "      <td>False</td>\n",
       "      <td>False</td>\n",
       "      <td>...</td>\n",
       "      <td>0</td>\n",
       "      <td>1</td>\n",
       "      <td>0</td>\n",
       "      <td>0</td>\n",
       "      <td>0</td>\n",
       "      <td>0</td>\n",
       "      <td>0</td>\n",
       "      <td>0</td>\n",
       "      <td>0</td>\n",
       "      <td>0</td>\n",
       "    </tr>\n",
       "    <tr>\n",
       "      <th>1005354</th>\n",
       "      <td>2</td>\n",
       "      <td>2010.0</td>\n",
       "      <td>3.0</td>\n",
       "      <td>28.0</td>\n",
       "      <td>7767.0</td>\n",
       "      <td>False</td>\n",
       "      <td>False</td>\n",
       "      <td>False</td>\n",
       "      <td>False</td>\n",
       "      <td>False</td>\n",
       "      <td>...</td>\n",
       "      <td>0</td>\n",
       "      <td>1</td>\n",
       "      <td>0</td>\n",
       "      <td>0</td>\n",
       "      <td>0</td>\n",
       "      <td>0</td>\n",
       "      <td>0</td>\n",
       "      <td>0</td>\n",
       "      <td>0</td>\n",
       "      <td>0</td>\n",
       "    </tr>\n",
       "    <tr>\n",
       "      <th>1005355</th>\n",
       "      <td>2</td>\n",
       "      <td>2010.0</td>\n",
       "      <td>3.0</td>\n",
       "      <td>28.0</td>\n",
       "      <td>5315.0</td>\n",
       "      <td>False</td>\n",
       "      <td>False</td>\n",
       "      <td>False</td>\n",
       "      <td>False</td>\n",
       "      <td>False</td>\n",
       "      <td>...</td>\n",
       "      <td>0</td>\n",
       "      <td>1</td>\n",
       "      <td>0</td>\n",
       "      <td>0</td>\n",
       "      <td>0</td>\n",
       "      <td>0</td>\n",
       "      <td>0</td>\n",
       "      <td>0</td>\n",
       "      <td>0</td>\n",
       "      <td>0</td>\n",
       "    </tr>\n",
       "    <tr>\n",
       "      <th>1005356</th>\n",
       "      <td>2</td>\n",
       "      <td>2010.0</td>\n",
       "      <td>3.0</td>\n",
       "      <td>26.0</td>\n",
       "      <td>31107.0</td>\n",
       "      <td>False</td>\n",
       "      <td>False</td>\n",
       "      <td>False</td>\n",
       "      <td>False</td>\n",
       "      <td>False</td>\n",
       "      <td>...</td>\n",
       "      <td>0</td>\n",
       "      <td>1</td>\n",
       "      <td>0</td>\n",
       "      <td>0</td>\n",
       "      <td>0</td>\n",
       "      <td>0</td>\n",
       "      <td>0</td>\n",
       "      <td>0</td>\n",
       "      <td>0</td>\n",
       "      <td>0</td>\n",
       "    </tr>\n",
       "    <tr>\n",
       "      <th>1005360</th>\n",
       "      <td>2</td>\n",
       "      <td>2010.0</td>\n",
       "      <td>2.0</td>\n",
       "      <td>24.0</td>\n",
       "      <td>5696.0</td>\n",
       "      <td>True</td>\n",
       "      <td>False</td>\n",
       "      <td>False</td>\n",
       "      <td>False</td>\n",
       "      <td>False</td>\n",
       "      <td>...</td>\n",
       "      <td>0</td>\n",
       "      <td>0</td>\n",
       "      <td>0</td>\n",
       "      <td>0</td>\n",
       "      <td>1</td>\n",
       "      <td>0</td>\n",
       "      <td>0</td>\n",
       "      <td>0</td>\n",
       "      <td>0</td>\n",
       "      <td>0</td>\n",
       "    </tr>\n",
       "  </tbody>\n",
       "</table>\n",
       "<p>5 rows × 126 columns</p>\n",
       "</div>"
      ],
      "text/plain": [
       "        sex     yoa  moa   age      tot  64413  78605    486  29690  78650  \\\n",
       "1005352   2  2010.0  3.0  20.0  14150.0   True  False  False  False  False   \n",
       "1005354   2  2010.0  3.0  28.0   7767.0  False  False  False  False  False   \n",
       "1005355   2  2010.0  3.0  28.0   5315.0  False  False  False  False  False   \n",
       "1005356   2  2010.0  3.0  26.0  31107.0  False  False  False  False  False   \n",
       "1005360   2  2010.0  2.0  24.0   5696.0   True  False  False  False  False   \n",
       "\n",
       "          ...    asource_F  race_1  race_2  race_3  race_5  race_9  race_6  \\\n",
       "1005352   ...            0       1       0       0       0       0       0   \n",
       "1005354   ...            0       1       0       0       0       0       0   \n",
       "1005355   ...            0       1       0       0       0       0       0   \n",
       "1005356   ...            0       1       0       0       0       0       0   \n",
       "1005360   ...            0       0       0       0       1       0       0   \n",
       "\n",
       "         race_7  race_4  race_0  \n",
       "1005352       0       0       0  \n",
       "1005354       0       0       0  \n",
       "1005355       0       0       0  \n",
       "1005356       0       0       0  \n",
       "1005360       0       0       0  \n",
       "\n",
       "[5 rows x 126 columns]"
      ]
     },
     "execution_count": 56,
     "metadata": {},
     "output_type": "execute_result"
    }
   ],
   "source": [
    "df6_encoded.head()"
   ]
  },
  {
   "cell_type": "code",
   "execution_count": 57,
   "metadata": {},
   "outputs": [],
   "source": [
    "df_sample = df6_encoded.sample(10000)\n"
   ]
  },
  {
   "cell_type": "code",
   "execution_count": 58,
   "metadata": {},
   "outputs": [],
   "source": [
    "df_sample.to_csv(\"df_sample.csv\")"
   ]
  },
  {
   "cell_type": "code",
   "execution_count": 59,
   "metadata": {},
   "outputs": [],
   "source": [
    "df6_encoded.to_csv(\"df6_encoded.csv\")"
   ]
  },
  {
   "cell_type": "markdown",
   "metadata": {},
   "source": []
  }
 ],
 "metadata": {
  "kernelspec": {
   "display_name": "Python 3",
   "language": "python",
   "name": "python3"
  },
  "language_info": {
   "codemirror_mode": {
    "name": "ipython",
    "version": 3
   },
   "file_extension": ".py",
   "mimetype": "text/x-python",
   "name": "python",
   "nbconvert_exporter": "python",
   "pygments_lexer": "ipython3",
   "version": "3.7.0"
  }
 },
 "nbformat": 4,
 "nbformat_minor": 2
}
